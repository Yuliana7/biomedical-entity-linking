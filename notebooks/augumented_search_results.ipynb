{
 "cells": [
  {
   "cell_type": "markdown",
   "metadata": {},
   "source": [
    "# Part 5. Augumenting search results\n",
    "\n",
    "In this part we will create additional functionality for richer information retrieval and setup a simple RAG system running on local ollama server. The goal of such system is to act as a medical assistant and retrieve accurate information about a given disease using a knowledge base."
   ]
  },
  {
   "cell_type": "markdown",
   "metadata": {},
   "source": [
    "## Tools"
   ]
  },
  {
   "cell_type": "code",
   "execution_count": 66,
   "metadata": {},
   "outputs": [],
   "source": [
    "import pandas as pd\n",
    "from IPython.display import display, Markdown\n",
    "import json\n",
    "import requests\n",
    "import pprint\n",
    "import math\n",
    "\n",
    "from neo4j import Driver\n",
    "from llama_index.embeddings.huggingface import HuggingFaceEmbedding\n",
    "\n",
    "from utils.generic import get_driver, Models\n",
    "from utils.index_search_helpers import combined_search"
   ]
  },
  {
   "cell_type": "code",
   "execution_count": 2,
   "metadata": {},
   "outputs": [],
   "source": [
    "driver = get_driver()"
   ]
  },
  {
   "cell_type": "code",
   "execution_count": 3,
   "metadata": {},
   "outputs": [
    {
     "name": "stderr",
     "output_type": "stream",
     "text": [
      "/Users/yuliana.romaniv/University/AstraZeneca/test-rag/venv/lib/python3.12/site-packages/huggingface_hub/file_download.py:1132: FutureWarning: `resume_download` is deprecated and will be removed in version 1.0.0. Downloads always resume when possible. If you want to force a new download, use `force_download=True`.\n",
      "  warnings.warn(\n"
     ]
    }
   ],
   "source": [
    "embed_model = HuggingFaceEmbedding(model_name=Models.BAAI_BGE_SMALL_EN_V1_5.value)"
   ]
  },
  {
   "cell_type": "code",
   "execution_count": 4,
   "metadata": {},
   "outputs": [],
   "source": [
    "df = pd.read_csv(\"../data/processed/ncbi_specific_disease_singular_id.csv\", sep=\",\")"
   ]
  },
  {
   "cell_type": "markdown",
   "metadata": {},
   "source": [
    "## Simple RAG with a local ollama server"
   ]
  },
  {
   "cell_type": "markdown",
   "metadata": {},
   "source": [
    "Let us define a query that would retrieve disease description (or the description of its ancestor) and return it to the user."
   ]
  },
  {
   "cell_type": "code",
   "execution_count": 10,
   "metadata": {},
   "outputs": [],
   "source": [
    "description_query = \"\"\"\n",
    "    OPTIONAL MATCH (d:Disease)\n",
    "    WHERE (d.DiseaseID IS NOT NULL AND ANY(id IN SPLIT(toString(d.DiseaseID), '|') WHERE id = $disease_id))\n",
    "        OR (d.AltDiseaseIDs IS NOT NULL AND ANY(altId IN SPLIT(toString(d.AltDiseaseIDs), '|') WHERE altId = $disease_id))\n",
    "    OPTIONAL MATCH path = (d)-[:SUB_CATEGORY_OF*0..]->(ancestor:Disease)\n",
    "    WITH d, ancestor, path\n",
    "    WHERE ancestor.Definition IS NOT NULL\n",
    "    RETURN \n",
    "        d.Definition AS Definition,\n",
    "        d.DiseaseName AS DiseaseName,\n",
    "        ancestor.DiseaseName as AncestorName,\n",
    "        ancestor.Definition AS AncestorDefinition,\n",
    "        length(path) as Distance\n",
    "    ORDER BY length(path) ASC\n",
    "    LIMIT $limit\n",
    "\"\"\"\n",
    "\n",
    "def get_node_description_dict(node: dict, limit: 10, driver: Driver):\n",
    "    with driver.session() as session:\n",
    "        result = session.run(\n",
    "            description_query,\n",
    "            disease_id=node[\"MESH_ID\"],\n",
    "            limit=limit\n",
    "        )\n",
    "        return next(result, None)"
   ]
  },
  {
   "cell_type": "code",
   "execution_count": 70,
   "metadata": {},
   "outputs": [],
   "source": [
    "def retrieve_entities(disease_name, disease_embedding, driver=driver, limit=5):\n",
    "    candidates = combined_search(\n",
    "        disease_name=disease_name,\n",
    "        embedding=disease_embedding,\n",
    "        driver=driver,\n",
    "        limit=limit\n",
    "        )\n",
    "    \n",
    "    entities = []\n",
    "    \n",
    "    for candidate in candidates:\n",
    "        description = get_node_description_dict(candidate, limit=limit, driver=driver)\n",
    "        if (pd.isna(description.get(\"Definition\"))):\n",
    "            entities.append({\n",
    "                    \"DiseaseID\": candidate.get(\"MESH_ID\"),\n",
    "                    \"DiseaseName\": description.get(\"DiseaseName\"),\n",
    "                    \"AncestorName\": description.get(\"AncestorName\"),\n",
    "                    \"AncestorDefinition\": description.get(\"AncestorDefinition\"),\n",
    "                    \"Distance\": description.get(\"Distance\"),\n",
    "                })\n",
    "        else:\n",
    "            entities.append({\n",
    "                    \"DiseaseID\": candidate.get(\"MESH_ID\"),\n",
    "                    \"DiseaseName\": description.get(\"DiseaseName\"),\n",
    "                    \"Definition\": description.get(\"Definition\"),\n",
    "                })\n",
    "    \n",
    "    return entities"
   ]
  },
  {
   "cell_type": "markdown",
   "metadata": {},
   "source": [
    "We can test it on a single disease name."
   ]
  },
  {
   "cell_type": "code",
   "execution_count": 7,
   "metadata": {},
   "outputs": [],
   "source": [
    "test_disease_name = df.iloc[270][\"Description\"]\n",
    "test_disease_id = df.iloc[270][\"MESH ID\"]\n",
    "test_disease_ebbedding = df.iloc[270][\"DiseaseEmbedding-BAAI-bge-small-en-v1_5\"]"
   ]
  },
  {
   "cell_type": "code",
   "execution_count": 8,
   "metadata": {},
   "outputs": [
    {
     "name": "stdout",
     "output_type": "stream",
     "text": [
      "breast cancer\n",
      "MESH:D001943\n"
     ]
    }
   ],
   "source": [
    "print(test_disease_name)\n",
    "print(test_disease_id)"
   ]
  },
  {
   "cell_type": "code",
   "execution_count": 59,
   "metadata": {},
   "outputs": [],
   "source": [
    "test = retrieve_entities(disease_name=test_disease_name, disease_embedding=json.loads(test_disease_ebbedding), driver=driver, limit=1)"
   ]
  },
  {
   "cell_type": "code",
   "execution_count": 60,
   "metadata": {},
   "outputs": [
    {
     "data": {
      "text/plain": [
       "[{'DiseaseID': 'MESH:D001943',\n",
       "  'DiseaseName': 'Breast Neoplasms',\n",
       "  'Definition': 'Tumors or cancer of the human BREAST.'}]"
      ]
     },
     "execution_count": 60,
     "metadata": {},
     "output_type": "execute_result"
    }
   ],
   "source": [
    "test"
   ]
  },
  {
   "cell_type": "markdown",
   "metadata": {},
   "source": [
    "Now that we have the retriver - we can write the code needed for a simple RAG system using a local ollama server. We are using llama3 model as generator LLM with a medium temperature and a prompt that explains the task."
   ]
  },
  {
   "cell_type": "code",
   "execution_count": 37,
   "metadata": {},
   "outputs": [],
   "source": [
    "def query_ollama(prompt):\n",
    "    url = \"http://localhost:11434/api/generate\"\n",
    "    payload = {\n",
    "        \"model\": \"llama3\",\n",
    "        \"prompt\": prompt,\n",
    "        \"temperature\": 0.5,\n",
    "        \"max_tokens\": 1000,\n",
    "    }\n",
    "\n",
    "    headers = {\n",
    "        \"Content-Type\": \"application/json\"\n",
    "    }\n",
    "\n",
    "    response = requests.post(url, headers=headers, data=json.dumps(payload), stream=True)\n",
    "\n",
    "    if response.status_code == 200:\n",
    "        full_response = \"\"\n",
    "        for line in response.iter_lines():\n",
    "            if line:\n",
    "                json_line = json.loads(line.decode(\"utf-8\"))\n",
    "                part = json_line.get(\"response\", \"\")\n",
    "                #print(part, end=\"\", flush=True)  # Print in real-time without newlines\n",
    "                formatted_part = part.replace(\"\\n\", \"\\n\\n\")  # Markdown new lines\n",
    "                full_response += formatted_part\n",
    "        \n",
    "        # Final rendering of the accumulated response in Markdown\n",
    "        display(Markdown(full_response))\n",
    "    else:\n",
    "        return f\"Error: {response.status_code}, {response.text}\""
   ]
  },
  {
   "cell_type": "code",
   "execution_count": 72,
   "metadata": {},
   "outputs": [],
   "source": [
    "def build_prompt(disease_name, disease_embedding):\n",
    "    entities = retrieve_entities(disease_name, disease_embedding)\n",
    "    \n",
    "    prompt = f\"\"\"Act as a medical expert. Return the retrieved information on a given {disease_name}.   \n",
    "    If there are multiple entries with the identical information - then return only one.\n",
    "    If there is no Definition, then return the AncestorDefinition.\n",
    "    Always include the DiseaseID and DiseaseName.\\n\\n\"\"\"\n",
    "\n",
    "    # Using a set to track and eliminate duplicates based on DiseaseID and DiseaseName\n",
    "    seen = set()\n",
    "    \n",
    "    for entity in entities:\n",
    "        disease_id = entity.get('DiseaseID', 'Unknown')\n",
    "        disease_name = entity.get('DiseaseName', 'Unknown')\n",
    "        \n",
    "        # Avoiding duplicates\n",
    "        if (disease_id, disease_name) in seen:\n",
    "            continue\n",
    "        seen.add((disease_id, disease_name))\n",
    "        \n",
    "        entry = f\"DiseaseID: {disease_id}\\nDiseaseName: {disease_name}\"\n",
    "        \n",
    "        definition = entity.get('Definition')\n",
    "        if definition and not (isinstance(definition, float) \n",
    "                               and math.isnan(definition)):\n",
    "            entry += f\"\\nDefinition: {definition}\"\n",
    "        else:\n",
    "            # If no Definition, use AncestorDefinition\n",
    "            ancestor_definition = entity.get('AncestorDefinition')\n",
    "            if ancestor_definition and not (isinstance(ancestor_definition, float) \n",
    "                                            and math.isnan(ancestor_definition)):\n",
    "                entry += f\"\\nAncestorDefinition: {ancestor_definition}\"\n",
    "        \n",
    "        # Adding Distance for completeness\n",
    "        distance = entity.get('Distance', 'Unknown')\n",
    "        entry += f\"\\nDistance: {distance}\\n\"\n",
    "        \n",
    "        prompt += \"\\n\" + entry\n",
    "\n",
    "    return prompt"
   ]
  },
  {
   "cell_type": "markdown",
   "metadata": {},
   "source": [
    "And now we can combine this into a single pipeline that would:\n",
    "1.\tReceive a disease name as a string.\n",
    "2.\tUse the embedding model to generate an embedding for the disease name.\n",
    "3.\tRetrieve relevant nodes from the knowledge graph.\n",
    "4.\tFetch the definitions of the retrieved nodes.\n",
    "5.\tConstruct a prompt using the retrieved information.\n",
    "6.\tPass this prompt to the Large Language Model (LLM).\n",
    "7.\tReturn the generated response to the user.\n"
   ]
  },
  {
   "cell_type": "code",
   "execution_count": 15,
   "metadata": {},
   "outputs": [],
   "source": [
    "def pipeline(disease_name):\n",
    "    disease_embedding = embed_model.get_text_embedding(disease_name)\n",
    "\n",
    "    prompt = build_prompt(disease_name, disease_embedding)\n",
    "    \n",
    "    response = query_ollama(prompt)\n",
    "    \n",
    "    return response"
   ]
  },
  {
   "cell_type": "code",
   "execution_count": 73,
   "metadata": {},
   "outputs": [
    {
     "data": {
      "text/markdown": [
       "As a medical expert, I can provide you with the retrieved information on breast cancer. Since there are multiple entries with identical information, I will return only one.\n",
       "\n",
       "\n",
       "\n",
       "**Retrieved Information:**\n",
       "\n",
       "\n",
       "\n",
       "* **DiseaseID:** MESH:D001943\n",
       "\n",
       "* **DiseaseName:** Breast Neoplasms\n",
       "\n",
       "* **Definition:** Tumors or cancer of the human BREAST.\n",
       "\n",
       "* (No additional information provided)\n",
       "\n",
       "\n",
       "\n",
       "This information is a general definition of breast neoplasms, which encompasses various types of breast cancer."
      ],
      "text/plain": [
       "<IPython.core.display.Markdown object>"
      ]
     },
     "metadata": {},
     "output_type": "display_data"
    }
   ],
   "source": [
    "test_disease_name_res = pipeline(test_disease_name)"
   ]
  },
  {
   "cell_type": "markdown",
   "metadata": {},
   "source": [
    "Let us try another one."
   ]
  },
  {
   "cell_type": "code",
   "execution_count": 17,
   "metadata": {},
   "outputs": [],
   "source": [
    "test_disease_name_2 = df.iloc[2740][\"Description\"]\n",
    "test_disease_id_2 = df.iloc[2740][\"MESH ID\"]"
   ]
  },
  {
   "cell_type": "code",
   "execution_count": 18,
   "metadata": {},
   "outputs": [
    {
     "data": {
      "text/plain": [
       "'myotonic dystrophy'"
      ]
     },
     "execution_count": 18,
     "metadata": {},
     "output_type": "execute_result"
    }
   ],
   "source": [
    "test_disease_name_2"
   ]
  },
  {
   "cell_type": "code",
   "execution_count": 19,
   "metadata": {},
   "outputs": [
    {
     "data": {
      "text/plain": [
       "'MESH:D009223'"
      ]
     },
     "execution_count": 19,
     "metadata": {},
     "output_type": "execute_result"
    }
   ],
   "source": [
    "test_disease_id_2"
   ]
  },
  {
   "cell_type": "markdown",
   "metadata": {},
   "source": [
    "Let us verify the Definition and compare how the RAG interprets it."
   ]
  },
  {
   "cell_type": "code",
   "execution_count": 49,
   "metadata": {},
   "outputs": [],
   "source": [
    "def get_node_by_id(disease_id, driver=driver):\n",
    "    with driver.session() as session:\n",
    "        result = session.run(\n",
    "            \"\"\"OPTIONAL MATCH (d:Disease)\n",
    "                WHERE (d.DiseaseID IS NOT NULL AND ANY(id IN SPLIT(toString(d.DiseaseID), '|') \n",
    "                    WHERE id = $disease_id))\n",
    "                OR (d.AltDiseaseIDs IS NOT NULL AND ANY(altId IN SPLIT(toString(d.AltDiseaseIDs), '|')\n",
    "                    WHERE altId = $disease_id))\n",
    "                RETURN d.DiseaseName AS DiseaseName, d.Definition AS Definition\n",
    "            \"\"\", disease_id = disease_id)\n",
    "\n",
    "        pprint.pprint(result.data()[0])"
   ]
  },
  {
   "cell_type": "code",
   "execution_count": 50,
   "metadata": {},
   "outputs": [
    {
     "name": "stdout",
     "output_type": "stream",
     "text": [
      "{'Definition': 'Neuromuscular disorder characterized by PROGRESSIVE MUSCULAR '\n",
      "               'ATROPHY; MYOTONIA, and various multisystem atrophies. Mild '\n",
      "               'INTELLECTUAL DISABILITY may also occur. Abnormal TRINUCLEOTIDE '\n",
      "               \"REPEAT EXPANSION in the 3' UNTRANSLATED REGIONS of DMPK \"\n",
      "               'PROTEIN gene is associated with Myotonic Dystrophy 1. DNA '\n",
      "               'REPEAT EXPANSION of zinc finger protein-9 gene intron is '\n",
      "               'associated with Myotonic Dystrophy 2.',\n",
      " 'DiseaseName': 'Myotonic Dystrophy'}\n"
     ]
    }
   ],
   "source": [
    "get_node_by_id(test_disease_id_2)"
   ]
  },
  {
   "cell_type": "code",
   "execution_count": 38,
   "metadata": {},
   "outputs": [
    {
     "data": {
      "text/markdown": [
       "As a medical expert, I can provide you with the retrieved information on Myotonic Dystrophy:\n",
       "\n",
       "\n",
       "\n",
       "**DiseaseID:** MESH:D009223\n",
       "\n",
       "**DiseaseName:** Myotonic Dystrophy\n",
       "\n",
       "\n",
       "\n",
       "**Definition:**\n",
       "\n",
       "Myotonic Dystrophy is a neuromuscular disorder characterized by progressive muscular atrophy, myotonia, and various multisystem atrophies. Mild intellectual disability may also occur.\n",
       "\n",
       "\n",
       "\n",
       "**Associated Genetic Abnormalities:**\n",
       "\n",
       "\n",
       "\n",
       "* Abnormal trinucleotide repeat expansion in the 3' untranslated regions of DMPK protein gene is associated with Myotonic Dystrophy 1.\n",
       "\n",
       "* DNA repeat expansion of zinc finger protein-9 gene intron is associated with Myotonic Dystrophy 2.\n",
       "\n",
       "\n",
       "\n",
       "This information provides a comprehensive overview of the disease, including its definition and genetic associations."
      ],
      "text/plain": [
       "<IPython.core.display.Markdown object>"
      ]
     },
     "metadata": {},
     "output_type": "display_data"
    }
   ],
   "source": [
    "test_disease_name_res_2 = pipeline(test_disease_name_2)"
   ]
  },
  {
   "cell_type": "markdown",
   "metadata": {},
   "source": [
    "This is a very good example of how LLM can use the retrieved information and augument it to a more user-friendly shape. Let us verify how the system behaves if there is no definition given on a particular node."
   ]
  },
  {
   "cell_type": "code",
   "execution_count": 51,
   "metadata": {},
   "outputs": [
    {
     "name": "stdout",
     "output_type": "stream",
     "text": [
      "{'Definition': nan, 'DiseaseName': 'Myotonic Myopathy with Cylindrical Spirals'}\n"
     ]
    }
   ],
   "source": [
    "get_node_by_id(\"MESH:C563535\")"
   ]
  },
  {
   "cell_type": "code",
   "execution_count": 76,
   "metadata": {},
   "outputs": [
    {
     "data": {
      "text/markdown": [
       "As a medical expert, I've retrieved the information on Myotonic Myopathy with Cylindrical Spirals. Here's what I found:\n",
       "\n",
       "\n",
       "\n",
       "**DiseaseID:** MESH:C563535\n",
       "\n",
       "**DiseaseName:** Myotonic Myopathy with Cylindrical Spirals\n",
       "\n",
       "\n",
       "\n",
       "**Definition:**\n",
       "\n",
       "Myotonic myopathy with cylindrical spirals is a rare, autosomal dominant disorder characterized by slow relaxation of muscle fibers, leading to muscle stiffness, wasting, and weakness. This condition is also known for its unique histopathological feature of cylindrical spiral-shaped structures in the affected muscles.\n",
       "\n",
       "\n",
       "\n",
       "**Additional Information:**\n",
       "\n",
       "Myotonic myopathy with cylindrical spirals typically presents with progressive muscle weakness, wasting, and stiffness, affecting various muscle groups, including those involved in walking, grasping, and swallowing. The condition is usually diagnosed based on clinical findings, electromyography (EMG), and muscle biopsy. There is currently no cure for this disorder, but various treatments, such as physical therapy, medications, and surgery, may help manage its symptoms.\n",
       "\n",
       "\n",
       "\n",
       "Please note that the information provided is a summary of the available data and should not be considered a substitute for professional medical advice or diagnosis. If you have any further questions or concerns, I recommend consulting with a qualified healthcare provider."
      ],
      "text/plain": [
       "<IPython.core.display.Markdown object>"
      ]
     },
     "metadata": {},
     "output_type": "display_data"
    }
   ],
   "source": [
    "test_disease_name_res_3 = pipeline(\"Myotonic Myopathy with Cylindrical Spirals\")"
   ]
  },
  {
   "cell_type": "markdown",
   "metadata": {},
   "source": [
    "## Summary\n",
    "\n",
    "We have experimented with a different setup for entity linking and retrieval in the previous parts, and this notebook takes the best configuration and builds on top of it as a medical assistant, that can help to retrieve relevant information on diseases. Having a knowledge base built as a knowledge graph allows us to retrieve relevant information even if it is not available for the given node and use its parent instead. This is just one example of the potential usage of the entity linking we have developed, and it does have its limitations. However, we believe that such system have a great potential for future use and a room for improvements."
   ]
  }
 ],
 "metadata": {
  "kernelspec": {
   "display_name": "venv",
   "language": "python",
   "name": "python3"
  },
  "language_info": {
   "codemirror_mode": {
    "name": "ipython",
    "version": 3
   },
   "file_extension": ".py",
   "mimetype": "text/x-python",
   "name": "python",
   "nbconvert_exporter": "python",
   "pygments_lexer": "ipython3",
   "version": "3.12.4"
  }
 },
 "nbformat": 4,
 "nbformat_minor": 2
}
