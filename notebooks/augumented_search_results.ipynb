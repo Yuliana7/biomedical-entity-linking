{
 "cells": [
  {
   "cell_type": "markdown",
   "metadata": {},
   "source": [
    "# Part 5. Augumenting search results\n",
    "\n",
    "In this part we will create additional functionality for richer information retrieval and setup a simple RAG system running on local ollama server. The goal of such system is to act as a medical assistant and retrieve accurate information about a given disease using a knowledge base."
   ]
  },
  {
   "cell_type": "markdown",
   "metadata": {},
   "source": [
    "## Tools"
   ]
  },
  {
   "cell_type": "code",
   "execution_count": 103,
   "metadata": {},
   "outputs": [],
   "source": [
    "import pandas as pd\n",
    "import json\n",
    "import requests\n",
    "\n",
    "from neo4j import Driver\n",
    "from llama_index.embeddings.huggingface import HuggingFaceEmbedding\n",
    "\n",
    "from utils.generic import get_driver, Models\n",
    "from utils.index_search_helpers import combined_search"
   ]
  },
  {
   "cell_type": "code",
   "execution_count": 2,
   "metadata": {},
   "outputs": [],
   "source": [
    "driver = get_driver()"
   ]
  },
  {
   "cell_type": "code",
   "execution_count": 104,
   "metadata": {},
   "outputs": [
    {
     "name": "stderr",
     "output_type": "stream",
     "text": [
      "/Users/yuliana.romaniv/University/AstraZeneca/test-rag/venv/lib/python3.12/site-packages/huggingface_hub/file_download.py:1132: FutureWarning: `resume_download` is deprecated and will be removed in version 1.0.0. Downloads always resume when possible. If you want to force a new download, use `force_download=True`.\n",
      "  warnings.warn(\n"
     ]
    }
   ],
   "source": [
    "embed_model = HuggingFaceEmbedding(model_name=Models.BAAI_BGE_SMALL_EN_V1_5.value)"
   ]
  },
  {
   "cell_type": "code",
   "execution_count": 3,
   "metadata": {},
   "outputs": [],
   "source": [
    "df = pd.read_csv(\"../data/processed/ncbi_specific_disease_singular_id.csv\", sep=\",\")"
   ]
  },
  {
   "cell_type": "markdown",
   "metadata": {},
   "source": [
    "## Simple RAG with a local ollama server"
   ]
  },
  {
   "cell_type": "markdown",
   "metadata": {},
   "source": [
    "Let us define a query that would retrieve disease description (or the description of its ancestor) and return it to the user."
   ]
  },
  {
   "cell_type": "code",
   "execution_count": 26,
   "metadata": {},
   "outputs": [],
   "source": [
    "description_query = \"\"\"\n",
    "    OPTIONAL MATCH (d:Disease)\n",
    "    WHERE (d.DiseaseID IS NOT NULL AND ANY(id IN SPLIT(toString(d.DiseaseID), '|') WHERE id = $disease_id))\n",
    "        OR (d.AltDiseaseIDs IS NOT NULL AND ANY(altId IN SPLIT(toString(d.AltDiseaseIDs), '|') WHERE altId = $disease_id))\n",
    "    OPTIONAL MATCH path = (d)-[:SUB_CATEGORY_OF*0..]->(ancestor:Disease)\n",
    "    WITH d, ancestor, path\n",
    "    WHERE ancestor.Definition IS NOT NULL\n",
    "    RETURN \n",
    "        d.Definition AS Definition,\n",
    "        ancestor.DiseaseName as Ancestor_name,\n",
    "        ancestor.Definition AS Ancestor_description,\n",
    "        length(path) as Distance\n",
    "    ORDER BY length(path) ASC\n",
    "    LIMIT $limit\n",
    "\"\"\"\n",
    "\n",
    "def get_node_description_dict(node: dict, limit: 10, driver: Driver):\n",
    "    with driver.session() as session:\n",
    "        result = session.run(\n",
    "            description_query,\n",
    "            disease_id=node[\"MESH_ID\"],\n",
    "            limit=limit\n",
    "        )\n",
    "        return next(result, None)"
   ]
  },
  {
   "cell_type": "code",
   "execution_count": 94,
   "metadata": {},
   "outputs": [],
   "source": [
    "def retrieve_entities(disease_name, disease_embedding, driver=driver, limit=5):\n",
    "    candidates = combined_search(\n",
    "        disease_name=disease_name,\n",
    "        embedding=disease_embedding,\n",
    "        driver=driver,\n",
    "        limit=limit\n",
    "        )\n",
    "    \n",
    "    entities = []\n",
    "    \n",
    "    for candidate in candidates:\n",
    "        description = get_node_description_dict(candidate, limit=5, driver=driver)\n",
    "        if (description.get(\"Definition\") is None):\n",
    "            entities.append({\n",
    "                    \"DiseaseID\": candidate.get(\"MESH_ID\"),\n",
    "                    \"Ancestor_name\": description.get(\"Ancestor_name\"),\n",
    "                    \"Ancestor_description\": description.get(\"Ancestor_description\"),\n",
    "                    \"Distance_from_ancestor\": description.get(\"Distance\"),\n",
    "                })\n",
    "        else:\n",
    "            entities.append({\n",
    "                    \"DiseaseID\": candidate.get(\"MESH_ID\"),\n",
    "                    \"Definition\": description.get(\"Definition\"),\n",
    "                })\n",
    "    \n",
    "    return entities"
   ]
  },
  {
   "cell_type": "markdown",
   "metadata": {},
   "source": [
    "We can test it on a single disease name."
   ]
  },
  {
   "cell_type": "code",
   "execution_count": 34,
   "metadata": {},
   "outputs": [],
   "source": [
    "test_disease_name = df.iloc[270][\"Description\"]\n",
    "test_disease_id = df.iloc[270][\"MESH ID\"]\n",
    "test_disease_ebbedding = df.iloc[270][\"DiseaseEmbedding-BAAI-bge-small-en-v1_5\"]"
   ]
  },
  {
   "cell_type": "code",
   "execution_count": 35,
   "metadata": {},
   "outputs": [
    {
     "name": "stdout",
     "output_type": "stream",
     "text": [
      "breast cancer\n",
      "MESH:D001943\n"
     ]
    }
   ],
   "source": [
    "print(test_disease_name)\n",
    "print(test_disease_id)"
   ]
  },
  {
   "cell_type": "code",
   "execution_count": 39,
   "metadata": {},
   "outputs": [],
   "source": [
    "test = retrieve_entities(disease_name=test_disease_name, disease_embedding=json.loads(test_disease_ebbedding), driver=driver, limit=1)"
   ]
  },
  {
   "cell_type": "code",
   "execution_count": 40,
   "metadata": {},
   "outputs": [
    {
     "data": {
      "text/plain": [
       "[{'MESH:D001943': {'Definition:': 'Tumors or cancer of the human BREAST.',\n",
       "   'Ancestor_name': 'Breast Neoplasms',\n",
       "   'Ancestor_description': 'Tumors or cancer of the human BREAST.',\n",
       "   'Distance': 0}}]"
      ]
     },
     "execution_count": 40,
     "metadata": {},
     "output_type": "execute_result"
    }
   ],
   "source": [
    "test"
   ]
  },
  {
   "cell_type": "markdown",
   "metadata": {},
   "source": [
    "Now that we have the retriver - we can write the code needed for a simple RAG system using a local ollama server. We are using llama3 model as generator LLM with a medium temperature and a prompt that explains the task."
   ]
  },
  {
   "cell_type": "code",
   "execution_count": 111,
   "metadata": {},
   "outputs": [],
   "source": [
    "def query_ollama(prompt):\n",
    "    url = \"http://localhost:11434/api/generate\"\n",
    "    payload = {\n",
    "        \"model\": \"llama3\",\n",
    "        \"prompt\": prompt,\n",
    "        \"temperature\": 0.5,\n",
    "        \"max_tokens\": 100,\n",
    "    }\n",
    "\n",
    "    headers = {\n",
    "        \"Content-Type\": \"application/json\"\n",
    "    }\n",
    "\n",
    "    response = requests.post(url, headers=headers, data=json.dumps(payload), stream=True)\n",
    "\n",
    "    if response.status_code == 200:\n",
    "        for line in response.iter_lines():\n",
    "            if line:\n",
    "                json_line = json.loads(line.decode(\"utf-8\"))\n",
    "                part = json_line.get(\"response\", \"\")\n",
    "                print(part, end=\"\", flush=True)  # Print in real-time without newlines\n",
    "    else:\n",
    "        return f\"Error: {response.status_code}, {response.text}\""
   ]
  },
  {
   "cell_type": "code",
   "execution_count": 137,
   "metadata": {},
   "outputs": [],
   "source": [
    "def build_prompt(disease_name, disease_embedding):\n",
    "    entities = retrieve_entities(disease_name, disease_embedding)\n",
    "    \n",
    "    prompt = f\"\"\"Give me retrieved information on {disease_name}. \n",
    "    Do not add anything else. \n",
    "    If there are multiple entries with the identical information - then return only one.\n",
    "    Always include the DiseaseID.\\n\\n\"\"\"\n",
    "    \n",
    "    for entity in entities:\n",
    "        prompt += \"\\n\" + \"\\n\".join(f\"{k}: {v}\" for k, v in entity.items())    \n",
    "    return prompt"
   ]
  },
  {
   "cell_type": "markdown",
   "metadata": {},
   "source": [
    "And now we can combine this into a single pipeline that would:\n",
    "- recieve a disease name as a string;\n",
    "- call the embedding model to get the embedding for the name;\n",
    "- rertieve relevant nodes\n",
    "- retrieve their definitions\n",
    "- build a prompt\n",
    "- pass this promnt into the LLM\n",
    "- return the response to the user"
   ]
  },
  {
   "cell_type": "code",
   "execution_count": 116,
   "metadata": {},
   "outputs": [],
   "source": [
    "def pipeline(disease_name):\n",
    "    disease_embedding = embed_model.get_text_embedding(disease_name)\n",
    "\n",
    "    prompt = build_prompt(disease_name, disease_embedding)\n",
    "    \n",
    "    response = query_ollama(prompt)\n",
    "    \n",
    "    return response"
   ]
  },
  {
   "cell_type": "code",
   "execution_count": 138,
   "metadata": {},
   "outputs": [
    {
     "name": "stdout",
     "output_type": "stream",
     "text": [
      "Here is the retrieved information on breast cancer:\n",
      "\n",
      "DiseaseID: MESH:D001943\n",
      "Definition: Tumors or cancer of the human BREAST."
     ]
    }
   ],
   "source": [
    "test_disease_name_res = pipeline(test_disease_name)"
   ]
  },
  {
   "cell_type": "markdown",
   "metadata": {},
   "source": [
    "Let us try another one."
   ]
  },
  {
   "cell_type": "code",
   "execution_count": 118,
   "metadata": {},
   "outputs": [],
   "source": [
    "test_disease_name_2 = df.iloc[2740][\"Description\"]\n",
    "test_disease_id_2 = df.iloc[2740][\"MESH ID\"]"
   ]
  },
  {
   "cell_type": "code",
   "execution_count": 119,
   "metadata": {},
   "outputs": [
    {
     "data": {
      "text/plain": [
       "'myotonic dystrophy'"
      ]
     },
     "execution_count": 119,
     "metadata": {},
     "output_type": "execute_result"
    }
   ],
   "source": [
    "test_disease_name_2"
   ]
  },
  {
   "cell_type": "code",
   "execution_count": 120,
   "metadata": {},
   "outputs": [
    {
     "data": {
      "text/plain": [
       "'MESH:D009223'"
      ]
     },
     "execution_count": 120,
     "metadata": {},
     "output_type": "execute_result"
    }
   ],
   "source": [
    "test_disease_id_2"
   ]
  },
  {
   "cell_type": "code",
   "execution_count": 139,
   "metadata": {},
   "outputs": [
    {
     "name": "stdout",
     "output_type": "stream",
     "text": [
      "DiseaseID: MESH:D009223\n",
      "Definition: Neuromuscular disorder characterized by PROGRESSIVE MUSCULAR ATROPHY; MYOTONIA, and various multisystem atrophies. Mild INTELLECTUAL DISABILITY may also occur. Abnormal TRINUCLEOTIDE REPEAT EXPANSION in the 3' UNTRANSLATED REGIONS of DMPK PROTEIN gene is associated with Myotonic Dystrophy 1. DNA REPEAT EXPANSION of zinc finger protein-9 gene intron is associated with Myotonic Dystrophy 2."
     ]
    }
   ],
   "source": [
    "test_disease_name_res_2 = pipeline(test_disease_name_2)"
   ]
  },
  {
   "cell_type": "markdown",
   "metadata": {},
   "source": [
    "## Summary\n",
    "\n",
    "We have experimented with a different setup for entity linking and retrieval in the previous parts, and this notebook takes the best configuration and builds on top of it as a medical assistant, that can help to retrieve relevant information on diseases. Having a knowledge base built as a knowledge graph allows us to retrieve relevant information even if it is not available for the given node and use its parent instead. This is just one example of the potential usage of the entity linking we have developed, and it does have its limitations. However, we believe that such system have a great potential for future use and a room for improvements."
   ]
  }
 ],
 "metadata": {
  "kernelspec": {
   "display_name": "venv",
   "language": "python",
   "name": "python3"
  },
  "language_info": {
   "codemirror_mode": {
    "name": "ipython",
    "version": 3
   },
   "file_extension": ".py",
   "mimetype": "text/x-python",
   "name": "python",
   "nbconvert_exporter": "python",
   "pygments_lexer": "ipython3",
   "version": "3.12.4"
  }
 },
 "nbformat": 4,
 "nbformat_minor": 2
}
