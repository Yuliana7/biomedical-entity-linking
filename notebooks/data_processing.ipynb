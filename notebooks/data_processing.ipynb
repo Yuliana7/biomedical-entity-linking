{
 "cells": [
  {
   "cell_type": "markdown",
   "metadata": {},
   "source": [
    "# Part 1. Data Processing\n",
    "\n",
    "This is the first notebook that covers our research.\n",
    "In this part we will cover:\n",
    "- the EDA and data processing for CTD knowledge base and NCBI dataset\n",
    "- setup knowledge graph with Neo4j\n",
    "- create embeddings for disease names and synonyms with two embedding models\n",
    "- cross-validate the disease IDs in the knowledge base and the dataset"
   ]
  },
  {
   "cell_type": "markdown",
   "metadata": {},
   "source": [
    "## Tool and libraries"
   ]
  },
  {
   "cell_type": "code",
   "execution_count": 10,
   "metadata": {},
   "outputs": [],
   "source": [
    "import pandas as pd\n",
    "from llama_index.embeddings.huggingface import HuggingFaceEmbedding\n",
    "from llama_index.embeddings.ollama import OllamaEmbedding\n",
    "from yfiles_jupyter_graphs import GraphWidget\n",
    "\n",
    "from io import StringIO\n",
    "import requests\n",
    "from tqdm import tqdm\n",
    "\n",
    "from utils.generic import get_driver, Models"
   ]
  },
  {
   "cell_type": "markdown",
   "metadata": {},
   "source": [
    "## EDA of the Knowledge Base and NCBI Corpus"
   ]
  },
  {
   "cell_type": "markdown",
   "metadata": {},
   "source": [
    "Throughout this project we will be using CTD dataset as the knowledge base and NCBI corpus that contains labels for diseases to run the experiments.\n",
    "First, let us have a look on the structure of the knowledge base so we can create an appropriate structure of the knowledge graph."
   ]
  },
  {
   "cell_type": "code",
   "execution_count": 34,
   "metadata": {},
   "outputs": [],
   "source": [
    "df = pd.read_csv(\"../data/raw/CTD_diseases.csv\", sep=',')"
   ]
  },
  {
   "cell_type": "code",
   "execution_count": 50,
   "metadata": {},
   "outputs": [
    {
     "name": "stdout",
     "output_type": "stream",
     "text": [
      "0 rows with no DiseaseID\n",
      "1 rows with no ParentIDs\n",
      "0 rows with no DiseaseName\n"
     ]
    }
   ],
   "source": [
    "print(f'{len(df[df['DiseaseID'].isna()])} rows with no DiseaseID')\n",
    "print(f'{len(df[df['ParentIDs'].isna()])} rows with no ParentIDs')\n",
    "print(f'{len(df[df['DiseaseName'].isna()])} rows with no DiseaseName')"
   ]
  },
  {
   "cell_type": "code",
   "execution_count": 35,
   "metadata": {},
   "outputs": [
    {
     "data": {
      "text/html": [
       "<div>\n",
       "<style scoped>\n",
       "    .dataframe tbody tr th:only-of-type {\n",
       "        vertical-align: middle;\n",
       "    }\n",
       "\n",
       "    .dataframe tbody tr th {\n",
       "        vertical-align: top;\n",
       "    }\n",
       "\n",
       "    .dataframe thead th {\n",
       "        text-align: right;\n",
       "    }\n",
       "</style>\n",
       "<table border=\"1\" class=\"dataframe\">\n",
       "  <thead>\n",
       "    <tr style=\"text-align: right;\">\n",
       "      <th></th>\n",
       "      <th>DiseaseName</th>\n",
       "      <th>DiseaseID</th>\n",
       "      <th>AltDiseaseIDs</th>\n",
       "      <th>Definition</th>\n",
       "      <th>ParentIDs</th>\n",
       "      <th>TreeNumbers</th>\n",
       "      <th>ParentTreeNumbers</th>\n",
       "      <th>Synonyms</th>\n",
       "      <th>SlimMappings</th>\n",
       "    </tr>\n",
       "  </thead>\n",
       "  <tbody>\n",
       "    <tr>\n",
       "      <th>0</th>\n",
       "      <td>10p Deletion Syndrome (Partial)</td>\n",
       "      <td>MESH:C538288</td>\n",
       "      <td>NaN</td>\n",
       "      <td>NaN</td>\n",
       "      <td>MESH:D002872|MESH:D025063</td>\n",
       "      <td>C16.131.260/C538288|C16.320.180/C538288|C23.55...</td>\n",
       "      <td>C16.131.260|C16.320.180|C23.550.210.050.500.500</td>\n",
       "      <td>Chromosome 10, 10p- Partial|Chromosome 10, mon...</td>\n",
       "      <td>Congenital abnormality|Genetic disease (inborn...</td>\n",
       "    </tr>\n",
       "    <tr>\n",
       "      <th>1</th>\n",
       "      <td>13q deletion syndrome</td>\n",
       "      <td>MESH:C535484</td>\n",
       "      <td>NaN</td>\n",
       "      <td>NaN</td>\n",
       "      <td>MESH:D002872|MESH:D025063</td>\n",
       "      <td>C16.131.260/C535484|C16.320.180/C535484|C23.55...</td>\n",
       "      <td>C16.131.260|C16.320.180|C23.550.210.050.500.500</td>\n",
       "      <td>Chromosome 13q deletion|Chromosome 13q deletio...</td>\n",
       "      <td>Congenital abnormality|Genetic disease (inborn...</td>\n",
       "    </tr>\n",
       "    <tr>\n",
       "      <th>2</th>\n",
       "      <td>15q24 Microdeletion</td>\n",
       "      <td>MESH:C579849</td>\n",
       "      <td>DO:DOID:0060395</td>\n",
       "      <td>NaN</td>\n",
       "      <td>MESH:D002872|MESH:D008607|MESH:D025063</td>\n",
       "      <td>C10.597.606.360/C579849|C16.131.260/C579849|C1...</td>\n",
       "      <td>C10.597.606.360|C16.131.260|C16.320.180|C23.55...</td>\n",
       "      <td>15q24 Deletion|15q24 Microdeletion Syndrome|In...</td>\n",
       "      <td>Congenital abnormality|Genetic disease (inborn...</td>\n",
       "    </tr>\n",
       "    <tr>\n",
       "      <th>3</th>\n",
       "      <td>16p11.2 Deletion Syndrome</td>\n",
       "      <td>MESH:C579850</td>\n",
       "      <td>NaN</td>\n",
       "      <td>NaN</td>\n",
       "      <td>MESH:D001321|MESH:D002872|MESH:D008607|MESH:D0...</td>\n",
       "      <td>C10.597.606.360/C579850|C16.131.260/C579850|C1...</td>\n",
       "      <td>C10.597.606.360|C16.131.260|C16.320.180|C23.55...</td>\n",
       "      <td>NaN</td>\n",
       "      <td>Congenital abnormality|Genetic disease (inborn...</td>\n",
       "    </tr>\n",
       "    <tr>\n",
       "      <th>4</th>\n",
       "      <td>17,20-Lyase Deficiency, Isolated</td>\n",
       "      <td>MESH:C567076</td>\n",
       "      <td>NaN</td>\n",
       "      <td>NaN</td>\n",
       "      <td>MESH:D000312</td>\n",
       "      <td>C12.050.351.875.253.090.500/C567076|C12.200.70...</td>\n",
       "      <td>C12.050.351.875.253.090.500|C12.200.706.316.09...</td>\n",
       "      <td>17-Alpha-Hydroxylase-17,20-Lyase Deficiency, C...</td>\n",
       "      <td>Congenital abnormality|Endocrine system diseas...</td>\n",
       "    </tr>\n",
       "  </tbody>\n",
       "</table>\n",
       "</div>"
      ],
      "text/plain": [
       "                        DiseaseName     DiseaseID    AltDiseaseIDs Definition  \\\n",
       "0   10p Deletion Syndrome (Partial)  MESH:C538288              NaN        NaN   \n",
       "1             13q deletion syndrome  MESH:C535484              NaN        NaN   \n",
       "2               15q24 Microdeletion  MESH:C579849  DO:DOID:0060395        NaN   \n",
       "3         16p11.2 Deletion Syndrome  MESH:C579850              NaN        NaN   \n",
       "4  17,20-Lyase Deficiency, Isolated  MESH:C567076              NaN        NaN   \n",
       "\n",
       "                                           ParentIDs  \\\n",
       "0                          MESH:D002872|MESH:D025063   \n",
       "1                          MESH:D002872|MESH:D025063   \n",
       "2             MESH:D002872|MESH:D008607|MESH:D025063   \n",
       "3  MESH:D001321|MESH:D002872|MESH:D008607|MESH:D0...   \n",
       "4                                       MESH:D000312   \n",
       "\n",
       "                                         TreeNumbers  \\\n",
       "0  C16.131.260/C538288|C16.320.180/C538288|C23.55...   \n",
       "1  C16.131.260/C535484|C16.320.180/C535484|C23.55...   \n",
       "2  C10.597.606.360/C579849|C16.131.260/C579849|C1...   \n",
       "3  C10.597.606.360/C579850|C16.131.260/C579850|C1...   \n",
       "4  C12.050.351.875.253.090.500/C567076|C12.200.70...   \n",
       "\n",
       "                                   ParentTreeNumbers  \\\n",
       "0    C16.131.260|C16.320.180|C23.550.210.050.500.500   \n",
       "1    C16.131.260|C16.320.180|C23.550.210.050.500.500   \n",
       "2  C10.597.606.360|C16.131.260|C16.320.180|C23.55...   \n",
       "3  C10.597.606.360|C16.131.260|C16.320.180|C23.55...   \n",
       "4  C12.050.351.875.253.090.500|C12.200.706.316.09...   \n",
       "\n",
       "                                            Synonyms  \\\n",
       "0  Chromosome 10, 10p- Partial|Chromosome 10, mon...   \n",
       "1  Chromosome 13q deletion|Chromosome 13q deletio...   \n",
       "2  15q24 Deletion|15q24 Microdeletion Syndrome|In...   \n",
       "3                                                NaN   \n",
       "4  17-Alpha-Hydroxylase-17,20-Lyase Deficiency, C...   \n",
       "\n",
       "                                        SlimMappings  \n",
       "0  Congenital abnormality|Genetic disease (inborn...  \n",
       "1  Congenital abnormality|Genetic disease (inborn...  \n",
       "2  Congenital abnormality|Genetic disease (inborn...  \n",
       "3  Congenital abnormality|Genetic disease (inborn...  \n",
       "4  Congenital abnormality|Endocrine system diseas...  "
      ]
     },
     "execution_count": 35,
     "metadata": {},
     "output_type": "execute_result"
    }
   ],
   "source": [
    "df.head()"
   ]
  },
  {
   "cell_type": "markdown",
   "metadata": {},
   "source": [
    "There are some properties that have missing values (e.g. not all the diseases have alternative disease IDs, synonyms or definition), however, the properties that we care about are: DiseaseName, DiseaseID and ParentIDs (the latter will be essential to create a graph properly). We have only one row with no ParentIDs, let us examine it closer."
   ]
  },
  {
   "cell_type": "code",
   "execution_count": 51,
   "metadata": {},
   "outputs": [
    {
     "data": {
      "text/html": [
       "<div>\n",
       "<style scoped>\n",
       "    .dataframe tbody tr th:only-of-type {\n",
       "        vertical-align: middle;\n",
       "    }\n",
       "\n",
       "    .dataframe tbody tr th {\n",
       "        vertical-align: top;\n",
       "    }\n",
       "\n",
       "    .dataframe thead th {\n",
       "        text-align: right;\n",
       "    }\n",
       "</style>\n",
       "<table border=\"1\" class=\"dataframe\">\n",
       "  <thead>\n",
       "    <tr style=\"text-align: right;\">\n",
       "      <th></th>\n",
       "      <th>DiseaseName</th>\n",
       "      <th>DiseaseID</th>\n",
       "      <th>AltDiseaseIDs</th>\n",
       "      <th>Definition</th>\n",
       "      <th>ParentIDs</th>\n",
       "      <th>TreeNumbers</th>\n",
       "      <th>ParentTreeNumbers</th>\n",
       "      <th>Synonyms</th>\n",
       "      <th>SlimMappings</th>\n",
       "    </tr>\n",
       "  </thead>\n",
       "  <tbody>\n",
       "    <tr>\n",
       "      <th>3887</th>\n",
       "      <td>Diseases</td>\n",
       "      <td>MESH:C</td>\n",
       "      <td>NaN</td>\n",
       "      <td>NaN</td>\n",
       "      <td>NaN</td>\n",
       "      <td>C</td>\n",
       "      <td>NaN</td>\n",
       "      <td>NaN</td>\n",
       "      <td>NaN</td>\n",
       "    </tr>\n",
       "  </tbody>\n",
       "</table>\n",
       "</div>"
      ],
      "text/plain": [
       "     DiseaseName DiseaseID AltDiseaseIDs Definition ParentIDs TreeNumbers  \\\n",
       "3887    Diseases    MESH:C           NaN        NaN       NaN           C   \n",
       "\n",
       "     ParentTreeNumbers Synonyms SlimMappings  \n",
       "3887               NaN      NaN          NaN  "
      ]
     },
     "execution_count": 51,
     "metadata": {},
     "output_type": "execute_result"
    }
   ],
   "source": [
    "df[df['ParentIDs'].isna()]"
   ]
  },
  {
   "cell_type": "markdown",
   "metadata": {},
   "source": [
    "This looks like a piece of corrupted data or it could have been the first node in the tree, but we don't need it, so we will remove it."
   ]
  },
  {
   "cell_type": "code",
   "execution_count": 52,
   "metadata": {},
   "outputs": [],
   "source": [
    "df.dropna(subset=['ParentIDs'], inplace=True)"
   ]
  },
  {
   "cell_type": "code",
   "execution_count": 53,
   "metadata": {},
   "outputs": [
    {
     "name": "stdout",
     "output_type": "stream",
     "text": [
      "0 rows with no ParentIDs\n"
     ]
    }
   ],
   "source": [
    "print(f'{len(df[df['ParentIDs'].isna()])} rows with no ParentIDs')"
   ]
  },
  {
   "cell_type": "markdown",
   "metadata": {},
   "source": [
    "As we can see, the document is structured as a graph, therefore we can easily create a Knowledge Graph database out of it using Neo4j's CypherQL."
   ]
  },
  {
   "cell_type": "markdown",
   "metadata": {},
   "source": [
    "## Neo4j setup and BAAI embeddings"
   ]
  },
  {
   "cell_type": "markdown",
   "metadata": {},
   "source": [
    "Since we will using Neo4j's driver to establish a connection to the database, and use different embedding models, we moved the re-usable code into a separate module."
   ]
  },
  {
   "cell_type": "code",
   "execution_count": 8,
   "metadata": {},
   "outputs": [
    {
     "name": "stderr",
     "output_type": "stream",
     "text": [
      "/Users/yuliana.romaniv/University/AstraZeneca/test-rag/venv/lib/python3.12/site-packages/huggingface_hub/file_download.py:1132: FutureWarning: `resume_download` is deprecated and will be removed in version 1.0.0. Downloads always resume when possible. If you want to force a new download, use `force_download=True`.\n",
      "  warnings.warn(\n"
     ]
    }
   ],
   "source": [
    "embed_model = HuggingFaceEmbedding(model_name=Models.BAAI_BGE_SMALL_EN_V1_5.value)"
   ]
  },
  {
   "cell_type": "code",
   "execution_count": 2,
   "metadata": {},
   "outputs": [],
   "source": [
    "driver = get_driver()"
   ]
  },
  {
   "cell_type": "markdown",
   "metadata": {},
   "source": [
    "Firstly, we will define a function to create disease nodes."
   ]
  },
  {
   "cell_type": "code",
   "execution_count": null,
   "metadata": {},
   "outputs": [],
   "source": [
    "def create_disease_nodes(tx, disease):\n",
    "    tx.run(\"\"\"\n",
    "        MERGE (d:Disease {DiseaseID: $DiseaseID})\n",
    "        SET d.DiseaseName = $DiseaseName, d.AltDiseaseIDs = $AltDiseaseIDs,\n",
    "            d.Definition = $Definition, d.TreeNumbers = $TreeNumbers,\n",
    "            d.ParentTreeNumbers = $ParentTreeNumbers, d.Synonyms = $Synonyms,\n",
    "            d.SlimMappings = $SlimMappings\n",
    "    \"\"\", \n",
    "    DiseaseID=disease['DiseaseID'],\n",
    "    DiseaseName=disease['DiseaseName'],\n",
    "    AltDiseaseIDs=disease['AltDiseaseIDs'],\n",
    "    Definition=disease['Definition'],\n",
    "    TreeNumbers=disease['TreeNumbers'],\n",
    "    ParentTreeNumbers=disease['ParentTreeNumbers'],\n",
    "    Synonyms=disease['Synonyms'],\n",
    "    SlimMappings=disease['SlimMappings'])"
   ]
  },
  {
   "cell_type": "markdown",
   "metadata": {},
   "source": [
    "Now we can iterate over the rows in the DataFrame and write our nodes into the KG."
   ]
  },
  {
   "cell_type": "code",
   "execution_count": 17,
   "metadata": {},
   "outputs": [],
   "source": [
    "with driver.session() as session:\n",
    "    for _, row in df.iterrows():\n",
    "        session.execute_write(create_disease_nodes, row)"
   ]
  },
  {
   "cell_type": "markdown",
   "metadata": {},
   "source": [
    "We need to connect the nodes into the hierarchical structure, therefore we will define another function for this."
   ]
  },
  {
   "cell_type": "code",
   "execution_count": 19,
   "metadata": {},
   "outputs": [],
   "source": [
    "def create_hierarchy(tx, disease):\n",
    "    if pd.notna(disease['ParentIDs']):\n",
    "        parent_ids = disease['ParentIDs'].split('|')\n",
    "        for parent_id in parent_ids:\n",
    "            tx.run(\"\"\"\n",
    "                MATCH (d:Disease {DiseaseID: $DiseaseID})\n",
    "                MATCH (p:Disease {DiseaseID: $ParentID})\n",
    "                MERGE (d)-[:SUB_CATEGORY_OF]->(p)\n",
    "            \"\"\", DiseaseID=disease['DiseaseID'], ParentID=parent_id)"
   ]
  },
  {
   "cell_type": "markdown",
   "metadata": {},
   "source": [
    "And write this into the KB."
   ]
  },
  {
   "cell_type": "code",
   "execution_count": 20,
   "metadata": {},
   "outputs": [],
   "source": [
    "with driver.session() as session:\n",
    "    for _, row in df.iterrows():\n",
    "        session.execute_write(create_hierarchy, row)"
   ]
  },
  {
   "cell_type": "markdown",
   "metadata": {},
   "source": [
    "The next step is to create embeddings for the disease names. We will need a function to collect disease names first."
   ]
  },
  {
   "cell_type": "code",
   "execution_count": 18,
   "metadata": {},
   "outputs": [],
   "source": [
    "def get_disease_names(tx):\n",
    "    result = tx.run(\"\"\"\n",
    "        MATCH (d:Disease) \n",
    "        RETURN d.DiseaseID AS DiseaseID, d.DiseaseName AS DiseaseName\n",
    "    \"\"\")\n",
    "    return result.data()"
   ]
  },
  {
   "cell_type": "code",
   "execution_count": 32,
   "metadata": {},
   "outputs": [],
   "source": [
    "with driver.session() as session:\n",
    "    disease_descriptions = session.execute_read(get_disease_names)"
   ]
  },
  {
   "cell_type": "markdown",
   "metadata": {},
   "source": [
    "And now we can generate embeddings for the disease names and update the KG."
   ]
  },
  {
   "cell_type": "code",
   "execution_count": 35,
   "metadata": {},
   "outputs": [],
   "source": [
    "embeddings = []\n",
    "for record in disease_descriptions:\n",
    "    disease_id = record['DiseaseID']\n",
    "    disease_name = record['DiseaseName']\n",
    "    \n",
    "    name_embedding = embed_model.get_text_embedding(disease_name)\n",
    "    \n",
    "    embeddings.append((disease_id, name_embedding))"
   ]
  },
  {
   "cell_type": "code",
   "execution_count": 30,
   "metadata": {},
   "outputs": [],
   "source": [
    "# Function to update disease embeddings\n",
    "def update_disease_embeddings(tx, disease_id, embedding, embedding_model_name, embedding_prop='DiseaseEmbedding'):\n",
    "    disease_embedding = f\"{embedding_prop}-{embedding_model_name.replace('.', '_').replace('/', '-')}\"\n",
    "\n",
    "    query = \"\"\"\n",
    "        MATCH (d:Disease {DiseaseID: $DiseaseID})\n",
    "        CALL apoc.create.setProperty(d, $disease_embedding, $embedding)\n",
    "        YIELD node\n",
    "        RETURN node\n",
    "    \"\"\"\n",
    "\n",
    "    tx.run(query, DiseaseID=disease_id, embedding=embedding, disease_embedding=disease_embedding)"
   ]
  },
  {
   "cell_type": "code",
   "execution_count": 36,
   "metadata": {},
   "outputs": [],
   "source": [
    "with driver.session() as session:\n",
    "    for disease_id, embedding in embeddings:\n",
    "        session.execute_write(update_disease_embeddings, disease_id, embedding, Models.BAAI_BGE_SMALL_EN_V1_5.value)"
   ]
  },
  {
   "cell_type": "markdown",
   "metadata": {},
   "source": [
    "Let us explore a part of the graph to make sure the connections are set up correctly.\n",
    "\n",
    "*NB: the code below doesn't retain the state, as it is an inteface to interact with the knowledge graph live. The screenshot of can be found in `notebooks/media/png/Graph visualization.png`*"
   ]
  },
  {
   "cell_type": "code",
   "execution_count": 8,
   "metadata": {},
   "outputs": [
    {
     "name": "stderr",
     "output_type": "stream",
     "text": [
      "/Users/yuliana.romaniv/University/AstraZeneca/test-rag/venv/lib/python3.12/site-packages/jupyter_client/session.py:721: UserWarning: Message serialization failed with:\n",
      "Out of range float values are not JSON compliant: nan\n",
      "Supporting this message is deprecated in jupyter-client 7, please make sure your message is JSON-compliant\n",
      "  content = self.pack(content)\n"
     ]
    }
   ],
   "source": [
    "gw_session = driver.session()\n",
    "gw = GraphWidget(graph = gw_session.run(\"MATCH (s)-[r]->(t) RETURN s,r,t LIMIT 20\").graph())"
   ]
  },
  {
   "cell_type": "code",
   "execution_count": 9,
   "metadata": {},
   "outputs": [
    {
     "data": {
      "application/vnd.jupyter.widget-view+json": {
       "model_id": "8010b6cdd8944894a09e65f7fd917d50",
       "version_major": 2,
       "version_minor": 0
      },
      "text/plain": [
       "GraphWidget(layout=Layout(height='710px', width='100%'))"
      ]
     },
     "metadata": {},
     "output_type": "display_data"
    }
   ],
   "source": [
    "gw"
   ]
  },
  {
   "cell_type": "markdown",
   "metadata": {},
   "source": [
    "Now we can test the embeddings using a graph query."
   ]
  },
  {
   "cell_type": "code",
   "execution_count": 16,
   "metadata": {},
   "outputs": [],
   "source": [
    "def find_similar_diseases(query_embedding, embedding_model_name):\n",
    "    disease_embedding = f\"DiseaseEmbedding-{embedding_model_name.replace('.', '_').replace('/', '-')}\"\n",
    "\n",
    "    with driver.session() as session:\n",
    "        query = \"\"\"\n",
    "            MATCH (d:Disease)\n",
    "            WHERE apoc.map.get(d, $disease_embedding, null) IS NOT NULL\n",
    "            WITH d, gds.similarity.cosine(apoc.map.get(d, $disease_embedding, null), $query_embedding) AS similarity\n",
    "            RETURN d.DiseaseName AS name, similarity\n",
    "            ORDER BY similarity DESC\n",
    "            LIMIT 5\n",
    "        \"\"\"\n",
    "        result = session.run(query, query_embedding=query_embedding, disease_embedding=disease_embedding)\n",
    "        \n",
    "        return [record[\"name\"] for record in result]"
   ]
  },
  {
   "cell_type": "code",
   "execution_count": 27,
   "metadata": {},
   "outputs": [
    {
     "name": "stdout",
     "output_type": "stream",
     "text": [
      "['Carcinoma', 'Carcinoma, Ductal', 'Carcinoma, Ductal, Breast', 'Breast Neoplasms', 'Breast Carcinoma In Situ']\n"
     ]
    }
   ],
   "source": [
    "query_embedding = embed_model.get_text_embedding(\"breast carcinoma\")\n",
    "similar_diseases = find_similar_diseases(query_embedding, Models.BAAI_BGE_SMALL_EN_V1_5.value)\n",
    "print(similar_diseases)"
   ]
  },
  {
   "cell_type": "code",
   "execution_count": 28,
   "metadata": {},
   "outputs": [
    {
     "name": "stdout",
     "output_type": "stream",
     "text": [
      "['Complement Component 3 Deficiency, Autosomal Recessive', 'Complement Component C1s Deficiency', 'COMPLEMENT COMPONENT 8 DEFICIENCY, TYPE II', 'COMPLEMENT COMPONENT 2 DEFICIENCY', 'COMPLEMENT COMPONENT C1r/C1s DEFICIENCY']\n"
     ]
    }
   ],
   "source": [
    "test_query_2 = embed_model.get_text_embedding(\"Type II human complement C2 deficiency. Allele-specific amino acid substitutions (Ser189 --> Phe; Gly444 --> Arg) cause impaired C2 secretion.\")\n",
    "similar_diseases_2 = find_similar_diseases(test_query_2, Models.BAAI_BGE_SMALL_EN_V1_5.value)\n",
    "print(similar_diseases_2)"
   ]
  },
  {
   "cell_type": "markdown",
   "metadata": {},
   "source": [
    "Now we can create embeddings for the disease synonyms as well."
   ]
  },
  {
   "cell_type": "code",
   "execution_count": 5,
   "metadata": {},
   "outputs": [],
   "source": [
    "def get_disease_synonyms(tx):\n",
    "    result = tx.run(\"\"\"\n",
    "        MATCH (d:Disease) \n",
    "        RETURN d.DiseaseID AS DiseaseID, d.DiseaseName AS DiseaseName, d.Synonyms AS Synonyms\n",
    "    \"\"\")\n",
    "    return result.data()"
   ]
  },
  {
   "cell_type": "code",
   "execution_count": 20,
   "metadata": {},
   "outputs": [],
   "source": [
    "with driver.session() as session:\n",
    "    disease_synonyms = session.execute_read(get_disease_synonyms)"
   ]
  },
  {
   "cell_type": "code",
   "execution_count": 23,
   "metadata": {},
   "outputs": [],
   "source": [
    "synonyms_embeddings = []\n",
    "for record in disease_synonyms:\n",
    "    disease_id = record['DiseaseID']\n",
    "    synonyms = record['Synonyms']\n",
    "\n",
    "    if pd.isna(synonyms):\n",
    "        continue\n",
    "    \n",
    "    rec_synonyms_embeddings = [embed_model.get_text_embedding(name) for name in synonyms.split('|')]\n",
    "    \n",
    "    synonyms_embeddings.append((disease_id, rec_synonyms_embeddings))"
   ]
  },
  {
   "cell_type": "code",
   "execution_count": 32,
   "metadata": {},
   "outputs": [],
   "source": [
    "def update_disease_synonyms_embeddings(tx, disease_id, embedding, embedding_model_name, embedding_prop='SynonymsEmbedding'):\n",
    "    embedding_name = f\"{embedding_prop}-{embedding_model_name.replace('.', '_').replace('/', '-')}\"\n",
    "\n",
    "    query = \"\"\"\n",
    "        WITH apoc.convert.toJson($embedding) AS jsonEmbeddings\n",
    "        MATCH (d:Disease {DiseaseID: $DiseaseID})\n",
    "        CALL apoc.create.setProperty(d, $embedding_name, jsonEmbeddings)\n",
    "        YIELD node\n",
    "        RETURN node;\n",
    "    \"\"\"\n",
    "\n",
    "    tx.run(query, DiseaseID=disease_id, embedding=embedding, embedding_name=embedding_name)"
   ]
  },
  {
   "cell_type": "code",
   "execution_count": 33,
   "metadata": {},
   "outputs": [],
   "source": [
    "with driver.session() as session:\n",
    "    for disease_id, embedding in synonyms_embeddings:\n",
    "        session.execute_write(update_disease_synonyms_embeddings, disease_id, embedding, Models.BAAI_BGE_SMALL_EN_V1_5.value)"
   ]
  },
  {
   "cell_type": "markdown",
   "metadata": {},
   "source": [
    "We also need to set this prop to NULL for any nodes that do not have `Synonyms`."
   ]
  },
  {
   "cell_type": "code",
   "execution_count": null,
   "metadata": {},
   "outputs": [],
   "source": [
    "with driver.session() as session:\n",
    "    query = \"\"\"\n",
    "        MATCH (d:Disease)\n",
    "        WHERE d.`SynonymsEmbedding-BAAI-bge-small-en-v1_5` = []\n",
    "        SET d.`SynonymsEmbedding-BAAI-bge-small-en-v1_5` = NULL\n",
    "    \"\"\"\n",
    "    session.run(query)"
   ]
  },
  {
   "cell_type": "markdown",
   "metadata": {},
   "source": [
    "And now we will create a single embedding for the list of synonyms for each node."
   ]
  },
  {
   "cell_type": "code",
   "execution_count": 12,
   "metadata": {},
   "outputs": [],
   "source": [
    "with driver.session() as session:\n",
    "    disease_synonyms = session.execute_read(get_disease_synonyms)\n",
    "\n",
    "    synonyms_embeddings = []\n",
    "    for record in disease_synonyms:\n",
    "        disease_id = record['DiseaseID']\n",
    "        synonyms = record['Synonyms']\n",
    "\n",
    "        if pd.isna(record['Synonyms']):\n",
    "            synonyms = record['DiseaseName']\n",
    "        else:\n",
    "            synonyms = record['Synonyms']\n",
    "\n",
    "        synonyms_string = ' '.join(synonyms.split('|'))\n",
    "        \n",
    "        rec_synonyms_embeddings = embed_model.get_text_embedding(synonyms_string)\n",
    "        \n",
    "        synonyms_embeddings.append((disease_id, rec_synonyms_embeddings))\n",
    "    \n",
    "    for disease_id, embedding in synonyms_embeddings:\n",
    "        session.execute_write(update_disease_embeddings, disease_id, embedding, Models.BAAI_BGE_SMALL_EN_V1_5.value, \"SynonymsSingleEmbedding\")"
   ]
  },
  {
   "cell_type": "markdown",
   "metadata": {},
   "source": [
    "## Ollama embeddings"
   ]
  },
  {
   "cell_type": "markdown",
   "metadata": {},
   "source": [
    "Now we can add another embedding from Ollama, served locally."
   ]
  },
  {
   "cell_type": "code",
   "execution_count": 3,
   "metadata": {},
   "outputs": [],
   "source": [
    "ollama3_embedding = OllamaEmbedding(\n",
    "    model_name=\"llama3\",\n",
    "    base_url=\"http://localhost:11434\",\n",
    "    ollama_additional_kwargs={\"mirostat\": 0},\n",
    ")"
   ]
  },
  {
   "cell_type": "code",
   "execution_count": null,
   "metadata": {},
   "outputs": [],
   "source": [
    "disease_descriptions = session.execute_read(get_disease_names)\n",
    "llama3_embeddings = []\n",
    "\n",
    "for record in disease_descriptions:\n",
    "    disease_id = record['DiseaseID']\n",
    "    disease_name = record['DiseaseName']\n",
    "    name_embedding = ollama3_embedding.get_text_embedding(disease_name)\n",
    "    \n",
    "    llama3_embeddings.append((disease_id, name_embedding))"
   ]
  },
  {
   "cell_type": "code",
   "execution_count": 48,
   "metadata": {},
   "outputs": [
    {
     "data": {
      "text/plain": [
       "13298"
      ]
     },
     "execution_count": 48,
     "metadata": {},
     "output_type": "execute_result"
    }
   ],
   "source": [
    "len(llama3_embeddings)"
   ]
  },
  {
   "cell_type": "code",
   "execution_count": 56,
   "metadata": {},
   "outputs": [],
   "source": [
    "with driver.session() as session:\n",
    "    for id, name_embedding in llama3_embeddings:\n",
    "        session.execute_write(update_disease_embeddings, id, [float(x) for x in name_embedding], Models.LLAMA3.value)"
   ]
  },
  {
   "cell_type": "markdown",
   "metadata": {},
   "source": [
    "And we can verify it."
   ]
  },
  {
   "cell_type": "code",
   "execution_count": 35,
   "metadata": {},
   "outputs": [
    {
     "name": "stdout",
     "output_type": "stream",
     "text": [
      "['Carcinoma', 'Pancreatic adenoma', 'Adenocarcinoma', 'Urachal cancer', 'familial dilated cardiomyopathy']\n"
     ]
    }
   ],
   "source": [
    "query_embedding_llama3 = ollama3_embedding.get_text_embedding(\"breast carcinoma\")\n",
    "similar_diseases_llama3 = find_similar_diseases(query_embedding_llama3, Models.LLAMA3.value)\n",
    "print(similar_diseases_llama3)"
   ]
  },
  {
   "cell_type": "code",
   "execution_count": 36,
   "metadata": {},
   "outputs": [
    {
     "name": "stdout",
     "output_type": "stream",
     "text": [
      "['Hyperlysinemia Due To Defect In Lysine Transport Into Mitochondria', 'Adrenocortical Unresponsiveness To Acth With Postreceptor Defect', 'Immunodeficiency, Partial Combined, with Absence of HLA Determinants and Beta-2-Microglobulin from Lymphocytes', 'Chylomicronemia, Familial, due to Circulating Inhibitor of Lipoprotein Lipase', 'Ehlers-Danlos Syndrome with Platelet Dysfunction from Fibronectin Abnormality']\n"
     ]
    }
   ],
   "source": [
    "llama3_test_query_2 = ollama3_embedding.get_text_embedding(\"Type II human complement C2 deficiency. Allele-specific amino acid substitutions (Ser189 --> Phe; Gly444 --> Arg) cause impaired C2 secretion.\")\n",
    "similar_diseases_2_llama3 = find_similar_diseases(llama3_test_query_2, Models.LLAMA3.value)\n",
    "print(similar_diseases_2_llama3)"
   ]
  },
  {
   "cell_type": "markdown",
   "metadata": {},
   "source": [
    "We can now create embeddings for `Synonyms` with LLAMA3 embedding model and save those to the Knowledge graph too."
   ]
  },
  {
   "cell_type": "code",
   "execution_count": null,
   "metadata": {},
   "outputs": [],
   "source": [
    "with driver.session() as session:\n",
    "    synonyms_embeddings = []\n",
    "    disease_synonyms = session.execute_read(get_disease_synonyms)\n",
    "\n",
    "    # Wrap the loop with tqdm for a progress bar\n",
    "    for record in tqdm(disease_synonyms, desc=\"Processing Disease Synonyms\"):\n",
    "        disease_id = record['DiseaseID']\n",
    "        synonyms = record['Synonyms']\n",
    "\n",
    "        if pd.isna(record['Synonyms']):\n",
    "            synonyms = record['DiseaseName']\n",
    "        else:\n",
    "            synonyms = record['Synonyms']\n",
    "\n",
    "        rec_synonyms_embeddings = [ollama3_embedding.get_text_embedding(name) for name in synonyms.split('|')]\n",
    "        \n",
    "        synonyms_embeddings.append((disease_id, rec_synonyms_embeddings))"
   ]
  },
  {
   "cell_type": "code",
   "execution_count": 12,
   "metadata": {},
   "outputs": [
    {
     "data": {
      "text/plain": [
       "13298"
      ]
     },
     "execution_count": 12,
     "metadata": {},
     "output_type": "execute_result"
    }
   ],
   "source": [
    "len(disease_synonyms)"
   ]
  },
  {
   "cell_type": "code",
   "execution_count": 13,
   "metadata": {},
   "outputs": [
    {
     "data": {
      "text/plain": [
       "5197"
      ]
     },
     "execution_count": 13,
     "metadata": {},
     "output_type": "execute_result"
    }
   ],
   "source": [
    "len(synonyms_embeddings)"
   ]
  },
  {
   "cell_type": "code",
   "execution_count": 19,
   "metadata": {},
   "outputs": [
    {
     "data": {
      "text/plain": [
       "'MESH:D005892'"
      ]
     },
     "execution_count": 19,
     "metadata": {},
     "output_type": "execute_result"
    }
   ],
   "source": [
    "synonyms_embeddings[5196][0]"
   ]
  },
  {
   "cell_type": "markdown",
   "metadata": {},
   "source": [
    "We need to restart, as the previous function had a failing code."
   ]
  },
  {
   "cell_type": "code",
   "execution_count": 28,
   "metadata": {},
   "outputs": [],
   "source": [
    "def generate_synonyms_embeddings(driver, existing_embeddings: list = None) -> list:\n",
    "    if existing_embeddings is None:\n",
    "        existing_embeddings = []\n",
    "\n",
    "    # Determine how many records have already been processed\n",
    "    already_processed_count = len(existing_embeddings)\n",
    "\n",
    "    synonyms_embeddings = existing_embeddings.copy()\n",
    "\n",
    "    with driver.session() as session:\n",
    "        disease_synonyms = session.execute_read(get_disease_synonyms)\n",
    "        \n",
    "        # Skip the already processed records\n",
    "        remaining_disease_synonyms = disease_synonyms[already_processed_count:]\n",
    "\n",
    "        # Progress bar for processing remaining disease synonyms\n",
    "        for record in tqdm(remaining_disease_synonyms, desc=\"Processing Remaining Disease Synonyms\"):\n",
    "            disease_id = record['DiseaseID']\n",
    "            synonyms = record['Synonyms']\n",
    "\n",
    "            if pd.isna(record['Synonyms']):\n",
    "                synonyms = record['DiseaseName']\n",
    "            else:\n",
    "                synonyms = record['Synonyms']\n",
    "\n",
    "            rec_synonyms_embeddings = [ollama3_embedding.get_text_embedding(name) for name in synonyms.split('|')]\n",
    "            \n",
    "            synonyms_embeddings.append((disease_id, rec_synonyms_embeddings))\n",
    "    \n",
    "    return synonyms_embeddings\n",
    "\n",
    "def update_embeddings_in_db(driver, synonyms_embeddings: list):\n",
    "    with driver.session() as session:\n",
    "        # Progress bar for updating embeddings in the database\n",
    "        for disease_id, embedding in tqdm(synonyms_embeddings, desc=\"Updating Disease Embeddings\"):\n",
    "            session.execute_write(update_disease_synonyms_embeddings, disease_id, embedding, Models.LLAMA3.value)"
   ]
  },
  {
   "cell_type": "code",
   "execution_count": 21,
   "metadata": {},
   "outputs": [
    {
     "name": "stderr",
     "output_type": "stream",
     "text": [
      "Processing Remaining Disease Synonyms: 100%|██████████| 8101/8101 [2:32:37<00:00,  1.13s/it]   \n"
     ]
    }
   ],
   "source": [
    "# Resume embedding generation\n",
    "complete_synonyms_embeddings = generate_synonyms_embeddings(driver, synonyms_embeddings)"
   ]
  },
  {
   "cell_type": "markdown",
   "metadata": {},
   "source": [
    "Let us quickly verify that we've got all the embeddings."
   ]
  },
  {
   "cell_type": "code",
   "execution_count": 23,
   "metadata": {},
   "outputs": [
    {
     "data": {
      "text/plain": [
       "13298"
      ]
     },
     "execution_count": 23,
     "metadata": {},
     "output_type": "execute_result"
    }
   ],
   "source": [
    "len(complete_synonyms_embeddings)"
   ]
  },
  {
   "cell_type": "code",
   "execution_count": 33,
   "metadata": {},
   "outputs": [
    {
     "name": "stderr",
     "output_type": "stream",
     "text": [
      "Updating Disease Embeddings: 100%|██████████| 13298/13298 [12:06<00:00, 18.32it/s]\n"
     ]
    }
   ],
   "source": [
    "# Update the embeddings in the database\n",
    "update_embeddings_in_db(driver, complete_synonyms_embeddings)"
   ]
  },
  {
   "cell_type": "markdown",
   "metadata": {},
   "source": [
    "## NCBI corpus processing"
   ]
  },
  {
   "cell_type": "markdown",
   "metadata": {},
   "source": [
    "The dataset consists of entities that belog to either of these categories:\n",
    "\n",
    "- DiseaseClass: This can correspond to the high-level categories in the CTD's MEDIC-Slim, which classify diseases into broad categories such as genetic diseases, neoplasms, etc.\n",
    "- CompositeMention: This can be related to composite terms in CTD that might combine aspects of multiple diseases or conditions, although CTD primarily focuses on distinct disease terms rather than composite mentions.\n",
    "- SpecificDisease: These can be mapped directly to specific disease terms in the CTD, which are detailed with their MeSH or OMIM identifiers.\n",
    "- Modifier: Modifiers like \"tumor\" or \"cancer\" can be seen in context with specific diseases in CTD, modifying the understanding or description of the disease, such as in \"breast cancer\" or \"ovarian cancer\".\n",
    "\n",
    "It has been prepared for ML training, thus split into development, training and testing chunks. Since we are not developing the ML model for our task - we will process and combine these chinks together. We will also separate the text from the annotations and save them separately."
   ]
  },
  {
   "cell_type": "code",
   "execution_count": 323,
   "metadata": {},
   "outputs": [],
   "source": [
    "with open('../data/raw/NCBI_corpus/NCBIdevelopset_corpus.txt', 'r') as f:\n",
    "    data = f.read()"
   ]
  },
  {
   "cell_type": "code",
   "execution_count": 324,
   "metadata": {},
   "outputs": [],
   "source": [
    "with open('../data/raw/NCBI_corpus/NCBItrainset_corpus.txt', 'r') as f:\n",
    "    train_data = f.read()"
   ]
  },
  {
   "cell_type": "code",
   "execution_count": 325,
   "metadata": {},
   "outputs": [],
   "source": [
    "with open('../data/raw/NCBI_corpus/NCBItestset_corpus.txt', 'r') as f:\n",
    "    test_data = f.read()"
   ]
  },
  {
   "cell_type": "code",
   "execution_count": 26,
   "metadata": {},
   "outputs": [],
   "source": [
    "# Split the input data into lines\n",
    "lines = [line for line in data.split(\"\\n\") if line.strip()]"
   ]
  },
  {
   "cell_type": "code",
   "execution_count": 27,
   "metadata": {},
   "outputs": [],
   "source": [
    "# Separate the abstract and annotations sections\n",
    "abstracts = []\n",
    "annotations = []\n",
    "\n",
    "for line in lines:\n",
    "    if \"|t|\" in line or \"|a|\" in line:\n",
    "        parts = line.split(\"|\")\n",
    "        abstracts.append(parts)\n",
    "    else:\n",
    "        annotations.append(line)"
   ]
  },
  {
   "cell_type": "code",
   "execution_count": 28,
   "metadata": {},
   "outputs": [],
   "source": [
    "# Create DataFrame for abstracts\n",
    "abstracts_df = pd.DataFrame(abstracts, columns=[\"ID\", \"Type\", \"Text\"])"
   ]
  },
  {
   "cell_type": "code",
   "execution_count": 29,
   "metadata": {},
   "outputs": [
    {
     "data": {
      "text/html": [
       "<div>\n",
       "<style scoped>\n",
       "    .dataframe tbody tr th:only-of-type {\n",
       "        vertical-align: middle;\n",
       "    }\n",
       "\n",
       "    .dataframe tbody tr th {\n",
       "        vertical-align: top;\n",
       "    }\n",
       "\n",
       "    .dataframe thead th {\n",
       "        text-align: right;\n",
       "    }\n",
       "</style>\n",
       "<table border=\"1\" class=\"dataframe\">\n",
       "  <thead>\n",
       "    <tr style=\"text-align: right;\">\n",
       "      <th></th>\n",
       "      <th>ID</th>\n",
       "      <th>Type</th>\n",
       "      <th>Text</th>\n",
       "    </tr>\n",
       "  </thead>\n",
       "  <tbody>\n",
       "    <tr>\n",
       "      <th>0</th>\n",
       "      <td>8808605</td>\n",
       "      <td>t</td>\n",
       "      <td>Somatic-cell selection is a major determinant ...</td>\n",
       "    </tr>\n",
       "    <tr>\n",
       "      <th>1</th>\n",
       "      <td>8808605</td>\n",
       "      <td>a</td>\n",
       "      <td>X-chromosome inactivation in mammals is regard...</td>\n",
       "    </tr>\n",
       "    <tr>\n",
       "      <th>2</th>\n",
       "      <td>9050866</td>\n",
       "      <td>t</td>\n",
       "      <td>The ataxia-telangiectasia gene product, a cons...</td>\n",
       "    </tr>\n",
       "    <tr>\n",
       "      <th>3</th>\n",
       "      <td>9050866</td>\n",
       "      <td>a</td>\n",
       "      <td>The product of the ataxia-telangiectasia gene ...</td>\n",
       "    </tr>\n",
       "    <tr>\n",
       "      <th>4</th>\n",
       "      <td>9012409</td>\n",
       "      <td>t</td>\n",
       "      <td>Molecular basis for Duarte and Los Angeles var...</td>\n",
       "    </tr>\n",
       "  </tbody>\n",
       "</table>\n",
       "</div>"
      ],
      "text/plain": [
       "        ID Type                                               Text\n",
       "0  8808605    t  Somatic-cell selection is a major determinant ...\n",
       "1  8808605    a  X-chromosome inactivation in mammals is regard...\n",
       "2  9050866    t  The ataxia-telangiectasia gene product, a cons...\n",
       "3  9050866    a  The product of the ataxia-telangiectasia gene ...\n",
       "4  9012409    t  Molecular basis for Duarte and Los Angeles var..."
      ]
     },
     "execution_count": 29,
     "metadata": {},
     "output_type": "execute_result"
    }
   ],
   "source": [
    "abstracts_df.head()"
   ]
  },
  {
   "cell_type": "code",
   "execution_count": 30,
   "metadata": {},
   "outputs": [],
   "source": [
    "annotations_str = '\\n'.join(annotations)\n",
    "annotations_df = pd.read_csv(StringIO(annotations_str), sep='\\t', header=None, names=['ID', 'Start', 'End', 'Description', 'Type', 'MESH ID'])"
   ]
  },
  {
   "cell_type": "code",
   "execution_count": 31,
   "metadata": {},
   "outputs": [
    {
     "data": {
      "text/html": [
       "<div>\n",
       "<style scoped>\n",
       "    .dataframe tbody tr th:only-of-type {\n",
       "        vertical-align: middle;\n",
       "    }\n",
       "\n",
       "    .dataframe tbody tr th {\n",
       "        vertical-align: top;\n",
       "    }\n",
       "\n",
       "    .dataframe thead th {\n",
       "        text-align: right;\n",
       "    }\n",
       "</style>\n",
       "<table border=\"1\" class=\"dataframe\">\n",
       "  <thead>\n",
       "    <tr style=\"text-align: right;\">\n",
       "      <th></th>\n",
       "      <th>ID</th>\n",
       "      <th>Start</th>\n",
       "      <th>End</th>\n",
       "      <th>Description</th>\n",
       "      <th>Type</th>\n",
       "      <th>MESH ID</th>\n",
       "    </tr>\n",
       "  </thead>\n",
       "  <tbody>\n",
       "    <tr>\n",
       "      <th>0</th>\n",
       "      <td>8808605</td>\n",
       "      <td>154</td>\n",
       "      <td>171</td>\n",
       "      <td>enzyme deficiency</td>\n",
       "      <td>DiseaseClass</td>\n",
       "      <td>D008661</td>\n",
       "    </tr>\n",
       "    <tr>\n",
       "      <th>1</th>\n",
       "      <td>8808605</td>\n",
       "      <td>376</td>\n",
       "      <td>427</td>\n",
       "      <td>glucose-6-phosphate dehydrogenase (G6PD) defic...</td>\n",
       "      <td>SpecificDisease</td>\n",
       "      <td>D005955</td>\n",
       "    </tr>\n",
       "    <tr>\n",
       "      <th>2</th>\n",
       "      <td>8808605</td>\n",
       "      <td>572</td>\n",
       "      <td>611</td>\n",
       "      <td>chronic nonspherocytic hemolytic anemia</td>\n",
       "      <td>SpecificDisease</td>\n",
       "      <td>D000746</td>\n",
       "    </tr>\n",
       "    <tr>\n",
       "      <th>3</th>\n",
       "      <td>8808605</td>\n",
       "      <td>677</td>\n",
       "      <td>692</td>\n",
       "      <td>G6PD deficiency</td>\n",
       "      <td>SpecificDisease</td>\n",
       "      <td>D005955</td>\n",
       "    </tr>\n",
       "    <tr>\n",
       "      <th>4</th>\n",
       "      <td>8808605</td>\n",
       "      <td>1368</td>\n",
       "      <td>1383</td>\n",
       "      <td>G6PD deficiency</td>\n",
       "      <td>SpecificDisease</td>\n",
       "      <td>D005955</td>\n",
       "    </tr>\n",
       "  </tbody>\n",
       "</table>\n",
       "</div>"
      ],
      "text/plain": [
       "        ID  Start   End                                        Description  \\\n",
       "0  8808605    154   171                                  enzyme deficiency   \n",
       "1  8808605    376   427  glucose-6-phosphate dehydrogenase (G6PD) defic...   \n",
       "2  8808605    572   611            chronic nonspherocytic hemolytic anemia   \n",
       "3  8808605    677   692                                    G6PD deficiency   \n",
       "4  8808605   1368  1383                                    G6PD deficiency   \n",
       "\n",
       "              Type   MESH ID  \n",
       "0     DiseaseClass   D008661  \n",
       "1  SpecificDisease   D005955  \n",
       "2  SpecificDisease   D000746  \n",
       "3  SpecificDisease   D005955  \n",
       "4  SpecificDisease   D005955  "
      ]
     },
     "execution_count": 31,
     "metadata": {},
     "output_type": "execute_result"
    }
   ],
   "source": [
    "annotations_df.head()"
   ]
  },
  {
   "cell_type": "code",
   "execution_count": 32,
   "metadata": {},
   "outputs": [],
   "source": [
    "abstracts_df.to_csv('../data/processed/ncbi_dev_abstracts.csv', index=False)"
   ]
  },
  {
   "cell_type": "code",
   "execution_count": 33,
   "metadata": {},
   "outputs": [
    {
     "name": "stdout",
     "output_type": "stream",
     "text": [
      "<class 'pandas.core.frame.DataFrame'>\n",
      "RangeIndex: 200 entries, 0 to 199\n",
      "Data columns (total 3 columns):\n",
      " #   Column  Non-Null Count  Dtype \n",
      "---  ------  --------------  ----- \n",
      " 0   ID      200 non-null    object\n",
      " 1   Type    200 non-null    object\n",
      " 2   Text    200 non-null    object\n",
      "dtypes: object(3)\n",
      "memory usage: 4.8+ KB\n"
     ]
    }
   ],
   "source": [
    "abstracts_df.info()"
   ]
  },
  {
   "cell_type": "markdown",
   "metadata": {},
   "source": [
    "Some IDs do not have the same format as \"DiseaseID\" property in knowledge graph. We need to re-map them so they match exactly. MESH ID can be either \"D005955\", \"D001932|D001943|D011471\" (meaning that there are 3 ids) or \"OMIM:217000\". We need to re-map them so every id that starts with \"D\" or \"C\" has \"MESH:\" before it, like \"MESH:D005955\"."
   ]
  },
  {
   "cell_type": "code",
   "execution_count": 288,
   "metadata": {},
   "outputs": [],
   "source": [
    "def remap_mesh_id(mesh_id) -> str:\n",
    "    if not isinstance(mesh_id, str):\n",
    "        return mesh_id\n",
    "    \n",
    "    id = mesh_id.strip()\n",
    "\n",
    "    if '|' in id or '+' in id:\n",
    "        if '|' in id:\n",
    "            ids = id.split('|')\n",
    "        else:\n",
    "            ids = id.split('+')\n",
    "            \n",
    "        remapped_ids = [remap_mesh_id(id) for id in ids]\n",
    "        return '|'.join(remapped_ids)\n",
    "\n",
    "    if id.startswith('D') or id.startswith('C'):\n",
    "        return 'MESH:' + id\n",
    "    else:\n",
    "        return id"
   ]
  },
  {
   "cell_type": "code",
   "execution_count": 290,
   "metadata": {},
   "outputs": [],
   "source": [
    "annotations_df['MESH ID'] = annotations_df['MESH ID'].apply(remap_mesh_id)"
   ]
  },
  {
   "cell_type": "code",
   "execution_count": 263,
   "metadata": {},
   "outputs": [
    {
     "data": {
      "text/html": [
       "<div>\n",
       "<style scoped>\n",
       "    .dataframe tbody tr th:only-of-type {\n",
       "        vertical-align: middle;\n",
       "    }\n",
       "\n",
       "    .dataframe tbody tr th {\n",
       "        vertical-align: top;\n",
       "    }\n",
       "\n",
       "    .dataframe thead th {\n",
       "        text-align: right;\n",
       "    }\n",
       "</style>\n",
       "<table border=\"1\" class=\"dataframe\">\n",
       "  <thead>\n",
       "    <tr style=\"text-align: right;\">\n",
       "      <th></th>\n",
       "      <th>ID</th>\n",
       "      <th>Start</th>\n",
       "      <th>End</th>\n",
       "      <th>Description</th>\n",
       "      <th>Type</th>\n",
       "      <th>MESH ID</th>\n",
       "    </tr>\n",
       "  </thead>\n",
       "  <tbody>\n",
       "    <tr>\n",
       "      <th>0</th>\n",
       "      <td>8808605</td>\n",
       "      <td>154</td>\n",
       "      <td>171</td>\n",
       "      <td>enzyme deficiency</td>\n",
       "      <td>DiseaseClass</td>\n",
       "      <td>MESH:D008661</td>\n",
       "    </tr>\n",
       "    <tr>\n",
       "      <th>1</th>\n",
       "      <td>8808605</td>\n",
       "      <td>376</td>\n",
       "      <td>427</td>\n",
       "      <td>glucose-6-phosphate dehydrogenase (G6PD) defic...</td>\n",
       "      <td>SpecificDisease</td>\n",
       "      <td>MESH:D005955</td>\n",
       "    </tr>\n",
       "    <tr>\n",
       "      <th>2</th>\n",
       "      <td>8808605</td>\n",
       "      <td>572</td>\n",
       "      <td>611</td>\n",
       "      <td>chronic nonspherocytic hemolytic anemia</td>\n",
       "      <td>SpecificDisease</td>\n",
       "      <td>MESH:D000746</td>\n",
       "    </tr>\n",
       "    <tr>\n",
       "      <th>3</th>\n",
       "      <td>8808605</td>\n",
       "      <td>677</td>\n",
       "      <td>692</td>\n",
       "      <td>G6PD deficiency</td>\n",
       "      <td>SpecificDisease</td>\n",
       "      <td>MESH:D005955</td>\n",
       "    </tr>\n",
       "    <tr>\n",
       "      <th>4</th>\n",
       "      <td>8808605</td>\n",
       "      <td>1368</td>\n",
       "      <td>1383</td>\n",
       "      <td>G6PD deficiency</td>\n",
       "      <td>SpecificDisease</td>\n",
       "      <td>MESH:D005955</td>\n",
       "    </tr>\n",
       "  </tbody>\n",
       "</table>\n",
       "</div>"
      ],
      "text/plain": [
       "        ID  Start   End                                        Description  \\\n",
       "0  8808605    154   171                                  enzyme deficiency   \n",
       "1  8808605    376   427  glucose-6-phosphate dehydrogenase (G6PD) defic...   \n",
       "2  8808605    572   611            chronic nonspherocytic hemolytic anemia   \n",
       "3  8808605    677   692                                    G6PD deficiency   \n",
       "4  8808605   1368  1383                                    G6PD deficiency   \n",
       "\n",
       "              Type       MESH ID  \n",
       "0     DiseaseClass  MESH:D008661  \n",
       "1  SpecificDisease  MESH:D005955  \n",
       "2  SpecificDisease  MESH:D000746  \n",
       "3  SpecificDisease  MESH:D005955  \n",
       "4  SpecificDisease  MESH:D005955  "
      ]
     },
     "execution_count": 263,
     "metadata": {},
     "output_type": "execute_result"
    }
   ],
   "source": [
    "annotations_df.head()"
   ]
  },
  {
   "cell_type": "code",
   "execution_count": 291,
   "metadata": {},
   "outputs": [],
   "source": [
    "annotations_df.to_csv('../data/processed/ncbi_dev_annotations.csv', index=False)"
   ]
  },
  {
   "cell_type": "code",
   "execution_count": 152,
   "metadata": {},
   "outputs": [],
   "source": [
    "def get_abstractions_and_annotations(data):\n",
    "    lines = [line for line in data.split(\"\\n\") if line.strip()]\n",
    "\n",
    "    abstracts = []\n",
    "    annotations = []\n",
    "\n",
    "    for line in lines:\n",
    "        if \"|t|\" in line or \"|a|\" in line:\n",
    "            parts = line.split(\"|\")\n",
    "            abstracts.append(parts)\n",
    "        else:\n",
    "            annotations.append(line)\n",
    "\n",
    "    return abstracts, annotations"
   ]
  },
  {
   "cell_type": "markdown",
   "metadata": {},
   "source": [
    "Now we can process train and test corpus in the same manner."
   ]
  },
  {
   "cell_type": "code",
   "execution_count": 292,
   "metadata": {},
   "outputs": [],
   "source": [
    "train_abstracts, train_annotations = get_abstractions_and_annotations(train_data)\n",
    "        \n",
    "train_abstracts_df = pd.DataFrame(train_abstracts, columns=[\"ID\", \"Type\", \"Text\"])\n",
    "train_abstracts_df.to_csv('../data/processed/ncbi_train_abstracts.csv', index=False)\n",
    "\n",
    "train_annotations_str = '\\n'.join(train_annotations)\n",
    "train_annotations_df = pd.read_csv(StringIO(train_annotations_str), sep='\\t', header=None, names=['ID', 'Start', 'End', 'Description', 'Type', 'MESH ID'])\n",
    "train_annotations_df['MESH ID'] = train_annotations_df['MESH ID'].apply(remap_mesh_id)\n",
    "train_annotations_df.to_csv('../data/processed/ncbi_train_annotations.csv', index=False)"
   ]
  },
  {
   "cell_type": "code",
   "execution_count": 261,
   "metadata": {},
   "outputs": [
    {
     "name": "stdout",
     "output_type": "stream",
     "text": [
      "<class 'pandas.core.frame.DataFrame'>\n",
      "RangeIndex: 5145 entries, 0 to 5144\n",
      "Data columns (total 6 columns):\n",
      " #   Column       Non-Null Count  Dtype \n",
      "---  ------       --------------  ----- \n",
      " 0   ID           5145 non-null   int64 \n",
      " 1   Start        5145 non-null   int64 \n",
      " 2   End          5145 non-null   int64 \n",
      " 3   Description  5145 non-null   object\n",
      " 4   Type         5145 non-null   object\n",
      " 5   MESH ID      5145 non-null   object\n",
      "dtypes: int64(3), object(3)\n",
      "memory usage: 241.3+ KB\n"
     ]
    }
   ],
   "source": [
    "train_annotations_df.info()"
   ]
  },
  {
   "cell_type": "code",
   "execution_count": 293,
   "metadata": {},
   "outputs": [],
   "source": [
    "test_abstracts, test_annotations = get_abstractions_and_annotations(test_data)\n",
    "        \n",
    "test_abstracts_df = pd.DataFrame(test_abstracts, columns=[\"ID\", \"Type\", \"Text\"])\n",
    "test_abstracts_df.to_csv('../data/processed/ncbi_test_abstracts.csv', index=False)\n",
    "\n",
    "test_annotations_str = '\\n'.join(test_annotations)\n",
    "test_annotations_df = pd.read_csv(StringIO(test_annotations_str), sep='\\t', header=None, names=['ID', 'Start', 'End', 'Description', 'Type', 'MESH ID'])\n",
    "test_annotations_df['MESH ID'] = test_annotations_df['MESH ID'].apply(remap_mesh_id)\n",
    "test_annotations_df.to_csv('../data/processed/ncbi_test_annotations.csv', index=False)"
   ]
  },
  {
   "cell_type": "code",
   "execution_count": 156,
   "metadata": {},
   "outputs": [
    {
     "name": "stdout",
     "output_type": "stream",
     "text": [
      "<class 'pandas.core.frame.DataFrame'>\n",
      "RangeIndex: 960 entries, 0 to 959\n",
      "Data columns (total 6 columns):\n",
      " #   Column       Non-Null Count  Dtype \n",
      "---  ------       --------------  ----- \n",
      " 0   ID           960 non-null    int64 \n",
      " 1   Start        960 non-null    int64 \n",
      " 2   End          960 non-null    int64 \n",
      " 3   Description  960 non-null    object\n",
      " 4   Type         960 non-null    object\n",
      " 5   MESH ID      960 non-null    object\n",
      "dtypes: int64(3), object(3)\n",
      "memory usage: 45.1+ KB\n"
     ]
    }
   ],
   "source": [
    "test_annotations_df.info()"
   ]
  },
  {
   "cell_type": "markdown",
   "metadata": {},
   "source": [
    "We will work with specific disease names and we do not plan to train an ML model, so let us create a separate DataFrame from all three datasets for the category of SpecificDisease."
   ]
  },
  {
   "cell_type": "code",
   "execution_count": 327,
   "metadata": {},
   "outputs": [],
   "source": [
    "specific_disease_df = pd.concat([annotations_df[annotations_df['Type'] == 'SpecificDisease'], train_annotations_df[train_annotations_df['Type'] == 'SpecificDisease'], test_annotations_df[test_annotations_df['Type'] == 'SpecificDisease']])"
   ]
  },
  {
   "cell_type": "code",
   "execution_count": 328,
   "metadata": {},
   "outputs": [
    {
     "name": "stdout",
     "output_type": "stream",
     "text": [
      "<class 'pandas.core.frame.DataFrame'>\n",
      "Index: 3939 entries, 1 to 959\n",
      "Data columns (total 6 columns):\n",
      " #   Column       Non-Null Count  Dtype \n",
      "---  ------       --------------  ----- \n",
      " 0   ID           3939 non-null   int64 \n",
      " 1   Start        3939 non-null   int64 \n",
      " 2   End          3939 non-null   int64 \n",
      " 3   Description  3939 non-null   object\n",
      " 4   Type         3939 non-null   object\n",
      " 5   MESH ID      3903 non-null   object\n",
      "dtypes: int64(3), object(3)\n",
      "memory usage: 215.4+ KB\n"
     ]
    }
   ],
   "source": [
    "specific_disease_df.info()"
   ]
  },
  {
   "cell_type": "code",
   "execution_count": 329,
   "metadata": {},
   "outputs": [
    {
     "data": {
      "text/html": [
       "<div>\n",
       "<style scoped>\n",
       "    .dataframe tbody tr th:only-of-type {\n",
       "        vertical-align: middle;\n",
       "    }\n",
       "\n",
       "    .dataframe tbody tr th {\n",
       "        vertical-align: top;\n",
       "    }\n",
       "\n",
       "    .dataframe thead th {\n",
       "        text-align: right;\n",
       "    }\n",
       "</style>\n",
       "<table border=\"1\" class=\"dataframe\">\n",
       "  <thead>\n",
       "    <tr style=\"text-align: right;\">\n",
       "      <th></th>\n",
       "      <th>ID</th>\n",
       "      <th>Start</th>\n",
       "      <th>End</th>\n",
       "      <th>Description</th>\n",
       "      <th>Type</th>\n",
       "      <th>MESH ID</th>\n",
       "    </tr>\n",
       "  </thead>\n",
       "  <tbody>\n",
       "    <tr>\n",
       "      <th>1</th>\n",
       "      <td>8808605</td>\n",
       "      <td>376</td>\n",
       "      <td>427</td>\n",
       "      <td>glucose-6-phosphate dehydrogenase (G6PD) defic...</td>\n",
       "      <td>SpecificDisease</td>\n",
       "      <td>MESH:D005955</td>\n",
       "    </tr>\n",
       "    <tr>\n",
       "      <th>2</th>\n",
       "      <td>8808605</td>\n",
       "      <td>572</td>\n",
       "      <td>611</td>\n",
       "      <td>chronic nonspherocytic hemolytic anemia</td>\n",
       "      <td>SpecificDisease</td>\n",
       "      <td>MESH:D000746</td>\n",
       "    </tr>\n",
       "    <tr>\n",
       "      <th>3</th>\n",
       "      <td>8808605</td>\n",
       "      <td>677</td>\n",
       "      <td>692</td>\n",
       "      <td>G6PD deficiency</td>\n",
       "      <td>SpecificDisease</td>\n",
       "      <td>MESH:D005955</td>\n",
       "    </tr>\n",
       "    <tr>\n",
       "      <th>4</th>\n",
       "      <td>8808605</td>\n",
       "      <td>1368</td>\n",
       "      <td>1383</td>\n",
       "      <td>G6PD deficiency</td>\n",
       "      <td>SpecificDisease</td>\n",
       "      <td>MESH:D005955</td>\n",
       "    </tr>\n",
       "    <tr>\n",
       "      <th>9</th>\n",
       "      <td>9012409</td>\n",
       "      <td>112</td>\n",
       "      <td>149</td>\n",
       "      <td>Duarte enzyme variant of galactosemia</td>\n",
       "      <td>SpecificDisease</td>\n",
       "      <td>MESH:D005693</td>\n",
       "    </tr>\n",
       "  </tbody>\n",
       "</table>\n",
       "</div>"
      ],
      "text/plain": [
       "        ID  Start   End                                        Description  \\\n",
       "1  8808605    376   427  glucose-6-phosphate dehydrogenase (G6PD) defic...   \n",
       "2  8808605    572   611            chronic nonspherocytic hemolytic anemia   \n",
       "3  8808605    677   692                                    G6PD deficiency   \n",
       "4  8808605   1368  1383                                    G6PD deficiency   \n",
       "9  9012409    112   149              Duarte enzyme variant of galactosemia   \n",
       "\n",
       "              Type       MESH ID  \n",
       "1  SpecificDisease  MESH:D005955  \n",
       "2  SpecificDisease  MESH:D000746  \n",
       "3  SpecificDisease  MESH:D005955  \n",
       "4  SpecificDisease  MESH:D005955  \n",
       "9  SpecificDisease  MESH:D005693  "
      ]
     },
     "execution_count": 329,
     "metadata": {},
     "output_type": "execute_result"
    }
   ],
   "source": [
    "specific_disease_df.head()"
   ]
  },
  {
   "cell_type": "markdown",
   "metadata": {},
   "source": [
    "Let us now check if there are any rows that don't have IDs."
   ]
  },
  {
   "cell_type": "code",
   "execution_count": 330,
   "metadata": {},
   "outputs": [
    {
     "name": "stdout",
     "output_type": "stream",
     "text": [
      "36\n"
     ]
    }
   ],
   "source": [
    "rows_with_none = specific_disease_df[specific_disease_df['MESH ID'].isna()]\n",
    "print(len(rows_with_none))"
   ]
  },
  {
   "cell_type": "markdown",
   "metadata": {},
   "source": [
    "Since some disease names might be mentioned multiple times, let us print the unique names that missing IDs."
   ]
  },
  {
   "cell_type": "code",
   "execution_count": 331,
   "metadata": {},
   "outputs": [
    {
     "name": "stdout",
     "output_type": "stream",
     "text": [
      "['Kniest dysplasia' 'Pyle disease' 'SJS type 2'\n",
      " 'attenuated adenomatous polyposis coli' 'AAPC'\n",
      " 'clear-cell renal cell carcinoma' 'Norrie disease' 'ND'\n",
      " 'renal oncocytomas' 'atelosteogenesis type 2' 'diastrophic dysplasia'\n",
      " 'DTD' 'AO2' 'achondrogenesis type 1B' 'ACG1B' 'AO-2'\n",
      " 'adult renal hamartomas' 'VLCAD deficiency']\n"
     ]
    }
   ],
   "source": [
    "disease_names_with_none = rows_with_none['Description'].unique()\n",
    "print(disease_names_with_none)"
   ]
  },
  {
   "cell_type": "markdown",
   "metadata": {},
   "source": [
    "We can populate these missing IDs using MyDisease API.\n",
    "[MyDisease.info](https://mydisease.info/about) provides simple-to-use REST web services to query/retrieve disease annotation data. It has annotations from different ontologies, which is helpful, as we might be able to re-map the diseases so their IDs are aligned with the knowledge base."
   ]
  },
  {
   "cell_type": "code",
   "execution_count": 332,
   "metadata": {},
   "outputs": [],
   "source": [
    "base_URL = \"http://mydisease.info/v1/\"\n",
    "query_endpoint = \"query\"\n",
    "\n",
    "def get_disease_info(query, endpoint, fields=\"mondo\", size=10, from_=0, fetch_all=False, facet_size=10, dotfield=False):\n",
    "    params = {\n",
    "        \"q\": query,\n",
    "        \"fields\": fields,\n",
    "        \"size\": size,\n",
    "        \"from\": from_,\n",
    "        \"fetch_all\": str(fetch_all).lower(),\n",
    "        \"facet_size\": facet_size,\n",
    "        \"dotfield\": str(dotfield).lower()\n",
    "    }\n",
    "    \n",
    "    response = requests.get(base_URL + endpoint, params=params)\n",
    "    \n",
    "    if response.status_code == 200:\n",
    "        return response.json()\n",
    "    else:\n",
    "        response.raise_for_status()"
   ]
  },
  {
   "cell_type": "markdown",
   "metadata": {},
   "source": [
    "Let us check the query and make sure it's working as expected."
   ]
  },
  {
   "cell_type": "code",
   "execution_count": 333,
   "metadata": {},
   "outputs": [],
   "source": [
    "query = \"Pyle disease\"\n",
    "response_data = get_disease_info(query, query_endpoint)"
   ]
  },
  {
   "cell_type": "markdown",
   "metadata": {},
   "source": [
    "Now we can collect the missing data."
   ]
  },
  {
   "cell_type": "code",
   "execution_count": 335,
   "metadata": {},
   "outputs": [
    {
     "name": "stdout",
     "output_type": "stream",
     "text": [
      "18\n"
     ]
    }
   ],
   "source": [
    "disease_names_with_none_data = []\n",
    "\n",
    "for disease_name in disease_names_with_none:\n",
    "    response_data = get_disease_info(disease_name, query_endpoint)\n",
    "    disease_names_with_none_data.append(response_data)\n",
    "    \n",
    "print(len(disease_names_with_none_data))"
   ]
  },
  {
   "cell_type": "markdown",
   "metadata": {},
   "source": [
    "Now we can check if we got all the information we need to populate the missing data point."
   ]
  },
  {
   "cell_type": "code",
   "execution_count": 341,
   "metadata": {},
   "outputs": [
    {
     "name": "stdout",
     "output_type": "stream",
     "text": [
      "Kniest dysplasia: {'MESH': ['C537208'], 'OMIM': ['245190'], 'DOID': None}\n",
      "Pyle disease: {'MESH': ['C536252'], 'OMIM': ['265900'], 'DOID': ['DOID:0080019']}\n",
      "SJS type 2: None\n",
      "attenuated adenomatous polyposis coli: {'MESH': ['C538265'], 'OMIM': None, 'DOID': None}\n",
      "AAPC: {'MESH': ['C538265'], 'OMIM': None, 'DOID': None}\n",
      "clear-cell renal cell carcinoma: {'MESH': None, 'OMIM': None, 'DOID': ['DOID:4467']}\n",
      "Norrie disease: {'MESH': ['C537849'], 'OMIM': ['310600'], 'DOID': ['DOID:0060844']}\n",
      "ND: None\n",
      "renal oncocytomas: None\n",
      "atelosteogenesis type 2: {'MESH': ['C535395'], 'OMIM': ['256050'], 'DOID': None}\n",
      "diastrophic dysplasia: {'MESH': ['C536170'], 'OMIM': ['222600'], 'DOID': ['DOID:14687']}\n",
      "DTD: None\n",
      "AO2: {'MESH': ['C535395'], 'OMIM': ['256050'], 'DOID': None}\n",
      "achondrogenesis type 1B: None\n",
      "ACG1B: None\n",
      "AO-2: None\n",
      "adult renal hamartomas: None\n",
      "VLCAD deficiency: {'MESH': None, 'OMIM': ['201475'], 'DOID': ['DOID:0080155']}\n"
     ]
    }
   ],
   "source": [
    "def extract_mesh_omim(dictionary):\n",
    "    if dictionary['hits']:\n",
    "        return {\n",
    "            \"MESH\": dictionary['hits'][0].get('mondo', {}).get('xrefs', {}).get('mesh', None),\n",
    "            \"OMIM\": dictionary['hits'][0].get('mondo', {}).get('xrefs', {}).get('omim', None),\n",
    "            \"DOID\": dictionary['hits'][0].get('mondo', {}).get('xrefs', {}).get('doid', None)\n",
    "        }\n",
    "\n",
    "    else:\n",
    "        return None\n",
    "\n",
    "disease_mesh_dict = {}\n",
    "\n",
    "for i, disease in enumerate(disease_names_with_none):\n",
    "    mesh_omim_value = extract_mesh_omim(disease_names_with_none_data[i]) if i < len(disease_names_with_none_data) else None\n",
    "    disease_mesh_dict[disease] = mesh_omim_value\n",
    "    print(f\"{disease}: {mesh_omim_value}\")"
   ]
  },
  {
   "cell_type": "markdown",
   "metadata": {},
   "source": [
    "We can infer that \"ND\" is \"Norrie disease\", and \"AO-2\" is \"AO2\" so we can insert the missing values into the specific disease DataFrame."
   ]
  },
  {
   "cell_type": "code",
   "execution_count": 342,
   "metadata": {},
   "outputs": [],
   "source": [
    "specific_disease_df.loc[specific_disease_df['Description'] == 'ND', 'MESH ID'] = 'MESH:C537849'\n",
    "specific_disease_df.loc[specific_disease_df['Description'] == 'AO-2', 'MESH ID'] = 'MESH:C535395'"
   ]
  },
  {
   "cell_type": "markdown",
   "metadata": {},
   "source": [
    "And now we can update the rest known values."
   ]
  },
  {
   "cell_type": "code",
   "execution_count": 373,
   "metadata": {},
   "outputs": [
    {
     "name": "stdout",
     "output_type": "stream",
     "text": [
      "Kniest dysplasia: MESH:C537208\n",
      "Pyle disease: MESH:C536252\n",
      "attenuated adenomatous polyposis coli: MESH:C538265\n",
      "AAPC: MESH:C538265\n",
      "clear-cell renal cell carcinoma: DO:DOID:4467\n",
      "Norrie disease: MESH:C537849\n",
      "atelosteogenesis type 2: MESH:C535395\n",
      "diastrophic dysplasia: MESH:C536170\n",
      "AO2: MESH:C535395\n",
      "VLCAD deficiency: OMIM:201475\n"
     ]
    }
   ],
   "source": [
    "for disease, ids in disease_mesh_dict.items():\n",
    "    if ids is not None:\n",
    "        id = None\n",
    "\n",
    "        if 'MESH' in ids and ids['MESH'] is not None:\n",
    "            id = f\"MESH:{ids['MESH'][0]}\"\n",
    "        elif 'OMIM' in ids and ids['OMIM'] is not None:\n",
    "            id = f\"OMIM:{ids['OMIM'][0]}\"\n",
    "        elif 'DOID' in ids and ids['DOID'] is not None:\n",
    "            id = f\"DO:{ids['DOID'][0]}\"\n",
    "\n",
    "        print (f\"{disease}: {id}\")\n",
    "        specific_disease_df.loc[specific_disease_df['Description'] == disease, 'MESH ID'] = id"
   ]
  },
  {
   "cell_type": "markdown",
   "metadata": {},
   "source": [
    "We were able to identify more diseases, so we should not have many empty values now."
   ]
  },
  {
   "cell_type": "code",
   "execution_count": 347,
   "metadata": {},
   "outputs": [
    {
     "name": "stdout",
     "output_type": "stream",
     "text": [
      "11\n"
     ]
    }
   ],
   "source": [
    "rows_with_none = specific_disease_df[specific_disease_df['MESH ID'].isna()]\n",
    "print(len(rows_with_none))"
   ]
  },
  {
   "cell_type": "code",
   "execution_count": 348,
   "metadata": {},
   "outputs": [],
   "source": [
    "specific_disease_df.dropna(subset=['MESH ID'], inplace=True)"
   ]
  },
  {
   "cell_type": "code",
   "execution_count": 367,
   "metadata": {},
   "outputs": [
    {
     "name": "stdout",
     "output_type": "stream",
     "text": [
      "<class 'pandas.core.frame.DataFrame'>\n",
      "RangeIndex: 3928 entries, 0 to 3927\n",
      "Data columns (total 6 columns):\n",
      " #   Column       Non-Null Count  Dtype \n",
      "---  ------       --------------  ----- \n",
      " 0   ID           3928 non-null   int64 \n",
      " 1   Start        3928 non-null   int64 \n",
      " 2   End          3928 non-null   int64 \n",
      " 3   Description  3928 non-null   object\n",
      " 4   Type         3928 non-null   object\n",
      " 5   MESH ID      3928 non-null   object\n",
      "dtypes: int64(3), object(3)\n",
      "memory usage: 184.3+ KB\n"
     ]
    }
   ],
   "source": [
    "specific_disease_df.info()"
   ]
  },
  {
   "cell_type": "markdown",
   "metadata": {},
   "source": [
    "Let us now check if there are any missing IDs in the knowledge graph."
   ]
  },
  {
   "cell_type": "code",
   "execution_count": 368,
   "metadata": {},
   "outputs": [
    {
     "data": {
      "text/plain": [
       "559"
      ]
     },
     "execution_count": 368,
     "metadata": {},
     "output_type": "execute_result"
    }
   ],
   "source": [
    "mesh_ids = specific_disease_df['MESH ID'].str.split('|').explode().unique()\n",
    "len(mesh_ids)"
   ]
  },
  {
   "cell_type": "code",
   "execution_count": 355,
   "metadata": {},
   "outputs": [],
   "source": [
    "specific_disease_df.to_csv('../data/processed/ncbi_specific_disease.csv', index=False)"
   ]
  },
  {
   "cell_type": "code",
   "execution_count": 370,
   "metadata": {},
   "outputs": [],
   "source": [
    "def batch_list(lst, batch_size):\n",
    "    for i in range(0, len(lst), batch_size):\n",
    "        yield lst[i:i + batch_size]"
   ]
  },
  {
   "cell_type": "code",
   "execution_count": 371,
   "metadata": {},
   "outputs": [],
   "source": [
    "def check_ids_missing_in_knowledge_base(driver, mesh_ids, batch_size=100):\n",
    "    id_present_check_query = \"\"\"\n",
    "        UNWIND $meshIds AS meshId\n",
    "        OPTIONAL MATCH (d:Disease)\n",
    "        WHERE (d.DiseaseID IS NOT NULL AND ANY(id IN SPLIT(toString(d.DiseaseID), '|') WHERE id = meshId))\n",
    "        OR (d.AltDiseaseIDs IS NOT NULL AND ANY(altId IN SPLIT(toString(d.AltDiseaseIDs), '|') WHERE altId = meshId))\n",
    "        RETURN meshId\n",
    "    \"\"\"\n",
    "    \n",
    "    present_ids = set()\n",
    "    \n",
    "    for batch in batch_list(mesh_ids, batch_size):\n",
    "        with driver.session() as session:\n",
    "            result = session.run(id_present_check_query, meshIds=batch)\n",
    "            present_ids.update([record[\"meshId\"] for record in result])\n",
    "    \n",
    "    missing_ids = set(mesh_ids) - present_ids\n",
    "    \n",
    "    return list(missing_ids)"
   ]
  },
  {
   "cell_type": "code",
   "execution_count": 372,
   "metadata": {},
   "outputs": [
    {
     "name": "stdout",
     "output_type": "stream",
     "text": [
      "0\n"
     ]
    }
   ],
   "source": [
    "missing_ids = check_ids_missing_in_knowledge_base(driver, mesh_ids)\n",
    "print(len(missing_ids))"
   ]
  },
  {
   "cell_type": "markdown",
   "metadata": {},
   "source": [
    "As we can see, all the IDs from the dataset are present in the knowledge graph, so we can save our dataset now."
   ]
  },
  {
   "cell_type": "code",
   "execution_count": 320,
   "metadata": {},
   "outputs": [],
   "source": [
    "specific_disease_df.to_csv('../data/processed/ncbi_specific_disease.csv', index=False)"
   ]
  },
  {
   "cell_type": "code",
   "execution_count": 363,
   "metadata": {},
   "outputs": [],
   "source": [
    "driver.close()"
   ]
  }
 ],
 "metadata": {
  "kernelspec": {
   "display_name": "venv",
   "language": "python",
   "name": "python3"
  },
  "language_info": {
   "codemirror_mode": {
    "name": "ipython",
    "version": 3
   },
   "file_extension": ".py",
   "mimetype": "text/x-python",
   "name": "python",
   "nbconvert_exporter": "python",
   "pygments_lexer": "ipython3",
   "version": "3.12.4"
  }
 },
 "nbformat": 4,
 "nbformat_minor": 2
}
