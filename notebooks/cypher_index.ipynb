{
 "cells": [
  {
   "cell_type": "markdown",
   "metadata": {},
   "source": [
    "# Cypher index development\n",
    "\n",
    "This part of the research will focus on experiments with fulltext index and vector index on BAAI embeddings.\n",
    "We aim to perform preliminary analysis on the performance of each index and use these learnings for further development."
   ]
  },
  {
   "cell_type": "markdown",
   "metadata": {},
   "source": [
    "## Tools"
   ]
  },
  {
   "cell_type": "code",
   "execution_count": 705,
   "metadata": {},
   "outputs": [],
   "source": [
    "import pandas as pd\n",
    "import re\n",
    "import matplotlib.pyplot as plt\n",
    "import seaborn as sns\n",
    "import numpy as np\n",
    "import json\n",
    "from IPython.display import SVG, display\n",
    "\n",
    "from llama_index.embeddings.huggingface import HuggingFaceEmbedding\n",
    "\n",
    "from utils.generic import get_driver, Models\n",
    "from utils.evalutation import partial_match, custom_accuracy, mrr_score, hits_at_n_score"
   ]
  },
  {
   "cell_type": "code",
   "execution_count": 89,
   "metadata": {},
   "outputs": [],
   "source": [
    "driver = get_driver()"
   ]
  },
  {
   "cell_type": "markdown",
   "metadata": {},
   "source": [
    "## Baseline: fulltext index search"
   ]
  },
  {
   "cell_type": "markdown",
   "metadata": {},
   "source": [
    "Before running any complex experiments, we need a baseline to compare to. We believe a simple search by a keyword can be used as a baseline.\n",
    "We will need to create a fulltext index on our knowledge graph - and then run it on the whole dataset."
   ]
  },
  {
   "cell_type": "code",
   "execution_count": 3,
   "metadata": {},
   "outputs": [],
   "source": [
    "create_fulltext_inde_query = \"\"\"\n",
    "    CREATE FULLTEXT INDEX diseaseIndex FOR (n:Disease) ON EACH [n.DiseaseName, n.Synonyms]\n",
    "    OPTIONS {\n",
    "        indexConfig: {\n",
    "            `fulltext.analyzer`: 'english',\n",
    "            `fulltext.eventually_consistent`: true\n",
    "        }\n",
    "    }\n",
    "\"\"\""
   ]
  },
  {
   "cell_type": "code",
   "execution_count": 7,
   "metadata": {},
   "outputs": [],
   "source": [
    "with driver.session() as session:\n",
    "    session.run(create_fulltext_inde_query)"
   ]
  },
  {
   "cell_type": "code",
   "execution_count": 202,
   "metadata": {},
   "outputs": [],
   "source": [
    "df = pd.read_csv('../data/processed/ncbi_specific_disease.csv', sep=',')"
   ]
  },
  {
   "cell_type": "code",
   "execution_count": 512,
   "metadata": {},
   "outputs": [],
   "source": [
    "def fulltext_search(disease_name, limit=1):\n",
    "    with driver.session() as session:\n",
    "        query = \"\"\"\n",
    "            CALL db.index.fulltext.queryNodes('diseaseIndex', $disease_name)\n",
    "            YIELD node, score\n",
    "            RETURN node.DiseaseID AS MESH_ID, node.AltDiseaseIDs as AltDiseaseIDs, node.DiseaseName AS Description, node.Synonyms AS Synonyms, score\n",
    "            LIMIT $limit\n",
    "        \"\"\"\n",
    "        result = session.run(query, disease_name=disease_name, limit=limit)\n",
    "\n",
    "        return [{\n",
    "            'MESH_ID': record['MESH_ID'],\n",
    "            'Description': record['Description'],\n",
    "            'Synonyms': record['Synonyms'],\n",
    "            'AltDiseaseIDs': record['AltDiseaseIDs'],\n",
    "            'score': record['score']} for record in result\n",
    "        ]"
   ]
  },
  {
   "cell_type": "markdown",
   "metadata": {},
   "source": [
    "The presence of special characters in the search string will be causing issues with the Lucene query parser used by Neo4j's fulltext search. In order to make it work, we will escape them in the search query using a regexp."
   ]
  },
  {
   "cell_type": "code",
   "execution_count": 513,
   "metadata": {},
   "outputs": [],
   "source": [
    "def predict_with_fulltext_index(dataset, limit=1):\n",
    "    true_values = []\n",
    "    predicted_values = []\n",
    "\n",
    "    for _, row in dataset.iterrows():\n",
    "        disease_name = row['Description']\n",
    "        true_mesh_id = row['MESH ID']\n",
    "\n",
    "        disease_name_re = re.sub('[^A-Za-z0-9 ]+', '', disease_name)\n",
    "        \n",
    "        predicted_ids = fulltext_search(disease_name_re, limit)\n",
    "        \n",
    "        true_values.append({\"MESH_ID\": true_mesh_id, \"Description\": disease_name})\n",
    "        predicted_values.append(predicted_ids if len(predicted_ids) > 0 else [{\"MESH_ID\": \"Unknown\", \"AltDiseaseIDs\": \"Unknown\", \"Description\": \"Unknown\"}])\n",
    "\n",
    "    return true_values, predicted_values"
   ]
  },
  {
   "cell_type": "code",
   "execution_count": 514,
   "metadata": {},
   "outputs": [],
   "source": [
    "[true_values, predicted_values] = predict_with_fulltext_index(df)"
   ]
  },
  {
   "cell_type": "markdown",
   "metadata": {},
   "source": [
    "And now we can calculate the performance. However, we know that \"MESH_ID\" field can be either one ID (\"MESH:1234\") or two IDs (\"MESH:1234|MESH:5678\"), and vise verse the predicted values can be the same. We will treat partial match as a correct prediction, e.g. if the true label is \"MESH:1234|MESH:5678\" and predicted label is \"MESH:1234\" - this should be treated as correct. We have written a custom function for that."
   ]
  },
  {
   "cell_type": "code",
   "execution_count": 337,
   "metadata": {},
   "outputs": [
    {
     "data": {
      "text/plain": [
       "0.52520366598778"
      ]
     },
     "execution_count": 337,
     "metadata": {},
     "output_type": "execute_result"
    }
   ],
   "source": [
    "custom_accuracy(true_values=true_values, predicted_values=predicted_values)"
   ]
  },
  {
   "cell_type": "markdown",
   "metadata": {},
   "source": [
    "This is a baseline performance that we will take into account when developing further experiments. However, accuracy alone won't be sufficient to truly measure the performance of our system. Additionally to accuracy, we will be relying on MRR (Mean Reciprocal Rank) and Hits@N, which are commonly used in information retrieval and ranking tasks, making them well-suited for evaluating an entity linking system with a knowledge graph. MRR is the average of the reciprocal ranks of results for a set of queries. The reciprocal rank is the multiplicative inverse of the rank of the first correct answer. Hits@N measures the proportion of queries for which the correct entity is found within the top N ranked positions."
   ]
  },
  {
   "cell_type": "markdown",
   "metadata": {},
   "source": [
    "## Vector index: on DiseaseName prop"
   ]
  },
  {
   "cell_type": "markdown",
   "metadata": {},
   "source": [
    "A vector index is a single-label, single-property index for nodes or a single-relationship-type, single-property index for relationships, and it can be used to index nodes or relationships by LIST<INTEGER | FLOAT> properties valid to the dimensions and vector similarity function of the index. We will start with creating a vector index for `DiseaseName` prop on `DiseaseEmbedding-BAAI-bge-small-en-v1_5` embedding and run it on the dataset with embedded `DiseaseName` property."
   ]
  },
  {
   "cell_type": "code",
   "execution_count": 1,
   "metadata": {},
   "outputs": [],
   "source": [
    "create_vector_index_query = \"\"\"\n",
    "    CREATE VECTOR INDEX baaiVectorIndex IF NOT EXISTS\n",
    "    FOR (d:Disease)\n",
    "    ON d.`DiseaseEmbedding-BAAI-bge-small-en-v1_5`\n",
    "    OPTIONS {\n",
    "        indexConfig: {\n",
    "            `vector.dimensions`: 384,\n",
    "            `vector.similarity_function`: 'cosine'\n",
    "        }\n",
    "    }\n",
    "\"\"\""
   ]
  },
  {
   "cell_type": "code",
   "execution_count": 5,
   "metadata": {},
   "outputs": [],
   "source": [
    "with driver.session() as session:\n",
    "    session.run(create_vector_index_query)"
   ]
  },
  {
   "cell_type": "markdown",
   "metadata": {},
   "source": [
    "Now that we have our vector index, let us write functions to retrieve from it."
   ]
  },
  {
   "cell_type": "code",
   "execution_count": 204,
   "metadata": {},
   "outputs": [
    {
     "name": "stderr",
     "output_type": "stream",
     "text": [
      "/Users/yuliana.romaniv/University/AstraZeneca/test-rag/venv/lib/python3.12/site-packages/huggingface_hub/file_download.py:1132: FutureWarning: `resume_download` is deprecated and will be removed in version 1.0.0. Downloads always resume when possible. If you want to force a new download, use `force_download=True`.\n",
      "  warnings.warn(\n"
     ]
    }
   ],
   "source": [
    "embed_model = HuggingFaceEmbedding(model_name=Models.BAAI_BGE_SMALL_EN_V1_5.value)"
   ]
  },
  {
   "cell_type": "code",
   "execution_count": 471,
   "metadata": {},
   "outputs": [],
   "source": [
    "baai_vector_index_query = \"\"\"\n",
    "    CALL db.index.vector.queryNodes('baaiVectorIndex', $limit, $disease_name)\n",
    "    YIELD node AS disease, score\n",
    "    RETURN disease.DiseaseName AS Description, disease.DiseaseID AS MESH_ID, disease.AltDiseaseIDs AS AltDiseaseIDs, disease.Synonyms AS Synonyms, score\n",
    "\"\"\""
   ]
  },
  {
   "cell_type": "code",
   "execution_count": 472,
   "metadata": {},
   "outputs": [],
   "source": [
    "def vector_index_search(query, disease_name, limit=1, threshold=0.95):\n",
    "    with driver.session() as session:\n",
    "        result = session.run(query, disease_name=disease_name, limit=limit, threshold=threshold)\n",
    "\n",
    "        return [{\n",
    "            'MESH_ID': record['MESH_ID'],\n",
    "            'Description': record['Description'],\n",
    "            'Synonyms': record['Synonyms'],\n",
    "            'AltDiseaseIDs': record['AltDiseaseIDs'],\n",
    "            'score': record['score']} for record in result\n",
    "        ]"
   ]
  },
  {
   "cell_type": "code",
   "execution_count": 190,
   "metadata": {},
   "outputs": [],
   "source": [
    "test_name = embed_model.get_text_embedding('Hereditary deficiency of the fifth component of complement') # should match OMIM:609536\n",
    "test_vector_search_res = vector_index_search(baai_vector_index_query, test_name, limit=1)"
   ]
  },
  {
   "cell_type": "code",
   "execution_count": 191,
   "metadata": {},
   "outputs": [
    {
     "data": {
      "text/plain": [
       "[{'MESH_ID': 'MESH:C537005',\n",
       "  'Description': 'Complement component 5 deficiency',\n",
       "  'AltDiseaseIDs': 'DO:DOID:8158|OMIM:609536',\n",
       "  'score': 0.9679043292999268}]"
      ]
     },
     "execution_count": 191,
     "metadata": {},
     "output_type": "execute_result"
    }
   ],
   "source": [
    "test_vector_search_res"
   ]
  },
  {
   "cell_type": "markdown",
   "metadata": {},
   "source": [
    "Since we're going to be using the disease name embeddings for queries, it's worth saving them to the dataset for better performance."
   ]
  },
  {
   "cell_type": "code",
   "execution_count": 206,
   "metadata": {},
   "outputs": [],
   "source": [
    "df['DiseaseEmbedding-BAAI-bge-small-en-v1_5'] = df['Description'].apply(lambda text: embed_model.get_text_embedding(text))"
   ]
  },
  {
   "cell_type": "code",
   "execution_count": 207,
   "metadata": {},
   "outputs": [
    {
     "data": {
      "text/html": [
       "<div>\n",
       "<style scoped>\n",
       "    .dataframe tbody tr th:only-of-type {\n",
       "        vertical-align: middle;\n",
       "    }\n",
       "\n",
       "    .dataframe tbody tr th {\n",
       "        vertical-align: top;\n",
       "    }\n",
       "\n",
       "    .dataframe thead th {\n",
       "        text-align: right;\n",
       "    }\n",
       "</style>\n",
       "<table border=\"1\" class=\"dataframe\">\n",
       "  <thead>\n",
       "    <tr style=\"text-align: right;\">\n",
       "      <th></th>\n",
       "      <th>ID</th>\n",
       "      <th>Start</th>\n",
       "      <th>End</th>\n",
       "      <th>Description</th>\n",
       "      <th>Type</th>\n",
       "      <th>MESH ID</th>\n",
       "      <th>DiseaseEmbedding-BAAI-bge-small-en-v1_5</th>\n",
       "    </tr>\n",
       "  </thead>\n",
       "  <tbody>\n",
       "    <tr>\n",
       "      <th>0</th>\n",
       "      <td>8808605</td>\n",
       "      <td>376</td>\n",
       "      <td>427</td>\n",
       "      <td>glucose-6-phosphate dehydrogenase (G6PD) defic...</td>\n",
       "      <td>SpecificDisease</td>\n",
       "      <td>MESH:D005955</td>\n",
       "      <td>[-0.004877162165939808, -0.003928985446691513,...</td>\n",
       "    </tr>\n",
       "    <tr>\n",
       "      <th>1</th>\n",
       "      <td>8808605</td>\n",
       "      <td>572</td>\n",
       "      <td>611</td>\n",
       "      <td>chronic nonspherocytic hemolytic anemia</td>\n",
       "      <td>SpecificDisease</td>\n",
       "      <td>MESH:D000746</td>\n",
       "      <td>[-0.08520334213972092, 0.050464704632759094, -...</td>\n",
       "    </tr>\n",
       "    <tr>\n",
       "      <th>2</th>\n",
       "      <td>8808605</td>\n",
       "      <td>677</td>\n",
       "      <td>692</td>\n",
       "      <td>G6PD deficiency</td>\n",
       "      <td>SpecificDisease</td>\n",
       "      <td>MESH:D005955</td>\n",
       "      <td>[0.008812346495687962, -0.038349658250808716, ...</td>\n",
       "    </tr>\n",
       "    <tr>\n",
       "      <th>3</th>\n",
       "      <td>8808605</td>\n",
       "      <td>1368</td>\n",
       "      <td>1383</td>\n",
       "      <td>G6PD deficiency</td>\n",
       "      <td>SpecificDisease</td>\n",
       "      <td>MESH:D005955</td>\n",
       "      <td>[0.008812346495687962, -0.038349658250808716, ...</td>\n",
       "    </tr>\n",
       "    <tr>\n",
       "      <th>4</th>\n",
       "      <td>9012409</td>\n",
       "      <td>112</td>\n",
       "      <td>149</td>\n",
       "      <td>Duarte enzyme variant of galactosemia</td>\n",
       "      <td>SpecificDisease</td>\n",
       "      <td>MESH:D005693</td>\n",
       "      <td>[-0.062161244451999664, -0.027829371392726898,...</td>\n",
       "    </tr>\n",
       "  </tbody>\n",
       "</table>\n",
       "</div>"
      ],
      "text/plain": [
       "        ID  Start   End                                        Description  \\\n",
       "0  8808605    376   427  glucose-6-phosphate dehydrogenase (G6PD) defic...   \n",
       "1  8808605    572   611            chronic nonspherocytic hemolytic anemia   \n",
       "2  8808605    677   692                                    G6PD deficiency   \n",
       "3  8808605   1368  1383                                    G6PD deficiency   \n",
       "4  9012409    112   149              Duarte enzyme variant of galactosemia   \n",
       "\n",
       "              Type       MESH ID  \\\n",
       "0  SpecificDisease  MESH:D005955   \n",
       "1  SpecificDisease  MESH:D000746   \n",
       "2  SpecificDisease  MESH:D005955   \n",
       "3  SpecificDisease  MESH:D005955   \n",
       "4  SpecificDisease  MESH:D005693   \n",
       "\n",
       "             DiseaseEmbedding-BAAI-bge-small-en-v1_5  \n",
       "0  [-0.004877162165939808, -0.003928985446691513,...  \n",
       "1  [-0.08520334213972092, 0.050464704632759094, -...  \n",
       "2  [0.008812346495687962, -0.038349658250808716, ...  \n",
       "3  [0.008812346495687962, -0.038349658250808716, ...  \n",
       "4  [-0.062161244451999664, -0.027829371392726898,...  "
      ]
     },
     "execution_count": 207,
     "metadata": {},
     "output_type": "execute_result"
    }
   ],
   "source": [
    "df.head()"
   ]
  },
  {
   "cell_type": "code",
   "execution_count": 208,
   "metadata": {},
   "outputs": [],
   "source": [
    "df.to_csv('../data/processed/ncbi_specific_disease.csv', sep=',')"
   ]
  },
  {
   "cell_type": "markdown",
   "metadata": {},
   "source": [
    "Now we can define a function for searching with vector index."
   ]
  },
  {
   "cell_type": "code",
   "execution_count": 473,
   "metadata": {},
   "outputs": [],
   "source": [
    "def predict_with_vector_index(query, dataset, embedding_model_name, limit=1, threshold=0.95):\n",
    "    disease_name_col = f\"DiseaseEmbedding-{embedding_model_name.replace('.', '_').replace('/', '-')}\"\n",
    "    true_values = []\n",
    "    predicted_values = []\n",
    "\n",
    "    for _, row in dataset.iterrows():\n",
    "        disease_name = row['Description']\n",
    "        true_id = row['MESH ID']\n",
    "        disease_name_embedding = row[disease_name_col]\n",
    "        \n",
    "        predicted_mesh_id = vector_index_search(query, disease_name_embedding, limit, threshold)\n",
    "        \n",
    "        true_values.append({\"MESH_ID\": true_id, \"Description\": disease_name})\n",
    "        predicted_values.append(predicted_mesh_id if len(predicted_mesh_id) > 0 \n",
    "                                else [{\"MESH_ID\": \"Unknown\", \"Description\": \"Unknown\", \"Synonyms\": \"Unknown\", \"AltDiseaseIDs\": \"Unknown\"}])\n",
    "\n",
    "    return true_values, predicted_values"
   ]
  },
  {
   "cell_type": "code",
   "execution_count": 507,
   "metadata": {},
   "outputs": [],
   "source": [
    "[true_values_vector, predicted_values_vector] = predict_with_vector_index(query=baai_vector_index_query, dataset=df, embedding_model_name=Models.BAAI_BGE_SMALL_EN_V1_5.value, limit=1)"
   ]
  },
  {
   "cell_type": "code",
   "execution_count": 339,
   "metadata": {},
   "outputs": [
    {
     "data": {
      "text/plain": [
       "0.38391038696537677"
      ]
     },
     "execution_count": 339,
     "metadata": {},
     "output_type": "execute_result"
    }
   ],
   "source": [
    "custom_accuracy(true_values=true_values_vector, predicted_values=predicted_values_vector)"
   ]
  },
  {
   "cell_type": "markdown",
   "metadata": {},
   "source": [
    "## Preliminary results analysis"
   ]
  },
  {
   "cell_type": "markdown",
   "metadata": {},
   "source": [
    "Having conducted search via two different methods, we can try to compare their performance and continue developing more sophisticated methods.\n",
    "We were relying on the correct prediction of the Disease ID, however let us have a look at the predicted values more closely. We will choose a random slice for analysis."
   ]
  },
  {
   "cell_type": "code",
   "execution_count": 199,
   "metadata": {},
   "outputs": [
    {
     "data": {
      "text/plain": [
       "[{'MESH_ID': 'OMIM:612446|OMIM:610102',\n",
       "  'Description': 'combined subtotal deficiencies of C6 and C7'},\n",
       " {'MESH_ID': 'OMIM:612446|OMIM:610102',\n",
       "  'Description': 'Combined subtotal deficiency of C6 and C7'},\n",
       " {'MESH_ID': 'MESH:D001943', 'Description': 'breast cancer'},\n",
       " {'MESH_ID': 'MESH:D001943', 'Description': 'breast cancer'},\n",
       " {'MESH_ID': 'MESH:D001943', 'Description': 'breast carcinomas'}]"
      ]
     },
     "execution_count": 199,
     "metadata": {},
     "output_type": "execute_result"
    }
   ],
   "source": [
    "true_values[270:275]"
   ]
  },
  {
   "cell_type": "code",
   "execution_count": 200,
   "metadata": {},
   "outputs": [
    {
     "data": {
      "text/plain": [
       "[[{'MESH_ID': 'MESH:C567308',\n",
       "   'AltDiseaseIDs': nan,\n",
       "   'Description': 'C6 Deficiency, Subtotal',\n",
       "   'score': 17.659700393676758}],\n",
       " [{'MESH_ID': 'MESH:C567308',\n",
       "   'AltDiseaseIDs': nan,\n",
       "   'Description': 'C6 Deficiency, Subtotal',\n",
       "   'score': 17.659700393676758}],\n",
       " [{'MESH_ID': 'MESH:D000072656',\n",
       "   'AltDiseaseIDs': nan,\n",
       "   'Description': 'Breast Cancer Lymphedema',\n",
       "   'score': 13.135173797607422}],\n",
       " [{'MESH_ID': 'MESH:D000072656',\n",
       "   'AltDiseaseIDs': nan,\n",
       "   'Description': 'Breast Cancer Lymphedema',\n",
       "   'score': 13.135173797607422}],\n",
       " [{'MESH_ID': 'MESH:D018270',\n",
       "   'AltDiseaseIDs': 'DO:DOID:3008',\n",
       "   'Description': 'Carcinoma, Ductal, Breast',\n",
       "   'score': 12.872967720031738}]]"
      ]
     },
     "execution_count": 200,
     "metadata": {},
     "output_type": "execute_result"
    }
   ],
   "source": [
    "predicted_values[270:275]"
   ]
  },
  {
   "cell_type": "code",
   "execution_count": 194,
   "metadata": {},
   "outputs": [
    {
     "data": {
      "text/plain": [
       "[[{'MESH_ID': 'OMIM:613559',\n",
       "   'Description': 'COMBINED OXIDATIVE PHOSPHORYLATION DEFICIENCY 7',\n",
       "   'AltDiseaseIDs': 'DO:DOID:0111487',\n",
       "   'score': 0.898398756980896}],\n",
       " [{'MESH_ID': 'MESH:C565374',\n",
       "   'Description': 'Molybdenum Cofactor Deficiency, Complementation Group C',\n",
       "   'AltDiseaseIDs': 'DO:DOID:0111166|OMIM:615501',\n",
       "   'score': 0.904615044593811}],\n",
       " [{'MESH_ID': 'MESH:C565336',\n",
       "   'Description': 'Breast Cancer 3',\n",
       "   'AltDiseaseIDs': nan,\n",
       "   'score': 0.9277100563049316}],\n",
       " [{'MESH_ID': 'MESH:C565336',\n",
       "   'Description': 'Breast Cancer 3',\n",
       "   'AltDiseaseIDs': nan,\n",
       "   'score': 0.9277100563049316}],\n",
       " [{'MESH_ID': 'MESH:D001943',\n",
       "   'Description': 'Breast Neoplasms',\n",
       "   'AltDiseaseIDs': 'DO:DOID:1612|DO:DOID:3459|OMIM:114480',\n",
       "   'score': 0.9347741603851318}]]"
      ]
     },
     "execution_count": 194,
     "metadata": {},
     "output_type": "execute_result"
    }
   ],
   "source": [
    "predicted_values_vector[270:275]"
   ]
  },
  {
   "cell_type": "markdown",
   "metadata": {},
   "source": [
    "\"combined subtotal deficiencies of C6 and C7\" is marked in our dataset as a combination of two diseases - \"OMIM:612446\" and \"OMIM:610102\". From the data processing step we know that these IDs must be present in the knowledge graph, so let us try to identify them."
   ]
  },
  {
   "cell_type": "code",
   "execution_count": 249,
   "metadata": {},
   "outputs": [],
   "source": [
    "def get_disease_by_id(disease_id):\n",
    "    query = \"\"\"\n",
    "        OPTIONAL MATCH (d:Disease)\n",
    "        WHERE (d.DiseaseID IS NOT NULL AND ANY(id IN SPLIT(toString(d.DiseaseID), '|') WHERE id = $disease_id))\n",
    "        OR (d.AltDiseaseIDs IS NOT NULL AND ANY(altId IN SPLIT(toString(d.AltDiseaseIDs), '|') WHERE altId = $disease_id))\n",
    "        RETURN d.DiseaseName AS DiseaseName, d.DiseaseID AS DiseaseID, d.AltDiseaseIDs AS AltDiseaseIDs, d.Synonyms AS Synonyms\n",
    "    \"\"\"\n",
    "\n",
    "    with driver.session() as session:\n",
    "        result = session.run(query, disease_id=disease_id)\n",
    "\n",
    "        return [{\n",
    "            'DiseaseID': record['DiseaseID'],\n",
    "            'DiseaseName': record['DiseaseName'],\n",
    "            'AltDiseaseIDs': record['AltDiseaseIDs'],\n",
    "            'Synonyms': record['Synonyms']\n",
    "        } for record in result]"
   ]
  },
  {
   "cell_type": "code",
   "execution_count": 250,
   "metadata": {},
   "outputs": [
    {
     "data": {
      "text/plain": [
       "[{'DiseaseID': 'MESH:C567307',\n",
       "  'DiseaseName': 'Complement Component 6 Deficiency',\n",
       "  'AltDiseaseIDs': 'DO:DOID:0060299|OMIM:612446',\n",
       "  'Synonyms': 'C6D|C6 Deficiency|C6 DEFICIENCY COMPLEMENT COMPONENT 6 DEFICIENCY, SUBTOTAL, INCLUDED|C6 DEFICIENCY, SUBTOTAL, INCLUDED'}]"
      ]
     },
     "execution_count": 250,
     "metadata": {},
     "output_type": "execute_result"
    }
   ],
   "source": [
    "get_disease_by_id(\"OMIM:612446\")"
   ]
  },
  {
   "cell_type": "code",
   "execution_count": 251,
   "metadata": {},
   "outputs": [
    {
     "data": {
      "text/plain": [
       "[{'DiseaseID': 'MESH:C566443',\n",
       "  'DiseaseName': 'Complement Component 7 Deficiency',\n",
       "  'AltDiseaseIDs': 'DO:DOID:0060300|OMIM:610102',\n",
       "  'Synonyms': 'C7D|C7 Deficiency'}]"
      ]
     },
     "execution_count": 251,
     "metadata": {},
     "output_type": "execute_result"
    }
   ],
   "source": [
    "get_disease_by_id(\"OMIM:610102\")"
   ]
  },
  {
   "cell_type": "markdown",
   "metadata": {},
   "source": [
    "Let us try to find them in a hierarchy of diseases.\n",
    "NB: We are using Neo4J Desktop application to browse the knowledge graph manually."
   ]
  },
  {
   "cell_type": "code",
   "execution_count": 228,
   "metadata": {},
   "outputs": [
    {
     "data": {
      "image/svg+xml": [
       "<svg xmlns=\"http://www.w3.org/2000/svg\" width=\"740.061279296875\" height=\"468.2431640625\" viewBox=\"-348.5627136230469 -251.67286682128906 740.061279296875 468.2431640625\"><title>Neo4j Graph Visualization</title><desc>Created using Neo4j (http://www.neo4j.com/)</desc><g class=\"layer relationships\"><g class=\"relationship\" transform=\"translate(362.49852752685547 -41.78704638707768) rotate(535.9016408380483)\"><path class=\"b-outline\" fill=\"#A5ABB6\" stroke=\"none\" d=\"M 25 0.5 L 202.32580086593242 0.5 L 202.32580086593242 -0.5 L 25 -0.5 Z M 288.9468946159324 0.5 L 466.27269548186484 0.5 L 466.27269548186484 3.5 L 473.27269548186484 0 L 466.27269548186484 -3.5 L 466.27269548186484 -0.5 L 288.9468946159324 -0.5 Z\"/><text text-anchor=\"middle\" pointer-events=\"none\" font-size=\"8px\" fill=\"#000000\" x=\"245.63634774093242\" y=\"3\" transform=\"rotate(180 245.63634774093242 0)\" font-family=\"Helvetica Neue, Helvetica, Arial, sans-serif\">SUB_CATEGORY_OF</text></g><g class=\"relationship\" transform=\"translate(-299.9045032738922 27.952046137420123) rotate(348.3416996891956)\"><path class=\"b-outline\" fill=\"#A5ABB6\" stroke=\"none\" d=\"M 25 0.5 L 37.633779457261326 0.5 L 37.633779457261326 -0.5 L 25 -0.5 Z M 124.25487320726133 0.5 L 136.88865266452265 0.5 L 136.88865266452265 3.5 L 143.88865266452265 0 L 136.88865266452265 -3.5 L 136.88865266452265 -0.5 L 124.25487320726133 -0.5 Z\"/><text text-anchor=\"middle\" pointer-events=\"none\" font-size=\"8px\" fill=\"#000000\" x=\"80.94432633226133\" y=\"3\" font-family=\"Helvetica Neue, Helvetica, Arial, sans-serif\">SUB_CATEGORY_OF</text></g><g class=\"relationship\" transform=\"translate(-251.84354068539525 113.82860611475203) rotate(314.3576332715245)\"><path class=\"b-outline\" fill=\"#A5ABB6\" stroke=\"none\" d=\"M 25 0.5 L 37.10998884044287 0.5 L 37.10998884044287 -0.5 L 25 -0.5 Z M 123.73108259044287 0.5 L 135.84107143088573 0.5 L 135.84107143088573 3.5 L 142.84107143088573 0 L 135.84107143088573 -3.5 L 135.84107143088573 -0.5 L 123.73108259044287 -0.5 Z\"/><text text-anchor=\"middle\" pointer-events=\"none\" font-size=\"8px\" fill=\"#000000\" x=\"80.42053571544287\" y=\"3\" font-family=\"Helvetica Neue, Helvetica, Arial, sans-serif\">SUB_CATEGORY_OF</text></g><g class=\"relationship\" transform=\"translate(-185.16216380295413 187.57032483769936) rotate(284.65399247357055)\"><path class=\"b-outline\" fill=\"#A5ABB6\" stroke=\"none\" d=\"M 25 0.5 L 53.3197614594158 0.5 L 53.3197614594158 -0.5 L 25 -0.5 Z M 139.94085520941582 0.5 L 168.2606166688316 0.5 L 168.2606166688316 3.5 L 175.2606166688316 0 L 168.2606166688316 -3.5 L 168.2606166688316 -0.5 L 139.94085520941582 -0.5 Z\"/><text text-anchor=\"middle\" pointer-events=\"none\" font-size=\"8px\" fill=\"#000000\" x=\"96.6303083344158\" y=\"3\" font-family=\"Helvetica Neue, Helvetica, Arial, sans-serif\">SUB_CATEGORY_OF</text></g><g class=\"relationship\" transform=\"translate(-88.0687065460204 167.62595424761972) rotate(255.0427048484563)\"><path class=\"b-outline\" fill=\"#A5ABB6\" stroke=\"none\" d=\"M 25 0.5 L 43.138054382374904 0.5 L 43.138054382374904 -0.5 L 25 -0.5 Z M 129.7591481323749 0.5 L 147.8972025147498 0.5 L 147.8972025147498 3.5 L 154.8972025147498 0 L 147.8972025147498 -3.5 L 147.8972025147498 -0.5 L 129.7591481323749 -0.5 Z\"/><text text-anchor=\"middle\" pointer-events=\"none\" font-size=\"8px\" fill=\"#000000\" x=\"86.4486012573749\" y=\"3\" transform=\"rotate(180 86.4486012573749 0)\" font-family=\"Helvetica Neue, Helvetica, Arial, sans-serif\">SUB_CATEGORY_OF</text></g><g class=\"relationship\" transform=\"translate(8.271021434472312 145.27929484154592) rotate(226.6906402804284)\"><path class=\"b-outline\" fill=\"#A5ABB6\" stroke=\"none\" d=\"M 25 0.5 L 57.25948674892649 0.5 L 57.25948674892649 -0.5 L 25 -0.5 Z M 143.8805804989265 0.5 L 176.14006724785298 0.5 L 176.14006724785298 3.5 L 183.14006724785298 0 L 176.14006724785298 -3.5 L 176.14006724785298 -0.5 L 143.8805804989265 -0.5 Z\"/><text text-anchor=\"middle\" pointer-events=\"none\" font-size=\"8px\" fill=\"#000000\" x=\"100.57003362392649\" y=\"3\" transform=\"rotate(180 100.57003362392649 0)\" font-family=\"Helvetica Neue, Helvetica, Arial, sans-serif\">SUB_CATEGORY_OF</text></g><g class=\"relationship\" transform=\"translate(-56.2942341324728 73.80253562762455) rotate(225.6421060417598)\"><path class=\"b-outline\" fill=\"#A5ABB6\" stroke=\"none\" d=\"M 25 0.5 L 27.275830947979117 0.5 L 27.275830947979117 -0.5 L 25 -0.5 Z M 77.58442469797912 0.5 L 79.86025564595823 0.5 L 79.86025564595823 3.5 L 86.86025564595823 0 L 79.86025564595823 -3.5 L 79.86025564595823 -0.5 L 77.58442469797912 -0.5 Z\"/><text text-anchor=\"middle\" pointer-events=\"none\" font-size=\"8px\" fill=\"#000000\" x=\"52.43012782297912\" y=\"3\" transform=\"rotate(180 52.43012782297912 0)\" font-family=\"Helvetica Neue, Helvetica, Arial, sans-serif\">SUB_CAT…</text></g><g class=\"relationship\" transform=\"translate(38.9041935822248 51.31327537907034) rotate(198.34209750991118)\"><path class=\"b-outline\" fill=\"#A5ABB6\" stroke=\"none\" d=\"M 25 0.5 L 44.5322654767826 0.5 L 44.5322654767826 -0.5 L 25 -0.5 Z M 131.15335922678258 0.5 L 150.6856247035652 0.5 L 150.6856247035652 3.5 L 157.6856247035652 0 L 150.6856247035652 -3.5 L 150.6856247035652 -0.5 L 131.15335922678258 -0.5 Z\"/><text text-anchor=\"middle\" pointer-events=\"none\" font-size=\"8px\" fill=\"#000000\" x=\"87.8428123517826\" y=\"3\" transform=\"rotate(180 87.8428123517826 0)\" font-family=\"Helvetica Neue, Helvetica, Arial, sans-serif\">SUB_CATEGORY_OF</text></g><g class=\"relationship\" transform=\"translate(-26.50249859847474 -22.13251104139919) rotate(531.5954453613633)\"><path class=\"b-outline\" fill=\"#A5ABB6\" stroke=\"none\" d=\"M 25 0.5 L 25.930657083231047 0.5 L 25.930657083231047 -0.5 L 25 -0.5 Z M 76.23925083323104 0.5 L 77.1699079164621 0.5 L 77.1699079164621 3.5 L 84.1699079164621 0 L 77.1699079164621 -3.5 L 77.1699079164621 -0.5 L 76.23925083323104 -0.5 Z\"/><text text-anchor=\"middle\" pointer-events=\"none\" font-size=\"8px\" fill=\"#000000\" x=\"51.08495395823105\" y=\"3\" transform=\"rotate(180 51.08495395823105 0)\" font-family=\"Helvetica Neue, Helvetica, Arial, sans-serif\">SUB_CAT…</text></g><g class=\"relationship\" transform=\"translate(309.22606557275583 -222.67286894435034) rotate(513.9919528655086)\"><path class=\"b-outline\" fill=\"#A5ABB6\" stroke=\"none\" d=\"M 25 0.5 L 200.0516067978667 0.5 L 200.0516067978667 -0.5 L 25 -0.5 Z M 286.6727005478667 0.5 L 461.7243073457334 0.5 L 461.7243073457334 3.5 L 468.7243073457334 0 L 461.7243073457334 -3.5 L 461.7243073457334 -0.5 L 286.6727005478667 -0.5 Z\"/><text text-anchor=\"middle\" pointer-events=\"none\" font-size=\"8px\" fill=\"#000000\" x=\"243.3621536728667\" y=\"3\" transform=\"rotate(180 243.3621536728667 0)\" font-family=\"Helvetica Neue, Helvetica, Arial, sans-serif\">SUB_CATEGORY_OF</text></g><g class=\"relationship\" transform=\"translate(67.51319102234734 -43.8281542890385) rotate(529.442107768635)\"><path class=\"b-outline\" fill=\"#A5ABB6\" stroke=\"none\" d=\"M 25 0.5 L 55.93551134469068 0.5 L 55.93551134469068 -0.5 L 25 -0.5 Z M 142.55660509469067 0.5 L 173.49211643938136 0.5 L 173.49211643938136 3.5 L 180.49211643938136 0 L 173.49211643938136 -3.5 L 173.49211643938136 -0.5 L 142.55660509469067 -0.5 Z\"/><text text-anchor=\"middle\" pointer-events=\"none\" font-size=\"8px\" fill=\"#000000\" x=\"99.24605821969068\" y=\"3\" transform=\"rotate(180 99.24605821969068 0)\" font-family=\"Helvetica Neue, Helvetica, Arial, sans-serif\">SUB_CATEGORY_OF</text></g><g class=\"relationship\" transform=\"translate(2.3314826163149704 -116.68185219948053) rotate(501.0754820126286)\"><path class=\"b-outline\" fill=\"#A5ABB6\" stroke=\"none\" d=\"M 25 0.5 L 41.130322211517466 0.5 L 41.130322211517466 -0.5 L 25 -0.5 Z M 127.75141596151747 0.5 L 143.88173817303493 0.5 L 143.88173817303493 3.5 L 150.88173817303493 0 L 143.88173817303493 -3.5 L 143.88173817303493 -0.5 L 127.75141596151747 -0.5 Z\"/><text text-anchor=\"middle\" pointer-events=\"none\" font-size=\"8px\" fill=\"#000000\" x=\"84.44086908651747\" y=\"3\" transform=\"rotate(180 84.44086908651747 0)\" font-family=\"Helvetica Neue, Helvetica, Arial, sans-serif\">SUB_CATEGORY_OF</text></g><g class=\"relationship\" transform=\"translate(-77.62531690576972 -174.38962160747707) rotate(468.68090761011683)\"><path class=\"b-outline\" fill=\"#A5ABB6\" stroke=\"none\" d=\"M 25 0.5 L 41.97364868778608 0.5 L 41.97364868778608 -0.5 L 25 -0.5 Z M 128.59474243778607 0.5 L 145.56839112557216 0.5 L 145.56839112557216 3.5 L 152.56839112557216 0 L 145.56839112557216 -3.5 L 145.56839112557216 -0.5 L 128.59474243778607 -0.5 Z\"/><text text-anchor=\"middle\" pointer-events=\"none\" font-size=\"8px\" fill=\"#000000\" x=\"85.28419556278608\" y=\"3\" transform=\"rotate(180 85.28419556278608 0)\" font-family=\"Helvetica Neue, Helvetica, Arial, sans-serif\">SUB_CATEGORY_OF</text></g><g class=\"relationship\" transform=\"translate(-172.84448802362468 -203.45861375582885) rotate(439.0009393824645)\"><path class=\"b-outline\" fill=\"#A5ABB6\" stroke=\"none\" d=\"M 25 0.5 L 53.676650945183496 0.5 L 53.676650945183496 -0.5 L 25 -0.5 Z M 140.2977446951835 0.5 L 168.974395640367 0.5 L 168.974395640367 3.5 L 175.974395640367 0 L 168.974395640367 -3.5 L 168.974395640367 -0.5 L 140.2977446951835 -0.5 Z\"/><text text-anchor=\"middle\" pointer-events=\"none\" font-size=\"8px\" fill=\"#000000\" x=\"96.9871978201835\" y=\"3\" font-family=\"Helvetica Neue, Helvetica, Arial, sans-serif\">SUB_CATEGORY_OF</text></g><g class=\"relationship\" transform=\"translate(-151.91450776318516 -109.51405314590734) rotate(440.4343970070116)\"><path class=\"b-outline\" fill=\"#A5ABB6\" stroke=\"none\" d=\"M 25 0.5 L 25.891676149772145 0.5 L 25.891676149772145 -0.5 L 25 -0.5 Z M 71.90339489977214 0.5 L 72.79507104954429 0.5 L 72.79507104954429 3.5 L 79.79507104954429 0 L 72.79507104954429 -3.5 L 72.79507104954429 -0.5 L 71.90339489977214 -0.5 Z\"/><text text-anchor=\"middle\" pointer-events=\"none\" font-size=\"8px\" fill=\"#000000\" x=\"48.897535524772145\" y=\"3\" font-family=\"Helvetica Neue, Helvetica, Arial, sans-serif\">SUB_CA…</text></g><g class=\"relationship\" transform=\"translate(-134.5 -6.176055121729419) rotate(229.462276513113)\"><path class=\"b-outline\" fill=\"#A5ABB6\" stroke=\"none\" d=\"M 25 0.5 L 39.192998926559 0.5 L 39.192998926559 -0.5 L 25 -0.5 Z M 125.814092676559 0.5 L 140.007091603118 0.5 L 140.007091603118 3.5 L 147.007091603118 0 L 140.007091603118 -3.5 L 140.007091603118 -0.5 L 125.814092676559 -0.5 Z\"/><text text-anchor=\"middle\" pointer-events=\"none\" font-size=\"8px\" fill=\"#000000\" x=\"82.503545801559\" y=\"3\" transform=\"rotate(180 82.503545801559 0)\" font-family=\"Helvetica Neue, Helvetica, Arial, sans-serif\">SUB_CATEGORY_OF</text></g><g class=\"relationship\" transform=\"translate(-154.54220234784626 96.16835452568873) rotate(281.0800673783091)\"><path class=\"b-outline\" fill=\"#A5ABB6\" stroke=\"none\" d=\"M 25 0.5 L 25.63833507901029 0.5 L 25.63833507901029 -0.5 L 25 -0.5 Z M 71.65005382901029 0.5 L 72.28838890802058 0.5 L 72.28838890802058 3.5 L 79.28838890802058 0 L 72.28838890802058 -3.5 L 72.28838890802058 -0.5 L 71.65005382901029 -0.5 Z\"/><text text-anchor=\"middle\" pointer-events=\"none\" font-size=\"8px\" fill=\"#000000\" x=\"48.64419445401029\" y=\"3\" font-family=\"Helvetica Neue, Helvetica, Arial, sans-serif\">SUB_CA…</text></g><g class=\"relationship\" transform=\"translate(-228.23353452155905 -39.76472793540261) rotate(379.7147403073006)\"><path class=\"b-outline\" fill=\"#A5ABB6\" stroke=\"none\" d=\"M 25 0.5 L 25.94708310023232 0.5 L 25.94708310023232 -0.5 L 25 -0.5 Z M 66.62286435023232 0.5 L 67.56994745046464 0.5 L 67.56994745046464 3.5 L 74.56994745046464 0 L 67.56994745046464 -3.5 L 67.56994745046464 -0.5 L 66.62286435023232 -0.5 Z\"/><text text-anchor=\"middle\" pointer-events=\"none\" font-size=\"8px\" fill=\"#000000\" x=\"46.28497372523232\" y=\"3\" font-family=\"Helvetica Neue, Helvetica, Arial, sans-serif\">SUB_C…</text></g><g class=\"relationship\" transform=\"translate(-319.562714590532 -69.13458563553822) rotate(378.78835845144846)\"><path class=\"b-outline\" fill=\"#A5ABB6\" stroke=\"none\" d=\"M 25 0.5 L 50.928883366938294 0.5 L 50.928883366938294 -0.5 L 25 -0.5 Z M 137.5499771169383 0.5 L 163.4788604838766 0.5 L 163.4788604838766 3.5 L 170.4788604838766 0 L 163.4788604838766 -3.5 L 163.4788604838766 -0.5 L 137.5499771169383 -0.5 Z\"/><text text-anchor=\"middle\" pointer-events=\"none\" font-size=\"8px\" fill=\"#000000\" x=\"94.2394302419383\" y=\"3\" font-family=\"Helvetica Neue, Helvetica, Arial, sans-serif\">SUB_CATEGORY_OF</text></g></g><g class=\"layer nodes\"><g class=\"node\" aria-label=\"graph-node2876\" transform=\"translate(362.49852752685547,-41.78704638707768)\"><circle class=\"b-outline\" cx=\"0\" cy=\"0\" r=\"25\" fill=\"#C990C0\" stroke=\"#b261a5\" stroke-width=\"2px\"/><text class=\"caption\" text-anchor=\"middle\" pointer-events=\"none\" x=\"0\" y=\"5\" font-size=\"10px\" fill=\"#FFFFFF\" font-family=\"Helvetica Neue, Helvetica, Arial, sans-serif\"> Comple…</text></g><g class=\"node\" aria-label=\"graph-node5714\" transform=\"translate(-134.5,-6.176055121729419)\"><circle class=\"b-outline\" cx=\"0\" cy=\"0\" r=\"25\" fill=\"#C990C0\" stroke=\"#b261a5\" stroke-width=\"2px\"/><text class=\"caption\" text-anchor=\"middle\" pointer-events=\"none\" x=\"0\" y=\"0\" font-size=\"10px\" fill=\"#FFFFFF\" font-family=\"Helvetica Neue, Helvetica, Arial, sans-serif\"> Hereditary</text><text class=\"caption\" text-anchor=\"middle\" pointer-events=\"none\" x=\"0\" y=\"10\" font-size=\"10px\" fill=\"#FFFFFF\" font-family=\"Helvetica Neue, Helvetica, Arial, sans-serif\"> Compl…</text></g><g class=\"node\" aria-label=\"graph-node723\" transform=\"translate(-299.9045032738922,27.952046137420123)\"><circle class=\"b-outline\" cx=\"0\" cy=\"0\" r=\"25\" fill=\"#C990C0\" stroke=\"#b261a5\" stroke-width=\"2px\"/><text class=\"caption\" text-anchor=\"middle\" pointer-events=\"none\" x=\"0\" y=\"5\" font-size=\"10px\" fill=\"#FFFFFF\" font-family=\"Helvetica Neue, Helvetica, Arial, sans-serif\"> Angioed…</text></g><g class=\"node\" aria-label=\"graph-node1710\" transform=\"translate(-251.84354068539525,113.82860611475203)\"><circle class=\"b-outline\" cx=\"0\" cy=\"0\" r=\"25\" fill=\"#C990C0\" stroke=\"#b261a5\" stroke-width=\"2px\"/><text class=\"caption\" text-anchor=\"middle\" pointer-events=\"none\" x=\"0\" y=\"0\" font-size=\"10px\" fill=\"#FFFFFF\" font-family=\"Helvetica Neue, Helvetica, Arial, sans-serif\"> C6</text><text class=\"caption\" text-anchor=\"middle\" pointer-events=\"none\" x=\"0\" y=\"10\" font-size=\"10px\" fill=\"#FFFFFF\" font-family=\"Helvetica Neue, Helvetica, Arial, sans-serif\"> Defici…</text></g><g class=\"node\" aria-label=\"graph-node1711\" transform=\"translate(-185.16216380295413,187.57032483769936)\"><circle class=\"b-outline\" cx=\"0\" cy=\"0\" r=\"25\" fill=\"#C990C0\" stroke=\"#b261a5\" stroke-width=\"2px\"/><text class=\"caption\" text-anchor=\"middle\" pointer-events=\"none\" x=\"0\" y=\"0\" font-size=\"10px\" fill=\"#FFFFFF\" font-family=\"Helvetica Neue, Helvetica, Arial, sans-serif\"> C9</text><text class=\"caption\" text-anchor=\"middle\" pointer-events=\"none\" x=\"0\" y=\"10\" font-size=\"10px\" fill=\"#FFFFFF\" font-family=\"Helvetica Neue, Helvetica, Arial, sans-serif\"> Defici…</text></g><g class=\"node\" aria-label=\"graph-node1712\" transform=\"translate(-88.0687065460204,167.62595424761972)\"><circle class=\"b-outline\" cx=\"0\" cy=\"0\" r=\"25\" fill=\"#C990C0\" stroke=\"#b261a5\" stroke-width=\"2px\"/><text class=\"caption\" text-anchor=\"middle\" pointer-events=\"none\" x=\"0\" y=\"-5\" font-size=\"10px\" fill=\"#FFFFFF\" font-family=\"Helvetica Neue, Helvetica, Arial, sans-serif\"> C9</text><text class=\"caption\" text-anchor=\"middle\" pointer-events=\"none\" x=\"0\" y=\"5\" font-size=\"10px\" fill=\"#FFFFFF\" font-family=\"Helvetica Neue, Helvetica, Arial, sans-serif\"> Deficiency</text><text class=\"caption\" text-anchor=\"middle\" pointer-events=\"none\" x=\"0\" y=\"15\" font-size=\"10px\" fill=\"#FFFFFF\" font-family=\"Helvetica Neue, Helvetica, Arial, sans-serif\"> with </text></g><g class=\"node\" aria-label=\"graph-node2871\" transform=\"translate(8.271021434472312,145.27929484154592)\"><circle class=\"b-outline\" cx=\"0\" cy=\"0\" r=\"25\" fill=\"#C990C0\" stroke=\"#b261a5\" stroke-width=\"2px\"/><text class=\"caption\" text-anchor=\"middle\" pointer-events=\"none\" x=\"0\" y=\"5\" font-size=\"10px\" fill=\"#FFFFFF\" font-family=\"Helvetica Neue, Helvetica, Arial, sans-serif\"> Comple…</text></g><g class=\"node\" aria-label=\"graph-node2872\" transform=\"translate(-56.2942341324728,73.80253562762455)\"><circle class=\"b-outline\" cx=\"0\" cy=\"0\" r=\"25\" fill=\"#C990C0\" stroke=\"#b261a5\" stroke-width=\"2px\"/><text class=\"caption\" text-anchor=\"middle\" pointer-events=\"none\" x=\"0\" y=\"5\" font-size=\"10px\" fill=\"#FFFFFF\" font-family=\"Helvetica Neue, Helvetica, Arial, sans-serif\"> Comple…</text></g><g class=\"node\" aria-label=\"graph-node2874\" transform=\"translate(38.9041935822248,51.31327537907034)\"><circle class=\"b-outline\" cx=\"0\" cy=\"0\" r=\"25\" fill=\"#C990C0\" stroke=\"#b261a5\" stroke-width=\"2px\"/><text class=\"caption\" text-anchor=\"middle\" pointer-events=\"none\" x=\"0\" y=\"5\" font-size=\"10px\" fill=\"#FFFFFF\" font-family=\"Helvetica Neue, Helvetica, Arial, sans-serif\"> Comple…</text></g><g class=\"node\" aria-label=\"graph-node2875\" transform=\"translate(-26.50249859847474,-22.13251104139919)\"><circle class=\"b-outline\" cx=\"0\" cy=\"0\" r=\"25\" fill=\"#C990C0\" stroke=\"#b261a5\" stroke-width=\"2px\"/><text class=\"caption\" text-anchor=\"middle\" pointer-events=\"none\" x=\"0\" y=\"5\" font-size=\"10px\" fill=\"#FFFFFF\" font-family=\"Helvetica Neue, Helvetica, Arial, sans-serif\"> Comple…</text></g><g class=\"node\" aria-label=\"graph-node2877\" transform=\"translate(309.22606557275583,-222.67286894435034)\"><circle class=\"b-outline\" cx=\"0\" cy=\"0\" r=\"25\" fill=\"#C990C0\" stroke=\"#b261a5\" stroke-width=\"2px\"/><text class=\"caption\" text-anchor=\"middle\" pointer-events=\"none\" x=\"0\" y=\"5\" font-size=\"10px\" fill=\"#FFFFFF\" font-family=\"Helvetica Neue, Helvetica, Arial, sans-serif\"> Comple…</text></g><g class=\"node\" aria-label=\"graph-node2881\" transform=\"translate(67.51319102234734,-43.8281542890385)\"><circle class=\"b-outline\" cx=\"0\" cy=\"0\" r=\"25\" fill=\"#C990C0\" stroke=\"#b261a5\" stroke-width=\"2px\"/><text class=\"caption\" text-anchor=\"middle\" pointer-events=\"none\" x=\"0\" y=\"5\" font-size=\"10px\" fill=\"#FFFFFF\" font-family=\"Helvetica Neue, Helvetica, Arial, sans-serif\"> Comple…</text></g><g class=\"node\" aria-label=\"graph-node2883\" transform=\"translate(2.3314826163149704,-116.68185219948053)\"><circle class=\"b-outline\" cx=\"0\" cy=\"0\" r=\"25\" fill=\"#C990C0\" stroke=\"#b261a5\" stroke-width=\"2px\"/><text class=\"caption\" text-anchor=\"middle\" pointer-events=\"none\" x=\"0\" y=\"5\" font-size=\"10px\" fill=\"#FFFFFF\" font-family=\"Helvetica Neue, Helvetica, Arial, sans-serif\"> Comple…</text></g><g class=\"node\" aria-label=\"graph-node2884\" transform=\"translate(-77.62531690576972,-174.38962160747707)\"><circle class=\"b-outline\" cx=\"0\" cy=\"0\" r=\"25\" fill=\"#C990C0\" stroke=\"#b261a5\" stroke-width=\"2px\"/><text class=\"caption\" text-anchor=\"middle\" pointer-events=\"none\" x=\"0\" y=\"5\" font-size=\"10px\" fill=\"#FFFFFF\" font-family=\"Helvetica Neue, Helvetica, Arial, sans-serif\"> Comple…</text></g><g class=\"node\" aria-label=\"graph-node2885\" transform=\"translate(-172.84448802362468,-203.45861375582885)\"><circle class=\"b-outline\" cx=\"0\" cy=\"0\" r=\"25\" fill=\"#C990C0\" stroke=\"#b261a5\" stroke-width=\"2px\"/><text class=\"caption\" text-anchor=\"middle\" pointer-events=\"none\" x=\"0\" y=\"5\" font-size=\"10px\" fill=\"#FFFFFF\" font-family=\"Helvetica Neue, Helvetica, Arial, sans-serif\"> Comple…</text></g><g class=\"node\" aria-label=\"graph-node7710\" transform=\"translate(-151.91450776318516,-109.51405314590734)\"><circle class=\"b-outline\" cx=\"0\" cy=\"0\" r=\"25\" fill=\"#C990C0\" stroke=\"#b261a5\" stroke-width=\"2px\"/><text class=\"caption\" text-anchor=\"middle\" pointer-events=\"none\" x=\"0\" y=\"0\" font-size=\"10px\" fill=\"#FFFFFF\" font-family=\"Helvetica Neue, Helvetica, Arial, sans-serif\"> MASP2</text><text class=\"caption\" text-anchor=\"middle\" pointer-events=\"none\" x=\"0\" y=\"10\" font-size=\"10px\" fill=\"#FFFFFF\" font-family=\"Helvetica Neue, Helvetica, Arial, sans-serif\"> Defici…</text></g><g class=\"node\" aria-label=\"graph-node10447\" transform=\"translate(-246.29576116975693,-136.8976958176681)\"><circle class=\"b-outline\" cx=\"0\" cy=\"0\" r=\"25\" fill=\"#C990C0\" stroke=\"#b261a5\" stroke-width=\"2px\"/><text class=\"caption\" text-anchor=\"middle\" pointer-events=\"none\" x=\"0\" y=\"0\" font-size=\"10px\" fill=\"#FFFFFF\" font-family=\"Helvetica Neue, Helvetica, Arial, sans-serif\"> Primary</text><text class=\"caption\" text-anchor=\"middle\" pointer-events=\"none\" x=\"0\" y=\"10\" font-size=\"10px\" fill=\"#FFFFFF\" font-family=\"Helvetica Neue, Helvetica, Arial, sans-serif\"> Immu…</text></g><g class=\"node\" aria-label=\"graph-node10501\" transform=\"translate(-154.54220234784626,96.16835452568873)\"><circle class=\"b-outline\" cx=\"0\" cy=\"0\" r=\"25\" fill=\"#C990C0\" stroke=\"#b261a5\" stroke-width=\"2px\"/><text class=\"caption\" text-anchor=\"middle\" pointer-events=\"none\" x=\"0\" y=\"0\" font-size=\"10px\" fill=\"#FFFFFF\" font-family=\"Helvetica Neue, Helvetica, Arial, sans-serif\"> Properdin</text><text class=\"caption\" text-anchor=\"middle\" pointer-events=\"none\" x=\"0\" y=\"10\" font-size=\"10px\" fill=\"#FFFFFF\" font-family=\"Helvetica Neue, Helvetica, Arial, sans-serif\"> Defici…</text></g><g class=\"node\" aria-label=\"graph-node10502\" transform=\"translate(-228.23353452155905,-39.76472793540261)\"><circle class=\"b-outline\" cx=\"0\" cy=\"0\" r=\"25\" fill=\"#C990C0\" stroke=\"#b261a5\" stroke-width=\"2px\"/><text class=\"caption\" text-anchor=\"middle\" pointer-events=\"none\" x=\"0\" y=\"0\" font-size=\"10px\" fill=\"#FFFFFF\" font-family=\"Helvetica Neue, Helvetica, Arial, sans-serif\"> Properdin</text><text class=\"caption\" text-anchor=\"middle\" pointer-events=\"none\" x=\"0\" y=\"10\" font-size=\"10px\" fill=\"#FFFFFF\" font-family=\"Helvetica Neue, Helvetica, Arial, sans-serif\"> Defici…</text></g><g class=\"node\" aria-label=\"graph-node10503\" transform=\"translate(-319.562714590532,-69.13458563553822)\"><circle class=\"b-outline\" cx=\"0\" cy=\"0\" r=\"25\" fill=\"#C990C0\" stroke=\"#b261a5\" stroke-width=\"2px\"/><text class=\"caption\" text-anchor=\"middle\" pointer-events=\"none\" x=\"0\" y=\"0\" font-size=\"10px\" fill=\"#FFFFFF\" font-family=\"Helvetica Neue, Helvetica, Arial, sans-serif\"> Properdin</text><text class=\"caption\" text-anchor=\"middle\" pointer-events=\"none\" x=\"0\" y=\"10\" font-size=\"10px\" fill=\"#FFFFFF\" font-family=\"Helvetica Neue, Helvetica, Arial, sans-serif\"> deficie…</text></g></g></svg>"
      ],
      "text/plain": [
       "<IPython.core.display.SVG object>"
      ]
     },
     "metadata": {},
     "output_type": "display_data"
    }
   ],
   "source": [
    "display(SVG(filename='./media/svg/Fig_1_combined_C6_and_C7_deficiencies.svg'))"
   ]
  },
  {
   "cell_type": "markdown",
   "metadata": {},
   "source": [
    "As we can see, both disease are part of the larger group - \"Hereditary Complement Deficiency Diseases\" (MESH:D000081208\n",
    "). Let us try to identify where the predicted diseases from the fulltext and vector indices are."
   ]
  },
  {
   "cell_type": "code",
   "execution_count": 230,
   "metadata": {},
   "outputs": [
    {
     "data": {
      "image/svg+xml": [
       "<svg xmlns=\"http://www.w3.org/2000/svg\" width=\"912.5759887695312\" height=\"784.886962890625\" viewBox=\"-654.3320922851562 -503.1206970214844 912.5759887695312 784.886962890625\"><title>Neo4j Graph Visualization</title><desc>Created using Neo4j (http://www.neo4j.com/)</desc><g class=\"layer relationships\"><g class=\"relationship\" transform=\"translate(227.30322074890137 -318.82995649014646) rotate(539.3892157596349)\"><path class=\"b-outline\" fill=\"#A5ABB6\" stroke=\"none\" d=\"M 25 0.5 L 184.6700154118637 0.5 L 184.6700154118637 -0.5 L 25 -0.5 Z M 271.2911091618637 0.5 L 430.9611245737274 0.5 L 430.9611245737274 3.5 L 437.9611245737274 0 L 430.9611245737274 -3.5 L 430.9611245737274 -0.5 L 271.2911091618637 -0.5 Z\"/><text text-anchor=\"middle\" pointer-events=\"none\" font-size=\"8px\" fill=\"#000000\" x=\"227.9805622868637\" y=\"3\" transform=\"rotate(180 227.9805622868637 0)\" font-family=\"Helvetica Neue, Helvetica, Arial, sans-serif\">SUB_CATEGORY_OF</text></g><g class=\"relationship\" transform=\"translate(229.24388790130604 41.84894913062743) rotate(539.5960406711288)\"><path class=\"b-outline\" fill=\"#A5ABB6\" stroke=\"none\" d=\"M 25 0.5 L 181.2993629271749 0.5 L 181.2993629271749 -0.5 L 25 -0.5 Z M 267.9204566771749 0.5 L 424.2198196043498 0.5 L 424.2198196043498 3.5 L 431.2198196043498 0 L 424.2198196043498 -3.5 L 424.2198196043498 -0.5 L 267.9204566771749 -0.5 Z\"/><text text-anchor=\"middle\" pointer-events=\"none\" font-size=\"8px\" fill=\"#000000\" x=\"224.6099098021749\" y=\"3\" transform=\"rotate(180 224.6099098021749 0)\" font-family=\"Helvetica Neue, Helvetica, Arial, sans-serif\">SUB_CATEGORY_OF</text></g><g class=\"relationship\" transform=\"translate(-230.7705941243281 238.3528850220226) rotate(271.128059116187)\"><path class=\"b-outline\" fill=\"#A5ABB6\" stroke=\"none\" d=\"M 25 0.5 L 49.851897721368175 0.5 L 49.851897721368175 -0.5 L 25 -0.5 Z M 136.47299147136818 0.5 L 161.32488919273635 0.5 L 161.32488919273635 3.5 L 168.32488919273635 0 L 161.32488919273635 -3.5 L 161.32488919273635 -0.5 L 136.47299147136818 -0.5 Z\"/><text text-anchor=\"middle\" pointer-events=\"none\" font-size=\"8px\" fill=\"#000000\" x=\"93.16244459636818\" y=\"3\" font-family=\"Helvetica Neue, Helvetica, Arial, sans-serif\">SUB_CATEGORY_OF</text></g><g class=\"relationship\" transform=\"translate(-168.86395870792896 161.52506857971468) rotate(243.48580991378924)\"><path class=\"b-outline\" fill=\"#A5ABB6\" stroke=\"none\" d=\"M 25 0.5 L 27.52911899877364 0.5 L 27.52911899877364 -0.5 L 25 -0.5 Z M 95.61896274877364 0.5 L 98.14808174754728 0.5 L 98.14808174754728 3.5 L 105.14808174754728 0 L 98.14808174754728 -3.5 L 98.14808174754728 -0.5 L 95.61896274877364 -0.5 Z\"/><text text-anchor=\"middle\" pointer-events=\"none\" font-size=\"8px\" fill=\"#000000\" x=\"61.57404087377364\" y=\"3\" transform=\"rotate(180 61.57404087377364 0)\" font-family=\"Helvetica Neue, Helvetica, Arial, sans-serif\">SUB_CATEGO…</text></g><g class=\"relationship\" transform=\"translate(-136.00629682061947 252.7662456090932) rotate(246.34997130433726)\"><path class=\"b-outline\" fill=\"#A5ABB6\" stroke=\"none\" d=\"M 25 0.5 L 66.56165683097328 0.5 L 66.56165683097328 -0.5 L 25 -0.5 Z M 153.18275058097328 0.5 L 194.74440741194655 0.5 L 194.74440741194655 3.5 L 201.74440741194655 0 L 194.74440741194655 -3.5 L 194.74440741194655 -0.5 L 153.18275058097328 -0.5 Z\"/><text text-anchor=\"middle\" pointer-events=\"none\" font-size=\"8px\" fill=\"#000000\" x=\"109.87220370597328\" y=\"3\" transform=\"rotate(180 109.87220370597328 0)\" font-family=\"Helvetica Neue, Helvetica, Arial, sans-serif\">SUB_CATEGORY_OF</text></g><g class=\"relationship\" transform=\"translate(-72.23975933412888 180.54032179967135) rotate(221.2049273363907)\"><path class=\"b-outline\" fill=\"#A5ABB6\" stroke=\"none\" d=\"M 25 0.5 L 56.01601971034536 0.5 L 56.01601971034536 -0.5 L 25 -0.5 Z M 142.63711346034535 0.5 L 173.65313317069072 0.5 L 173.65313317069072 3.5 L 180.65313317069072 0 L 173.65313317069072 -3.5 L 173.65313317069072 -0.5 L 142.63711346034535 -0.5 Z\"/><text text-anchor=\"middle\" pointer-events=\"none\" font-size=\"8px\" fill=\"#000000\" x=\"99.32656658534536\" y=\"3\" transform=\"rotate(180 99.32656658534536 0)\" font-family=\"Helvetica Neue, Helvetica, Arial, sans-serif\">SUB_CATEGORY_OF</text></g><g class=\"relationship\" transform=\"translate(-7.485187894900525 106.03240321993411) rotate(195.52421712118291)\"><path class=\"b-outline\" fill=\"#A5ABB6\" stroke=\"none\" d=\"M 25 0.5 L 67.08433541031704 0.5 L 67.08433541031704 -0.5 L 25 -0.5 Z M 153.70542916031704 0.5 L 195.78976457063408 0.5 L 195.78976457063408 3.5 L 202.78976457063408 0 L 195.78976457063408 -3.5 L 195.78976457063408 -0.5 L 153.70542916031704 -0.5 Z\"/><text text-anchor=\"middle\" pointer-events=\"none\" font-size=\"8px\" fill=\"#000000\" x=\"110.39488228531704\" y=\"3\" transform=\"rotate(180 110.39488228531704 0)\" font-family=\"Helvetica Neue, Helvetica, Arial, sans-serif\">SUB_CATEGORY_OF</text></g><g class=\"relationship\" transform=\"translate(-36.98337433601957 13.217153681857614) rotate(530.4834671290391)\"><path class=\"b-outline\" fill=\"#A5ABB6\" stroke=\"none\" d=\"M 25 0.5 L 49.50557096668847 0.5 L 49.50557096668847 -0.5 L 25 -0.5 Z M 136.12666471668848 0.5 L 160.63223568337693 0.5 L 160.63223568337693 3.5 L 167.63223568337693 0 L 160.63223568337693 -3.5 L 160.63223568337693 -0.5 L 136.12666471668848 -0.5 Z\"/><text text-anchor=\"middle\" pointer-events=\"none\" font-size=\"8px\" fill=\"#000000\" x=\"92.81611784168847\" y=\"3\" transform=\"rotate(180 92.81611784168847 0)\" font-family=\"Helvetica Neue, Helvetica, Arial, sans-serif\">SUB_CATEGORY_OF</text></g><g class=\"relationship\" transform=\"translate(-70.10195261232043 -80.58134738924302) rotate(501.30530868977803)\"><path class=\"b-outline\" fill=\"#A5ABB6\" stroke=\"none\" d=\"M 25 0.5 L 53.67951368042023 0.5 L 53.67951368042023 -0.5 L 25 -0.5 Z M 140.30060743042023 0.5 L 168.98012111084046 0.5 L 168.98012111084046 3.5 L 175.98012111084046 0 L 168.98012111084046 -3.5 L 168.98012111084046 -0.5 L 140.30060743042023 -0.5 Z\"/><text text-anchor=\"middle\" pointer-events=\"none\" font-size=\"8px\" fill=\"#000000\" x=\"96.99006055542023\" y=\"3\" transform=\"rotate(180 96.99006055542023 0)\" font-family=\"Helvetica Neue, Helvetica, Arial, sans-serif\">SUB_CATEGORY_OF</text></g><g class=\"relationship\" transform=\"translate(-132.71178872830745 -7.155423604007891) rotate(511.0112986897581)\"><path class=\"b-outline\" fill=\"#A5ABB6\" stroke=\"none\" d=\"M 25 0.5 L 25.221978442519344 0.5 L 25.221978442519344 -0.5 L 25 -0.5 Z M 75.53057219251934 0.5 L 75.75255063503869 0.5 L 75.75255063503869 3.5 L 82.75255063503869 0 L 75.75255063503869 -3.5 L 75.75255063503869 -0.5 L 75.53057219251934 -0.5 Z\"/><text text-anchor=\"middle\" pointer-events=\"none\" font-size=\"8px\" fill=\"#000000\" x=\"50.376275317519344\" y=\"3\" transform=\"rotate(180 50.376275317519344 0)\" font-family=\"Helvetica Neue, Helvetica, Arial, sans-serif\">SUB_CAT…</text></g><g class=\"relationship\" transform=\"translate(-265.9870456594059 -96.19376108561991) rotate(434.55733953096103)\"><path class=\"b-outline\" fill=\"#A5ABB6\" stroke=\"none\" d=\"M 25 0.5 L 26.464483821995344 0.5 L 26.464483821995344 -0.5 L 25 -0.5 Z M 113.08557757199534 0.5 L 114.55006139399069 0.5 L 114.55006139399069 3.5 L 121.55006139399069 0 L 114.55006139399069 -3.5 L 114.55006139399069 -0.5 L 113.08557757199534 -0.5 Z\"/><text text-anchor=\"middle\" pointer-events=\"none\" font-size=\"8px\" fill=\"#000000\" x=\"69.77503069699534\" y=\"3\" font-family=\"Helvetica Neue, Helvetica, Arial, sans-serif\">SUB_CATEGORY_OF</text></g><g class=\"relationship\" transform=\"translate(-167.03157297816838 -98.61125208253326) rotate(472.64287223730673)\"><path class=\"b-outline\" fill=\"#A5ABB6\" stroke=\"none\" d=\"M 25 0.5 L 31.02737061681941 0.5 L 31.02737061681941 -0.5 L 25 -0.5 Z M 117.64846436681941 0.5 L 123.67583498363882 0.5 L 123.67583498363882 3.5 L 130.67583498363882 0 L 123.67583498363882 -3.5 L 123.67583498363882 -0.5 L 117.64846436681941 -0.5 Z\"/><text text-anchor=\"middle\" pointer-events=\"none\" font-size=\"8px\" fill=\"#000000\" x=\"74.33791749181941\" y=\"3\" transform=\"rotate(180 74.33791749181941 0)\" font-family=\"Helvetica Neue, Helvetica, Arial, sans-serif\">SUB_CATEGORY_OF</text></g><g class=\"relationship\" transform=\"translate(-352.6144324048805 -50.10383619290994) rotate(397.1408998940773)\"><path class=\"b-outline\" fill=\"#A5ABB6\" stroke=\"none\" d=\"M 25 0.5 L 32.00106060749846 0.5 L 32.00106060749846 -0.5 L 25 -0.5 Z M 118.62215435749846 0.5 L 125.62321496499692 0.5 L 125.62321496499692 3.5 L 132.62321496499692 0 L 125.62321496499692 -3.5 L 125.62321496499692 -0.5 L 118.62215435749846 -0.5 Z\"/><text text-anchor=\"middle\" pointer-events=\"none\" font-size=\"8px\" fill=\"#000000\" x=\"75.31160748249846\" y=\"3\" font-family=\"Helvetica Neue, Helvetica, Arial, sans-serif\">SUB_CATEGORY_OF</text></g><g class=\"relationship\" transform=\"translate(-266.53707898504877 147.74349663993115) rotate(291.07684363248455)\"><path class=\"b-outline\" fill=\"#A5ABB6\" stroke=\"none\" d=\"M 25 0.5 L 26.365608744632226 0.5 L 26.365608744632226 -0.5 L 25 -0.5 Z M 76.67420249463223 0.5 L 78.03981123926445 0.5 L 78.03981123926445 3.5 L 85.03981123926445 0 L 78.03981123926445 -3.5 L 78.03981123926445 -0.5 L 76.67420249463223 -0.5 Z\"/><text text-anchor=\"middle\" pointer-events=\"none\" font-size=\"8px\" fill=\"#000000\" x=\"51.519905619632226\" y=\"3\" font-family=\"Helvetica Neue, Helvetica, Arial, sans-serif\">SUB_CAT…</text></g><g class=\"relationship\" transform=\"translate(-426.5636043474394 217.49505297645763) rotate(319.1769222880092)\"><path class=\"b-outline\" fill=\"#A5ABB6\" stroke=\"none\" d=\"M 25 0.5 L 85.07171935877693 0.5 L 85.07171935877693 -0.5 L 25 -0.5 Z M 171.69281310877693 0.5 L 231.76453246755386 0.5 L 231.76453246755386 3.5 L 238.76453246755386 0 L 231.76453246755386 -3.5 L 231.76453246755386 -0.5 L 171.69281310877693 -0.5 Z\"/><text text-anchor=\"middle\" pointer-events=\"none\" font-size=\"8px\" fill=\"#000000\" x=\"128.38226623377693\" y=\"3\" font-family=\"Helvetica Neue, Helvetica, Arial, sans-serif\">SUB_CATEGORY_OF</text></g><g class=\"relationship\" transform=\"translate(-394.3262590055219 39.1311517027493) rotate(362.03074376125596)\"><path class=\"b-outline\" fill=\"#A5ABB6\" stroke=\"none\" d=\"M 25 0.5 L 36.92287445254679 0.5 L 36.92287445254679 -0.5 L 25 -0.5 Z M 123.5439682025468 0.5 L 135.4668426550936 0.5 L 135.4668426550936 3.5 L 142.4668426550936 0 L 135.4668426550936 -3.5 L 135.4668426550936 -0.5 L 123.5439682025468 -0.5 Z\"/><text text-anchor=\"middle\" pointer-events=\"none\" font-size=\"8px\" fill=\"#000000\" x=\"80.2334213275468\" y=\"3\" font-family=\"Helvetica Neue, Helvetica, Arial, sans-serif\">SUB_CATEGORY_OF</text></g><g class=\"relationship\" transform=\"translate(-226.96459276524394 45.06546397492383) rotate(180.09653017032804)\"><path class=\"b-outline\" fill=\"#A5ABB6\" stroke=\"none\" d=\"M 25 0.5 L 152.3734993254139 0.5 L 152.3734993254139 -0.5 L 25 -0.5 Z M 238.9945930754139 0.5 L 366.3680924008278 0.5 L 366.3680924008278 3.5 L 373.3680924008278 0 L 366.3680924008278 -3.5 L 366.3680924008278 -0.5 L 238.9945930754139 -0.5 Z\"/><text text-anchor=\"middle\" pointer-events=\"none\" font-size=\"8px\" fill=\"#000000\" x=\"195.6840462004139\" y=\"3\" transform=\"rotate(180 195.6840462004139 0)\" font-family=\"Helvetica Neue, Helvetica, Arial, sans-serif\">SUB_CATEGORY_OF</text></g><g class=\"relationship\" transform=\"translate(-364.83765918901184 132.97191668527543) rotate(327.47883356309956)\"><path class=\"b-outline\" fill=\"#A5ABB6\" stroke=\"none\" d=\"M 25 0.5 L 34.94599242493918 0.5 L 34.94599242493918 -0.5 L 25 -0.5 Z M 121.56708617493918 0.5 L 131.51307859987836 0.5 L 131.51307859987836 3.5 L 138.51307859987836 0 L 131.51307859987836 -3.5 L 131.51307859987836 -0.5 L 121.56708617493918 -0.5 Z\"/><text text-anchor=\"middle\" pointer-events=\"none\" font-size=\"8px\" fill=\"#000000\" x=\"78.25653929993918\" y=\"3\" font-family=\"Helvetica Neue, Helvetica, Arial, sans-serif\">SUB_CATEGORY_OF</text></g><g class=\"relationship\" transform=\"translate(-102.02652960141785 87.5241830955016) rotate(198.76971994046863)\"><path class=\"b-outline\" fill=\"#A5ABB6\" stroke=\"none\" d=\"M 25 0.5 L 25.544172308893494 0.5 L 25.544172308893494 -0.5 L 25 -0.5 Z M 99.4113598088935 0.5 L 99.95553211778699 0.5 L 99.95553211778699 3.5 L 106.95553211778699 0 L 99.95553211778699 -3.5 L 99.95553211778699 -0.5 L 99.4113598088935 -0.5 Z\"/><text text-anchor=\"middle\" pointer-events=\"none\" font-size=\"8px\" fill=\"#000000\" x=\"62.47776605889349\" y=\"3\" transform=\"rotate(180 62.47776605889349 0)\" font-family=\"Helvetica Neue, Helvetica, Arial, sans-serif\">SUB_CATEGOR…</text></g><g class=\"relationship\" transform=\"translate(-326.17048609049124 223.56521124251464) rotate(299.0642591942485)\"><path class=\"b-outline\" fill=\"#A5ABB6\" stroke=\"none\" d=\"M 25 0.5 L 55.29720141700541 0.5 L 55.29720141700541 -0.5 L 25 -0.5 Z M 141.9182951670054 0.5 L 172.21549658401082 0.5 L 172.21549658401082 3.5 L 179.21549658401082 0 L 172.21549658401082 -3.5 L 172.21549658401082 -0.5 L 141.9182951670054 -0.5 Z\"/><text text-anchor=\"middle\" pointer-events=\"none\" font-size=\"8px\" fill=\"#000000\" x=\"98.60774829200541\" y=\"3\" font-family=\"Helvetica Neue, Helvetica, Arial, sans-serif\">SUB_CATEGORY_OF</text></g><g class=\"relationship\" transform=\"translate(-235.63159867398417 -313.8947936285273) rotate(235.17410720179572)\"><path class=\"b-outline\" fill=\"#A5ABB6\" stroke=\"none\" d=\"M 25 0.5 L 36.22293526653894 0.5 L 36.22293526653894 -0.5 L 25 -0.5 Z M 122.84402901653894 0.5 L 134.06696428307788 0.5 L 134.06696428307788 3.5 L 141.06696428307788 0 L 134.06696428307788 -3.5 L 134.06696428307788 -0.5 L 122.84402901653894 -0.5 Z\"/><text text-anchor=\"middle\" pointer-events=\"none\" font-size=\"8px\" fill=\"#000000\" x=\"79.53348214153894\" y=\"3\" transform=\"rotate(180 79.53348214153894 0)\" font-family=\"Helvetica Neue, Helvetica, Arial, sans-serif\">SUB_CATEGORY_OF</text></g><g class=\"relationship\" transform=\"translate(-312.44467742692143 -195.28088416375667) rotate(302.92665509285706)\"><path class=\"b-outline\" fill=\"#A5ABB6\" stroke=\"none\" d=\"M 25 0.5 L 25.40089646975582 0.5 L 25.40089646975582 -0.5 L 25 -0.5 Z M 108.91261521975582 0.5 L 109.31351168951164 0.5 L 109.31351168951164 3.5 L 116.31351168951164 0 L 109.31351168951164 -3.5 L 109.31351168951164 -0.5 L 108.91261521975582 -0.5 Z\"/><text text-anchor=\"middle\" pointer-events=\"none\" font-size=\"8px\" fill=\"#000000\" x=\"67.15675584475582\" y=\"3\" font-family=\"Helvetica Neue, Helvetica, Arial, sans-serif\">SUB_CATEGORY_…</text></g><g class=\"relationship\" transform=\"translate(-235.49571205312975 -474.1206844284368) rotate(450.04859219669004)\"><path class=\"b-outline\" fill=\"#A5ABB6\" stroke=\"none\" d=\"M 25 0.5 L 33.30242733610743 0.5 L 33.30242733610743 -0.5 L 25 -0.5 Z M 119.92352108610743 0.5 L 128.22594842221486 0.5 L 128.22594842221486 3.5 L 135.22594842221486 0 L 128.22594842221486 -3.5 L 128.22594842221486 -0.5 L 119.92352108610743 -0.5 Z\"/><text text-anchor=\"middle\" pointer-events=\"none\" font-size=\"8px\" fill=\"#000000\" x=\"76.61297421110743\" y=\"3\" transform=\"rotate(180 76.61297421110743 0)\" font-family=\"Helvetica Neue, Helvetica, Arial, sans-serif\">SUB_CATEGORY_OF</text></g><g class=\"relationship\" transform=\"translate(-86.58039465451498 -233.4313549828867) rotate(208.3618400197414)\"><path class=\"b-outline\" fill=\"#A5ABB6\" stroke=\"none\" d=\"M 25 0.5 L 37.880991041037106 0.5 L 37.880991041037106 -0.5 L 25 -0.5 Z M 124.5020847910371 0.5 L 137.3830758320742 0.5 L 137.3830758320742 3.5 L 144.3830758320742 0 L 137.3830758320742 -3.5 L 137.3830758320742 -0.5 L 124.5020847910371 -0.5 Z\"/><text text-anchor=\"middle\" pointer-events=\"none\" font-size=\"8px\" fill=\"#000000\" x=\"81.1915379160371\" y=\"3\" transform=\"rotate(180 81.1915379160371 0)\" font-family=\"Helvetica Neue, Helvetica, Arial, sans-serif\">SUB_CATEGORY_OF</text></g><g class=\"relationship\" transform=\"translate(-51.14450049821368 -324.8062139652201) rotate(536.6152056693954)\"><path class=\"b-outline\" fill=\"#A5ABB6\" stroke=\"none\" d=\"M 25 0.5 L 45.59419933302814 0.5 L 45.59419933302814 -0.5 L 25 -0.5 Z M 132.21529308302814 0.5 L 152.8094924160563 0.5 L 152.8094924160563 3.5 L 159.8094924160563 0 L 152.8094924160563 -3.5 L 152.8094924160563 -0.5 L 132.21529308302814 -0.5 Z\"/><text text-anchor=\"middle\" pointer-events=\"none\" font-size=\"8px\" fill=\"#000000\" x=\"88.90474620802814\" y=\"3\" transform=\"rotate(180 88.90474620802814 0)\" font-family=\"Helvetica Neue, Helvetica, Arial, sans-serif\">SUB_CATEGORY_OF</text></g><g class=\"relationship\" transform=\"translate(-50.68171275286717 -424.1396359148966) rotate(509.20169536016084)\"><path class=\"b-outline\" fill=\"#A5ABB6\" stroke=\"none\" d=\"M 25 0.5 L 60.846763086958276 0.5 L 60.846763086958276 -0.5 L 25 -0.5 Z M 147.46785683695828 0.5 L 183.31461992391655 0.5 L 183.31461992391655 3.5 L 190.31461992391655 0 L 183.31461992391655 -3.5 L 183.31461992391655 -0.5 L 147.46785683695828 -0.5 Z\"/><text text-anchor=\"middle\" pointer-events=\"none\" font-size=\"8px\" fill=\"#000000\" x=\"104.15730996195828\" y=\"3\" transform=\"rotate(180 104.15730996195828 0)\" font-family=\"Helvetica Neue, Helvetica, Arial, sans-serif\">SUB_CATEGORY_OF</text></g><g class=\"relationship\" transform=\"translate(-135.19046398570927 -376.035719315886) rotate(508.2557481005314)\"><path class=\"b-outline\" fill=\"#A5ABB6\" stroke=\"none\" d=\"M 25 0.5 L 27.73261601646555 0.5 L 27.73261601646555 -0.5 L 25 -0.5 Z M 83.37714726646556 0.5 L 86.1097632829311 0.5 L 86.1097632829311 3.5 L 93.1097632829311 0 L 86.1097632829311 -3.5 L 86.1097632829311 -0.5 L 83.37714726646556 -0.5 Z\"/><text text-anchor=\"middle\" pointer-events=\"none\" font-size=\"8px\" fill=\"#000000\" x=\"55.55488164146555\" y=\"3\" transform=\"rotate(180 55.55488164146555 0)\" font-family=\"Helvetica Neue, Helvetica, Arial, sans-serif\">SUB_CATE…</text></g><g class=\"relationship\" transform=\"translate(-382.83229372025534 -366.95128728311926) rotate(379.821010177814)\"><path class=\"b-outline\" fill=\"#A5ABB6\" stroke=\"none\" d=\"M 25 0.5 L 31.424733115911195 0.5 L 31.424733115911195 -0.5 L 25 -0.5 Z M 118.0458268659112 0.5 L 124.47055998182239 0.5 L 124.47055998182239 3.5 L 131.4705599818224 0 L 124.47055998182239 -3.5 L 124.47055998182239 -0.5 L 118.0458268659112 -0.5 Z\"/><text text-anchor=\"middle\" pointer-events=\"none\" font-size=\"8px\" fill=\"#000000\" x=\"74.7352799909112\" y=\"3\" font-family=\"Helvetica Neue, Helvetica, Arial, sans-serif\">SUB_CATEGORY_OF</text></g><g class=\"relationship\" transform=\"translate(-380.82579373511936 -267.3925860244708) rotate(342.2409878012022)\"><path class=\"b-outline\" fill=\"#A5ABB6\" stroke=\"none\" d=\"M 25 0.5 L 29.419056284635005 0.5 L 29.419056284635005 -0.5 L 25 -0.5 Z M 116.040150034635 0.5 L 120.45920631927001 0.5 L 120.45920631927001 3.5 L 127.45920631927001 0 L 120.45920631927001 -3.5 L 120.45920631927001 -0.5 L 116.040150034635 -0.5 Z\"/><text text-anchor=\"middle\" pointer-events=\"none\" font-size=\"8px\" fill=\"#000000\" x=\"72.729603159635\" y=\"3\" font-family=\"Helvetica Neue, Helvetica, Arial, sans-serif\">SUB_CATEGORY_OF</text></g><g class=\"relationship\" transform=\"translate(-178.51572329856376 -197.96088354827563) rotate(243.77242605538777)\"><path class=\"b-outline\" fill=\"#A5ABB6\" stroke=\"none\" d=\"M 25 0.5 L 27.07491781529255 0.5 L 27.07491781529255 -0.5 L 25 -0.5 Z M 95.16476156529255 0.5 L 97.2396793805851 0.5 L 97.2396793805851 3.5 L 104.2396793805851 0 L 97.2396793805851 -3.5 L 97.2396793805851 -0.5 L 95.16476156529255 -0.5 Z\"/><text text-anchor=\"middle\" pointer-events=\"none\" font-size=\"8px\" fill=\"#000000\" x=\"61.11983969029255\" y=\"3\" transform=\"rotate(180 61.11983969029255 0)\" font-family=\"Helvetica Neue, Helvetica, Arial, sans-serif\">SUB_CATEGO…</text></g><g class=\"relationship\" transform=\"translate(-136.9898754587218 -473.8693126753425) rotate(481.6583559754869)\"><path class=\"b-outline\" fill=\"#A5ABB6\" stroke=\"none\" d=\"M 25 0.5 L 47.16024154238036 0.5 L 47.16024154238036 -0.5 L 25 -0.5 Z M 133.78133529238036 0.5 L 155.94157683476072 0.5 L 155.94157683476072 3.5 L 162.94157683476072 0 L 155.94157683476072 -3.5 L 155.94157683476072 -0.5 L 133.78133529238036 -0.5 Z\"/><text text-anchor=\"middle\" pointer-events=\"none\" font-size=\"8px\" fill=\"#000000\" x=\"90.47078841738036\" y=\"3\" transform=\"rotate(180 90.47078841738036 0)\" font-family=\"Helvetica Neue, Helvetica, Arial, sans-serif\">SUB_CATEGORY_OF</text></g><g class=\"relationship\" transform=\"translate(-235.63159867398417 -313.8947936285273) rotate(539.9687728171475)\"><path class=\"b-outline\" fill=\"#A5ABB6\" stroke=\"none\" d=\"M 25 0.5 L 145.8907389437953 0.5 L 145.8907389437953 -0.5 L 25 -0.5 Z M 232.5118326937953 0.5 L 353.4025716375906 0.5 L 353.4025716375906 3.5 L 360.4025716375906 0 L 353.4025716375906 -3.5 L 353.4025716375906 -0.5 L 232.5118326937953 -0.5 Z\"/><text text-anchor=\"middle\" pointer-events=\"none\" font-size=\"8px\" fill=\"#000000\" x=\"189.2012858187953\" y=\"3\" transform=\"rotate(180 189.2012858187953 0)\" font-family=\"Helvetica Neue, Helvetica, Arial, sans-serif\">SUB_CATEGORY_OF</text></g></g><g class=\"layer nodes\"><g class=\"node\" aria-label=\"graph-node1710\" transform=\"translate(229.24388790130604,41.84894913062743)\"><circle class=\"b-outline\" cx=\"0\" cy=\"0\" r=\"25\" fill=\"#C990C0\" stroke=\"#b261a5\" stroke-width=\"2px\"/><text class=\"caption\" text-anchor=\"middle\" pointer-events=\"none\" x=\"0\" y=\"0\" font-size=\"10px\" fill=\"#FFFFFF\" font-family=\"Helvetica Neue, Helvetica, Arial, sans-serif\"> C6</text><text class=\"caption\" text-anchor=\"middle\" pointer-events=\"none\" x=\"0\" y=\"10\" font-size=\"10px\" fill=\"#FFFFFF\" font-family=\"Helvetica Neue, Helvetica, Arial, sans-serif\"> Defici…</text></g><g class=\"node\" aria-label=\"graph-node2852\" transform=\"translate(227.30322074890137,-318.82995649014646)\"><circle class=\"b-outline\" cx=\"0\" cy=\"0\" r=\"25\" fill=\"#C990C0\" stroke=\"#b261a5\" stroke-width=\"2px\"/><text class=\"caption\" text-anchor=\"middle\" pointer-events=\"none\" x=\"0\" y=\"5\" font-size=\"10px\" fill=\"#FFFFFF\" font-family=\"Helvetica Neue, Helvetica, Arial, sans-serif\"> COMBI…</text></g><g class=\"node\" aria-label=\"graph-node8263\" transform=\"translate(-235.63159867398417,-313.8947936285273)\"><circle class=\"b-outline\" cx=\"0\" cy=\"0\" r=\"25\" fill=\"#C990C0\" stroke=\"#b261a5\" stroke-width=\"2px\"/><text class=\"caption\" text-anchor=\"middle\" pointer-events=\"none\" x=\"0\" y=\"5\" font-size=\"10px\" fill=\"#FFFFFF\" font-family=\"Helvetica Neue, Helvetica, Arial, sans-serif\"> Mitocho…</text></g><g class=\"node\" aria-label=\"graph-node5714\" transform=\"translate(-226.96459276524394,45.06546397492383)\"><circle class=\"b-outline\" cx=\"0\" cy=\"0\" r=\"25\" fill=\"#C990C0\" stroke=\"#b261a5\" stroke-width=\"2px\"/><text class=\"caption\" text-anchor=\"middle\" pointer-events=\"none\" x=\"0\" y=\"0\" font-size=\"10px\" fill=\"#FFFFFF\" font-family=\"Helvetica Neue, Helvetica, Arial, sans-serif\"> Hereditary</text><text class=\"caption\" text-anchor=\"middle\" pointer-events=\"none\" x=\"0\" y=\"10\" font-size=\"10px\" fill=\"#FFFFFF\" font-family=\"Helvetica Neue, Helvetica, Arial, sans-serif\"> Compl…</text></g><g class=\"node\" aria-label=\"graph-node723\" transform=\"translate(-230.7705941243281,238.3528850220226)\"><circle class=\"b-outline\" cx=\"0\" cy=\"0\" r=\"25\" fill=\"#C990C0\" stroke=\"#b261a5\" stroke-width=\"2px\"/><text class=\"caption\" text-anchor=\"middle\" pointer-events=\"none\" x=\"0\" y=\"5\" font-size=\"10px\" fill=\"#FFFFFF\" font-family=\"Helvetica Neue, Helvetica, Arial, sans-serif\"> Angioed…</text></g><g class=\"node\" aria-label=\"graph-node1711\" transform=\"translate(-168.86395870792896,161.52506857971468)\"><circle class=\"b-outline\" cx=\"0\" cy=\"0\" r=\"25\" fill=\"#C990C0\" stroke=\"#b261a5\" stroke-width=\"2px\"/><text class=\"caption\" text-anchor=\"middle\" pointer-events=\"none\" x=\"0\" y=\"0\" font-size=\"10px\" fill=\"#FFFFFF\" font-family=\"Helvetica Neue, Helvetica, Arial, sans-serif\"> C9</text><text class=\"caption\" text-anchor=\"middle\" pointer-events=\"none\" x=\"0\" y=\"10\" font-size=\"10px\" fill=\"#FFFFFF\" font-family=\"Helvetica Neue, Helvetica, Arial, sans-serif\"> Defici…</text></g><g class=\"node\" aria-label=\"graph-node1712\" transform=\"translate(-136.00629682061947,252.7662456090932)\"><circle class=\"b-outline\" cx=\"0\" cy=\"0\" r=\"25\" fill=\"#C990C0\" stroke=\"#b261a5\" stroke-width=\"2px\"/><text class=\"caption\" text-anchor=\"middle\" pointer-events=\"none\" x=\"0\" y=\"-5\" font-size=\"10px\" fill=\"#FFFFFF\" font-family=\"Helvetica Neue, Helvetica, Arial, sans-serif\"> C9</text><text class=\"caption\" text-anchor=\"middle\" pointer-events=\"none\" x=\"0\" y=\"5\" font-size=\"10px\" fill=\"#FFFFFF\" font-family=\"Helvetica Neue, Helvetica, Arial, sans-serif\"> Deficiency</text><text class=\"caption\" text-anchor=\"middle\" pointer-events=\"none\" x=\"0\" y=\"15\" font-size=\"10px\" fill=\"#FFFFFF\" font-family=\"Helvetica Neue, Helvetica, Arial, sans-serif\"> with </text></g><g class=\"node\" aria-label=\"graph-node2871\" transform=\"translate(-72.23975933412888,180.54032179967135)\"><circle class=\"b-outline\" cx=\"0\" cy=\"0\" r=\"25\" fill=\"#C990C0\" stroke=\"#b261a5\" stroke-width=\"2px\"/><text class=\"caption\" text-anchor=\"middle\" pointer-events=\"none\" x=\"0\" y=\"5\" font-size=\"10px\" fill=\"#FFFFFF\" font-family=\"Helvetica Neue, Helvetica, Arial, sans-serif\"> Comple…</text></g><g class=\"node\" aria-label=\"graph-node2872\" transform=\"translate(-7.485187894900525,106.03240321993411)\"><circle class=\"b-outline\" cx=\"0\" cy=\"0\" r=\"25\" fill=\"#C990C0\" stroke=\"#b261a5\" stroke-width=\"2px\"/><text class=\"caption\" text-anchor=\"middle\" pointer-events=\"none\" x=\"0\" y=\"5\" font-size=\"10px\" fill=\"#FFFFFF\" font-family=\"Helvetica Neue, Helvetica, Arial, sans-serif\"> Comple…</text></g><g class=\"node\" aria-label=\"graph-node2874\" transform=\"translate(-36.98337433601957,13.217153681857614)\"><circle class=\"b-outline\" cx=\"0\" cy=\"0\" r=\"25\" fill=\"#C990C0\" stroke=\"#b261a5\" stroke-width=\"2px\"/><text class=\"caption\" text-anchor=\"middle\" pointer-events=\"none\" x=\"0\" y=\"5\" font-size=\"10px\" fill=\"#FFFFFF\" font-family=\"Helvetica Neue, Helvetica, Arial, sans-serif\"> Comple…</text></g><g class=\"node\" aria-label=\"graph-node2875\" transform=\"translate(-70.10195261232043,-80.58134738924302)\"><circle class=\"b-outline\" cx=\"0\" cy=\"0\" r=\"25\" fill=\"#C990C0\" stroke=\"#b261a5\" stroke-width=\"2px\"/><text class=\"caption\" text-anchor=\"middle\" pointer-events=\"none\" x=\"0\" y=\"5\" font-size=\"10px\" fill=\"#FFFFFF\" font-family=\"Helvetica Neue, Helvetica, Arial, sans-serif\"> Comple…</text></g><g class=\"node\" aria-label=\"graph-node2876\" transform=\"translate(-132.71178872830745,-7.155423604007891)\"><circle class=\"b-outline\" cx=\"0\" cy=\"0\" r=\"25\" fill=\"#C990C0\" stroke=\"#b261a5\" stroke-width=\"2px\"/><text class=\"caption\" text-anchor=\"middle\" pointer-events=\"none\" x=\"0\" y=\"5\" font-size=\"10px\" fill=\"#FFFFFF\" font-family=\"Helvetica Neue, Helvetica, Arial, sans-serif\"> Comple…</text></g><g class=\"node\" aria-label=\"graph-node2877\" transform=\"translate(-265.9870456594059,-96.19376108561991)\"><circle class=\"b-outline\" cx=\"0\" cy=\"0\" r=\"25\" fill=\"#C990C0\" stroke=\"#b261a5\" stroke-width=\"2px\"/><text class=\"caption\" text-anchor=\"middle\" pointer-events=\"none\" x=\"0\" y=\"5\" font-size=\"10px\" fill=\"#FFFFFF\" font-family=\"Helvetica Neue, Helvetica, Arial, sans-serif\"> Comple…</text></g><g class=\"node\" aria-label=\"graph-node2881\" transform=\"translate(-167.03157297816838,-98.61125208253326)\"><circle class=\"b-outline\" cx=\"0\" cy=\"0\" r=\"25\" fill=\"#C990C0\" stroke=\"#b261a5\" stroke-width=\"2px\"/><text class=\"caption\" text-anchor=\"middle\" pointer-events=\"none\" x=\"0\" y=\"5\" font-size=\"10px\" fill=\"#FFFFFF\" font-family=\"Helvetica Neue, Helvetica, Arial, sans-serif\"> Comple…</text></g><g class=\"node\" aria-label=\"graph-node2883\" transform=\"translate(-352.6144324048805,-50.10383619290994)\"><circle class=\"b-outline\" cx=\"0\" cy=\"0\" r=\"25\" fill=\"#C990C0\" stroke=\"#b261a5\" stroke-width=\"2px\"/><text class=\"caption\" text-anchor=\"middle\" pointer-events=\"none\" x=\"0\" y=\"5\" font-size=\"10px\" fill=\"#FFFFFF\" font-family=\"Helvetica Neue, Helvetica, Arial, sans-serif\"> Comple…</text></g><g class=\"node\" aria-label=\"graph-node2884\" transform=\"translate(-266.53707898504877,147.74349663993115)\"><circle class=\"b-outline\" cx=\"0\" cy=\"0\" r=\"25\" fill=\"#C990C0\" stroke=\"#b261a5\" stroke-width=\"2px\"/><text class=\"caption\" text-anchor=\"middle\" pointer-events=\"none\" x=\"0\" y=\"5\" font-size=\"10px\" fill=\"#FFFFFF\" font-family=\"Helvetica Neue, Helvetica, Arial, sans-serif\"> Comple…</text></g><g class=\"node\" aria-label=\"graph-node2885\" transform=\"translate(-426.5636043474394,217.49505297645763)\"><circle class=\"b-outline\" cx=\"0\" cy=\"0\" r=\"25\" fill=\"#C990C0\" stroke=\"#b261a5\" stroke-width=\"2px\"/><text class=\"caption\" text-anchor=\"middle\" pointer-events=\"none\" x=\"0\" y=\"5\" font-size=\"10px\" fill=\"#FFFFFF\" font-family=\"Helvetica Neue, Helvetica, Arial, sans-serif\"> Comple…</text></g><g class=\"node\" aria-label=\"graph-node7710\" transform=\"translate(-394.3262590055219,39.1311517027493)\"><circle class=\"b-outline\" cx=\"0\" cy=\"0\" r=\"25\" fill=\"#C990C0\" stroke=\"#b261a5\" stroke-width=\"2px\"/><text class=\"caption\" text-anchor=\"middle\" pointer-events=\"none\" x=\"0\" y=\"0\" font-size=\"10px\" fill=\"#FFFFFF\" font-family=\"Helvetica Neue, Helvetica, Arial, sans-serif\"> MASP2</text><text class=\"caption\" text-anchor=\"middle\" pointer-events=\"none\" x=\"0\" y=\"10\" font-size=\"10px\" fill=\"#FFFFFF\" font-family=\"Helvetica Neue, Helvetica, Arial, sans-serif\"> Defici…</text></g><g class=\"node\" aria-label=\"graph-node10501\" transform=\"translate(-364.83765918901184,132.97191668527543)\"><circle class=\"b-outline\" cx=\"0\" cy=\"0\" r=\"25\" fill=\"#C990C0\" stroke=\"#b261a5\" stroke-width=\"2px\"/><text class=\"caption\" text-anchor=\"middle\" pointer-events=\"none\" x=\"0\" y=\"0\" font-size=\"10px\" fill=\"#FFFFFF\" font-family=\"Helvetica Neue, Helvetica, Arial, sans-serif\"> Properdin</text><text class=\"caption\" text-anchor=\"middle\" pointer-events=\"none\" x=\"0\" y=\"10\" font-size=\"10px\" fill=\"#FFFFFF\" font-family=\"Helvetica Neue, Helvetica, Arial, sans-serif\"> Defici…</text></g><g class=\"node\" aria-label=\"graph-node10502\" transform=\"translate(-102.02652960141785,87.5241830955016)\"><circle class=\"b-outline\" cx=\"0\" cy=\"0\" r=\"25\" fill=\"#C990C0\" stroke=\"#b261a5\" stroke-width=\"2px\"/><text class=\"caption\" text-anchor=\"middle\" pointer-events=\"none\" x=\"0\" y=\"0\" font-size=\"10px\" fill=\"#FFFFFF\" font-family=\"Helvetica Neue, Helvetica, Arial, sans-serif\"> Properdin</text><text class=\"caption\" text-anchor=\"middle\" pointer-events=\"none\" x=\"0\" y=\"10\" font-size=\"10px\" fill=\"#FFFFFF\" font-family=\"Helvetica Neue, Helvetica, Arial, sans-serif\"> Defici…</text></g><g class=\"node\" aria-label=\"graph-node10503\" transform=\"translate(-326.17048609049124,223.56521124251464)\"><circle class=\"b-outline\" cx=\"0\" cy=\"0\" r=\"25\" fill=\"#C990C0\" stroke=\"#b261a5\" stroke-width=\"2px\"/><text class=\"caption\" text-anchor=\"middle\" pointer-events=\"none\" x=\"0\" y=\"0\" font-size=\"10px\" fill=\"#FFFFFF\" font-family=\"Helvetica Neue, Helvetica, Arial, sans-serif\"> Properdin</text><text class=\"caption\" text-anchor=\"middle\" pointer-events=\"none\" x=\"0\" y=\"10\" font-size=\"10px\" fill=\"#FFFFFF\" font-family=\"Helvetica Neue, Helvetica, Arial, sans-serif\"> deficie…</text></g><g class=\"node\" aria-label=\"graph-node1586\" transform=\"translate(-330.46988432812674,-450.21770513052064)\"><circle class=\"b-outline\" cx=\"0\" cy=\"0\" r=\"25\" fill=\"#C990C0\" stroke=\"#b261a5\" stroke-width=\"2px\"/><text class=\"caption\" text-anchor=\"middle\" pointer-events=\"none\" x=\"0\" y=\"-5\" font-size=\"10px\" fill=\"#FFFFFF\" font-family=\"Helvetica Neue, Helvetica, Arial, sans-serif\"> Brain</text><text class=\"caption\" text-anchor=\"middle\" pointer-events=\"none\" x=\"0\" y=\"5\" font-size=\"10px\" fill=\"#FFFFFF\" font-family=\"Helvetica Neue, Helvetica, Arial, sans-serif\"> Diseases,</text><text class=\"caption\" text-anchor=\"middle\" pointer-events=\"none\" x=\"0\" y=\"15\" font-size=\"10px\" fill=\"#FFFFFF\" font-family=\"Helvetica Neue, Helvetica, Arial, sans-serif\"> Met</text></g><g class=\"node\" aria-label=\"graph-node1866\" transform=\"translate(-312.44467742692143,-195.28088416375667)\"><circle class=\"b-outline\" cx=\"0\" cy=\"0\" r=\"25\" fill=\"#C990C0\" stroke=\"#b261a5\" stroke-width=\"2px\"/><text class=\"caption\" text-anchor=\"middle\" pointer-events=\"none\" x=\"0\" y=\"5\" font-size=\"10px\" fill=\"#FFFFFF\" font-family=\"Helvetica Neue, Helvetica, Arial, sans-serif\"> Cardioe…</text></g><g class=\"node\" aria-label=\"graph-node2851\" transform=\"translate(-235.49571205312975,-474.1206844284368)\"><circle class=\"b-outline\" cx=\"0\" cy=\"0\" r=\"25\" fill=\"#C990C0\" stroke=\"#b261a5\" stroke-width=\"2px\"/><text class=\"caption\" text-anchor=\"middle\" pointer-events=\"none\" x=\"0\" y=\"5\" font-size=\"10px\" fill=\"#FFFFFF\" font-family=\"Helvetica Neue, Helvetica, Arial, sans-serif\"> COMBI…</text></g><g class=\"node\" aria-label=\"graph-node4257\" transform=\"translate(-86.58039465451498,-233.4313549828867)\"><circle class=\"b-outline\" cx=\"0\" cy=\"0\" r=\"25\" fill=\"#C990C0\" stroke=\"#b261a5\" stroke-width=\"2px\"/><text class=\"caption\" text-anchor=\"middle\" pointer-events=\"none\" x=\"0\" y=\"5\" font-size=\"10px\" fill=\"#FFFFFF\" font-family=\"Helvetica Neue, Helvetica, Arial, sans-serif\"> Encepha…</text></g><g class=\"node\" aria-label=\"graph-node7828\" transform=\"translate(-51.14450049821368,-324.8062139652201)\"><circle class=\"b-outline\" cx=\"0\" cy=\"0\" r=\"25\" fill=\"#C990C0\" stroke=\"#b261a5\" stroke-width=\"2px\"/><text class=\"caption\" text-anchor=\"middle\" pointer-events=\"none\" x=\"0\" y=\"0\" font-size=\"10px\" fill=\"#FFFFFF\" font-family=\"Helvetica Neue, Helvetica, Arial, sans-serif\"> MELAS</text><text class=\"caption\" text-anchor=\"middle\" pointer-events=\"none\" x=\"0\" y=\"10\" font-size=\"10px\" fill=\"#FFFFFF\" font-family=\"Helvetica Neue, Helvetica, Arial, sans-serif\"> Syndr…</text></g><g class=\"node\" aria-label=\"graph-node7975\" transform=\"translate(-50.68171275286717,-424.1396359148966)\"><circle class=\"b-outline\" cx=\"0\" cy=\"0\" r=\"25\" fill=\"#C990C0\" stroke=\"#b261a5\" stroke-width=\"2px\"/><text class=\"caption\" text-anchor=\"middle\" pointer-events=\"none\" x=\"0\" y=\"0\" font-size=\"10px\" fill=\"#FFFFFF\" font-family=\"Helvetica Neue, Helvetica, Arial, sans-serif\"> MERRF</text><text class=\"caption\" text-anchor=\"middle\" pointer-events=\"none\" x=\"0\" y=\"10\" font-size=\"10px\" fill=\"#FFFFFF\" font-family=\"Helvetica Neue, Helvetica, Arial, sans-serif\"> Syndr…</text></g><g class=\"node\" aria-label=\"graph-node8251\" transform=\"translate(-135.19046398570927,-376.035719315886)\"><circle class=\"b-outline\" cx=\"0\" cy=\"0\" r=\"25\" fill=\"#C990C0\" stroke=\"#b261a5\" stroke-width=\"2px\"/><text class=\"caption\" text-anchor=\"middle\" pointer-events=\"none\" x=\"0\" y=\"5\" font-size=\"10px\" fill=\"#FFFFFF\" font-family=\"Helvetica Neue, Helvetica, Arial, sans-serif\"> MITOCH…</text></g><g class=\"node\" aria-label=\"graph-node8255\" transform=\"translate(-382.83229372025534,-366.95128728311926)\"><circle class=\"b-outline\" cx=\"0\" cy=\"0\" r=\"25\" fill=\"#C990C0\" stroke=\"#b261a5\" stroke-width=\"2px\"/><text class=\"caption\" text-anchor=\"middle\" pointer-events=\"none\" x=\"0\" y=\"5\" font-size=\"10px\" fill=\"#FFFFFF\" font-family=\"Helvetica Neue, Helvetica, Arial, sans-serif\"> MITOCH…</text></g><g class=\"node\" aria-label=\"graph-node8256\" transform=\"translate(-380.82579373511936,-267.3925860244708)\"><circle class=\"b-outline\" cx=\"0\" cy=\"0\" r=\"25\" fill=\"#C990C0\" stroke=\"#b261a5\" stroke-width=\"2px\"/><text class=\"caption\" text-anchor=\"middle\" pointer-events=\"none\" x=\"0\" y=\"5\" font-size=\"10px\" fill=\"#FFFFFF\" font-family=\"Helvetica Neue, Helvetica, Arial, sans-serif\"> MITOCH…</text></g><g class=\"node\" aria-label=\"graph-node8258\" transform=\"translate(-178.51572329856376,-197.96088354827563)\"><circle class=\"b-outline\" cx=\"0\" cy=\"0\" r=\"25\" fill=\"#C990C0\" stroke=\"#b261a5\" stroke-width=\"2px\"/><text class=\"caption\" text-anchor=\"middle\" pointer-events=\"none\" x=\"0\" y=\"5\" font-size=\"10px\" fill=\"#FFFFFF\" font-family=\"Helvetica Neue, Helvetica, Arial, sans-serif\"> MITOCH…</text></g><g class=\"node\" aria-label=\"graph-node8264\" transform=\"translate(-136.9898754587218,-473.8693126753425)\"><circle class=\"b-outline\" cx=\"0\" cy=\"0\" r=\"25\" fill=\"#C990C0\" stroke=\"#b261a5\" stroke-width=\"2px\"/><text class=\"caption\" text-anchor=\"middle\" pointer-events=\"none\" x=\"0\" y=\"5\" font-size=\"10px\" fill=\"#FFFFFF\" font-family=\"Helvetica Neue, Helvetica, Arial, sans-serif\"> Mitocho…</text></g><g class=\"node\" aria-label=\"graph-node8265\" transform=\"translate(-621.034113070873,-313.6847426250715)\"><circle class=\"b-outline\" cx=\"0\" cy=\"0\" r=\"25\" fill=\"#C990C0\" stroke=\"#b261a5\" stroke-width=\"2px\"/><text class=\"caption\" text-anchor=\"middle\" pointer-events=\"none\" x=\"0\" y=\"5\" font-size=\"10px\" fill=\"#FFFFFF\" font-family=\"Helvetica Neue, Helvetica, Arial, sans-serif\"> Mitocho…</text></g><g class=\"node\" aria-label=\"graph-node10447\" transform=\"translate(-625.3321197927289,44.39430596036095)\"><circle class=\"b-outline\" cx=\"0\" cy=\"0\" r=\"25\" fill=\"#C990C0\" stroke=\"#b261a5\" stroke-width=\"2px\"/><text class=\"caption\" text-anchor=\"middle\" pointer-events=\"none\" x=\"0\" y=\"0\" font-size=\"10px\" fill=\"#FFFFFF\" font-family=\"Helvetica Neue, Helvetica, Arial, sans-serif\"> Primary</text><text class=\"caption\" text-anchor=\"middle\" pointer-events=\"none\" x=\"0\" y=\"10\" font-size=\"10px\" fill=\"#FFFFFF\" font-family=\"Helvetica Neue, Helvetica, Arial, sans-serif\"> Immu…</text></g></g></svg>"
      ],
      "text/plain": [
       "<IPython.core.display.SVG object>"
      ]
     },
     "metadata": {},
     "output_type": "display_data"
    }
   ],
   "source": [
    "display(SVG(filename='./media/svg/Fig_2_combined_C6_and_C7_deficiencies.svg'))"
   ]
  },
  {
   "cell_type": "markdown",
   "metadata": {},
   "source": [
    "As we can see, \"C6 Deficiency, Subtotal\" predicted by fulltext index is still a part of the same group, however, \"COMBINED OXIDATIVE PHOSPHORYLATION DEFICIENCY 7\" belongs to a different group - \"Mitochondrial Encephalomyopathies\" (MESH:D017237\n",
    "), which makes it a worse candidate. Moreover, vector index search produced a different result when the same query was given - \"Molybdenum Cofactor Deficiency, Complementation Group C\", which belongs to a different from previous two disease groups, which may suggest that vector search works worse for disease names. \n",
    "Let us analyze one more prediction - \"breast cancer\"."
   ]
  },
  {
   "cell_type": "code",
   "execution_count": 252,
   "metadata": {},
   "outputs": [
    {
     "data": {
      "text/plain": [
       "[{'DiseaseID': 'MESH:D001943',\n",
       "  'DiseaseName': 'Breast Neoplasms',\n",
       "  'AltDiseaseIDs': 'DO:DOID:1612|DO:DOID:3459|OMIM:114480',\n",
       "  'Synonyms': 'Breast Cancer|BREAST CANCER, FAMILIAL BREAST CANCER, FAMILIAL MALE, INCLUDED|Breast Carcinoma|Breast Carcinomas|Breast Malignant Neoplasm|Breast Malignant Neoplasms|Breast Malignant Tumor|Breast Malignant Tumors|Breast Neoplasm|Breast Tumor|Breast Tumors|Cancer, Breast|Cancer, Mammary|Cancer of Breast|Cancer of the Breast|Cancers, Mammary|Carcinoma, Breast|Carcinoma, Human Mammary|Carcinomas, Breast|Carcinomas, Human Mammary|Human Mammary Carcinoma|Human Mammary Carcinomas|Human Mammary Neoplasm|Human Mammary Neoplasms|Malignant Neoplasm of Breast|Malignant Tumor of Breast|Mammary Cancer|Mammary Cancers|Mammary Carcinoma, Human|Mammary Carcinomas, Human|Mammary Neoplasm, Human|Mammary Neoplasms, Human|Neoplasm, Breast|Neoplasm, Human Mammary|Neoplasms, Breast|Neoplasms, Human Mammary|Tumor, Breast|Tumors, Breast'}]"
      ]
     },
     "execution_count": 252,
     "metadata": {},
     "output_type": "execute_result"
    }
   ],
   "source": [
    "get_disease_by_id(\"MESH:D001943\")"
   ]
  },
  {
   "cell_type": "markdown",
   "metadata": {},
   "source": [
    "As we can see, \"breast cancer\" with \"MESH:D001943\" can be found as a \"Breast Neoplasms\" in our knowledge graph, however, \"breast cancer\" is listed as a synonym. Let us compare the findings for this in our two indices."
   ]
  },
  {
   "cell_type": "code",
   "execution_count": 254,
   "metadata": {},
   "outputs": [
    {
     "data": {
      "image/svg+xml": [
       "<svg xmlns=\"http://www.w3.org/2000/svg\" width=\"877.164306640625\" height=\"499.5315246582031\" viewBox=\"-572.4708862304688 -110.65230560302734 877.164306640625 499.5315246582031\"><title>Neo4j Graph Visualization</title><desc>Created using Neo4j (http://www.neo4j.com/)</desc><g class=\"layer relationships\"><g class=\"relationship\" transform=\"translate(268.92601719845607 -25.655000055494497) rotate(525.3286609632486)\"><path class=\"b-outline\" fill=\"#A5ABB6\" stroke=\"none\" d=\"M 25 0.5 L 286.7035630255629 0.5 L 286.7035630255629 -0.5 L 25 -0.5 Z M 373.3246567755629 0.5 L 635.0282198011258 0.5 L 635.0282198011258 3.5 L 642.0282198011258 0 L 635.0282198011258 -3.5 L 635.0282198011258 -0.5 L 373.3246567755629 -0.5 Z\"/><text text-anchor=\"middle\" pointer-events=\"none\" font-size=\"8px\" fill=\"#000000\" x=\"330.0141099005629\" y=\"3\" transform=\"rotate(180 330.0141099005629 0)\" font-family=\"Helvetica Neue, Helvetica, Arial, sans-serif\">SUB_CATEGORY_OF</text></g><g class=\"relationship\" transform=\"translate(-102.98417804245852 116.96148165228398) rotate(534.4995857982387)\"><path class=\"b-outline\" fill=\"#A5ABB6\" stroke=\"none\" d=\"M 25 0.5 L 90.50636897229066 0.5 L 90.50636897229066 -0.5 L 25 -0.5 Z M 177.12746272229066 0.5 L 242.63383169458132 0.5 L 242.63383169458132 3.5 L 249.63383169458132 0 L 242.63383169458132 -3.5 L 242.63383169458132 -0.5 L 177.12746272229066 -0.5 Z\"/><text text-anchor=\"middle\" pointer-events=\"none\" font-size=\"8px\" fill=\"#000000\" x=\"133.81691584729066\" y=\"3\" transform=\"rotate(180 133.81691584729066 0)\" font-family=\"Helvetica Neue, Helvetica, Arial, sans-serif\">SUB_CATEGORY_OF</text></g><g class=\"relationship\" transform=\"translate(-462.50513587726385 -29.34749912473931) rotate(423.47878750168513)\"><path class=\"b-outline\" fill=\"#A5ABB6\" stroke=\"none\" d=\"M 25 0.5 L 49.65760465359065 0.5 L 49.65760465359065 -0.5 L 25 -0.5 Z M 136.27869840359065 0.5 L 160.9363030571813 0.5 L 160.9363030571813 3.5 L 167.9363030571813 0 L 160.9363030571813 -3.5 L 160.9363030571813 -0.5 L 136.27869840359065 -0.5 Z\"/><text text-anchor=\"middle\" pointer-events=\"none\" font-size=\"8px\" fill=\"#000000\" x=\"92.96815152859065\" y=\"3\" font-family=\"Helvetica Neue, Helvetica, Arial, sans-serif\">SUB_CATEGORY_OF</text></g><g class=\"relationship\" transform=\"translate(-380.80345641652974 -81.65230426418812) rotate(448.8666544057348)\"><path class=\"b-outline\" fill=\"#A5ABB6\" stroke=\"none\" d=\"M 25 0.5 L 65.68058396729542 0.5 L 65.68058396729542 -0.5 L 25 -0.5 Z M 152.30167771729543 0.5 L 192.98226168459084 0.5 L 192.98226168459084 3.5 L 199.98226168459084 0 L 192.98226168459084 -3.5 L 192.98226168459084 -0.5 L 152.30167771729543 -0.5 Z\"/><text text-anchor=\"middle\" pointer-events=\"none\" font-size=\"8px\" fill=\"#000000\" x=\"108.99113084229542\" y=\"3\" font-family=\"Helvetica Neue, Helvetica, Arial, sans-serif\">SUB_CATEGORY_OF</text></g><g class=\"relationship\" transform=\"translate(-376.3534597570034 143.28594415622598) rotate(427.4018723640518)\"><path class=\"b-outline\" fill=\"#A5ABB6\" stroke=\"none\" d=\"M 25 0.5 L 59.904839892461794 0.5 L 59.904839892461794 -0.5 L 25 -0.5 Z M 146.52593364246178 0.5 L 181.4307735349236 0.5 L 181.4307735349236 3.5 L 188.4307735349236 0 L 181.4307735349236 -3.5 L 181.4307735349236 -0.5 L 146.52593364246178 -0.5 Z\"/><text text-anchor=\"middle\" pointer-events=\"none\" font-size=\"8px\" fill=\"#000000\" x=\"103.2153867674618\" y=\"3\" font-family=\"Helvetica Neue, Helvetica, Arial, sans-serif\">SUB_CATEGORY_OF</text></g><g class=\"relationship\" transform=\"translate(-457.1897040051324 68.29119130540334) rotate(402.8532116799731)\"><path class=\"b-outline\" fill=\"#A5ABB6\" stroke=\"none\" d=\"M 25 0.5 L 26.478976516163563 0.5 L 26.478976516163563 -0.5 L 25 -0.5 Z M 76.78757026616356 0.5 L 78.26654678232713 0.5 L 78.26654678232713 3.5 L 85.26654678232713 0 L 78.26654678232713 -3.5 L 78.26654678232713 -0.5 L 76.78757026616356 -0.5 Z\"/><text text-anchor=\"middle\" pointer-events=\"none\" font-size=\"8px\" fill=\"#000000\" x=\"51.63327339116356\" y=\"3\" font-family=\"Helvetica Neue, Helvetica, Arial, sans-serif\">SUB_CAT…</text></g><g class=\"relationship\" transform=\"translate(-540.4013792575983 121.5745696827927) rotate(367.53915332001003)\"><path class=\"b-outline\" fill=\"#A5ABB6\" stroke=\"none\" d=\"M 25 0.5 L 35.92865736639831 0.5 L 35.92865736639831 -0.5 L 25 -0.5 Z M 122.54975111639831 0.5 L 133.47840848279662 0.5 L 133.47840848279662 3.5 L 140.47840848279662 0 L 133.47840848279662 -3.5 L 133.47840848279662 -0.5 L 122.54975111639831 -0.5 Z\"/><text text-anchor=\"middle\" pointer-events=\"none\" font-size=\"8px\" fill=\"#000000\" x=\"79.23920424139831\" y=\"3\" font-family=\"Helvetica Neue, Helvetica, Arial, sans-serif\">SUB_CATEGORY_OF</text></g><g class=\"relationship\" transform=\"translate(-525.7089523157154 217.37986458210895) rotate(333.61440272760683)\"><path class=\"b-outline\" fill=\"#A5ABB6\" stroke=\"none\" d=\"M 25 0.5 L 36.55157312193346 0.5 L 36.55157312193346 -0.5 L 25 -0.5 Z M 123.17266687193346 0.5 L 134.72423999386692 0.5 L 134.72423999386692 3.5 L 141.72423999386692 0 L 134.72423999386692 -3.5 L 134.72423999386692 -0.5 L 123.17266687193346 -0.5 Z\"/><text text-anchor=\"middle\" pointer-events=\"none\" font-size=\"8px\" fill=\"#000000\" x=\"79.86211999693346\" y=\"3\" font-family=\"Helvetica Neue, Helvetica, Arial, sans-serif\">SUB_CATEGORY_OF</text></g><g class=\"relationship\" transform=\"translate(-488.3655333929932 308.93901142764463) rotate(304.06595706297543)\"><path class=\"b-outline\" fill=\"#A5ABB6\" stroke=\"none\" d=\"M 25 0.5 L 53.17400610277697 0.5 L 53.17400610277697 -0.5 L 25 -0.5 Z M 139.79509985277696 0.5 L 167.96910595555394 0.5 L 167.96910595555394 3.5 L 174.96910595555394 0 L 167.96910595555394 -3.5 L 167.96910595555394 -0.5 L 139.79509985277696 -0.5 Z\"/><text text-anchor=\"middle\" pointer-events=\"none\" font-size=\"8px\" fill=\"#000000\" x=\"96.48455297777697\" y=\"3\" font-family=\"Helvetica Neue, Helvetica, Arial, sans-serif\">SUB_CATEGORY_OF</text></g><g class=\"relationship\" transform=\"translate(-326.9649110811711 248.64890041176216) rotate(244.8853153904987)\"><path class=\"b-outline\" fill=\"#A5ABB6\" stroke=\"none\" d=\"M 25 0.5 L 26.85973608345595 0.5 L 26.85973608345595 -0.5 L 25 -0.5 Z M 82.50426733345594 0.5 L 84.3640034169119 0.5 L 84.3640034169119 3.5 L 91.3640034169119 0 L 84.3640034169119 -3.5 L 84.3640034169119 -0.5 L 82.50426733345594 -0.5 Z\"/><text text-anchor=\"middle\" pointer-events=\"none\" font-size=\"8px\" fill=\"#000000\" x=\"54.68200170845595\" y=\"3\" transform=\"rotate(180 54.68200170845595 0)\" font-family=\"Helvetica Neue, Helvetica, Arial, sans-serif\">SUB_CATE…</text></g><g class=\"relationship\" transform=\"translate(-261.57314066512714 174.33773724757282) rotate(195.13800194069393)\"><path class=\"b-outline\" fill=\"#A5ABB6\" stroke=\"none\" d=\"M 25 0.5 L 25.019613701366218 0.5 L 25.019613701366218 -0.5 L 25 -0.5 Z M 86.88680120136621 0.5 L 86.90641490273244 0.5 L 86.90641490273244 3.5 L 93.90641490273244 0 L 86.90641490273244 -3.5 L 86.90641490273244 -0.5 L 86.88680120136621 -0.5 Z\"/><text text-anchor=\"middle\" pointer-events=\"none\" font-size=\"8px\" fill=\"#000000\" x=\"55.95320745136622\" y=\"3\" transform=\"rotate(180 55.95320745136622 0)\" font-family=\"Helvetica Neue, Helvetica, Arial, sans-serif\">SUB_CATEG…</text></g><g class=\"relationship\" transform=\"translate(-286.37745873415986 59.68605995933557) rotate(497.1037507363989)\"><path class=\"b-outline\" fill=\"#A5ABB6\" stroke=\"none\" d=\"M 25 0.5 L 26.976139594552613 0.5 L 26.976139594552613 -0.5 L 25 -0.5 Z M 88.84332709455262 0.5 L 90.81946668910523 0.5 L 90.81946668910523 3.5 L 97.81946668910523 0 L 90.81946668910523 -3.5 L 90.81946668910523 -0.5 L 88.84332709455262 -0.5 Z\"/><text text-anchor=\"middle\" pointer-events=\"none\" font-size=\"8px\" fill=\"#000000\" x=\"57.90973334455261\" y=\"3\" transform=\"rotate(180 57.90973334455261 0)\" font-family=\"Helvetica Neue, Helvetica, Arial, sans-serif\">SUB_CATEG…</text></g><g class=\"relationship\" transform=\"translate(-374.8007198910953 14.410077851387362) rotate(450.6902854592628)\"><path class=\"b-outline\" fill=\"#A5ABB6\" stroke=\"none\" d=\"M 25 0.5 L 26.897688090987984 0.5 L 26.897688090987984 -0.5 L 25 -0.5 Z M 94.98753184098798 0.5 L 96.88521993197597 0.5 L 96.88521993197597 3.5 L 103.88521993197597 0 L 96.88521993197597 -3.5 L 96.88521993197597 -0.5 L 94.98753184098798 -0.5 Z\"/><text text-anchor=\"middle\" pointer-events=\"none\" font-size=\"8px\" fill=\"#000000\" x=\"60.942609965987984\" y=\"3\" transform=\"rotate(180 60.942609965987984 0)\" font-family=\"Helvetica Neue, Helvetica, Arial, sans-serif\">SUB_CATEGO…</text></g><g class=\"relationship\" transform=\"translate(-205.52523427360114 3.9414043025907564) rotate(500.7958834358572)\"><path class=\"b-outline\" fill=\"#A5ABB6\" stroke=\"none\" d=\"M 25 0.5 L 63.41556551316039 0.5 L 63.41556551316039 -0.5 L 25 -0.5 Z M 150.0366592631604 0.5 L 188.45222477632078 0.5 L 188.45222477632078 3.5 L 195.45222477632078 0 L 188.45222477632078 -3.5 L 188.45222477632078 -0.5 L 150.0366592631604 -0.5 Z\"/><text text-anchor=\"middle\" pointer-events=\"none\" font-size=\"8px\" fill=\"#000000\" x=\"106.72611238816039\" y=\"3\" transform=\"rotate(180 106.72611238816039 0)\" font-family=\"Helvetica Neue, Helvetica, Arial, sans-serif\">SUB_CATEGORY_OF</text></g><g class=\"relationship\" transform=\"translate(-197.82099590906006 100.88042814158321) rotate(526.6385494317958)\"><path class=\"b-outline\" fill=\"#A5ABB6\" stroke=\"none\" d=\"M 25 0.5 L 44.93920576238497 0.5 L 44.93920576238497 -0.5 L 25 -0.5 Z M 131.56029951238497 0.5 L 151.49950527476994 0.5 L 151.49950527476994 3.5 L 158.49950527476994 0 L 151.49950527476994 -3.5 L 151.49950527476994 -0.5 L 131.56029951238497 -0.5 Z\"/><text text-anchor=\"middle\" pointer-events=\"none\" font-size=\"8px\" fill=\"#000000\" x=\"88.24975263738497\" y=\"3\" transform=\"rotate(180 88.24975263738497 0)\" font-family=\"Helvetica Neue, Helvetica, Arial, sans-serif\">SUB_CATEGORY_OF</text></g><g class=\"relationship\" transform=\"translate(-293.6112935398075 -38.42358523527039) rotate(474.4823381007242)\"><path class=\"b-outline\" fill=\"#A5ABB6\" stroke=\"none\" d=\"M 25 0.5 L 53.02008362234932 0.5 L 53.02008362234932 -0.5 L 25 -0.5 Z M 139.64117737234932 0.5 L 167.66126099469864 0.5 L 167.66126099469864 3.5 L 174.66126099469864 0 L 167.66126099469864 -3.5 L 167.66126099469864 -0.5 L 139.64117737234932 -0.5 Z\"/><text text-anchor=\"middle\" pointer-events=\"none\" font-size=\"8px\" fill=\"#000000\" x=\"96.33063049734932\" y=\"3\" transform=\"rotate(180 96.33063049734932 0)\" font-family=\"Helvetica Neue, Helvetica, Arial, sans-serif\">SUB_CATEGORY_OF</text></g><g class=\"relationship\" transform=\"translate(-376.3534597570034 143.28594415622598) rotate(215.37321327962985)\"><path class=\"b-outline\" fill=\"#A5ABB6\" stroke=\"none\" d=\"M 25 0.5 L 55.66536572482251 0.5 L 55.66536572482251 -0.5 L 25 -0.5 Z M 142.2864594748225 0.5 L 172.95182519964501 0.5 L 172.95182519964501 3.5 L 179.95182519964501 0 L 172.95182519964501 -3.5 L 172.95182519964501 -0.5 L 142.2864594748225 -0.5 Z\"/><text text-anchor=\"middle\" pointer-events=\"none\" font-size=\"8px\" fill=\"#000000\" x=\"98.97591259982251\" y=\"3\" transform=\"rotate(180 98.97591259982251 0)\" font-family=\"Helvetica Neue, Helvetica, Arial, sans-serif\">SUB_CATEGORY_OF</text></g><g class=\"relationship\" transform=\"translate(-163.72553926542855 193.68513604573477) rotate(193.3347235495698)\"><path class=\"b-outline\" fill=\"#A5ABB6\" stroke=\"none\" d=\"M 25 0.5 L 62.44913360651043 0.5 L 62.44913360651043 -0.5 L 25 -0.5 Z M 149.07022735651043 0.5 L 186.51936096302086 0.5 L 186.51936096302086 3.5 L 193.51936096302086 0 L 186.51936096302086 -3.5 L 186.51936096302086 -0.5 L 149.07022735651043 -0.5 Z\"/><text text-anchor=\"middle\" pointer-events=\"none\" font-size=\"8px\" fill=\"#000000\" x=\"105.75968048151043\" y=\"3\" transform=\"rotate(180 105.75968048151043 0)\" font-family=\"Helvetica Neue, Helvetica, Arial, sans-serif\">SUB_CATEGORY_OF</text></g><g class=\"relationship\" transform=\"translate(-427.8494829757397 233.3579810344287) rotate(299.75748551759295)\"><path class=\"b-outline\" fill=\"#A5ABB6\" stroke=\"none\" d=\"M 25 0.5 L 25.37094718326103 0.5 L 25.37094718326103 -0.5 L 25 -0.5 Z M 71.38266593326102 0.5 L 71.75361311652206 0.5 L 71.75361311652206 3.5 L 78.75361311652206 0 L 71.75361311652206 -3.5 L 71.75361311652206 -0.5 L 71.38266593326102 -0.5 Z\"/><text text-anchor=\"middle\" pointer-events=\"none\" font-size=\"8px\" fill=\"#000000\" x=\"48.37680655826103\" y=\"3\" font-family=\"Helvetica Neue, Helvetica, Arial, sans-serif\">SUB_CA…</text></g><g class=\"relationship\" transform=\"translate(-231.064181747678 266.7190373983372) rotate(220.35015739217022)\"><path class=\"b-outline\" fill=\"#A5ABB6\" stroke=\"none\" d=\"M 25 0.5 L 48.5108867217871 0.5 L 48.5108867217871 -0.5 L 25 -0.5 Z M 135.1319804717871 0.5 L 158.6428671935742 0.5 L 158.6428671935742 3.5 L 165.6428671935742 0 L 158.6428671935742 -3.5 L 158.6428671935742 -0.5 L 135.1319804717871 -0.5 Z\"/><text text-anchor=\"middle\" pointer-events=\"none\" font-size=\"8px\" fill=\"#000000\" x=\"91.8214335967871\" y=\"3\" transform=\"rotate(180 91.8214335967871 0)\" font-family=\"Helvetica Neue, Helvetica, Arial, sans-serif\">SUB_CATEGORY_OF</text></g><g class=\"relationship\" transform=\"translate(-390.0883161728393 323.27682100758045) rotate(274.36370533279114)\"><path class=\"b-outline\" fill=\"#A5ABB6\" stroke=\"none\" d=\"M 25 0.5 L 43.44653322191411 0.5 L 43.44653322191411 -0.5 L 25 -0.5 Z M 130.0676269719141 0.5 L 148.51416019382822 0.5 L 148.51416019382822 3.5 L 155.51416019382822 0 L 148.51416019382822 -3.5 L 148.51416019382822 -0.5 L 130.0676269719141 -0.5 Z\"/><text text-anchor=\"middle\" pointer-events=\"none\" font-size=\"8px\" fill=\"#000000\" x=\"86.75708009691411\" y=\"3\" font-family=\"Helvetica Neue, Helvetica, Arial, sans-serif\">SUB_CATEGORY_OF</text></g><g class=\"relationship\" transform=\"translate(82.80877724631517 174.87171057140387) rotate(538.1638028790478)\"><path class=\"b-outline\" fill=\"#A5ABB6\" stroke=\"none\" d=\"M 25 0.5 L 26.311217405927337 0.5 L 26.311217405927337 -0.5 L 25 -0.5 Z M 72.32293615592734 0.5 L 73.63415356185467 0.5 L 73.63415356185467 3.5 L 80.63415356185467 0 L 73.63415356185467 -3.5 L 73.63415356185467 -0.5 L 72.32293615592734 -0.5 Z\"/><text text-anchor=\"middle\" pointer-events=\"none\" font-size=\"8px\" fill=\"#000000\" x=\"49.31707678092734\" y=\"3\" transform=\"rotate(180 49.31707678092734 0)\" font-family=\"Helvetica Neue, Helvetica, Arial, sans-serif\">SUB_CA…</text></g><g class=\"relationship\" transform=\"translate(-163.72553926542855 193.68513604573477) rotate(353.7533511699561)\"><path class=\"b-outline\" fill=\"#A5ABB6\" stroke=\"none\" d=\"M 25 0.5 L 25.642286050459404 0.5 L 25.642286050459404 -0.5 L 25 -0.5 Z M 109.1540048004594 0.5 L 109.79629085091881 0.5 L 109.79629085091881 3.5 L 116.79629085091881 0 L 109.79629085091881 -3.5 L 109.79629085091881 -0.5 L 109.1540048004594 -0.5 Z\"/><text text-anchor=\"middle\" pointer-events=\"none\" font-size=\"8px\" fill=\"#000000\" x=\"67.3981454254594\" y=\"3\" font-family=\"Helvetica Neue, Helvetica, Arial, sans-serif\">SUB_CATEGORY_…</text></g><g class=\"relationship\" transform=\"translate(-102.98417804245852 116.96148165228398) rotate(397.38533633274307)\"><path class=\"b-outline\" fill=\"#A5ABB6\" stroke=\"none\" d=\"M 25 0.5 L 26.63786296913915 0.5 L 26.63786296913915 -0.5 L 25 -0.5 Z M 67.31364421913915 0.5 L 68.9515071882783 0.5 L 68.9515071882783 3.5 L 75.9515071882783 0 L 68.9515071882783 -3.5 L 68.9515071882783 -0.5 L 67.31364421913915 -0.5 Z\"/><text text-anchor=\"middle\" pointer-events=\"none\" font-size=\"8px\" fill=\"#000000\" x=\"46.97575359413915\" y=\"3\" font-family=\"Helvetica Neue, Helvetica, Arial, sans-serif\">SUB_C…</text></g><g class=\"relationship\" transform=\"translate(82.80877724631517 174.87171057140387) rotate(358.896989288133)\"><path class=\"b-outline\" fill=\"#A5ABB6\" stroke=\"none\" d=\"M 25 0.5 L 49.64966283984184 0.5 L 49.64966283984184 -0.5 L 25 -0.5 Z M 136.27075658984182 0.5 L 160.92041942968368 0.5 L 160.92041942968368 3.5 L 167.92041942968368 0 L 160.92041942968368 -3.5 L 160.92041942968368 -0.5 L 136.27075658984182 -0.5 Z\"/><text text-anchor=\"middle\" pointer-events=\"none\" font-size=\"8px\" fill=\"#000000\" x=\"92.96020971484184\" y=\"3\" font-family=\"Helvetica Neue, Helvetica, Arial, sans-serif\">SUB_CATEGORY_OF</text></g><g class=\"relationship\" transform=\"translate(275.69344890358144 171.15799644755833) rotate(515.385646244689)\"><path class=\"b-outline\" fill=\"#A5ABB6\" stroke=\"none\" d=\"M 25 0.5 L 122.64320122406582 0.5 L 122.64320122406582 -0.5 L 25 -0.5 Z M 209.26429497406582 0.5 L 306.90749619813164 0.5 L 306.90749619813164 3.5 L 313.90749619813164 0 L 306.90749619813164 -3.5 L 306.90749619813164 -0.5 L 209.26429497406582 -0.5 Z\"/><text text-anchor=\"middle\" pointer-events=\"none\" font-size=\"8px\" fill=\"#000000\" x=\"165.95374809906582\" y=\"3\" transform=\"rotate(180 165.95374809906582 0)\" font-family=\"Helvetica Neue, Helvetica, Arial, sans-serif\">SUB_CATEGORY_OF</text></g><g class=\"relationship\" transform=\"translate(275.69344890358144 171.15799644755833) rotate(495.0984225768158)\"><path class=\"b-outline\" fill=\"#A5ABB6\" stroke=\"none\" d=\"M 25 0.5 L 86.86532621621814 0.5 L 86.86532621621814 -0.5 L 25 -0.5 Z M 173.48641996621814 0.5 L 235.35174618243627 0.5 L 235.35174618243627 3.5 L 242.35174618243627 0 L 235.35174618243627 -3.5 L 235.35174618243627 -0.5 L 173.48641996621814 -0.5 Z\"/><text text-anchor=\"middle\" pointer-events=\"none\" font-size=\"8px\" fill=\"#000000\" x=\"130.17587309121814\" y=\"3\" transform=\"rotate(180 130.17587309121814 0)\" font-family=\"Helvetica Neue, Helvetica, Arial, sans-serif\">SUB_CATEGORY_OF</text></g></g><g class=\"layer nodes\"><g class=\"node\" aria-label=\"graph-node1614\" transform=\"translate(268.92601719845607,-25.655000055494497)\"><circle class=\"b-outline\" cx=\"0\" cy=\"0\" r=\"25\" fill=\"#C990C0\" stroke=\"#b261a5\" stroke-width=\"2px\"/><text class=\"caption\" text-anchor=\"middle\" pointer-events=\"none\" x=\"0\" y=\"0\" font-size=\"10px\" fill=\"#FFFFFF\" font-family=\"Helvetica Neue, Helvetica, Arial, sans-serif\"> Breast</text><text class=\"caption\" text-anchor=\"middle\" pointer-events=\"none\" x=\"0\" y=\"10\" font-size=\"10px\" fill=\"#FFFFFF\" font-family=\"Helvetica Neue, Helvetica, Arial, sans-serif\">3…</text></g><g class=\"node\" aria-label=\"graph-node1622\" transform=\"translate(-376.3534597570034,143.28594415622598)\"><circle class=\"b-outline\" cx=\"0\" cy=\"0\" r=\"25\" fill=\"#C990C0\" stroke=\"#b261a5\" stroke-width=\"2px\"/><text class=\"caption\" text-anchor=\"middle\" pointer-events=\"none\" x=\"0\" y=\"0\" font-size=\"10px\" fill=\"#FFFFFF\" font-family=\"Helvetica Neue, Helvetica, Arial, sans-serif\"> Breast</text><text class=\"caption\" text-anchor=\"middle\" pointer-events=\"none\" x=\"0\" y=\"10\" font-size=\"10px\" fill=\"#FFFFFF\" font-family=\"Helvetica Neue, Helvetica, Arial, sans-serif\"> Neopl…</text></g><g class=\"node\" aria-label=\"graph-node741\" transform=\"translate(-102.98417804245852,116.96148165228398)\"><circle class=\"b-outline\" cx=\"0\" cy=\"0\" r=\"25\" fill=\"#C990C0\" stroke=\"#b261a5\" stroke-width=\"2px\"/><text class=\"caption\" text-anchor=\"middle\" pointer-events=\"none\" x=\"0\" y=\"5\" font-size=\"10px\" fill=\"#FFFFFF\" font-family=\"Helvetica Neue, Helvetica, Arial, sans-serif\"> Angiosar…</text></g><g class=\"node\" aria-label=\"graph-node1615\" transform=\"translate(-462.50513587726385,-29.34749912473931)\"><circle class=\"b-outline\" cx=\"0\" cy=\"0\" r=\"25\" fill=\"#C990C0\" stroke=\"#b261a5\" stroke-width=\"2px\"/><text class=\"caption\" text-anchor=\"middle\" pointer-events=\"none\" x=\"0\" y=\"-5\" font-size=\"10px\" fill=\"#FFFFFF\" font-family=\"Helvetica Neue, Helvetica, Arial, sans-serif\"> Breast</text><text class=\"caption\" text-anchor=\"middle\" pointer-events=\"none\" x=\"0\" y=\"5\" font-size=\"10px\" fill=\"#FFFFFF\" font-family=\"Helvetica Neue, Helvetica, Arial, sans-serif\"> Cancer,</text><text class=\"caption\" text-anchor=\"middle\" pointer-events=\"none\" x=\"0\" y=\"15\" font-size=\"10px\" fill=\"#FFFFFF\" font-family=\"Helvetica Neue, Helvetica, Arial, sans-serif\"> Fami</text></g><g class=\"node\" aria-label=\"graph-node1618\" transform=\"translate(-380.80345641652974,-81.65230426418812)\"><circle class=\"b-outline\" cx=\"0\" cy=\"0\" r=\"25\" fill=\"#C990C0\" stroke=\"#b261a5\" stroke-width=\"2px\"/><text class=\"caption\" text-anchor=\"middle\" pointer-events=\"none\" x=\"0\" y=\"0\" font-size=\"10px\" fill=\"#FFFFFF\" font-family=\"Helvetica Neue, Helvetica, Arial, sans-serif\"> Breast</text><text class=\"caption\" text-anchor=\"middle\" pointer-events=\"none\" x=\"0\" y=\"10\" font-size=\"10px\" fill=\"#FFFFFF\" font-family=\"Helvetica Neue, Helvetica, Arial, sans-serif\"> Carcin…</text></g><g class=\"node\" aria-label=\"graph-node1620\" transform=\"translate(-294.3394509216301,340.3300951642352)\"><circle class=\"b-outline\" cx=\"0\" cy=\"0\" r=\"25\" fill=\"#C990C0\" stroke=\"#b261a5\" stroke-width=\"2px\"/><text class=\"caption\" text-anchor=\"middle\" pointer-events=\"none\" x=\"0\" y=\"0\" font-size=\"10px\" fill=\"#FFFFFF\" font-family=\"Helvetica Neue, Helvetica, Arial, sans-serif\"> Breast</text><text class=\"caption\" text-anchor=\"middle\" pointer-events=\"none\" x=\"0\" y=\"10\" font-size=\"10px\" fill=\"#FFFFFF\" font-family=\"Helvetica Neue, Helvetica, Arial, sans-serif\"> Disea…</text></g><g class=\"node\" aria-label=\"graph-node1623\" transform=\"translate(-457.1897040051324,68.29119130540334)\"><circle class=\"b-outline\" cx=\"0\" cy=\"0\" r=\"25\" fill=\"#C990C0\" stroke=\"#b261a5\" stroke-width=\"2px\"/><text class=\"caption\" text-anchor=\"middle\" pointer-events=\"none\" x=\"0\" y=\"0\" font-size=\"10px\" fill=\"#FFFFFF\" font-family=\"Helvetica Neue, Helvetica, Arial, sans-serif\"> Breast</text><text class=\"caption\" text-anchor=\"middle\" pointer-events=\"none\" x=\"0\" y=\"10\" font-size=\"10px\" fill=\"#FFFFFF\" font-family=\"Helvetica Neue, Helvetica, Arial, sans-serif\"> Neopl…</text></g><g class=\"node\" aria-label=\"graph-node1624\" transform=\"translate(-540.4013792575983,121.5745696827927)\"><circle class=\"b-outline\" cx=\"0\" cy=\"0\" r=\"25\" fill=\"#C990C0\" stroke=\"#b261a5\" stroke-width=\"2px\"/><text class=\"caption\" text-anchor=\"middle\" pointer-events=\"none\" x=\"0\" y=\"5\" font-size=\"10px\" fill=\"#FFFFFF\" font-family=\"Helvetica Neue, Helvetica, Arial, sans-serif\"> BREAS…</text></g><g class=\"node\" aria-label=\"graph-node1625\" transform=\"translate(-525.7089523157154,217.37986458210895)\"><circle class=\"b-outline\" cx=\"0\" cy=\"0\" r=\"25\" fill=\"#C990C0\" stroke=\"#b261a5\" stroke-width=\"2px\"/><text class=\"caption\" text-anchor=\"middle\" pointer-events=\"none\" x=\"0\" y=\"5\" font-size=\"10px\" fill=\"#FFFFFF\" font-family=\"Helvetica Neue, Helvetica, Arial, sans-serif\"> BREAS…</text></g><g class=\"node\" aria-label=\"graph-node1626\" transform=\"translate(-488.3655333929932,308.93901142764463)\"><circle class=\"b-outline\" cx=\"0\" cy=\"0\" r=\"25\" fill=\"#C990C0\" stroke=\"#b261a5\" stroke-width=\"2px\"/><text class=\"caption\" text-anchor=\"middle\" pointer-events=\"none\" x=\"0\" y=\"5\" font-size=\"10px\" fill=\"#FFFFFF\" font-family=\"Helvetica Neue, Helvetica, Arial, sans-serif\"> BREAS…</text></g><g class=\"node\" aria-label=\"graph-node1627\" transform=\"translate(-326.9649110811711,248.64890041176216)\"><circle class=\"b-outline\" cx=\"0\" cy=\"0\" r=\"25\" fill=\"#C990C0\" stroke=\"#b261a5\" stroke-width=\"2px\"/><text class=\"caption\" text-anchor=\"middle\" pointer-events=\"none\" x=\"0\" y=\"5\" font-size=\"10px\" fill=\"#FFFFFF\" font-family=\"Helvetica Neue, Helvetica, Arial, sans-serif\"> BREAS…</text></g><g class=\"node\" aria-label=\"graph-node1816\" transform=\"translate(-261.57314066512714,174.33773724757282)\"><circle class=\"b-outline\" cx=\"0\" cy=\"0\" r=\"25\" fill=\"#C990C0\" stroke=\"#b261a5\" stroke-width=\"2px\"/><text class=\"caption\" text-anchor=\"middle\" pointer-events=\"none\" x=\"0\" y=\"5\" font-size=\"10px\" fill=\"#FFFFFF\" font-family=\"Helvetica Neue, Helvetica, Arial, sans-serif\"> Carcino…</text></g><g class=\"node\" aria-label=\"graph-node1828\" transform=\"translate(-286.37745873415986,59.68605995933557)\"><circle class=\"b-outline\" cx=\"0\" cy=\"0\" r=\"25\" fill=\"#C990C0\" stroke=\"#b261a5\" stroke-width=\"2px\"/><text class=\"caption\" text-anchor=\"middle\" pointer-events=\"none\" x=\"0\" y=\"5\" font-size=\"10px\" fill=\"#FFFFFF\" font-family=\"Helvetica Neue, Helvetica, Arial, sans-serif\"> Carcino…</text></g><g class=\"node\" aria-label=\"graph-node4491\" transform=\"translate(-374.8007198910953,14.410077851387362)\"><circle class=\"b-outline\" cx=\"0\" cy=\"0\" r=\"25\" fill=\"#C990C0\" stroke=\"#b261a5\" stroke-width=\"2px\"/><text class=\"caption\" text-anchor=\"middle\" pointer-events=\"none\" x=\"0\" y=\"0\" font-size=\"10px\" fill=\"#FFFFFF\" font-family=\"Helvetica Neue, Helvetica, Arial, sans-serif\"> Erosive</text><text class=\"caption\" text-anchor=\"middle\" pointer-events=\"none\" x=\"0\" y=\"10\" font-size=\"10px\" fill=\"#FFFFFF\" font-family=\"Helvetica Neue, Helvetica, Arial, sans-serif\"> Adeno…</text></g><g class=\"node\" aria-label=\"graph-node5711\" transform=\"translate(-205.52523427360114,3.9414043025907564)\"><circle class=\"b-outline\" cx=\"0\" cy=\"0\" r=\"25\" fill=\"#C990C0\" stroke=\"#b261a5\" stroke-width=\"2px\"/><text class=\"caption\" text-anchor=\"middle\" pointer-events=\"none\" x=\"0\" y=\"0\" font-size=\"10px\" fill=\"#FFFFFF\" font-family=\"Helvetica Neue, Helvetica, Arial, sans-serif\"> Hereditary</text><text class=\"caption\" text-anchor=\"middle\" pointer-events=\"none\" x=\"0\" y=\"10\" font-size=\"10px\" fill=\"#FFFFFF\" font-family=\"Helvetica Neue, Helvetica, Arial, sans-serif\">a…</text></g><g class=\"node\" aria-label=\"graph-node6548\" transform=\"translate(-197.82099590906006,100.88042814158321)\"><circle class=\"b-outline\" cx=\"0\" cy=\"0\" r=\"25\" fill=\"#C990C0\" stroke=\"#b261a5\" stroke-width=\"2px\"/><text class=\"caption\" text-anchor=\"middle\" pointer-events=\"none\" x=\"0\" y=\"5\" font-size=\"10px\" fill=\"#FFFFFF\" font-family=\"Helvetica Neue, Helvetica, Arial, sans-serif\"> Inflamm…</text></g><g class=\"node\" aria-label=\"graph-node8418\" transform=\"translate(-293.6112935398075,-38.42358523527039)\"><circle class=\"b-outline\" cx=\"0\" cy=\"0\" r=\"25\" fill=\"#C990C0\" stroke=\"#b261a5\" stroke-width=\"2px\"/><text class=\"caption\" text-anchor=\"middle\" pointer-events=\"none\" x=\"0\" y=\"5\" font-size=\"10px\" fill=\"#FFFFFF\" font-family=\"Helvetica Neue, Helvetica, Arial, sans-serif\"> MULTIP…</text></g><g class=\"node\" aria-label=\"graph-node8815\" transform=\"translate(-543.4708767709119,24.63932775581932)\"><circle class=\"b-outline\" cx=\"0\" cy=\"0\" r=\"25\" fill=\"#C990C0\" stroke=\"#b261a5\" stroke-width=\"2px\"/><text class=\"caption\" text-anchor=\"middle\" pointer-events=\"none\" x=\"0\" y=\"5\" font-size=\"10px\" fill=\"#FFFFFF\" font-family=\"Helvetica Neue, Helvetica, Arial, sans-serif\"> Neoplas…</text></g><g class=\"node\" aria-label=\"graph-node10745\" transform=\"translate(-163.72553926542855,193.68513604573477)\"><circle class=\"b-outline\" cx=\"0\" cy=\"0\" r=\"25\" fill=\"#C990C0\" stroke=\"#b261a5\" stroke-width=\"2px\"/><text class=\"caption\" text-anchor=\"middle\" pointer-events=\"none\" x=\"0\" y=\"0\" font-size=\"10px\" fill=\"#FFFFFF\" font-family=\"Helvetica Neue, Helvetica, Arial, sans-serif\"> Radiation</text><text class=\"caption\" text-anchor=\"middle\" pointer-events=\"none\" x=\"0\" y=\"10\" font-size=\"10px\" fill=\"#FFFFFF\" font-family=\"Helvetica Neue, Helvetica, Arial, sans-serif\">a…</text></g><g class=\"node\" aria-label=\"graph-node11342\" transform=\"translate(-427.8494829757397,233.3579810344287)\"><circle class=\"b-outline\" cx=\"0\" cy=\"0\" r=\"25\" fill=\"#C990C0\" stroke=\"#b261a5\" stroke-width=\"2px\"/><text class=\"caption\" text-anchor=\"middle\" pointer-events=\"none\" x=\"0\" y=\"0\" font-size=\"10px\" fill=\"#FFFFFF\" font-family=\"Helvetica Neue, Helvetica, Arial, sans-serif\"> Secretory</text><text class=\"caption\" text-anchor=\"middle\" pointer-events=\"none\" x=\"0\" y=\"10\" font-size=\"10px\" fill=\"#FFFFFF\" font-family=\"Helvetica Neue, Helvetica, Arial, sans-serif\">ca…</text></g><g class=\"node\" aria-label=\"graph-node12640\" transform=\"translate(-231.064181747678,266.7190373983372)\"><circle class=\"b-outline\" cx=\"0\" cy=\"0\" r=\"25\" fill=\"#C990C0\" stroke=\"#b261a5\" stroke-width=\"2px\"/><text class=\"caption\" text-anchor=\"middle\" pointer-events=\"none\" x=\"0\" y=\"-5\" font-size=\"10px\" fill=\"#FFFFFF\" font-family=\"Helvetica Neue, Helvetica, Arial, sans-serif\"> Triple</text><text class=\"caption\" text-anchor=\"middle\" pointer-events=\"none\" x=\"0\" y=\"5\" font-size=\"10px\" fill=\"#FFFFFF\" font-family=\"Helvetica Neue, Helvetica, Arial, sans-serif\"> Negative</text><text class=\"caption\" text-anchor=\"middle\" pointer-events=\"none\" x=\"0\" y=\"15\" font-size=\"10px\" fill=\"#FFFFFF\" font-family=\"Helvetica Neue, Helvetica, Arial, sans-serif\"> Bre</text></g><g class=\"node\" aria-label=\"graph-node12756\" transform=\"translate(-390.0883161728393,323.27682100758045)\"><circle class=\"b-outline\" cx=\"0\" cy=\"0\" r=\"25\" fill=\"#C990C0\" stroke=\"#b261a5\" stroke-width=\"2px\"/><text class=\"caption\" text-anchor=\"middle\" pointer-events=\"none\" x=\"0\" y=\"0\" font-size=\"10px\" fill=\"#FFFFFF\" font-family=\"Helvetica Neue, Helvetica, Arial, sans-serif\"> Unilateral</text><text class=\"caption\" text-anchor=\"middle\" pointer-events=\"none\" x=\"0\" y=\"10\" font-size=\"10px\" fill=\"#FFFFFF\" font-family=\"Helvetica Neue, Helvetica, Arial, sans-serif\">N…</text></g><g class=\"node\" aria-label=\"graph-node5586\" transform=\"translate(-22.771134960576468,178.25646124383894)\"><circle class=\"b-outline\" cx=\"0\" cy=\"0\" r=\"25\" fill=\"#C990C0\" stroke=\"#b261a5\" stroke-width=\"2px\"/><text class=\"caption\" text-anchor=\"middle\" pointer-events=\"none\" x=\"0\" y=\"5\" font-size=\"10px\" fill=\"#FFFFFF\" font-family=\"Helvetica Neue, Helvetica, Arial, sans-serif\"> Hemang…</text></g><g class=\"node\" aria-label=\"graph-node10328\" transform=\"translate(82.80877724631517,174.87171057140387)\"><circle class=\"b-outline\" cx=\"0\" cy=\"0\" r=\"25\" fill=\"#C990C0\" stroke=\"#b261a5\" stroke-width=\"2px\"/><text class=\"caption\" text-anchor=\"middle\" pointer-events=\"none\" x=\"0\" y=\"5\" font-size=\"10px\" fill=\"#FFFFFF\" font-family=\"Helvetica Neue, Helvetica, Arial, sans-serif\"> Postmas…</text></g><g class=\"node\" aria-label=\"graph-node1617\" transform=\"translate(275.69344890358144,171.15799644755833)\"><circle class=\"b-outline\" cx=\"0\" cy=\"0\" r=\"25\" fill=\"#C990C0\" stroke=\"#b261a5\" stroke-width=\"2px\"/><text class=\"caption\" text-anchor=\"middle\" pointer-events=\"none\" x=\"0\" y=\"-5\" font-size=\"10px\" fill=\"#FFFFFF\" font-family=\"Helvetica Neue, Helvetica, Arial, sans-serif\"> Breast</text><text class=\"caption\" text-anchor=\"middle\" pointer-events=\"none\" x=\"0\" y=\"5\" font-size=\"10px\" fill=\"#FFFFFF\" font-family=\"Helvetica Neue, Helvetica, Arial, sans-serif\"> Cancer</text><text class=\"caption\" text-anchor=\"middle\" pointer-events=\"none\" x=\"0\" y=\"15\" font-size=\"10px\" fill=\"#FFFFFF\" font-family=\"Helvetica Neue, Helvetica, Arial, sans-serif\"> Lym…</text></g><g class=\"node\" aria-label=\"graph-node7473\" transform=\"translate(-32.418131023995954,312.3158700990791)\"><circle class=\"b-outline\" cx=\"0\" cy=\"0\" r=\"25\" fill=\"#C990C0\" stroke=\"#b261a5\" stroke-width=\"2px\"/><text class=\"caption\" text-anchor=\"middle\" pointer-events=\"none\" x=\"0\" y=\"5\" font-size=\"10px\" fill=\"#FFFFFF\" font-family=\"Helvetica Neue, Helvetica, Arial, sans-serif\"> Lymphe…</text></g><g class=\"node\" aria-label=\"graph-node10331\" transform=\"translate(86.32275205230519,359.87920712844567)\"><circle class=\"b-outline\" cx=\"0\" cy=\"0\" r=\"25\" fill=\"#C990C0\" stroke=\"#b261a5\" stroke-width=\"2px\"/><text class=\"caption\" text-anchor=\"middle\" pointer-events=\"none\" x=\"0\" y=\"5\" font-size=\"10px\" fill=\"#FFFFFF\" font-family=\"Helvetica Neue, Helvetica, Arial, sans-serif\"> Postope…</text></g></g></svg>"
      ],
      "text/plain": [
       "<IPython.core.display.SVG object>"
      ]
     },
     "metadata": {},
     "output_type": "display_data"
    }
   ],
   "source": [
    "display(SVG(filename='./media/svg/Fig_3_breast_cancer.svg'))"
   ]
  },
  {
   "cell_type": "markdown",
   "metadata": {},
   "source": [
    "This time the results are different:\n",
    "- vector index prediction is better, as \"Breast cancer 3\" belongs to the category of \"breast cancer\", which was given as a query;\n",
    "- vector index predicts the same value for the same input this time;\n",
    "- fulltext index prediction is less accurate, but it is still connected via a different cancer category.\n",
    "\n",
    "We cannot draw any conclusions just yet, but we can inspect one more aspect. We have written our index search queries with a fallback, so when a query cannot return any results - we get \"Unknown\" disease. Let us try to count how many unknowns each vector index produced."
   ]
  },
  {
   "cell_type": "code",
   "execution_count": 266,
   "metadata": {},
   "outputs": [
    {
     "data": {
      "image/png": "[encoded data removed]",
      "text/plain": [
       "<Figure size 640x480 with 1 Axes>"
      ]
     },
     "metadata": {},
     "output_type": "display_data"
    }
   ],
   "source": [
    "count_unknown_fulltext = sum(1 for item in predicted_values if item[0]['MESH_ID'] == 'Unknown')\n",
    "count_unknown_vector = sum(1 for item in predicted_values_vector if item[0]['MESH_ID'] == 'Unknown')\n",
    "\n",
    "labels = ['fulltext', 'vector']\n",
    "unknown_counts = [count_unknown_fulltext, count_unknown_vector]\n",
    "\n",
    "bars = plt.bar(labels, unknown_counts, color=['blue', 'orange'])\n",
    "plt.title('Number of Unknowns in Predicted Lists')\n",
    "plt.xlabel('Predicted List')\n",
    "plt.ylabel('Number of Unknowns')\n",
    "\n",
    "for bar in bars:\n",
    "    yval = bar.get_height()\n",
    "    plt.text(bar.get_x() + bar.get_width() / 2, yval, int(yval), ha='center', va='bottom', fontsize=12, color='black')\n",
    "\n",
    "plt.show()"
   ]
  },
  {
   "cell_type": "markdown",
   "metadata": {},
   "source": [
    "As we can see, the vector index always returns a value, no matter what input query it receives. It is both a strong side and a weakness of vector indices, and we should establish thresholds for it so the results are more realistic."
   ]
  },
  {
   "cell_type": "markdown",
   "metadata": {},
   "source": [
    "Up till this moment the fulltext index had a better performance, but this might be also due to the fact, that we included synonyms in it, whereas our vector index was relying purely on `DiseaseName` property. We identified, that some diseases from the dataset might map to one of the synonyms of the node, rather then its name, so let us experiment with vector index created on synonyms and compare the results.\n",
    "The `SynonymEmbeddings` property already contains a list of embeddings (one for each synonym in the `Synonyms` property), so we have a few options for how to handle this when creating a vector index:\n",
    "\n",
    "#### 1. **Create Separate Vector Indexes for Each Synonym Embedding**\n",
    "   - Treat each embedding in the list as a separate vector and create individual vector indexes for each synonym embedding. This approach can become complex as it might involve creating multiple indexes, which could be cumbersome depending on the number of synonyms.\n",
    "\n",
    "#### 2. **Combine Synonym Embeddings into a Single Embedding**\n",
    "   - Combine the list of embeddings into a single embedding vector, which can then be indexed using a single vector index. This can be done by averaging the embeddings, taking the sum, or using a more sophisticated method like weighted averaging or pooling.\n",
    "\n",
    "We will discard the first approach, as it is not scalable."
   ]
  },
  {
   "cell_type": "markdown",
   "metadata": {},
   "source": [
    "## Vector index: combine Synonym embeddings into a single embedding"
   ]
  },
  {
   "cell_type": "markdown",
   "metadata": {},
   "source": [
    "First of all, we need to combine the synonyms vectors into a new prop on each node. There are nodes without synonyms, so for the sake of completeness, we will duplicate `DiseaseEmbedding` vector into this new property. We will calculate the centroid of the embeddings by taking the mean along the first axis across all vectors. Let us define the queries and functions to perform this operation."
   ]
  },
  {
   "cell_type": "code",
   "execution_count": 525,
   "metadata": {},
   "outputs": [],
   "source": [
    "create_baai_synonyms_combined_vector_index_query = \"\"\"\n",
    "    CREATE VECTOR INDEX baaiVectorIndex_combinedSynonym IF NOT EXISTS\n",
    "    FOR (d:Disease)\n",
    "    ON d.`SynonymsCentroidEmbedding-BAAI-bge-small-en-v1_5`\n",
    "    OPTIONS {\n",
    "        indexConfig: {\n",
    "            `vector.dimensions`: 384,\n",
    "            `vector.similarity_function`: 'cosine'\n",
    "        }\n",
    "    }\n",
    "\"\"\"\n",
    "\n",
    "get_baai_synonyms_combined_vector_index_query = \"\"\"\n",
    "    CALL db.index.vector.queryNodes('baaiVectorIndex_combinedSynonym', $limit, $disease_name)\n",
    "    YIELD node AS disease, score\n",
    "    RETURN disease.DiseaseName AS Description, disease.DiseaseID AS MESH_ID, disease.AltDiseaseIDs AS AltDiseaseIDs, disease.Synonyms AS Synonyms, score\n",
    "\"\"\"\n",
    "\n",
    "node_prop_update_query = \"\"\"\n",
    "    MATCH (d:Disease {DiseaseID: $disease_id})\n",
    "    CALL apoc.create.setProperty(d, $embedding_prop, $embedding)\n",
    "    YIELD node\n",
    "    RETURN node\n",
    "\"\"\"\n",
    "\n",
    "batch_retrieve_query = \"\"\"\n",
    "    MATCH (d:Disease)\n",
    "    RETURN d\n",
    "    SKIP $skip LIMIT $limit\n",
    "\"\"\""
   ]
  },
  {
   "cell_type": "code",
   "execution_count": 286,
   "metadata": {},
   "outputs": [],
   "source": [
    "def calculate_centroid(vectors):\n",
    "    if not vectors:\n",
    "        return None\n",
    "    \n",
    "    vectors_array = np.array(vectors)\n",
    "    centroid = np.mean(vectors_array, axis=0)\n",
    "\n",
    "    return centroid.tolist()\n",
    "\n",
    "def update_disease_embeddings(driver, embedding_model_name, batch_size=100):\n",
    "    embedding_prop = f\"SynonymsCentroidEmbedding-{embedding_model_name.replace('.', '_').replace('/', '-')}\"\n",
    "    synonym_embeddings_prop = f\"SynonymsEmbedding-{embedding_model_name.replace('.', '_').replace('/', '-')}\"\n",
    "    disease_embedding_prop = f\"DiseaseEmbedding-{embedding_model_name.replace('.', '_').replace('/', '-')}\"\n",
    "\n",
    "    skip = 0\n",
    "    \n",
    "    with driver.session() as session:\n",
    "        while True:\n",
    "            result = session.run(batch_retrieve_query, skip=skip, limit=batch_size)\n",
    "            nodes = list(result)\n",
    "\n",
    "            # If no more nodes, break the loop\n",
    "            if not nodes:\n",
    "                break\n",
    "\n",
    "            for record in nodes:\n",
    "                node = record['d']\n",
    "                disease_id = node['DiseaseID']\n",
    "                synonym_embeddings_json = node.get(synonym_embeddings_prop, '[]')\n",
    "                disease_embedding = node.get(disease_embedding_prop, None)\n",
    "\n",
    "                # Decode the JSON-encoded embeddings\n",
    "                synonym_embeddings = json.loads(synonym_embeddings_json)\n",
    "\n",
    "                if synonym_embeddings:\n",
    "                    centroid = calculate_centroid(synonym_embeddings)\n",
    "                    embedding = centroid\n",
    "                else:\n",
    "                    # If no synonym embeddings, use the disease embedding\n",
    "                    embedding = disease_embedding\n",
    "\n",
    "                session.run(node_prop_update_query, disease_id=disease_id, embedding_prop=embedding_prop, embedding=embedding)\n",
    "\n",
    "            # Increment the skip value to move to the next batch\n",
    "            skip += batch_size"
   ]
  },
  {
   "cell_type": "code",
   "execution_count": 287,
   "metadata": {},
   "outputs": [],
   "source": [
    "update_disease_embeddings(driver, Models.BAAI_BGE_SMALL_EN_V1_5.value)"
   ]
  },
  {
   "cell_type": "code",
   "execution_count": 291,
   "metadata": {},
   "outputs": [],
   "source": [
    "with driver.session() as session:\n",
    "    session.run(create_baai_synonyms_combined_vector_index_query)"
   ]
  },
  {
   "cell_type": "markdown",
   "metadata": {},
   "source": [
    "Now that we have our combined embeddings, let us run the experiment."
   ]
  },
  {
   "cell_type": "code",
   "execution_count": 294,
   "metadata": {},
   "outputs": [],
   "source": [
    "test_synonym = embed_model.get_text_embedding('Breast Cancer-Related Arm Lymphedema') # this is a synonym of MESH:D000072656\n",
    "test_vector_search_res = vector_index_search(get_baai_synonyms_combined_vector_index_query, test_synonym, limit=1)"
   ]
  },
  {
   "cell_type": "code",
   "execution_count": 296,
   "metadata": {},
   "outputs": [
    {
     "data": {
      "text/plain": [
       "[{'MESH_ID': 'MESH:D000072656',\n",
       "  'Description': 'Breast Cancer Lymphedema',\n",
       "  'AltDiseaseIDs': nan,\n",
       "  'score': 0.9633171558380127}]"
      ]
     },
     "execution_count": 296,
     "metadata": {},
     "output_type": "execute_result"
    }
   ],
   "source": [
    "test_vector_search_res"
   ]
  },
  {
   "cell_type": "code",
   "execution_count": 526,
   "metadata": {},
   "outputs": [],
   "source": [
    "[true_values_syn_vector, predicted_values_syn_vector] = predict_with_vector_index(query=get_baai_synonyms_combined_vector_index_query, dataset=df, embedding_model_name=Models.BAAI_BGE_SMALL_EN_V1_5.value, limit=1)"
   ]
  },
  {
   "cell_type": "code",
   "execution_count": 338,
   "metadata": {},
   "outputs": [
    {
     "data": {
      "text/plain": [
       "0.31568228105906315"
      ]
     },
     "execution_count": 338,
     "metadata": {},
     "output_type": "execute_result"
    }
   ],
   "source": [
    "custom_accuracy(true_values=true_values_syn_vector, predicted_values=predicted_values_syn_vector)"
   ]
  },
  {
   "cell_type": "markdown",
   "metadata": {},
   "source": [
    "As we can see, the accuracy of such vector index in even lower, however, let us explore the previously analyzed diseases."
   ]
  },
  {
   "cell_type": "code",
   "execution_count": 538,
   "metadata": {},
   "outputs": [
    {
     "data": {
      "text/plain": [
       "[{'MESH_ID': 'MESH:D001943', 'Description': 'breast cancer'},\n",
       " {'MESH_ID': 'MESH:D001943', 'Description': 'breast cancer'},\n",
       " {'MESH_ID': 'MESH:D001943', 'Description': 'breast carcinomas'},\n",
       " {'MESH_ID': 'MESH:D001943', 'Description': 'breast cancer'},\n",
       " {'MESH_ID': 'MESH:D015783', 'Description': 'Aniridia'}]"
      ]
     },
     "execution_count": 538,
     "metadata": {},
     "output_type": "execute_result"
    }
   ],
   "source": [
    "true_values[270:275]"
   ]
  },
  {
   "cell_type": "code",
   "execution_count": 527,
   "metadata": {},
   "outputs": [
    {
     "data": {
      "text/plain": [
       "[[{'MESH_ID': 'MESH:D001943',\n",
       "   'Description': 'Breast Neoplasms',\n",
       "   'Synonyms': 'Breast Cancer|BREAST CANCER, FAMILIAL BREAST CANCER, FAMILIAL MALE, INCLUDED|Breast Carcinoma|Breast Carcinomas|Breast Malignant Neoplasm|Breast Malignant Neoplasms|Breast Malignant Tumor|Breast Malignant Tumors|Breast Neoplasm|Breast Tumor|Breast Tumors|Cancer, Breast|Cancer, Mammary|Cancer of Breast|Cancer of the Breast|Cancers, Mammary|Carcinoma, Breast|Carcinoma, Human Mammary|Carcinomas, Breast|Carcinomas, Human Mammary|Human Mammary Carcinoma|Human Mammary Carcinomas|Human Mammary Neoplasm|Human Mammary Neoplasms|Malignant Neoplasm of Breast|Malignant Tumor of Breast|Mammary Cancer|Mammary Cancers|Mammary Carcinoma, Human|Mammary Carcinomas, Human|Mammary Neoplasm, Human|Mammary Neoplasms, Human|Neoplasm, Breast|Neoplasm, Human Mammary|Neoplasms, Breast|Neoplasms, Human Mammary|Tumor, Breast|Tumors, Breast',\n",
       "   'AltDiseaseIDs': 'DO:DOID:1612|DO:DOID:3459|OMIM:114480',\n",
       "   'score': 0.9598920345306396}],\n",
       " [{'MESH_ID': 'MESH:D001943',\n",
       "   'Description': 'Breast Neoplasms',\n",
       "   'Synonyms': 'Breast Cancer|BREAST CANCER, FAMILIAL BREAST CANCER, FAMILIAL MALE, INCLUDED|Breast Carcinoma|Breast Carcinomas|Breast Malignant Neoplasm|Breast Malignant Neoplasms|Breast Malignant Tumor|Breast Malignant Tumors|Breast Neoplasm|Breast Tumor|Breast Tumors|Cancer, Breast|Cancer, Mammary|Cancer of Breast|Cancer of the Breast|Cancers, Mammary|Carcinoma, Breast|Carcinoma, Human Mammary|Carcinomas, Breast|Carcinomas, Human Mammary|Human Mammary Carcinoma|Human Mammary Carcinomas|Human Mammary Neoplasm|Human Mammary Neoplasms|Malignant Neoplasm of Breast|Malignant Tumor of Breast|Mammary Cancer|Mammary Cancers|Mammary Carcinoma, Human|Mammary Carcinomas, Human|Mammary Neoplasm, Human|Mammary Neoplasms, Human|Neoplasm, Breast|Neoplasm, Human Mammary|Neoplasms, Breast|Neoplasms, Human Mammary|Tumor, Breast|Tumors, Breast',\n",
       "   'AltDiseaseIDs': 'DO:DOID:1612|DO:DOID:3459|OMIM:114480',\n",
       "   'score': 0.9598920345306396}],\n",
       " [{'MESH_ID': 'MESH:D001943',\n",
       "   'Description': 'Breast Neoplasms',\n",
       "   'Synonyms': 'Breast Cancer|BREAST CANCER, FAMILIAL BREAST CANCER, FAMILIAL MALE, INCLUDED|Breast Carcinoma|Breast Carcinomas|Breast Malignant Neoplasm|Breast Malignant Neoplasms|Breast Malignant Tumor|Breast Malignant Tumors|Breast Neoplasm|Breast Tumor|Breast Tumors|Cancer, Breast|Cancer, Mammary|Cancer of Breast|Cancer of the Breast|Cancers, Mammary|Carcinoma, Breast|Carcinoma, Human Mammary|Carcinomas, Breast|Carcinomas, Human Mammary|Human Mammary Carcinoma|Human Mammary Carcinomas|Human Mammary Neoplasm|Human Mammary Neoplasms|Malignant Neoplasm of Breast|Malignant Tumor of Breast|Mammary Cancer|Mammary Cancers|Mammary Carcinoma, Human|Mammary Carcinomas, Human|Mammary Neoplasm, Human|Mammary Neoplasms, Human|Neoplasm, Breast|Neoplasm, Human Mammary|Neoplasms, Breast|Neoplasms, Human Mammary|Tumor, Breast|Tumors, Breast',\n",
       "   'AltDiseaseIDs': 'DO:DOID:1612|DO:DOID:3459|OMIM:114480',\n",
       "   'score': 0.9660638570785522}],\n",
       " [{'MESH_ID': 'MESH:D001943',\n",
       "   'Description': 'Breast Neoplasms',\n",
       "   'Synonyms': 'Breast Cancer|BREAST CANCER, FAMILIAL BREAST CANCER, FAMILIAL MALE, INCLUDED|Breast Carcinoma|Breast Carcinomas|Breast Malignant Neoplasm|Breast Malignant Neoplasms|Breast Malignant Tumor|Breast Malignant Tumors|Breast Neoplasm|Breast Tumor|Breast Tumors|Cancer, Breast|Cancer, Mammary|Cancer of Breast|Cancer of the Breast|Cancers, Mammary|Carcinoma, Breast|Carcinoma, Human Mammary|Carcinomas, Breast|Carcinomas, Human Mammary|Human Mammary Carcinoma|Human Mammary Carcinomas|Human Mammary Neoplasm|Human Mammary Neoplasms|Malignant Neoplasm of Breast|Malignant Tumor of Breast|Mammary Cancer|Mammary Cancers|Mammary Carcinoma, Human|Mammary Carcinomas, Human|Mammary Neoplasm, Human|Mammary Neoplasms, Human|Neoplasm, Breast|Neoplasm, Human Mammary|Neoplasms, Breast|Neoplasms, Human Mammary|Tumor, Breast|Tumors, Breast',\n",
       "   'AltDiseaseIDs': 'DO:DOID:1612|DO:DOID:3459|OMIM:114480',\n",
       "   'score': 0.9598920345306396}],\n",
       " [{'MESH_ID': 'MESH:C536372',\n",
       "   'Description': 'Aniridia, type 2',\n",
       "   'Synonyms': nan,\n",
       "   'AltDiseaseIDs': nan,\n",
       "   'score': 0.9371199607849121}]]"
      ]
     },
     "execution_count": 527,
     "metadata": {},
     "output_type": "execute_result"
    }
   ],
   "source": [
    "predicted_values_syn_vector[270:275]"
   ]
  },
  {
   "cell_type": "markdown",
   "metadata": {},
   "source": [
    "This is an improvement for these particular diseases, and it shows a potential when combining with more complex queries and performing candidate ranking."
   ]
  },
  {
   "cell_type": "markdown",
   "metadata": {},
   "source": [
    "## Further results analysis"
   ]
  },
  {
   "cell_type": "markdown",
   "metadata": {},
   "source": [
    "None of the approaches are not producing accurate results, so we will take a step back and examine the data once more. We have 2 obvious problematic patterns in the dataset:\n",
    "- diseases with multiple IDs associated with them\n",
    "- abbreviations that can correspond to different diseases\n",
    "\n",
    "Let us analyze the multiple IDs entities first."
   ]
  },
  {
   "cell_type": "code",
   "execution_count": 415,
   "metadata": {},
   "outputs": [
    {
     "name": "stdout",
     "output_type": "stream",
     "text": [
      "<class 'pandas.core.frame.DataFrame'>\n",
      "Index: 35 entries, 270 to 3848\n",
      "Data columns (total 7 columns):\n",
      " #   Column                                   Non-Null Count  Dtype \n",
      "---  ------                                   --------------  ----- \n",
      " 0   ID                                       35 non-null     int64 \n",
      " 1   Start                                    35 non-null     int64 \n",
      " 2   End                                      35 non-null     int64 \n",
      " 3   Description                              35 non-null     object\n",
      " 4   Type                                     35 non-null     object\n",
      " 5   MESH ID                                  35 non-null     object\n",
      " 6   DiseaseEmbedding-BAAI-bge-small-en-v1_5  35 non-null     object\n",
      "dtypes: int64(3), object(4)\n",
      "memory usage: 2.2+ KB\n"
     ]
    }
   ],
   "source": [
    "multiple_ids_df = df[df['MESH ID'].str.contains('|', regex=False)]\n",
    "multiple_ids_df.info()"
   ]
  },
  {
   "cell_type": "markdown",
   "metadata": {},
   "source": [
    "We have 35 entries. Let us drop the duplicates."
   ]
  },
  {
   "cell_type": "code",
   "execution_count": 416,
   "metadata": {},
   "outputs": [
    {
     "name": "stdout",
     "output_type": "stream",
     "text": [
      "<class 'pandas.core.frame.DataFrame'>\n",
      "Index: 25 entries, 270 to 3844\n",
      "Data columns (total 7 columns):\n",
      " #   Column                                   Non-Null Count  Dtype \n",
      "---  ------                                   --------------  ----- \n",
      " 0   ID                                       25 non-null     int64 \n",
      " 1   Start                                    25 non-null     int64 \n",
      " 2   End                                      25 non-null     int64 \n",
      " 3   Description                              25 non-null     object\n",
      " 4   Type                                     25 non-null     object\n",
      " 5   MESH ID                                  25 non-null     object\n",
      " 6   DiseaseEmbedding-BAAI-bge-small-en-v1_5  25 non-null     object\n",
      "dtypes: int64(3), object(4)\n",
      "memory usage: 1.6+ KB\n"
     ]
    }
   ],
   "source": [
    "multiple_ids_df = multiple_ids_df.drop_duplicates(subset='Description', keep='first', ignore_index=False)\n",
    "multiple_ids_df.info()"
   ]
  },
  {
   "cell_type": "code",
   "execution_count": 417,
   "metadata": {},
   "outputs": [
    {
     "data": {
      "text/html": [
       "<div>\n",
       "<style scoped>\n",
       "    .dataframe tbody tr th:only-of-type {\n",
       "        vertical-align: middle;\n",
       "    }\n",
       "\n",
       "    .dataframe tbody tr th {\n",
       "        vertical-align: top;\n",
       "    }\n",
       "\n",
       "    .dataframe thead th {\n",
       "        text-align: right;\n",
       "    }\n",
       "</style>\n",
       "<table border=\"1\" class=\"dataframe\">\n",
       "  <thead>\n",
       "    <tr style=\"text-align: right;\">\n",
       "      <th></th>\n",
       "      <th>ID</th>\n",
       "      <th>Start</th>\n",
       "      <th>End</th>\n",
       "      <th>Description</th>\n",
       "      <th>Type</th>\n",
       "      <th>MESH ID</th>\n",
       "      <th>DiseaseEmbedding-BAAI-bge-small-en-v1_5</th>\n",
       "    </tr>\n",
       "  </thead>\n",
       "  <tbody>\n",
       "    <tr>\n",
       "      <th>270</th>\n",
       "      <td>8871666</td>\n",
       "      <td>19</td>\n",
       "      <td>62</td>\n",
       "      <td>combined subtotal deficiencies of C6 and C7</td>\n",
       "      <td>SpecificDisease</td>\n",
       "      <td>OMIM:612446|OMIM:610102</td>\n",
       "      <td>[-0.017155997455120087, -0.010280901566147804,...</td>\n",
       "    </tr>\n",
       "    <tr>\n",
       "      <th>271</th>\n",
       "      <td>8871666</td>\n",
       "      <td>128</td>\n",
       "      <td>169</td>\n",
       "      <td>Combined subtotal deficiency of C6 and C7</td>\n",
       "      <td>SpecificDisease</td>\n",
       "      <td>OMIM:612446|OMIM:610102</td>\n",
       "      <td>[-0.01974971778690815, -0.00682515325024724, 0...</td>\n",
       "    </tr>\n",
       "    <tr>\n",
       "      <th>300</th>\n",
       "      <td>8954016</td>\n",
       "      <td>86</td>\n",
       "      <td>102</td>\n",
       "      <td>renal hamartomas</td>\n",
       "      <td>SpecificDisease</td>\n",
       "      <td>MESH:D007674|MESH:D006222</td>\n",
       "      <td>[-0.0009376744856126606, -0.011878404766321182...</td>\n",
       "    </tr>\n",
       "    <tr>\n",
       "      <th>614</th>\n",
       "      <td>8188241</td>\n",
       "      <td>431</td>\n",
       "      <td>453</td>\n",
       "      <td>ochronotic arthropathy</td>\n",
       "      <td>SpecificDisease</td>\n",
       "      <td>MESH:D009794|MESH:D007592</td>\n",
       "      <td>[-0.02016284689307213, -0.03807215392589569, 0...</td>\n",
       "    </tr>\n",
       "    <tr>\n",
       "      <th>793</th>\n",
       "      <td>10417286</td>\n",
       "      <td>278</td>\n",
       "      <td>294</td>\n",
       "      <td>cleft lip/palate</td>\n",
       "      <td>SpecificDisease</td>\n",
       "      <td>MESH:D002971|MESH:D002972</td>\n",
       "      <td>[-0.004606142640113831, -0.04793596640229225, ...</td>\n",
       "    </tr>\n",
       "    <tr>\n",
       "      <th>794</th>\n",
       "      <td>10417286</td>\n",
       "      <td>296</td>\n",
       "      <td>300</td>\n",
       "      <td>CL/P</td>\n",
       "      <td>SpecificDisease</td>\n",
       "      <td>MESH:D002971|MESH:D002972</td>\n",
       "      <td>[-0.10638944804668427, -0.005765229929238558, ...</td>\n",
       "    </tr>\n",
       "    <tr>\n",
       "      <th>1331</th>\n",
       "      <td>23402</td>\n",
       "      <td>137</td>\n",
       "      <td>155</td>\n",
       "      <td>lamellar cataracts</td>\n",
       "      <td>SpecificDisease</td>\n",
       "      <td>MESH:C535342|OMIM:116800</td>\n",
       "      <td>[-0.011170584708452225, 0.012628213502466679, ...</td>\n",
       "    </tr>\n",
       "    <tr>\n",
       "      <th>1333</th>\n",
       "      <td>23402</td>\n",
       "      <td>745</td>\n",
       "      <td>773</td>\n",
       "      <td>bilateral lamellar cataracts</td>\n",
       "      <td>SpecificDisease</td>\n",
       "      <td>MESH:C535342|OMIM:116800</td>\n",
       "      <td>[-0.009254563599824905, -0.0023286337964236736...</td>\n",
       "    </tr>\n",
       "    <tr>\n",
       "      <th>1383</th>\n",
       "      <td>10571950</td>\n",
       "      <td>345</td>\n",
       "      <td>364</td>\n",
       "      <td>hereditary deafness</td>\n",
       "      <td>SpecificDisease</td>\n",
       "      <td>MESH:D030342|MESH:D003638</td>\n",
       "      <td>[0.013537347316741943, -0.02739623188972473, 0...</td>\n",
       "    </tr>\n",
       "    <tr>\n",
       "      <th>1557</th>\n",
       "      <td>10369860</td>\n",
       "      <td>247</td>\n",
       "      <td>263</td>\n",
       "      <td>cat-eye syndrome</td>\n",
       "      <td>SpecificDisease</td>\n",
       "      <td>MESH:C535918|OMIM:115470</td>\n",
       "      <td>[-0.021985836327075958, -0.004197042901068926,...</td>\n",
       "    </tr>\n",
       "    <tr>\n",
       "      <th>1565</th>\n",
       "      <td>1424237</td>\n",
       "      <td>20</td>\n",
       "      <td>36</td>\n",
       "      <td>cat eye syndrome</td>\n",
       "      <td>SpecificDisease</td>\n",
       "      <td>MESH:C535918|OMIM:115470</td>\n",
       "      <td>[-0.01026996597647667, -0.01579897664487362, -...</td>\n",
       "    </tr>\n",
       "    <tr>\n",
       "      <th>1567</th>\n",
       "      <td>1424237</td>\n",
       "      <td>146</td>\n",
       "      <td>149</td>\n",
       "      <td>CES</td>\n",
       "      <td>SpecificDisease</td>\n",
       "      <td>MESH:C535918|OMIM:115470</td>\n",
       "      <td>[-0.03191491588950157, 0.004478480201214552, 0...</td>\n",
       "    </tr>\n",
       "    <tr>\n",
       "      <th>1785</th>\n",
       "      <td>10923035</td>\n",
       "      <td>711</td>\n",
       "      <td>761</td>\n",
       "      <td>generalized epilepsy and febrile seizures   pl...</td>\n",
       "      <td>SpecificDisease</td>\n",
       "      <td>MESH:D004829|MESH:D003294</td>\n",
       "      <td>[0.004078835714608431, -0.0037693835329264402,...</td>\n",
       "    </tr>\n",
       "    <tr>\n",
       "      <th>1861</th>\n",
       "      <td>6604602</td>\n",
       "      <td>639</td>\n",
       "      <td>657</td>\n",
       "      <td>entero-arthropathy</td>\n",
       "      <td>SpecificDisease</td>\n",
       "      <td>MESH:C538273|MESH:D001168</td>\n",
       "      <td>[0.008949538692831993, -0.0406569167971611, 0....</td>\n",
       "    </tr>\n",
       "    <tr>\n",
       "      <th>1870</th>\n",
       "      <td>6604602</td>\n",
       "      <td>1321</td>\n",
       "      <td>1365</td>\n",
       "      <td>HEREDITARY MULTIFOCAL RELAPSING INFLAMMATION</td>\n",
       "      <td>SpecificDisease</td>\n",
       "      <td>MESH:D007249|MESH:D030342</td>\n",
       "      <td>[-0.0029539018869400024, -0.03443752974271774,...</td>\n",
       "    </tr>\n",
       "    <tr>\n",
       "      <th>1871</th>\n",
       "      <td>6604602</td>\n",
       "      <td>1367</td>\n",
       "      <td>1372</td>\n",
       "      <td>HEMRI</td>\n",
       "      <td>SpecificDisease</td>\n",
       "      <td>MESH:D007249|MESH:D030342</td>\n",
       "      <td>[-0.07104962319135666, -0.0008617481798864901,...</td>\n",
       "    </tr>\n",
       "    <tr>\n",
       "      <th>2083</th>\n",
       "      <td>4019732</td>\n",
       "      <td>325</td>\n",
       "      <td>335</td>\n",
       "      <td>oral cleft</td>\n",
       "      <td>SpecificDisease</td>\n",
       "      <td>MESH:D002971|MESH:D002972</td>\n",
       "      <td>[-0.01743890531361103, -0.05108879134058952, 0...</td>\n",
       "    </tr>\n",
       "    <tr>\n",
       "      <th>2259</th>\n",
       "      <td>7939630</td>\n",
       "      <td>284</td>\n",
       "      <td>319</td>\n",
       "      <td>sporadic breast and ovarian cancers</td>\n",
       "      <td>SpecificDisease</td>\n",
       "      <td>MESH:D001943|MESH:D010051</td>\n",
       "      <td>[-0.04517018795013428, -0.022747136652469635, ...</td>\n",
       "    </tr>\n",
       "    <tr>\n",
       "      <th>2530</th>\n",
       "      <td>2792129</td>\n",
       "      <td>158</td>\n",
       "      <td>178</td>\n",
       "      <td>recurrent meningitis</td>\n",
       "      <td>SpecificDisease</td>\n",
       "      <td>MESH:D008581|MESH:D012008</td>\n",
       "      <td>[-0.023847075179219246, -0.05073912814259529, ...</td>\n",
       "    </tr>\n",
       "    <tr>\n",
       "      <th>2550</th>\n",
       "      <td>2862466</td>\n",
       "      <td>997</td>\n",
       "      <td>1010</td>\n",
       "      <td>C4 deficiency</td>\n",
       "      <td>SpecificDisease</td>\n",
       "      <td>OMIM:614380|OMIM:614379</td>\n",
       "      <td>[-0.020896265283226967, 0.015392263419926167, ...</td>\n",
       "    </tr>\n",
       "    <tr>\n",
       "      <th>2908</th>\n",
       "      <td>1981994</td>\n",
       "      <td>246</td>\n",
       "      <td>261</td>\n",
       "      <td>MEF-amyloidosis</td>\n",
       "      <td>SpecificDisease</td>\n",
       "      <td>MESH:D000686|MESH:D010505</td>\n",
       "      <td>[0.01717950403690338, -0.045065395534038544, 0...</td>\n",
       "    </tr>\n",
       "    <tr>\n",
       "      <th>2969</th>\n",
       "      <td>8500791</td>\n",
       "      <td>1502</td>\n",
       "      <td>1512</td>\n",
       "      <td>hemophilia</td>\n",
       "      <td>SpecificDisease</td>\n",
       "      <td>MESH:D006467|MESH:D002836</td>\n",
       "      <td>[-0.04370996728539467, -0.010045520961284637, ...</td>\n",
       "    </tr>\n",
       "    <tr>\n",
       "      <th>3028</th>\n",
       "      <td>10807385</td>\n",
       "      <td>2276</td>\n",
       "      <td>2318</td>\n",
       "      <td>BRCA-associated hereditary ovarian cancers</td>\n",
       "      <td>SpecificDisease</td>\n",
       "      <td>OMIM:604370|OMIM:612555|OMIM:613399</td>\n",
       "      <td>[-0.0003273005713708699, -0.009386842139065266...</td>\n",
       "    </tr>\n",
       "    <tr>\n",
       "      <th>3363</th>\n",
       "      <td>7790377</td>\n",
       "      <td>1391</td>\n",
       "      <td>1417</td>\n",
       "      <td>PTS1 protein-import defect</td>\n",
       "      <td>SpecificDisease</td>\n",
       "      <td>OMIM:202370|OMIM:214100</td>\n",
       "      <td>[-0.0509541817009449, -0.05884683132171631, 0....</td>\n",
       "    </tr>\n",
       "    <tr>\n",
       "      <th>3844</th>\n",
       "      <td>9620771</td>\n",
       "      <td>398</td>\n",
       "      <td>413</td>\n",
       "      <td>ACTH deficiency</td>\n",
       "      <td>SpecificDisease</td>\n",
       "      <td>OMIM:201400|MESH:C535668</td>\n",
       "      <td>[0.008866067975759506, -0.03701847046613693, 0...</td>\n",
       "    </tr>\n",
       "  </tbody>\n",
       "</table>\n",
       "</div>"
      ],
      "text/plain": [
       "            ID  Start   End  \\\n",
       "270    8871666     19    62   \n",
       "271    8871666    128   169   \n",
       "300    8954016     86   102   \n",
       "614    8188241    431   453   \n",
       "793   10417286    278   294   \n",
       "794   10417286    296   300   \n",
       "1331     23402    137   155   \n",
       "1333     23402    745   773   \n",
       "1383  10571950    345   364   \n",
       "1557  10369860    247   263   \n",
       "1565   1424237     20    36   \n",
       "1567   1424237    146   149   \n",
       "1785  10923035    711   761   \n",
       "1861   6604602    639   657   \n",
       "1870   6604602   1321  1365   \n",
       "1871   6604602   1367  1372   \n",
       "2083   4019732    325   335   \n",
       "2259   7939630    284   319   \n",
       "2530   2792129    158   178   \n",
       "2550   2862466    997  1010   \n",
       "2908   1981994    246   261   \n",
       "2969   8500791   1502  1512   \n",
       "3028  10807385   2276  2318   \n",
       "3363   7790377   1391  1417   \n",
       "3844   9620771    398   413   \n",
       "\n",
       "                                            Description             Type  \\\n",
       "270         combined subtotal deficiencies of C6 and C7  SpecificDisease   \n",
       "271           Combined subtotal deficiency of C6 and C7  SpecificDisease   \n",
       "300                                    renal hamartomas  SpecificDisease   \n",
       "614                              ochronotic arthropathy  SpecificDisease   \n",
       "793                                    cleft lip/palate  SpecificDisease   \n",
       "794                                                CL/P  SpecificDisease   \n",
       "1331                                 lamellar cataracts  SpecificDisease   \n",
       "1333                       bilateral lamellar cataracts  SpecificDisease   \n",
       "1383                                hereditary deafness  SpecificDisease   \n",
       "1557                                   cat-eye syndrome  SpecificDisease   \n",
       "1565                                   cat eye syndrome  SpecificDisease   \n",
       "1567                                                CES  SpecificDisease   \n",
       "1785  generalized epilepsy and febrile seizures   pl...  SpecificDisease   \n",
       "1861                                 entero-arthropathy  SpecificDisease   \n",
       "1870       HEREDITARY MULTIFOCAL RELAPSING INFLAMMATION  SpecificDisease   \n",
       "1871                                              HEMRI  SpecificDisease   \n",
       "2083                                         oral cleft  SpecificDisease   \n",
       "2259                sporadic breast and ovarian cancers  SpecificDisease   \n",
       "2530                               recurrent meningitis  SpecificDisease   \n",
       "2550                                      C4 deficiency  SpecificDisease   \n",
       "2908                                    MEF-amyloidosis  SpecificDisease   \n",
       "2969                                         hemophilia  SpecificDisease   \n",
       "3028         BRCA-associated hereditary ovarian cancers  SpecificDisease   \n",
       "3363                         PTS1 protein-import defect  SpecificDisease   \n",
       "3844                                    ACTH deficiency  SpecificDisease   \n",
       "\n",
       "                                  MESH ID  \\\n",
       "270               OMIM:612446|OMIM:610102   \n",
       "271               OMIM:612446|OMIM:610102   \n",
       "300             MESH:D007674|MESH:D006222   \n",
       "614             MESH:D009794|MESH:D007592   \n",
       "793             MESH:D002971|MESH:D002972   \n",
       "794             MESH:D002971|MESH:D002972   \n",
       "1331             MESH:C535342|OMIM:116800   \n",
       "1333             MESH:C535342|OMIM:116800   \n",
       "1383            MESH:D030342|MESH:D003638   \n",
       "1557             MESH:C535918|OMIM:115470   \n",
       "1565             MESH:C535918|OMIM:115470   \n",
       "1567             MESH:C535918|OMIM:115470   \n",
       "1785            MESH:D004829|MESH:D003294   \n",
       "1861            MESH:C538273|MESH:D001168   \n",
       "1870            MESH:D007249|MESH:D030342   \n",
       "1871            MESH:D007249|MESH:D030342   \n",
       "2083            MESH:D002971|MESH:D002972   \n",
       "2259            MESH:D001943|MESH:D010051   \n",
       "2530            MESH:D008581|MESH:D012008   \n",
       "2550              OMIM:614380|OMIM:614379   \n",
       "2908            MESH:D000686|MESH:D010505   \n",
       "2969            MESH:D006467|MESH:D002836   \n",
       "3028  OMIM:604370|OMIM:612555|OMIM:613399   \n",
       "3363              OMIM:202370|OMIM:214100   \n",
       "3844             OMIM:201400|MESH:C535668   \n",
       "\n",
       "                DiseaseEmbedding-BAAI-bge-small-en-v1_5  \n",
       "270   [-0.017155997455120087, -0.010280901566147804,...  \n",
       "271   [-0.01974971778690815, -0.00682515325024724, 0...  \n",
       "300   [-0.0009376744856126606, -0.011878404766321182...  \n",
       "614   [-0.02016284689307213, -0.03807215392589569, 0...  \n",
       "793   [-0.004606142640113831, -0.04793596640229225, ...  \n",
       "794   [-0.10638944804668427, -0.005765229929238558, ...  \n",
       "1331  [-0.011170584708452225, 0.012628213502466679, ...  \n",
       "1333  [-0.009254563599824905, -0.0023286337964236736...  \n",
       "1383  [0.013537347316741943, -0.02739623188972473, 0...  \n",
       "1557  [-0.021985836327075958, -0.004197042901068926,...  \n",
       "1565  [-0.01026996597647667, -0.01579897664487362, -...  \n",
       "1567  [-0.03191491588950157, 0.004478480201214552, 0...  \n",
       "1785  [0.004078835714608431, -0.0037693835329264402,...  \n",
       "1861  [0.008949538692831993, -0.0406569167971611, 0....  \n",
       "1870  [-0.0029539018869400024, -0.03443752974271774,...  \n",
       "1871  [-0.07104962319135666, -0.0008617481798864901,...  \n",
       "2083  [-0.01743890531361103, -0.05108879134058952, 0...  \n",
       "2259  [-0.04517018795013428, -0.022747136652469635, ...  \n",
       "2530  [-0.023847075179219246, -0.05073912814259529, ...  \n",
       "2550  [-0.020896265283226967, 0.015392263419926167, ...  \n",
       "2908  [0.01717950403690338, -0.045065395534038544, 0...  \n",
       "2969  [-0.04370996728539467, -0.010045520961284637, ...  \n",
       "3028  [-0.0003273005713708699, -0.009386842139065266...  \n",
       "3363  [-0.0509541817009449, -0.05884683132171631, 0....  \n",
       "3844  [0.008866067975759506, -0.03701847046613693, 0...  "
      ]
     },
     "execution_count": 417,
     "metadata": {},
     "output_type": "execute_result"
    }
   ],
   "source": [
    "multiple_ids_df.head(25)"
   ]
  },
  {
   "cell_type": "markdown",
   "metadata": {},
   "source": [
    "We can also drop Combined subtotal deficiency of C6 and C7 and cat eye syndrome as they were not removed as duplicates due to hyphen and a capital letter."
   ]
  },
  {
   "cell_type": "code",
   "execution_count": 418,
   "metadata": {},
   "outputs": [],
   "source": [
    "multiple_ids_df.drop(multiple_ids_df[multiple_ids_df.Description == 'Combined subtotal deficiency of C6 and C7'].index, inplace=True)\n",
    "multiple_ids_df.drop(multiple_ids_df[multiple_ids_df.Description == 'cat-eye syndrome'].index, inplace=True)"
   ]
  },
  {
   "cell_type": "code",
   "execution_count": 419,
   "metadata": {},
   "outputs": [
    {
     "data": {
      "text/html": [
       "<div>\n",
       "<style scoped>\n",
       "    .dataframe tbody tr th:only-of-type {\n",
       "        vertical-align: middle;\n",
       "    }\n",
       "\n",
       "    .dataframe tbody tr th {\n",
       "        vertical-align: top;\n",
       "    }\n",
       "\n",
       "    .dataframe thead th {\n",
       "        text-align: right;\n",
       "    }\n",
       "</style>\n",
       "<table border=\"1\" class=\"dataframe\">\n",
       "  <thead>\n",
       "    <tr style=\"text-align: right;\">\n",
       "      <th></th>\n",
       "      <th>ID</th>\n",
       "      <th>Start</th>\n",
       "      <th>End</th>\n",
       "      <th>Description</th>\n",
       "      <th>Type</th>\n",
       "      <th>MESH ID</th>\n",
       "      <th>DiseaseEmbedding-BAAI-bge-small-en-v1_5</th>\n",
       "    </tr>\n",
       "  </thead>\n",
       "  <tbody>\n",
       "    <tr>\n",
       "      <th>270</th>\n",
       "      <td>8871666</td>\n",
       "      <td>19</td>\n",
       "      <td>62</td>\n",
       "      <td>combined subtotal deficiencies of C6 and C7</td>\n",
       "      <td>SpecificDisease</td>\n",
       "      <td>OMIM:612446|OMIM:610102</td>\n",
       "      <td>[-0.017155997455120087, -0.010280901566147804,...</td>\n",
       "    </tr>\n",
       "    <tr>\n",
       "      <th>300</th>\n",
       "      <td>8954016</td>\n",
       "      <td>86</td>\n",
       "      <td>102</td>\n",
       "      <td>renal hamartomas</td>\n",
       "      <td>SpecificDisease</td>\n",
       "      <td>MESH:D007674|MESH:D006222</td>\n",
       "      <td>[-0.0009376744856126606, -0.011878404766321182...</td>\n",
       "    </tr>\n",
       "    <tr>\n",
       "      <th>614</th>\n",
       "      <td>8188241</td>\n",
       "      <td>431</td>\n",
       "      <td>453</td>\n",
       "      <td>ochronotic arthropathy</td>\n",
       "      <td>SpecificDisease</td>\n",
       "      <td>MESH:D009794|MESH:D007592</td>\n",
       "      <td>[-0.02016284689307213, -0.03807215392589569, 0...</td>\n",
       "    </tr>\n",
       "    <tr>\n",
       "      <th>793</th>\n",
       "      <td>10417286</td>\n",
       "      <td>278</td>\n",
       "      <td>294</td>\n",
       "      <td>cleft lip/palate</td>\n",
       "      <td>SpecificDisease</td>\n",
       "      <td>MESH:D002971|MESH:D002972</td>\n",
       "      <td>[-0.004606142640113831, -0.04793596640229225, ...</td>\n",
       "    </tr>\n",
       "    <tr>\n",
       "      <th>794</th>\n",
       "      <td>10417286</td>\n",
       "      <td>296</td>\n",
       "      <td>300</td>\n",
       "      <td>CL/P</td>\n",
       "      <td>SpecificDisease</td>\n",
       "      <td>MESH:D002971|MESH:D002972</td>\n",
       "      <td>[-0.10638944804668427, -0.005765229929238558, ...</td>\n",
       "    </tr>\n",
       "    <tr>\n",
       "      <th>1331</th>\n",
       "      <td>23402</td>\n",
       "      <td>137</td>\n",
       "      <td>155</td>\n",
       "      <td>lamellar cataracts</td>\n",
       "      <td>SpecificDisease</td>\n",
       "      <td>MESH:C535342|OMIM:116800</td>\n",
       "      <td>[-0.011170584708452225, 0.012628213502466679, ...</td>\n",
       "    </tr>\n",
       "    <tr>\n",
       "      <th>1333</th>\n",
       "      <td>23402</td>\n",
       "      <td>745</td>\n",
       "      <td>773</td>\n",
       "      <td>bilateral lamellar cataracts</td>\n",
       "      <td>SpecificDisease</td>\n",
       "      <td>MESH:C535342|OMIM:116800</td>\n",
       "      <td>[-0.009254563599824905, -0.0023286337964236736...</td>\n",
       "    </tr>\n",
       "    <tr>\n",
       "      <th>1383</th>\n",
       "      <td>10571950</td>\n",
       "      <td>345</td>\n",
       "      <td>364</td>\n",
       "      <td>hereditary deafness</td>\n",
       "      <td>SpecificDisease</td>\n",
       "      <td>MESH:D030342|MESH:D003638</td>\n",
       "      <td>[0.013537347316741943, -0.02739623188972473, 0...</td>\n",
       "    </tr>\n",
       "    <tr>\n",
       "      <th>1565</th>\n",
       "      <td>1424237</td>\n",
       "      <td>20</td>\n",
       "      <td>36</td>\n",
       "      <td>cat eye syndrome</td>\n",
       "      <td>SpecificDisease</td>\n",
       "      <td>MESH:C535918|OMIM:115470</td>\n",
       "      <td>[-0.01026996597647667, -0.01579897664487362, -...</td>\n",
       "    </tr>\n",
       "    <tr>\n",
       "      <th>1567</th>\n",
       "      <td>1424237</td>\n",
       "      <td>146</td>\n",
       "      <td>149</td>\n",
       "      <td>CES</td>\n",
       "      <td>SpecificDisease</td>\n",
       "      <td>MESH:C535918|OMIM:115470</td>\n",
       "      <td>[-0.03191491588950157, 0.004478480201214552, 0...</td>\n",
       "    </tr>\n",
       "    <tr>\n",
       "      <th>1785</th>\n",
       "      <td>10923035</td>\n",
       "      <td>711</td>\n",
       "      <td>761</td>\n",
       "      <td>generalized epilepsy and febrile seizures   pl...</td>\n",
       "      <td>SpecificDisease</td>\n",
       "      <td>MESH:D004829|MESH:D003294</td>\n",
       "      <td>[0.004078835714608431, -0.0037693835329264402,...</td>\n",
       "    </tr>\n",
       "    <tr>\n",
       "      <th>1861</th>\n",
       "      <td>6604602</td>\n",
       "      <td>639</td>\n",
       "      <td>657</td>\n",
       "      <td>entero-arthropathy</td>\n",
       "      <td>SpecificDisease</td>\n",
       "      <td>MESH:C538273|MESH:D001168</td>\n",
       "      <td>[0.008949538692831993, -0.0406569167971611, 0....</td>\n",
       "    </tr>\n",
       "    <tr>\n",
       "      <th>1870</th>\n",
       "      <td>6604602</td>\n",
       "      <td>1321</td>\n",
       "      <td>1365</td>\n",
       "      <td>HEREDITARY MULTIFOCAL RELAPSING INFLAMMATION</td>\n",
       "      <td>SpecificDisease</td>\n",
       "      <td>MESH:D007249|MESH:D030342</td>\n",
       "      <td>[-0.0029539018869400024, -0.03443752974271774,...</td>\n",
       "    </tr>\n",
       "    <tr>\n",
       "      <th>1871</th>\n",
       "      <td>6604602</td>\n",
       "      <td>1367</td>\n",
       "      <td>1372</td>\n",
       "      <td>HEMRI</td>\n",
       "      <td>SpecificDisease</td>\n",
       "      <td>MESH:D007249|MESH:D030342</td>\n",
       "      <td>[-0.07104962319135666, -0.0008617481798864901,...</td>\n",
       "    </tr>\n",
       "    <tr>\n",
       "      <th>2083</th>\n",
       "      <td>4019732</td>\n",
       "      <td>325</td>\n",
       "      <td>335</td>\n",
       "      <td>oral cleft</td>\n",
       "      <td>SpecificDisease</td>\n",
       "      <td>MESH:D002971|MESH:D002972</td>\n",
       "      <td>[-0.01743890531361103, -0.05108879134058952, 0...</td>\n",
       "    </tr>\n",
       "    <tr>\n",
       "      <th>2259</th>\n",
       "      <td>7939630</td>\n",
       "      <td>284</td>\n",
       "      <td>319</td>\n",
       "      <td>sporadic breast and ovarian cancers</td>\n",
       "      <td>SpecificDisease</td>\n",
       "      <td>MESH:D001943|MESH:D010051</td>\n",
       "      <td>[-0.04517018795013428, -0.022747136652469635, ...</td>\n",
       "    </tr>\n",
       "    <tr>\n",
       "      <th>2530</th>\n",
       "      <td>2792129</td>\n",
       "      <td>158</td>\n",
       "      <td>178</td>\n",
       "      <td>recurrent meningitis</td>\n",
       "      <td>SpecificDisease</td>\n",
       "      <td>MESH:D008581|MESH:D012008</td>\n",
       "      <td>[-0.023847075179219246, -0.05073912814259529, ...</td>\n",
       "    </tr>\n",
       "    <tr>\n",
       "      <th>2550</th>\n",
       "      <td>2862466</td>\n",
       "      <td>997</td>\n",
       "      <td>1010</td>\n",
       "      <td>C4 deficiency</td>\n",
       "      <td>SpecificDisease</td>\n",
       "      <td>OMIM:614380|OMIM:614379</td>\n",
       "      <td>[-0.020896265283226967, 0.015392263419926167, ...</td>\n",
       "    </tr>\n",
       "    <tr>\n",
       "      <th>2908</th>\n",
       "      <td>1981994</td>\n",
       "      <td>246</td>\n",
       "      <td>261</td>\n",
       "      <td>MEF-amyloidosis</td>\n",
       "      <td>SpecificDisease</td>\n",
       "      <td>MESH:D000686|MESH:D010505</td>\n",
       "      <td>[0.01717950403690338, -0.045065395534038544, 0...</td>\n",
       "    </tr>\n",
       "    <tr>\n",
       "      <th>2969</th>\n",
       "      <td>8500791</td>\n",
       "      <td>1502</td>\n",
       "      <td>1512</td>\n",
       "      <td>hemophilia</td>\n",
       "      <td>SpecificDisease</td>\n",
       "      <td>MESH:D006467|MESH:D002836</td>\n",
       "      <td>[-0.04370996728539467, -0.010045520961284637, ...</td>\n",
       "    </tr>\n",
       "    <tr>\n",
       "      <th>3028</th>\n",
       "      <td>10807385</td>\n",
       "      <td>2276</td>\n",
       "      <td>2318</td>\n",
       "      <td>BRCA-associated hereditary ovarian cancers</td>\n",
       "      <td>SpecificDisease</td>\n",
       "      <td>OMIM:604370|OMIM:612555|OMIM:613399</td>\n",
       "      <td>[-0.0003273005713708699, -0.009386842139065266...</td>\n",
       "    </tr>\n",
       "    <tr>\n",
       "      <th>3363</th>\n",
       "      <td>7790377</td>\n",
       "      <td>1391</td>\n",
       "      <td>1417</td>\n",
       "      <td>PTS1 protein-import defect</td>\n",
       "      <td>SpecificDisease</td>\n",
       "      <td>OMIM:202370|OMIM:214100</td>\n",
       "      <td>[-0.0509541817009449, -0.05884683132171631, 0....</td>\n",
       "    </tr>\n",
       "    <tr>\n",
       "      <th>3844</th>\n",
       "      <td>9620771</td>\n",
       "      <td>398</td>\n",
       "      <td>413</td>\n",
       "      <td>ACTH deficiency</td>\n",
       "      <td>SpecificDisease</td>\n",
       "      <td>OMIM:201400|MESH:C535668</td>\n",
       "      <td>[0.008866067975759506, -0.03701847046613693, 0...</td>\n",
       "    </tr>\n",
       "  </tbody>\n",
       "</table>\n",
       "</div>"
      ],
      "text/plain": [
       "            ID  Start   End  \\\n",
       "270    8871666     19    62   \n",
       "300    8954016     86   102   \n",
       "614    8188241    431   453   \n",
       "793   10417286    278   294   \n",
       "794   10417286    296   300   \n",
       "1331     23402    137   155   \n",
       "1333     23402    745   773   \n",
       "1383  10571950    345   364   \n",
       "1565   1424237     20    36   \n",
       "1567   1424237    146   149   \n",
       "1785  10923035    711   761   \n",
       "1861   6604602    639   657   \n",
       "1870   6604602   1321  1365   \n",
       "1871   6604602   1367  1372   \n",
       "2083   4019732    325   335   \n",
       "2259   7939630    284   319   \n",
       "2530   2792129    158   178   \n",
       "2550   2862466    997  1010   \n",
       "2908   1981994    246   261   \n",
       "2969   8500791   1502  1512   \n",
       "3028  10807385   2276  2318   \n",
       "3363   7790377   1391  1417   \n",
       "3844   9620771    398   413   \n",
       "\n",
       "                                            Description             Type  \\\n",
       "270         combined subtotal deficiencies of C6 and C7  SpecificDisease   \n",
       "300                                    renal hamartomas  SpecificDisease   \n",
       "614                              ochronotic arthropathy  SpecificDisease   \n",
       "793                                    cleft lip/palate  SpecificDisease   \n",
       "794                                                CL/P  SpecificDisease   \n",
       "1331                                 lamellar cataracts  SpecificDisease   \n",
       "1333                       bilateral lamellar cataracts  SpecificDisease   \n",
       "1383                                hereditary deafness  SpecificDisease   \n",
       "1565                                   cat eye syndrome  SpecificDisease   \n",
       "1567                                                CES  SpecificDisease   \n",
       "1785  generalized epilepsy and febrile seizures   pl...  SpecificDisease   \n",
       "1861                                 entero-arthropathy  SpecificDisease   \n",
       "1870       HEREDITARY MULTIFOCAL RELAPSING INFLAMMATION  SpecificDisease   \n",
       "1871                                              HEMRI  SpecificDisease   \n",
       "2083                                         oral cleft  SpecificDisease   \n",
       "2259                sporadic breast and ovarian cancers  SpecificDisease   \n",
       "2530                               recurrent meningitis  SpecificDisease   \n",
       "2550                                      C4 deficiency  SpecificDisease   \n",
       "2908                                    MEF-amyloidosis  SpecificDisease   \n",
       "2969                                         hemophilia  SpecificDisease   \n",
       "3028         BRCA-associated hereditary ovarian cancers  SpecificDisease   \n",
       "3363                         PTS1 protein-import defect  SpecificDisease   \n",
       "3844                                    ACTH deficiency  SpecificDisease   \n",
       "\n",
       "                                  MESH ID  \\\n",
       "270               OMIM:612446|OMIM:610102   \n",
       "300             MESH:D007674|MESH:D006222   \n",
       "614             MESH:D009794|MESH:D007592   \n",
       "793             MESH:D002971|MESH:D002972   \n",
       "794             MESH:D002971|MESH:D002972   \n",
       "1331             MESH:C535342|OMIM:116800   \n",
       "1333             MESH:C535342|OMIM:116800   \n",
       "1383            MESH:D030342|MESH:D003638   \n",
       "1565             MESH:C535918|OMIM:115470   \n",
       "1567             MESH:C535918|OMIM:115470   \n",
       "1785            MESH:D004829|MESH:D003294   \n",
       "1861            MESH:C538273|MESH:D001168   \n",
       "1870            MESH:D007249|MESH:D030342   \n",
       "1871            MESH:D007249|MESH:D030342   \n",
       "2083            MESH:D002971|MESH:D002972   \n",
       "2259            MESH:D001943|MESH:D010051   \n",
       "2530            MESH:D008581|MESH:D012008   \n",
       "2550              OMIM:614380|OMIM:614379   \n",
       "2908            MESH:D000686|MESH:D010505   \n",
       "2969            MESH:D006467|MESH:D002836   \n",
       "3028  OMIM:604370|OMIM:612555|OMIM:613399   \n",
       "3363              OMIM:202370|OMIM:214100   \n",
       "3844             OMIM:201400|MESH:C535668   \n",
       "\n",
       "                DiseaseEmbedding-BAAI-bge-small-en-v1_5  \n",
       "270   [-0.017155997455120087, -0.010280901566147804,...  \n",
       "300   [-0.0009376744856126606, -0.011878404766321182...  \n",
       "614   [-0.02016284689307213, -0.03807215392589569, 0...  \n",
       "793   [-0.004606142640113831, -0.04793596640229225, ...  \n",
       "794   [-0.10638944804668427, -0.005765229929238558, ...  \n",
       "1331  [-0.011170584708452225, 0.012628213502466679, ...  \n",
       "1333  [-0.009254563599824905, -0.0023286337964236736...  \n",
       "1383  [0.013537347316741943, -0.02739623188972473, 0...  \n",
       "1565  [-0.01026996597647667, -0.01579897664487362, -...  \n",
       "1567  [-0.03191491588950157, 0.004478480201214552, 0...  \n",
       "1785  [0.004078835714608431, -0.0037693835329264402,...  \n",
       "1861  [0.008949538692831993, -0.0406569167971611, 0....  \n",
       "1870  [-0.0029539018869400024, -0.03443752974271774,...  \n",
       "1871  [-0.07104962319135666, -0.0008617481798864901,...  \n",
       "2083  [-0.01743890531361103, -0.05108879134058952, 0...  \n",
       "2259  [-0.04517018795013428, -0.022747136652469635, ...  \n",
       "2530  [-0.023847075179219246, -0.05073912814259529, ...  \n",
       "2550  [-0.020896265283226967, 0.015392263419926167, ...  \n",
       "2908  [0.01717950403690338, -0.045065395534038544, 0...  \n",
       "2969  [-0.04370996728539467, -0.010045520961284637, ...  \n",
       "3028  [-0.0003273005713708699, -0.009386842139065266...  \n",
       "3363  [-0.0509541817009449, -0.05884683132171631, 0....  \n",
       "3844  [0.008866067975759506, -0.03701847046613693, 0...  "
      ]
     },
     "execution_count": 419,
     "metadata": {},
     "output_type": "execute_result"
    }
   ],
   "source": [
    "multiple_ids_df.head(23)"
   ]
  },
  {
   "cell_type": "markdown",
   "metadata": {},
   "source": [
    "We can examine these diseases more closely. The biggest challenge is the \"combined subtotal deficiencies of C6 and C7\" entry, as it corresponds to 2 specific diseases. Named Entity Recognition is not a part of this research, so we can treat this project, so we will treat any prediction that matches either ID as a correct one. As for the rest - they seem to be denoting a singular disease, with some ids being from different ontologies (MESH vs OMIM), and some denoting disease category (like \"MESH:D030342\" - \"Genetic Diseases, Inborn\" in the knowledge graph, and \"HEREDITARY MULTIFOCAL RELAPSING INFLAMMATION\" or \"HEMRI\" in the dataset). This is the problem with the annotations, not a challenge our system should be tackling. Thus, we will remove those row and run more experiments.\n",
    "\n",
    "We will also take a closer look at the abbreviations."
   ]
  },
  {
   "cell_type": "code",
   "execution_count": 440,
   "metadata": {},
   "outputs": [
    {
     "name": "stdout",
     "output_type": "stream",
     "text": [
      "<class 'pandas.core.frame.DataFrame'>\n",
      "Index: 1064 entries, 5 to 3922\n",
      "Data columns (total 7 columns):\n",
      " #   Column                                   Non-Null Count  Dtype \n",
      "---  ------                                   --------------  ----- \n",
      " 0   ID                                       1064 non-null   int64 \n",
      " 1   Start                                    1064 non-null   int64 \n",
      " 2   End                                      1064 non-null   int64 \n",
      " 3   Description                              1064 non-null   object\n",
      " 4   Type                                     1064 non-null   object\n",
      " 5   MESH ID                                  1064 non-null   object\n",
      " 6   DiseaseEmbedding-BAAI-bge-small-en-v1_5  1064 non-null   object\n",
      "dtypes: int64(3), object(4)\n",
      "memory usage: 66.5+ KB\n"
     ]
    }
   ],
   "source": [
    "abbreviation_pattern = re.compile(r'\\b(?!I{1,3}|IV|VI{0,3}|IX|X{1,3})[A-Z\\.]{2,}s?\\b') # excluding Roman numbers\n",
    "\n",
    "def contains_abbreviation(description):\n",
    "    return bool(abbreviation_pattern.search(description))\n",
    "\n",
    "abbrev_df = df[df['Description'].apply(contains_abbreviation)]\n",
    "abbrev_df.info()"
   ]
  },
  {
   "cell_type": "code",
   "execution_count": 441,
   "metadata": {},
   "outputs": [
    {
     "data": {
      "text/html": [
       "<div>\n",
       "<style scoped>\n",
       "    .dataframe tbody tr th:only-of-type {\n",
       "        vertical-align: middle;\n",
       "    }\n",
       "\n",
       "    .dataframe tbody tr th {\n",
       "        vertical-align: top;\n",
       "    }\n",
       "\n",
       "    .dataframe thead th {\n",
       "        text-align: right;\n",
       "    }\n",
       "</style>\n",
       "<table border=\"1\" class=\"dataframe\">\n",
       "  <thead>\n",
       "    <tr style=\"text-align: right;\">\n",
       "      <th></th>\n",
       "      <th>ID</th>\n",
       "      <th>Start</th>\n",
       "      <th>End</th>\n",
       "      <th>Description</th>\n",
       "      <th>Type</th>\n",
       "      <th>MESH ID</th>\n",
       "      <th>DiseaseEmbedding-BAAI-bge-small-en-v1_5</th>\n",
       "    </tr>\n",
       "  </thead>\n",
       "  <tbody>\n",
       "    <tr>\n",
       "      <th>5</th>\n",
       "      <td>9012409</td>\n",
       "      <td>1723</td>\n",
       "      <td>1749</td>\n",
       "      <td>LA variant of galactosemia</td>\n",
       "      <td>SpecificDisease</td>\n",
       "      <td>MESH:D005693</td>\n",
       "      <td>[-0.03230331465601921, -0.0889873057603836, 0....</td>\n",
       "    </tr>\n",
       "    <tr>\n",
       "      <th>8</th>\n",
       "      <td>8755645</td>\n",
       "      <td>471</td>\n",
       "      <td>474</td>\n",
       "      <td>FED</td>\n",
       "      <td>SpecificDisease</td>\n",
       "      <td>MESH:D007863</td>\n",
       "      <td>[0.02004864625632763, -0.06878961622714996, 0....</td>\n",
       "    </tr>\n",
       "    <tr>\n",
       "      <th>9</th>\n",
       "      <td>8755645</td>\n",
       "      <td>1168</td>\n",
       "      <td>1171</td>\n",
       "      <td>FED</td>\n",
       "      <td>SpecificDisease</td>\n",
       "      <td>MESH:D007863</td>\n",
       "      <td>[0.02004864625632763, -0.06878961622714996, 0....</td>\n",
       "    </tr>\n",
       "    <tr>\n",
       "      <th>51</th>\n",
       "      <td>8931701</td>\n",
       "      <td>167</td>\n",
       "      <td>170</td>\n",
       "      <td>WAS</td>\n",
       "      <td>SpecificDisease</td>\n",
       "      <td>MESH:D014923</td>\n",
       "      <td>[-0.035743627697229385, 0.007720883935689926, ...</td>\n",
       "    </tr>\n",
       "    <tr>\n",
       "      <th>52</th>\n",
       "      <td>8931701</td>\n",
       "      <td>662</td>\n",
       "      <td>665</td>\n",
       "      <td>WAS</td>\n",
       "      <td>SpecificDisease</td>\n",
       "      <td>MESH:D014923</td>\n",
       "      <td>[-0.035743627697229385, 0.007720883935689926, ...</td>\n",
       "    </tr>\n",
       "  </tbody>\n",
       "</table>\n",
       "</div>"
      ],
      "text/plain": [
       "         ID  Start   End                 Description             Type  \\\n",
       "5   9012409   1723  1749  LA variant of galactosemia  SpecificDisease   \n",
       "8   8755645    471   474                         FED  SpecificDisease   \n",
       "9   8755645   1168  1171                         FED  SpecificDisease   \n",
       "51  8931701    167   170                         WAS  SpecificDisease   \n",
       "52  8931701    662   665                         WAS  SpecificDisease   \n",
       "\n",
       "         MESH ID            DiseaseEmbedding-BAAI-bge-small-en-v1_5  \n",
       "5   MESH:D005693  [-0.03230331465601921, -0.0889873057603836, 0....  \n",
       "8   MESH:D007863  [0.02004864625632763, -0.06878961622714996, 0....  \n",
       "9   MESH:D007863  [0.02004864625632763, -0.06878961622714996, 0....  \n",
       "51  MESH:D014923  [-0.035743627697229385, 0.007720883935689926, ...  \n",
       "52  MESH:D014923  [-0.035743627697229385, 0.007720883935689926, ...  "
      ]
     },
     "execution_count": 441,
     "metadata": {},
     "output_type": "execute_result"
    }
   ],
   "source": [
    "abbrev_df.head()"
   ]
  },
  {
   "cell_type": "markdown",
   "metadata": {},
   "source": [
    "Let us take a look at \"WAS\" - \"Wiskott-Aldrich Syndrome\". If we query the knowledge graph - we can see that the node for this particular diseases in fact contain \"WAS\" in the `Synonyms` prop, however querying `baaiVectorIndex_combinedSynonym` with the embedding for \"WAS\" results in \"IMMUNE SUPPRESSION\" disease with \"IS|ISCW|ISSCW|STREPTOCOCCAL CELL WALL ANTIGEN, SUPPRESSION OF IMMUNE RESPONSE TO\" and a score of 0.877177357673645 being returned (as shown in the table below). Querying `diseaseIndex` (a fulltext index) does not return any results, although that index was created on `DiseaseName` and `Synonyms` property. This can be solved by iterating over each synonym in each node, but the tradeoff would be a substantially longer runtime for such experiment."
   ]
  },
  {
   "cell_type": "code",
   "execution_count": 446,
   "metadata": {},
   "outputs": [
    {
     "data": {
      "text/html": [
       "<div>\n",
       "<style scoped>\n",
       "    .dataframe tbody tr th:only-of-type {\n",
       "        vertical-align: middle;\n",
       "    }\n",
       "\n",
       "    .dataframe tbody tr th {\n",
       "        vertical-align: top;\n",
       "    }\n",
       "\n",
       "    .dataframe thead th {\n",
       "        text-align: right;\n",
       "    }\n",
       "</style>\n",
       "<table border=\"1\" class=\"dataframe\">\n",
       "  <thead>\n",
       "    <tr style=\"text-align: right;\">\n",
       "      <th></th>\n",
       "      <th>node.DiseaseName</th>\n",
       "      <th>node.Synonyms</th>\n",
       "      <th>node.DiseaseID</th>\n",
       "      <th>node.AltDiseaseIDs</th>\n",
       "      <th>score</th>\n",
       "    </tr>\n",
       "  </thead>\n",
       "  <tbody>\n",
       "    <tr>\n",
       "      <th>0</th>\n",
       "      <td>\"IMMUNE SUPPRESSION\"</td>\n",
       "      <td>\"IS|ISCW|ISSCW|STREPTOCOCCAL CELL WALL ANTIGEN...</td>\n",
       "      <td>\"OMIM:146850\"</td>\n",
       "      <td>NaN</td>\n",
       "      <td>0.877177</td>\n",
       "    </tr>\n",
       "    <tr>\n",
       "      <th>1</th>\n",
       "      <td>\"Ataxia Telangiectasia\"</td>\n",
       "      <td>\"AT|AT1|ATA, INCLUDED|Ataxia-Telangiectasia|At...</td>\n",
       "      <td>\"MESH:D001260\"</td>\n",
       "      <td>\"DO:DOID:12704|OMIM:208900\"</td>\n",
       "      <td>0.874295</td>\n",
       "    </tr>\n",
       "    <tr>\n",
       "      <th>2</th>\n",
       "      <td>\"Aniridia\"</td>\n",
       "      <td>\"Absent Iris|AN|AN1|AN2|AN3|ANIRIDIA 1|ANIRIDI...</td>\n",
       "      <td>\"MESH:D015783\"</td>\n",
       "      <td>\"DO:DOID:12271|OMIM:106210|OMIM:617141|OMIM:61...</td>\n",
       "      <td>0.871559</td>\n",
       "    </tr>\n",
       "    <tr>\n",
       "      <th>3</th>\n",
       "      <td>\"Epithelial Recurrent Erosion Dystrophy\"</td>\n",
       "      <td>\"Corneal Erosions, Recurring Hereditary|ERED\"</td>\n",
       "      <td>\"MESH:C565155\"</td>\n",
       "      <td>\"DO:DOID:0070337|OMIM:122400\"</td>\n",
       "      <td>0.869163</td>\n",
       "    </tr>\n",
       "    <tr>\n",
       "      <th>4</th>\n",
       "      <td>\"HYPOMELANOSIS OF ITO\"</td>\n",
       "      <td>\"HMI|INCONTINENTIA PIGMENTI ACHROMIANS|INCONTI...</td>\n",
       "      <td>\"OMIM:300337\"</td>\n",
       "      <td>\"DO:DOID:3156\"</td>\n",
       "      <td>0.867288</td>\n",
       "    </tr>\n",
       "  </tbody>\n",
       "</table>\n",
       "</div>"
      ],
      "text/plain": [
       "                           node.DiseaseName  \\\n",
       "0                      \"IMMUNE SUPPRESSION\"   \n",
       "1                   \"Ataxia Telangiectasia\"   \n",
       "2                                \"Aniridia\"   \n",
       "3  \"Epithelial Recurrent Erosion Dystrophy\"   \n",
       "4                    \"HYPOMELANOSIS OF ITO\"   \n",
       "\n",
       "                                       node.Synonyms  node.DiseaseID  \\\n",
       "0  \"IS|ISCW|ISSCW|STREPTOCOCCAL CELL WALL ANTIGEN...   \"OMIM:146850\"   \n",
       "1  \"AT|AT1|ATA, INCLUDED|Ataxia-Telangiectasia|At...  \"MESH:D001260\"   \n",
       "2  \"Absent Iris|AN|AN1|AN2|AN3|ANIRIDIA 1|ANIRIDI...  \"MESH:D015783\"   \n",
       "3      \"Corneal Erosions, Recurring Hereditary|ERED\"  \"MESH:C565155\"   \n",
       "4  \"HMI|INCONTINENTIA PIGMENTI ACHROMIANS|INCONTI...   \"OMIM:300337\"   \n",
       "\n",
       "                                  node.AltDiseaseIDs     score  \n",
       "0                                                NaN  0.877177  \n",
       "1                        \"DO:DOID:12704|OMIM:208900\"  0.874295  \n",
       "2  \"DO:DOID:12271|OMIM:106210|OMIM:617141|OMIM:61...  0.871559  \n",
       "3                      \"DO:DOID:0070337|OMIM:122400\"  0.869163  \n",
       "4                                     \"DO:DOID:3156\"  0.867288  "
      ]
     },
     "execution_count": 446,
     "metadata": {},
     "output_type": "execute_result"
    }
   ],
   "source": [
    "was_df = pd.read_csv('./media/csv/cypher_index_query_was.csv', sep=\",\")\n",
    "was_df.head()"
   ]
  },
  {
   "cell_type": "markdown",
   "metadata": {},
   "source": [
    "So far we identified the following issues:\n",
    "- with the existing queries, using the limit=1 it is not possible to collect the correct candidates with a decent accuracy;\n",
    "- fulltext index may not return any results;\n",
    "- vector index always returns a prediction, however, if the disease name is in the Synonyms, it is not guaranteed that the returned node will correspond to that disease even when using vector index created on synonyms centroids\n",
    "\n",
    "We will remove all the entries from the dataset that contain multiple MESH/OMIM IDs for more precision."
   ]
  },
  {
   "cell_type": "code",
   "execution_count": 459,
   "metadata": {},
   "outputs": [],
   "source": [
    "df.drop(df[df['MESH ID'].str.contains('|', regex=False)].index, inplace=True)"
   ]
  },
  {
   "cell_type": "code",
   "execution_count": 608,
   "metadata": {},
   "outputs": [
    {
     "name": "stdout",
     "output_type": "stream",
     "text": [
      "<class 'pandas.core.frame.DataFrame'>\n",
      "Index: 3893 entries, 0 to 3927\n",
      "Data columns (total 7 columns):\n",
      " #   Column                                   Non-Null Count  Dtype \n",
      "---  ------                                   --------------  ----- \n",
      " 0   ID                                       3893 non-null   int64 \n",
      " 1   Start                                    3893 non-null   int64 \n",
      " 2   End                                      3893 non-null   int64 \n",
      " 3   Description                              3893 non-null   object\n",
      " 4   Type                                     3893 non-null   object\n",
      " 5   MESH ID                                  3893 non-null   object\n",
      " 6   DiseaseEmbedding-BAAI-bge-small-en-v1_5  3893 non-null   object\n",
      "dtypes: int64(3), object(4)\n",
      "memory usage: 243.3+ KB\n"
     ]
    }
   ],
   "source": [
    "df.info()"
   ]
  },
  {
   "cell_type": "code",
   "execution_count": 460,
   "metadata": {},
   "outputs": [],
   "source": [
    "df.to_csv('../data/processed/ncbi_specific_disease_singular_id.csv', sep=',')"
   ]
  },
  {
   "cell_type": "markdown",
   "metadata": {},
   "source": [
    "Since we changed the dataset, we need to re-run the previous experiments to get updated results."
   ]
  },
  {
   "cell_type": "code",
   "execution_count": 605,
   "metadata": {},
   "outputs": [
    {
     "data": {
      "text/plain": [
       "0.5270999229386077"
      ]
     },
     "execution_count": 605,
     "metadata": {},
     "output_type": "execute_result"
    }
   ],
   "source": [
    "[true_values, predicted_values] = predict_with_fulltext_index(df)\n",
    "custom_accuracy(true_values=true_values, predicted_values=predicted_values)"
   ]
  },
  {
   "cell_type": "code",
   "execution_count": 606,
   "metadata": {},
   "outputs": [
    {
     "data": {
      "text/plain": [
       "0.3850500899049576"
      ]
     },
     "execution_count": 606,
     "metadata": {},
     "output_type": "execute_result"
    }
   ],
   "source": [
    "[true_values_vector, predicted_values_vector] = predict_with_vector_index(query=baai_vector_index_query, dataset=df, embedding_model_name=Models.BAAI_BGE_SMALL_EN_V1_5.value, limit=1)\n",
    "custom_accuracy(true_values=true_values_vector, predicted_values=predicted_values_vector)"
   ]
  },
  {
   "cell_type": "code",
   "execution_count": 607,
   "metadata": {},
   "outputs": [
    {
     "data": {
      "text/plain": [
       "0.3149242229642949"
      ]
     },
     "execution_count": 607,
     "metadata": {},
     "output_type": "execute_result"
    }
   ],
   "source": [
    "[true_values_syn_vector, predicted_values_syn_vector] = predict_with_vector_index(query=get_baai_synonyms_combined_vector_index_query, dataset=df, embedding_model_name=Models.BAAI_BGE_SMALL_EN_V1_5.value, limit=1)\n",
    "custom_accuracy(true_values=true_values_syn_vector, predicted_values=predicted_values_syn_vector)"
   ]
  },
  {
   "cell_type": "markdown",
   "metadata": {},
   "source": [
    "## Manual Cypher query on each synonym"
   ]
  },
  {
   "cell_type": "markdown",
   "metadata": {},
   "source": [
    "Having done simple index queries, let us try to compare the performance with a manual cypher query that would combine search on different properties."
   ]
  },
  {
   "cell_type": "code",
   "execution_count": 477,
   "metadata": {},
   "outputs": [],
   "source": [
    "manual_disease_synonyms_query = \"\"\"\n",
    "    MATCH (d:Disease)\n",
    "    WITH d, apoc.map.get(d, 'SynonymsEmbedding-BAAI-bge-small-en-v1_5', '[]') AS synonym_embedding_json\n",
    "    WITH d, apoc.convert.fromJsonList(synonym_embedding_json) AS synonym_embeddings\n",
    "    UNWIND synonym_embeddings AS synonym_embedding\n",
    "    WITH d, synonym_embedding, gds.similarity.cosine(synonym_embedding, $disease_name) AS score\n",
    "    WHERE score > $threshold\n",
    "    RETURN d.DiseaseName AS Description, d.Synonyms AS Synonyms, d.DiseaseID AS MESH_ID, d.AltDiseaseIDs AS AltDiseaseIDs, score\n",
    "    ORDER BY score DESC\n",
    "    LIMIT $limit\n",
    "\"\"\""
   ]
  },
  {
   "cell_type": "markdown",
   "metadata": {},
   "source": [
    "We will verify if the query works correctly first."
   ]
  },
  {
   "cell_type": "code",
   "execution_count": 483,
   "metadata": {},
   "outputs": [],
   "source": [
    "test_synonym = embed_model.get_text_embedding('Breast Cancer-Related Arm Lymphedema') # this is a synonym of MESH:D000072656"
   ]
  },
  {
   "cell_type": "code",
   "execution_count": 484,
   "metadata": {},
   "outputs": [
    {
     "name": "stdout",
     "output_type": "stream",
     "text": [
      "<Record Description='Breast Cancer Lymphedema' Synonyms='Breast Cancer Lymphedemas|Breast Cancer Related Arm Lymphedema|Breast Cancer-Related Arm Lymphedema|Breast Cancer Related Lymphedema|Breast Cancer Treatment Related Lymphedema|Breast Cancer Treatment-Related Lymphedema|Lymphedema, Breast Cancer|Lymphedema, Post-mastectomy|Lymphedema, Postmastectomy|Lymphedemas, Postmastectomy|Post mastectomy Lymphedema|Post-mastectomy Lymphedema|Postmastectomy Lymphedema|Post-mastectomy Lymphedemas|Postmastectomy Lymphedemas' MESH_ID='MESH:D000072656' AltDiseaseIDs=nan score=1.0>\n",
      "<Record Description='Breast Cancer Lymphedema' Synonyms='Breast Cancer Lymphedemas|Breast Cancer Related Arm Lymphedema|Breast Cancer-Related Arm Lymphedema|Breast Cancer Related Lymphedema|Breast Cancer Treatment Related Lymphedema|Breast Cancer Treatment-Related Lymphedema|Lymphedema, Breast Cancer|Lymphedema, Post-mastectomy|Lymphedema, Postmastectomy|Lymphedemas, Postmastectomy|Post mastectomy Lymphedema|Post-mastectomy Lymphedema|Postmastectomy Lymphedema|Post-mastectomy Lymphedemas|Postmastectomy Lymphedemas' MESH_ID='MESH:D000072656' AltDiseaseIDs=nan score=0.9963928848302327>\n"
     ]
    }
   ],
   "source": [
    "with driver.session() as session:\n",
    "    result = session.run(manual_disease_synonyms_query, disease_name=test_synonym, threshold=0.95, limit=10)\n",
    "\n",
    "    for record in result:\n",
    "        print(record)"
   ]
  },
  {
   "cell_type": "markdown",
   "metadata": {},
   "source": [
    "Now let us run this query on 10 entries in the dataset and store the results. We won't run it on the whole dataset as it is very computationally expensive."
   ]
  },
  {
   "cell_type": "code",
   "execution_count": 485,
   "metadata": {},
   "outputs": [],
   "source": [
    "test_df = df[:10]"
   ]
  },
  {
   "cell_type": "code",
   "execution_count": null,
   "metadata": {},
   "outputs": [],
   "source": [
    "[true_values, predicted_values_syn_vector_manual] = predict_with_vector_index(query=manual_disease_synonyms_query, dataset=test_df, embedding_model_name=Models.BAAI_BGE_SMALL_EN_V1_5.value, limit=10, threshold=0.95)"
   ]
  },
  {
   "cell_type": "markdown",
   "metadata": {},
   "source": [
    "As we can see, this solution is not scalable, as to run a single query on the entire knowledge base takes 3 minutes, and to query the whole dataset we would need more than 6 days. However, let us include these 10 results into the next phase of analysis."
   ]
  },
  {
   "cell_type": "markdown",
   "metadata": {},
   "source": [
    "## Further results analysis"
   ]
  },
  {
   "cell_type": "markdown",
   "metadata": {},
   "source": [
    "Let us compare all 4 methods on the first 10 records."
   ]
  },
  {
   "cell_type": "code",
   "execution_count": 609,
   "metadata": {},
   "outputs": [
    {
     "name": "stdout",
     "output_type": "stream",
     "text": [
      "True values\n",
      "{'MESH_ID': 'MESH:D005955', 'Description': 'glucose-6-phosphate dehydrogenase (G6PD) deficiency'}\n",
      "---------------\n",
      "Fulltext\n",
      "[{'MESH_ID': 'MESH:D005955', 'Description': 'Glucosephosphate Dehydrogenase Deficiency', 'Synonyms': 'Deficiencies, G6PD|Deficiencies, Glucose-6-Phosphate Dehydrogenase|Deficiencies, Glucosephosphate Dehydrogenase|Deficiencies, GPD|Deficiency, G6PD|Deficiency, Glucose-6-Phosphate Dehydrogenase|Deficiency, Glucosephosphate Dehydrogenase|Deficiency, GPD|Deficiency of Glucose 6 Phosphate Dehydrogenase|Deficiency of Glucose-6-Phosphate Dehydrogenase|Dehydrogenase Deficiencies, Glucose-6-Phosphate|Dehydrogenase Deficiencies, Glucosephosphate|Dehydrogenase Deficiency, Glucose-6-Phosphate|Dehydrogenase Deficiency, Glucosephosphate|G6PD Deficiencies|G6PD Deficiency|Glucose-6-Phosphate Dehydrogenase Deficiencies|Glucose 6 Phosphate Dehydrogenase Deficiency|Glucose-6-Phosphate Dehydrogenase Deficiency|Glucosephosphate Dehydrogenase Deficiencies|GPD Deficiencies|GPD Deficiency|Hemolytic Anemia Due to G6PD Deficiency', 'AltDiseaseIDs': 'DO:DOID:2862', 'score': 16.26833152770996}]\n",
      "---------------\n",
      "Vector disease name\n",
      "[{'MESH_ID': 'MESH:C567533', 'Description': 'Anemia, Nonspherocytic Hemolytic, Due To G6pd Deficiency', 'Synonyms': nan, 'AltDiseaseIDs': nan, 'score': 0.9406301379203796}]\n",
      "---------------\n",
      "Vector synonyms centroid name\n",
      "[{'MESH_ID': 'MESH:D005955', 'Description': 'Glucosephosphate Dehydrogenase Deficiency', 'Synonyms': 'Deficiencies, G6PD|Deficiencies, Glucose-6-Phosphate Dehydrogenase|Deficiencies, Glucosephosphate Dehydrogenase|Deficiencies, GPD|Deficiency, G6PD|Deficiency, Glucose-6-Phosphate Dehydrogenase|Deficiency, Glucosephosphate Dehydrogenase|Deficiency, GPD|Deficiency of Glucose 6 Phosphate Dehydrogenase|Deficiency of Glucose-6-Phosphate Dehydrogenase|Dehydrogenase Deficiencies, Glucose-6-Phosphate|Dehydrogenase Deficiencies, Glucosephosphate|Dehydrogenase Deficiency, Glucose-6-Phosphate|Dehydrogenase Deficiency, Glucosephosphate|G6PD Deficiencies|G6PD Deficiency|Glucose-6-Phosphate Dehydrogenase Deficiencies|Glucose 6 Phosphate Dehydrogenase Deficiency|Glucose-6-Phosphate Dehydrogenase Deficiency|Glucosephosphate Dehydrogenase Deficiencies|GPD Deficiencies|GPD Deficiency|Hemolytic Anemia Due to G6PD Deficiency', 'AltDiseaseIDs': 'DO:DOID:2862', 'score': 0.9777307510375977}]\n",
      "---------------\n",
      "Vector synonyms manual\n",
      "[{'MESH_ID': 'MESH:D005955', 'Description': 'Glucosephosphate Dehydrogenase Deficiency', 'Synonyms': 'Deficiencies, G6PD|Deficiencies, Glucose-6-Phosphate Dehydrogenase|Deficiencies, Glucosephosphate Dehydrogenase|Deficiencies, GPD|Deficiency, G6PD|Deficiency, Glucose-6-Phosphate Dehydrogenase|Deficiency, Glucosephosphate Dehydrogenase|Deficiency, GPD|Deficiency of Glucose 6 Phosphate Dehydrogenase|Deficiency of Glucose-6-Phosphate Dehydrogenase|Dehydrogenase Deficiencies, Glucose-6-Phosphate|Dehydrogenase Deficiencies, Glucosephosphate|Dehydrogenase Deficiency, Glucose-6-Phosphate|Dehydrogenase Deficiency, Glucosephosphate|G6PD Deficiencies|G6PD Deficiency|Glucose-6-Phosphate Dehydrogenase Deficiencies|Glucose 6 Phosphate Dehydrogenase Deficiency|Glucose-6-Phosphate Dehydrogenase Deficiency|Glucosephosphate Dehydrogenase Deficiencies|GPD Deficiencies|GPD Deficiency|Hemolytic Anemia Due to G6PD Deficiency', 'AltDiseaseIDs': 'DO:DOID:2862', 'score': 0.9533590945190311}]\n",
      "---------------\n"
     ]
    }
   ],
   "source": [
    "print(\"True values\")\n",
    "print(true_values[0])\n",
    "print(\"---------------\")\n",
    "print(\"Fulltext\")\n",
    "print(predicted_values[0])\n",
    "print(\"---------------\")\n",
    "print(\"Vector disease name\")\n",
    "print(predicted_values_vector[0])\n",
    "print(\"---------------\")\n",
    "print(\"Vector synonyms centroid name\")\n",
    "print(predicted_values_syn_vector[0])\n",
    "print(\"---------------\")\n",
    "print(\"Vector synonyms manual\")\n",
    "print(predicted_values_syn_vector_manual[0])\n",
    "print(\"---------------\")"
   ]
  },
  {
   "cell_type": "markdown",
   "metadata": {},
   "source": [
    "As we can see, both the centroid vector value and manual vector similarity check on each individual synonym produced the same correct result. However, this might be due to the fact, that all the synonyms are very similar to each other, unlike in other cases, where a single disease can have a set of lexically different synonyms."
   ]
  },
  {
   "cell_type": "code",
   "execution_count": 529,
   "metadata": {},
   "outputs": [
    {
     "name": "stdout",
     "output_type": "stream",
     "text": [
      "True values\n",
      "{'MESH_ID': 'MESH:D000746', 'Description': 'chronic nonspherocytic hemolytic anemia'}\n",
      "---------------\n",
      "Fulltext\n",
      "[{'MESH_ID': 'MESH:D000746', 'Description': 'Anemia, Hemolytic, Congenital Nonspherocytic', 'Synonyms': 'Anemia, Congenital Nonspherocytic Hemolytic|Anemia, Hemolytic Congenital, Nonspherocytic|Congenital Nonspherocytic Hemolytic Anemia|Hemolytic Anemia, Congenital Nonspherocytic', 'AltDiseaseIDs': 'DO:DOID:2861', 'score': 23.652645111083984}]\n",
      "---------------\n",
      "Vector disease name\n",
      "[{'MESH_ID': 'MESH:D000746', 'Description': 'Anemia, Hemolytic, Congenital Nonspherocytic', 'Synonyms': 'Anemia, Congenital Nonspherocytic Hemolytic|Anemia, Hemolytic Congenital, Nonspherocytic|Congenital Nonspherocytic Hemolytic Anemia|Hemolytic Anemia, Congenital Nonspherocytic', 'AltDiseaseIDs': 'DO:DOID:2861', 'score': 0.9340063333511353}]\n",
      "---------------\n",
      "Vector synonyms centroid name\n",
      "[{'MESH_ID': 'MESH:D000743', 'Description': 'Anemia, Hemolytic', 'Synonyms': 'Acquired Hemolytic Anemia|Anaemia, Haemolytic|Anemia, Acquired Hemolytic|Anemia, Hemolytic, Acquired|Anemia, Microangiopathic|Anemia, Microangiopathic Hemolytic|Haemolytic Anaemia|Haemolytic Anaemias|Hemolytic Anemia|Hemolytic Anemia, Acquired|Hemolytic Anemia, Microangiopathic|Microangiopathic Anemia|Microangiopathic Hemolytic Anemia|Microangiopathic Hemolytic Anemias', 'AltDiseaseIDs': 'DO:DOID:583', 'score': 0.9327062368392944}]\n",
      "---------------\n",
      "Vector synonyms manual\n",
      "[{'MESH_ID': 'Unknown', 'Description': 'Unknown', 'Synonyms': 'Unknown', 'AltDiseaseIDs': 'Unknown'}]\n",
      "---------------\n"
     ]
    }
   ],
   "source": [
    "print(\"True values\")\n",
    "print(true_values[1])\n",
    "print(\"---------------\")\n",
    "print(\"Fulltext\")\n",
    "print(predicted_values[1])\n",
    "print(\"---------------\")\n",
    "print(\"Vector disease name\")\n",
    "print(predicted_values_vector[1])\n",
    "print(\"---------------\")\n",
    "print(\"Vector synonyms centroid name\")\n",
    "print(predicted_values_syn_vector[1])\n",
    "print(\"---------------\")\n",
    "print(\"Vector synonyms manual\")\n",
    "print(predicted_values_syn_vector_manual[1])\n",
    "print(\"---------------\")"
   ]
  },
  {
   "cell_type": "markdown",
   "metadata": {},
   "source": [
    "Here we can see, the our vector queries did not overcome the threshold of 0.95, therefore manual synonym vector search did not return any predictions, and other two were around 0.93, which in case of disease name vector search was a correct prediction. This might indicate, that we might need to lower the threshold to 0.9."
   ]
  },
  {
   "cell_type": "code",
   "execution_count": 530,
   "metadata": {},
   "outputs": [
    {
     "name": "stdout",
     "output_type": "stream",
     "text": [
      "True values\n",
      "{'MESH_ID': 'MESH:D005955', 'Description': 'G6PD deficiency'}\n",
      "---------------\n",
      "Fulltext\n",
      "[{'MESH_ID': 'MESH:D005955', 'Description': 'Glucosephosphate Dehydrogenase Deficiency', 'Synonyms': 'Deficiencies, G6PD|Deficiencies, Glucose-6-Phosphate Dehydrogenase|Deficiencies, Glucosephosphate Dehydrogenase|Deficiencies, GPD|Deficiency, G6PD|Deficiency, Glucose-6-Phosphate Dehydrogenase|Deficiency, Glucosephosphate Dehydrogenase|Deficiency, GPD|Deficiency of Glucose 6 Phosphate Dehydrogenase|Deficiency of Glucose-6-Phosphate Dehydrogenase|Dehydrogenase Deficiencies, Glucose-6-Phosphate|Dehydrogenase Deficiencies, Glucosephosphate|Dehydrogenase Deficiency, Glucose-6-Phosphate|Dehydrogenase Deficiency, Glucosephosphate|G6PD Deficiencies|G6PD Deficiency|Glucose-6-Phosphate Dehydrogenase Deficiencies|Glucose 6 Phosphate Dehydrogenase Deficiency|Glucose-6-Phosphate Dehydrogenase Deficiency|Glucosephosphate Dehydrogenase Deficiencies|GPD Deficiencies|GPD Deficiency|Hemolytic Anemia Due to G6PD Deficiency', 'AltDiseaseIDs': 'DO:DOID:2862', 'score': 9.036108016967773}]\n",
      "---------------\n",
      "Vector disease name\n",
      "[{'MESH_ID': 'MESH:C567533', 'Description': 'Anemia, Nonspherocytic Hemolytic, Due To G6pd Deficiency', 'Synonyms': nan, 'AltDiseaseIDs': nan, 'score': 0.9422517418861389}]\n",
      "---------------\n",
      "Vector synonyms centroid name\n",
      "[{'MESH_ID': 'MESH:C567533', 'Description': 'Anemia, Nonspherocytic Hemolytic, Due To G6pd Deficiency', 'Synonyms': nan, 'AltDiseaseIDs': nan, 'score': 0.9422517418861389}]\n",
      "---------------\n",
      "Vector synonyms manual\n",
      "[{'MESH_ID': 'MESH:D005955', 'Description': 'Glucosephosphate Dehydrogenase Deficiency', 'Synonyms': 'Deficiencies, G6PD|Deficiencies, Glucose-6-Phosphate Dehydrogenase|Deficiencies, Glucosephosphate Dehydrogenase|Deficiencies, GPD|Deficiency, G6PD|Deficiency, Glucose-6-Phosphate Dehydrogenase|Deficiency, Glucosephosphate Dehydrogenase|Deficiency, GPD|Deficiency of Glucose 6 Phosphate Dehydrogenase|Deficiency of Glucose-6-Phosphate Dehydrogenase|Dehydrogenase Deficiencies, Glucose-6-Phosphate|Dehydrogenase Deficiencies, Glucosephosphate|Dehydrogenase Deficiency, Glucose-6-Phosphate|Dehydrogenase Deficiency, Glucosephosphate|G6PD Deficiencies|G6PD Deficiency|Glucose-6-Phosphate Dehydrogenase Deficiencies|Glucose 6 Phosphate Dehydrogenase Deficiency|Glucose-6-Phosphate Dehydrogenase Deficiency|Glucosephosphate Dehydrogenase Deficiencies|GPD Deficiencies|GPD Deficiency|Hemolytic Anemia Due to G6PD Deficiency', 'AltDiseaseIDs': 'DO:DOID:2862', 'score': 1.0}, {'MESH_ID': 'MESH:D005955', 'Description': 'Glucosephosphate Dehydrogenase Deficiency', 'Synonyms': 'Deficiencies, G6PD|Deficiencies, Glucose-6-Phosphate Dehydrogenase|Deficiencies, Glucosephosphate Dehydrogenase|Deficiencies, GPD|Deficiency, G6PD|Deficiency, Glucose-6-Phosphate Dehydrogenase|Deficiency, Glucosephosphate Dehydrogenase|Deficiency, GPD|Deficiency of Glucose 6 Phosphate Dehydrogenase|Deficiency of Glucose-6-Phosphate Dehydrogenase|Dehydrogenase Deficiencies, Glucose-6-Phosphate|Dehydrogenase Deficiencies, Glucosephosphate|Dehydrogenase Deficiency, Glucose-6-Phosphate|Dehydrogenase Deficiency, Glucosephosphate|G6PD Deficiencies|G6PD Deficiency|Glucose-6-Phosphate Dehydrogenase Deficiencies|Glucose 6 Phosphate Dehydrogenase Deficiency|Glucose-6-Phosphate Dehydrogenase Deficiency|Glucosephosphate Dehydrogenase Deficiencies|GPD Deficiencies|GPD Deficiency|Hemolytic Anemia Due to G6PD Deficiency', 'AltDiseaseIDs': 'DO:DOID:2862', 'score': 0.971952675519052}, {'MESH_ID': 'MESH:D005955', 'Description': 'Glucosephosphate Dehydrogenase Deficiency', 'Synonyms': 'Deficiencies, G6PD|Deficiencies, Glucose-6-Phosphate Dehydrogenase|Deficiencies, Glucosephosphate Dehydrogenase|Deficiencies, GPD|Deficiency, G6PD|Deficiency, Glucose-6-Phosphate Dehydrogenase|Deficiency, Glucosephosphate Dehydrogenase|Deficiency, GPD|Deficiency of Glucose 6 Phosphate Dehydrogenase|Deficiency of Glucose-6-Phosphate Dehydrogenase|Dehydrogenase Deficiencies, Glucose-6-Phosphate|Dehydrogenase Deficiencies, Glucosephosphate|Dehydrogenase Deficiency, Glucose-6-Phosphate|Dehydrogenase Deficiency, Glucosephosphate|G6PD Deficiencies|G6PD Deficiency|Glucose-6-Phosphate Dehydrogenase Deficiencies|Glucose 6 Phosphate Dehydrogenase Deficiency|Glucose-6-Phosphate Dehydrogenase Deficiency|Glucosephosphate Dehydrogenase Deficiencies|GPD Deficiencies|GPD Deficiency|Hemolytic Anemia Due to G6PD Deficiency', 'AltDiseaseIDs': 'DO:DOID:2862', 'score': 0.9621934226669576}]\n",
      "---------------\n"
     ]
    }
   ],
   "source": [
    "print(\"True values\")\n",
    "print(true_values[2])\n",
    "print(\"---------------\")\n",
    "print(\"Fulltext\")\n",
    "print(predicted_values[2])\n",
    "print(\"---------------\")\n",
    "print(\"Vector disease name\")\n",
    "print(predicted_values_vector[2])\n",
    "print(\"---------------\")\n",
    "print(\"Vector synonyms centroid name\")\n",
    "print(predicted_values_syn_vector[2])\n",
    "print(\"---------------\")\n",
    "print(\"Vector synonyms manual\")\n",
    "print(predicted_values_syn_vector_manual[2])\n",
    "print(\"---------------\")"
   ]
  },
  {
   "cell_type": "markdown",
   "metadata": {},
   "source": [
    "Here we can see a surprising result: the fulltext search and manual synonym vector search produced the correct results, but disease name and aggregated synonym vectors did not. However, the combination of the words present in the disease name in the dataset is indeed present in the predicted disease names. This might indicate, that those predictions are not so far from being true, and calculating a distance between the corresponding nodes might help us understand if the predicted value is related to the true one."
   ]
  },
  {
   "cell_type": "code",
   "execution_count": 533,
   "metadata": {},
   "outputs": [
    {
     "name": "stdout",
     "output_type": "stream",
     "text": [
      "True values\n",
      "{'MESH_ID': 'MESH:D005693', 'Description': 'LA variant of galactosemia'}\n",
      "---------------\n",
      "Fulltext\n",
      "[{'MESH_ID': 'MESH:D005693', 'Description': 'Galactosemias', 'Synonyms': 'Classic Galactosemia|Classic Galactosemias|Deficiencies, Galactokinase|Deficiencies, Galactose-1-Phosphate Uridyltransferase|Deficiencies, Galactose-1-Phosphate Uridylyltransferase|Deficiencies, Galactose Epimerase|Deficiencies, GALE|Deficiencies, GALK|Deficiencies, GALT|Deficiencies, Hereditary Galactokinase|Deficiencies, UDP-Galactose-4-Epimerase|Deficiency Disease, Galactokinase|Deficiency Disease, Galactose 1 Phosphate Uridyl Transferase|Deficiency Disease, Galactose-1-Phosphate Uridyl-Transferase|Deficiency Diseases, UDP-Galactose-4-Epimerase|Deficiency Disease, UDP Galactose 4 Epimerase|Deficiency Disease, UDP-Galactose-4-Epimerase|Deficiency Disease, UDPglucose 4 Epimerase|Deficiency Disease, UDPglucose 4-Epimerase|Deficiency, Galactokinase|Deficiency, Galactose-1-Phosphate Uridyltransferase|Deficiency, Galactose-1-Phosphate Uridylyltransferase|Deficiency, Galactose Epimerase|Deficiency Galactosemia, Epimerase|Deficiency Galactosemias, Epimerase|Deficiency, GALE|Deficiency, GALK|Deficiency, GALT|Deficiency, Hereditary Galactokinase|Deficiency, UDP-Galactose-4-Epimerase|Epimerase Deficiency Galactosemia|Epimerase Deficiency Galactosemias|GALAC1|GALAC2|GALAC3|Galactokinase Deficiencies|Galactokinase Deficiencies, Hereditary|Galactokinase Deficiency|Galactokinase Deficiency Disease|Galactokinase Deficiency Diseases|Galactokinase Deficiency, Hereditary|Galactose-1-Phosphate Uridyltransferase Deficiencies|Galactose 1 Phosphate Uridyltransferase Deficiency|Galactose-1-Phosphate Uridyltransferase Deficiency|Galactose 1 Phosphate Uridyl Transferase Deficiency Disease|Galactose-1-Phosphate Uridyl-Transferase Deficiency Disease|Galactose-1-Phosphate Uridylyltransferase Deficiencies|Galactose 1 Phosphate Uridylyltransferase Deficiency|Galactose-1-Phosphate Uridylyltransferase Deficiency|Galactose Epimerase Deficiencies|Galactose Epimerase Deficiency|Galactosemia|Galactosemia 2|Galactosemia 2s|Galactosemia 3|Galactosemia 3s|Galactosemia, Classic|GALACTOSEMIA, CLASSIC GALACTOSEMIA, DUARTE VARIANT, INCLUDED|Galactosemia, Epimerase Deficiency|GALACTOSEMIA I|GALACTOSEMIA II|Galactosemia III|Galactosemia IIIs|Galactosemias, Classic|Galactosemias, Epimerase Deficiency|GALE Deficiencies|GALE Deficiency|GALK Deficiencies|GALK Deficiency|GALT Deficiencies|GALT Deficiency|Hereditary Galactokinase Deficiencies|Hereditary Galactokinase Deficiency|UDP-Galactose-4-Epimerase Deficiencies|UDP Galactose 4 Epimerase Deficiency|UDP-Galactose-4-Epimerase Deficiency|UDP Galactose 4 Epimerase Deficiency Disease|UDP-Galactose-4-Epimerase Deficiency Disease|UDP-Galactose-4-Epimerase Deficiency Diseases|UDPglucose 4 Epimerase Deficiency Disease|UDPglucose 4-Epimerase Deficiency Disease|UDPGlucose Hexose 1 Phosphate Uridylyltransferase Deficiency|UDPGlucose Hexose-1-Phosphate Uridylyltransferase Deficiency|Uridyltransferase Deficiencies, Galactose-1-Phosphate|Uridyltransferase Deficiency, Galactose-1-Phosphate|Uridylyltransferase Deficiencies, Galactose-1-Phosphate|Uridylyltransferase Deficiency, Galactose-1-Phosphate|UTP Hexose 1 Phosphate Uridylyltransferase Deficiency|UTP Hexose-1-Phosphate Uridylyltransferase Deficiency|UTP Hexose 1 Phosphate Uridylyltransferase Deficiency Disease|UTP-Hexose-1-Phosphate Uridylyltransferase Deficiency Disease', 'AltDiseaseIDs': 'DO:DOID:0111458|DO:DOID:0111459|DO:DOID:14695|DO:DOID:9870|OMIM:230200|OMIM:230350|OMIM:230400', 'score': 11.458026885986328}]\n",
      "---------------\n",
      "Vector disease name\n",
      "[{'MESH_ID': 'OMIM:614507', 'Description': 'CONGENITAL DISORDER OF GLYCOSYLATION, TYPE Ir', 'Synonyms': 'CDG1R|CDG Ir|CDGIr', 'AltDiseaseIDs': 'DO:DOID:0080569', 'score': 0.866142213344574}]\n",
      "---------------\n",
      "Vector synonyms centroid name\n",
      "[{'MESH_ID': 'MESH:D005693', 'Description': 'Galactosemias', 'Synonyms': 'Classic Galactosemia|Classic Galactosemias|Deficiencies, Galactokinase|Deficiencies, Galactose-1-Phosphate Uridyltransferase|Deficiencies, Galactose-1-Phosphate Uridylyltransferase|Deficiencies, Galactose Epimerase|Deficiencies, GALE|Deficiencies, GALK|Deficiencies, GALT|Deficiencies, Hereditary Galactokinase|Deficiencies, UDP-Galactose-4-Epimerase|Deficiency Disease, Galactokinase|Deficiency Disease, Galactose 1 Phosphate Uridyl Transferase|Deficiency Disease, Galactose-1-Phosphate Uridyl-Transferase|Deficiency Diseases, UDP-Galactose-4-Epimerase|Deficiency Disease, UDP Galactose 4 Epimerase|Deficiency Disease, UDP-Galactose-4-Epimerase|Deficiency Disease, UDPglucose 4 Epimerase|Deficiency Disease, UDPglucose 4-Epimerase|Deficiency, Galactokinase|Deficiency, Galactose-1-Phosphate Uridyltransferase|Deficiency, Galactose-1-Phosphate Uridylyltransferase|Deficiency, Galactose Epimerase|Deficiency Galactosemia, Epimerase|Deficiency Galactosemias, Epimerase|Deficiency, GALE|Deficiency, GALK|Deficiency, GALT|Deficiency, Hereditary Galactokinase|Deficiency, UDP-Galactose-4-Epimerase|Epimerase Deficiency Galactosemia|Epimerase Deficiency Galactosemias|GALAC1|GALAC2|GALAC3|Galactokinase Deficiencies|Galactokinase Deficiencies, Hereditary|Galactokinase Deficiency|Galactokinase Deficiency Disease|Galactokinase Deficiency Diseases|Galactokinase Deficiency, Hereditary|Galactose-1-Phosphate Uridyltransferase Deficiencies|Galactose 1 Phosphate Uridyltransferase Deficiency|Galactose-1-Phosphate Uridyltransferase Deficiency|Galactose 1 Phosphate Uridyl Transferase Deficiency Disease|Galactose-1-Phosphate Uridyl-Transferase Deficiency Disease|Galactose-1-Phosphate Uridylyltransferase Deficiencies|Galactose 1 Phosphate Uridylyltransferase Deficiency|Galactose-1-Phosphate Uridylyltransferase Deficiency|Galactose Epimerase Deficiencies|Galactose Epimerase Deficiency|Galactosemia|Galactosemia 2|Galactosemia 2s|Galactosemia 3|Galactosemia 3s|Galactosemia, Classic|GALACTOSEMIA, CLASSIC GALACTOSEMIA, DUARTE VARIANT, INCLUDED|Galactosemia, Epimerase Deficiency|GALACTOSEMIA I|GALACTOSEMIA II|Galactosemia III|Galactosemia IIIs|Galactosemias, Classic|Galactosemias, Epimerase Deficiency|GALE Deficiencies|GALE Deficiency|GALK Deficiencies|GALK Deficiency|GALT Deficiencies|GALT Deficiency|Hereditary Galactokinase Deficiencies|Hereditary Galactokinase Deficiency|UDP-Galactose-4-Epimerase Deficiencies|UDP Galactose 4 Epimerase Deficiency|UDP-Galactose-4-Epimerase Deficiency|UDP Galactose 4 Epimerase Deficiency Disease|UDP-Galactose-4-Epimerase Deficiency Disease|UDP-Galactose-4-Epimerase Deficiency Diseases|UDPglucose 4 Epimerase Deficiency Disease|UDPglucose 4-Epimerase Deficiency Disease|UDPGlucose Hexose 1 Phosphate Uridylyltransferase Deficiency|UDPGlucose Hexose-1-Phosphate Uridylyltransferase Deficiency|Uridyltransferase Deficiencies, Galactose-1-Phosphate|Uridyltransferase Deficiency, Galactose-1-Phosphate|Uridylyltransferase Deficiencies, Galactose-1-Phosphate|Uridylyltransferase Deficiency, Galactose-1-Phosphate|UTP Hexose 1 Phosphate Uridylyltransferase Deficiency|UTP Hexose-1-Phosphate Uridylyltransferase Deficiency|UTP Hexose 1 Phosphate Uridylyltransferase Deficiency Disease|UTP-Hexose-1-Phosphate Uridylyltransferase Deficiency Disease', 'AltDiseaseIDs': 'DO:DOID:0111458|DO:DOID:0111459|DO:DOID:14695|DO:DOID:9870|OMIM:230200|OMIM:230350|OMIM:230400', 'score': 0.919617772102356}]\n",
      "---------------\n",
      "Vector synonyms manual\n",
      "[{'MESH_ID': 'Unknown', 'Description': 'Unknown', 'Synonyms': 'Unknown', 'AltDiseaseIDs': 'Unknown'}]\n",
      "---------------\n"
     ]
    }
   ],
   "source": [
    "print(\"True values\")\n",
    "print(true_values[5])\n",
    "print(\"---------------\")\n",
    "print(\"Fulltext\")\n",
    "print(predicted_values[5])\n",
    "print(\"---------------\")\n",
    "print(\"Vector disease name\")\n",
    "print(predicted_values_vector[5])\n",
    "print(\"---------------\")\n",
    "print(\"Vector synonyms centroid name\")\n",
    "print(predicted_values_syn_vector[5])\n",
    "print(\"---------------\")\n",
    "print(\"Vector synonyms manual\")\n",
    "print(predicted_values_syn_vector_manual[5])\n",
    "print(\"---------------\")"
   ]
  },
  {
   "cell_type": "code",
   "execution_count": 534,
   "metadata": {},
   "outputs": [
    {
     "name": "stdout",
     "output_type": "stream",
     "text": [
      "True values\n",
      "{'MESH_ID': 'MESH:D007863', 'Description': 'fish-eye disease'}\n",
      "---------------\n",
      "Fulltext\n",
      "[{'MESH_ID': 'MESH:D010038', 'Description': 'Otorhinolaryngologic Diseases', 'Synonyms': 'Disease, ENT|Disease, Otolaryngologic|Disease, Otolaryngological|Disease, Otorhinolaryngologic|Disease, Otorhinolaryngological|Diseases, ENT|Diseases, Otolaryngologic|Diseases, Otolaryngological|Diseases, Otorhinolaryngologic|Diseases, Otorhinolaryngological|ENT Disease|ENT Diseases|Otolaryngological Disease|Otolaryngological Diseases|Otolaryngologic Disease|Otolaryngologic Diseases|Otorhinolaryngological Disease|Otorhinolaryngological Diseases|Otorhinolaryngologic Disease', 'AltDiseaseIDs': nan, 'score': 3.666149139404297}]\n",
      "---------------\n",
      "Vector disease name\n",
      "[{'MESH_ID': 'MESH:D005128', 'Description': 'Eye Diseases', 'Synonyms': 'Eye Disease|Eye Disorder|Eye Disorders', 'AltDiseaseIDs': 'DO:DOID:0070356|DO:DOID:5614', 'score': 0.9277249574661255}]\n",
      "---------------\n",
      "Vector synonyms centroid name\n",
      "[{'MESH_ID': 'MESH:D007905', 'Description': 'Lens Diseases', 'Synonyms': 'Disease, Lens|Diseases, Lens|Lens Disease', 'AltDiseaseIDs': 'DO:DOID:110', 'score': 0.9028737545013428}]\n",
      "---------------\n",
      "Vector synonyms manual\n",
      "[{'MESH_ID': 'MESH:D007863', 'Description': 'Lecithin Cholesterol Acyltransferase Deficiency', 'Synonyms': 'Acyltransferase Deficiency, Lecithin:Cholesterol|alpha LCAT Deficiency|alpha-LCAT Deficiency|alpha-Lecithin-Cholesterol Acyltransferase Deficiency|alpha-Lecithin:Cholesterol Acyltransferase Deficiency|Corneal Dystrophy, Dyslipoproteinemic|Deficiency, alpha-LCAT|Deficiency, LCAT|Dyslipoproteinemic Corneal Dystrophy|FED|Fish Eye Disease|Fish-Eye Disease|LCATA Deficiencies|LCATA Deficiency|LCAT Deficiency|Lecithin:Cholesterol Acyltransferase Deficiency|Norum Disease', 'AltDiseaseIDs': 'DO:DOID:1391|OMIM:136120|OMIM:245900', 'score': 1.0}, {'MESH_ID': 'MESH:D007863', 'Description': 'Lecithin Cholesterol Acyltransferase Deficiency', 'Synonyms': 'Acyltransferase Deficiency, Lecithin:Cholesterol|alpha LCAT Deficiency|alpha-LCAT Deficiency|alpha-Lecithin-Cholesterol Acyltransferase Deficiency|alpha-Lecithin:Cholesterol Acyltransferase Deficiency|Corneal Dystrophy, Dyslipoproteinemic|Deficiency, alpha-LCAT|Deficiency, LCAT|Dyslipoproteinemic Corneal Dystrophy|FED|Fish Eye Disease|Fish-Eye Disease|LCATA Deficiencies|LCATA Deficiency|LCAT Deficiency|Lecithin:Cholesterol Acyltransferase Deficiency|Norum Disease', 'AltDiseaseIDs': 'DO:DOID:1391|OMIM:136120|OMIM:245900', 'score': 0.9830939570337427}]\n",
      "---------------\n"
     ]
    }
   ],
   "source": [
    "print(\"True values\")\n",
    "print(true_values[6])\n",
    "print(\"---------------\")\n",
    "print(\"Fulltext\")\n",
    "print(predicted_values[6])\n",
    "print(\"---------------\")\n",
    "print(\"Vector disease name\")\n",
    "print(predicted_values_vector[6])\n",
    "print(\"---------------\")\n",
    "print(\"Vector synonyms centroid name\")\n",
    "print(predicted_values_syn_vector[6])\n",
    "print(\"---------------\")\n",
    "print(\"Vector synonyms manual\")\n",
    "print(predicted_values_syn_vector_manual[6])\n",
    "print(\"---------------\")"
   ]
  },
  {
   "cell_type": "markdown",
   "metadata": {},
   "source": [
    "This is a very good example of when the manual query on the the synonyms works best: the disease name for the entity in question is lexically very different from its synonym (Lecithin Cholesterol Acyltransferase Deficiency -> fish-eye disease), and even a centroid value of all the synonyms vectors could not identify it."
   ]
  },
  {
   "cell_type": "code",
   "execution_count": 535,
   "metadata": {},
   "outputs": [
    {
     "name": "stdout",
     "output_type": "stream",
     "text": [
      "True values\n",
      "{'MESH_ID': 'MESH:D007863', 'Description': 'fish-eye disease'}\n",
      "---------------\n",
      "Fulltext\n",
      "[{'MESH_ID': 'MESH:D010038', 'Description': 'Otorhinolaryngologic Diseases', 'Synonyms': 'Disease, ENT|Disease, Otolaryngologic|Disease, Otolaryngological|Disease, Otorhinolaryngologic|Disease, Otorhinolaryngological|Diseases, ENT|Diseases, Otolaryngologic|Diseases, Otolaryngological|Diseases, Otorhinolaryngologic|Diseases, Otorhinolaryngological|ENT Disease|ENT Diseases|Otolaryngological Disease|Otolaryngological Diseases|Otolaryngologic Disease|Otolaryngologic Diseases|Otorhinolaryngological Disease|Otorhinolaryngological Diseases|Otorhinolaryngologic Disease', 'AltDiseaseIDs': nan, 'score': 3.666149139404297}]\n",
      "---------------\n",
      "Vector disease name\n",
      "[{'MESH_ID': 'MESH:D005128', 'Description': 'Eye Diseases', 'Synonyms': 'Eye Disease|Eye Disorder|Eye Disorders', 'AltDiseaseIDs': 'DO:DOID:0070356|DO:DOID:5614', 'score': 0.9277249574661255}]\n",
      "---------------\n",
      "Vector synonyms centroid name\n",
      "[{'MESH_ID': 'MESH:D007905', 'Description': 'Lens Diseases', 'Synonyms': 'Disease, Lens|Diseases, Lens|Lens Disease', 'AltDiseaseIDs': 'DO:DOID:110', 'score': 0.9028737545013428}]\n",
      "---------------\n",
      "Vector synonyms manual\n",
      "[{'MESH_ID': 'MESH:D007863', 'Description': 'Lecithin Cholesterol Acyltransferase Deficiency', 'Synonyms': 'Acyltransferase Deficiency, Lecithin:Cholesterol|alpha LCAT Deficiency|alpha-LCAT Deficiency|alpha-Lecithin-Cholesterol Acyltransferase Deficiency|alpha-Lecithin:Cholesterol Acyltransferase Deficiency|Corneal Dystrophy, Dyslipoproteinemic|Deficiency, alpha-LCAT|Deficiency, LCAT|Dyslipoproteinemic Corneal Dystrophy|FED|Fish Eye Disease|Fish-Eye Disease|LCATA Deficiencies|LCATA Deficiency|LCAT Deficiency|Lecithin:Cholesterol Acyltransferase Deficiency|Norum Disease', 'AltDiseaseIDs': 'DO:DOID:1391|OMIM:136120|OMIM:245900', 'score': 1.0}, {'MESH_ID': 'MESH:D007863', 'Description': 'Lecithin Cholesterol Acyltransferase Deficiency', 'Synonyms': 'Acyltransferase Deficiency, Lecithin:Cholesterol|alpha LCAT Deficiency|alpha-LCAT Deficiency|alpha-Lecithin-Cholesterol Acyltransferase Deficiency|alpha-Lecithin:Cholesterol Acyltransferase Deficiency|Corneal Dystrophy, Dyslipoproteinemic|Deficiency, alpha-LCAT|Deficiency, LCAT|Dyslipoproteinemic Corneal Dystrophy|FED|Fish Eye Disease|Fish-Eye Disease|LCATA Deficiencies|LCATA Deficiency|LCAT Deficiency|Lecithin:Cholesterol Acyltransferase Deficiency|Norum Disease', 'AltDiseaseIDs': 'DO:DOID:1391|OMIM:136120|OMIM:245900', 'score': 0.9830939570337427}]\n",
      "---------------\n"
     ]
    }
   ],
   "source": [
    "print(\"True values\")\n",
    "print(true_values[7])\n",
    "print(\"---------------\")\n",
    "print(\"Fulltext\")\n",
    "print(predicted_values[7])\n",
    "print(\"---------------\")\n",
    "print(\"Vector disease name\")\n",
    "print(predicted_values_vector[7])\n",
    "print(\"---------------\")\n",
    "print(\"Vector synonyms centroid name\")\n",
    "print(predicted_values_syn_vector[7])\n",
    "print(\"---------------\")\n",
    "print(\"Vector synonyms manual\")\n",
    "print(predicted_values_syn_vector_manual[7])\n",
    "print(\"---------------\")"
   ]
  },
  {
   "cell_type": "code",
   "execution_count": 536,
   "metadata": {},
   "outputs": [
    {
     "name": "stdout",
     "output_type": "stream",
     "text": [
      "True values\n",
      "{'MESH_ID': 'MESH:D007863', 'Description': 'FED'}\n",
      "---------------\n",
      "Fulltext\n",
      "[{'MESH_ID': 'MESH:D007863', 'Description': 'Lecithin Cholesterol Acyltransferase Deficiency', 'Synonyms': 'Acyltransferase Deficiency, Lecithin:Cholesterol|alpha LCAT Deficiency|alpha-LCAT Deficiency|alpha-Lecithin-Cholesterol Acyltransferase Deficiency|alpha-Lecithin:Cholesterol Acyltransferase Deficiency|Corneal Dystrophy, Dyslipoproteinemic|Deficiency, alpha-LCAT|Deficiency, LCAT|Dyslipoproteinemic Corneal Dystrophy|FED|Fish Eye Disease|Fish-Eye Disease|LCATA Deficiencies|LCATA Deficiency|LCAT Deficiency|Lecithin:Cholesterol Acyltransferase Deficiency|Norum Disease', 'AltDiseaseIDs': 'DO:DOID:1391|OMIM:136120|OMIM:245900', 'score': 2.6454591751098633}]\n",
      "---------------\n",
      "Vector disease name\n",
      "[{'MESH_ID': 'MESH:C563352', 'Description': 'Diabetes Mellitus, Insulin-Dependent, 13', 'Synonyms': 'DIABETES MELLITUS, INSULIN-DEPENDENT, 13|IDDM13|Insulin-Dependent Diabetes Mellitus 13|T1D13|TYPE 1 DIABETES MELLITUS 13', 'AltDiseaseIDs': 'OMIM:601318', 'score': 0.8192973732948303}]\n",
      "---------------\n",
      "Vector synonyms centroid name\n",
      "[{'MESH_ID': 'OMIM:615561', 'Description': 'COMPLEMENT FACTOR B DEFICIENCY', 'Synonyms': 'CFBD', 'AltDiseaseIDs': nan, 'score': 0.8609625101089478}]\n",
      "---------------\n",
      "Vector synonyms manual\n",
      "[{'MESH_ID': 'MESH:D007863', 'Description': 'Lecithin Cholesterol Acyltransferase Deficiency', 'Synonyms': 'Acyltransferase Deficiency, Lecithin:Cholesterol|alpha LCAT Deficiency|alpha-LCAT Deficiency|alpha-Lecithin-Cholesterol Acyltransferase Deficiency|alpha-Lecithin:Cholesterol Acyltransferase Deficiency|Corneal Dystrophy, Dyslipoproteinemic|Deficiency, alpha-LCAT|Deficiency, LCAT|Dyslipoproteinemic Corneal Dystrophy|FED|Fish Eye Disease|Fish-Eye Disease|LCATA Deficiencies|LCATA Deficiency|LCAT Deficiency|Lecithin:Cholesterol Acyltransferase Deficiency|Norum Disease', 'AltDiseaseIDs': 'DO:DOID:1391|OMIM:136120|OMIM:245900', 'score': 1.0}]\n",
      "---------------\n"
     ]
    }
   ],
   "source": [
    "print(\"True values\")\n",
    "print(true_values[8])\n",
    "print(\"---------------\")\n",
    "print(\"Fulltext\")\n",
    "print(predicted_values[8])\n",
    "print(\"---------------\")\n",
    "print(\"Vector disease name\")\n",
    "print(predicted_values_vector[8])\n",
    "print(\"---------------\")\n",
    "print(\"Vector synonyms centroid name\")\n",
    "print(predicted_values_syn_vector[8])\n",
    "print(\"---------------\")\n",
    "print(\"Vector synonyms manual\")\n",
    "print(predicted_values_syn_vector_manual[8])\n",
    "print(\"---------------\")"
   ]
  },
  {
   "cell_type": "markdown",
   "metadata": {},
   "source": [
    "And this is an example of the abbreviation challenge: Lecithin Cholesterol Acyltransferase Deficiency has a synonym \"FED\", which again could be identified only via the manual synonym query."
   ]
  },
  {
   "cell_type": "markdown",
   "metadata": {},
   "source": [
    "To understand what these results mean, we can take advantage of the graph structure of our knowledge base and calculate the distances between the predicted nodes and the true labels. The most straightforward method to find the distance between two nodes is to calculate the shortest path. Neo4j provides a built-in function for this:"
   ]
  },
  {
   "cell_type": "code",
   "execution_count": 540,
   "metadata": {},
   "outputs": [],
   "source": [
    "get_shortest_path = \"\"\"\n",
    "    WITH $trueID AS startId, $predictedID AS endId\n",
    "\n",
    "    MATCH (start:Disease)\n",
    "    WHERE (start.DiseaseID IS NOT NULL AND ANY(id IN SPLIT(toString(start.DiseaseID), '|') WHERE id = startId))\n",
    "    OR (start.AltDiseaseIDs IS NOT NULL AND ANY(altId IN SPLIT(toString(start.AltDiseaseIDs), '|') WHERE altId = startId))\n",
    "\n",
    "    MATCH (end:Disease)\n",
    "    WHERE (end.DiseaseID IS NOT NULL AND ANY(id IN SPLIT(toString(end.DiseaseID), '|') WHERE id = endId))\n",
    "    OR (end.AltDiseaseIDs IS NOT NULL AND ANY(altId IN SPLIT(toString(end.AltDiseaseIDs), '|') WHERE altId = endId))\n",
    "\n",
    "    MATCH p = shortestPath((start)-[*]-(end))\n",
    "\n",
    "    RETURN length(p) AS distance\n",
    "\"\"\""
   ]
  },
  {
   "cell_type": "code",
   "execution_count": 597,
   "metadata": {},
   "outputs": [],
   "source": [
    "def get_shortest_path_eval(true_values, predicted_values):\n",
    "    shortest_path_predictions = []\n",
    "\n",
    "    with driver.session() as session:\n",
    "        for true_label, predicted_labels in zip(true_values, predicted_values):\n",
    "            if partial_match(true_label, predicted_labels):\n",
    "                shortest_path_predictions.append(0)\n",
    "            else:\n",
    "                true_id = true_label['MESH_ID']\n",
    "                predicted_id = predicted_labels[0]['MESH_ID']\n",
    "\n",
    "                if predicted_id != \"Unknown\":\n",
    "                    result = session.run(get_shortest_path, trueID=true_id, predictedID=predicted_id)\n",
    "                    single_result = result.single()\n",
    "                    \n",
    "                    if single_result is not None:\n",
    "                        shortest_path_predictions.append(single_result[0])\n",
    "                    else:\n",
    "                        # No path found or no result returned, append a default value (e.g., None or a large number)\n",
    "                        shortest_path_predictions.append(-1)\n",
    "                else:\n",
    "                    shortest_path_predictions.append(-2)\n",
    "\n",
    "    return shortest_path_predictions\n"
   ]
  },
  {
   "cell_type": "code",
   "execution_count": 598,
   "metadata": {},
   "outputs": [],
   "source": [
    "fulltext_path_eval = get_shortest_path_eval(true_values, predicted_values)"
   ]
  },
  {
   "cell_type": "code",
   "execution_count": 604,
   "metadata": {},
   "outputs": [],
   "source": [
    "def display_shortest_path_predictions(shortest_path_predictions):\n",
    "    bins = list(range(min(shortest_path_predictions), max(shortest_path_predictions) + 2))\n",
    "\n",
    "    plt.figure(figsize=(10, 6))\n",
    "    n, bins, patches = plt.hist(shortest_path_predictions, bins=bins, edgecolor='black', color='blue', alpha=0.7)\n",
    "\n",
    "    # Change color for specific bars (-1 and -2)\n",
    "    for i, bin_edge in enumerate(bins[:-1]):\n",
    "        if bin_edge == -1:\n",
    "            patches[i].set_facecolor('red')\n",
    "            plt.text(bin_edge + 0.5, n[i] + 10, 'No path found', ha='center', va='bottom', color='black', fontsize=10)\n",
    "        elif bin_edge == -2:\n",
    "            patches[i].set_facecolor('orange')\n",
    "            plt.text(bin_edge + 0.5, n[i] + 10, 'No predicted ID', ha='center', va='bottom', color='black', fontsize=10)\n",
    "\n",
    "    plt.title('Distribution of Shortest Path Distances')\n",
    "    plt.xlabel('Distance')\n",
    "    plt.ylabel('Frequency')\n",
    "    plt.show()"
   ]
  },
  {
   "cell_type": "code",
   "execution_count": 595,
   "metadata": {},
   "outputs": [
    {
     "data": {
      "image/png": "[encoded data removed]",
      "text/plain": [
       "<Figure size 1000x600 with 1 Axes>"
      ]
     },
     "metadata": {},
     "output_type": "display_data"
    }
   ],
   "source": [
    "display_shortest_path_predictions(fulltext_path_eval)"
   ]
  },
  {
   "cell_type": "markdown",
   "metadata": {},
   "source": [
    "And now let us compare the other methods."
   ]
  },
  {
   "cell_type": "code",
   "execution_count": 599,
   "metadata": {},
   "outputs": [
    {
     "data": {
      "image/png": "[encoded data removed]",
      "text/plain": [
       "<Figure size 1000x600 with 1 Axes>"
      ]
     },
     "metadata": {},
     "output_type": "display_data"
    }
   ],
   "source": [
    "vector_search_eval = get_shortest_path_eval(true_values_vector, predicted_values_vector)\n",
    "display_shortest_path_predictions(vector_search_eval)"
   ]
  },
  {
   "cell_type": "code",
   "execution_count": 600,
   "metadata": {},
   "outputs": [
    {
     "data": {
      "image/png": "[encoded data removed]",
      "text/plain": [
       "<Figure size 1000x600 with 1 Axes>"
      ]
     },
     "metadata": {},
     "output_type": "display_data"
    }
   ],
   "source": [
    "syn_vector_search_eval = get_shortest_path_eval(true_values_syn_vector, predicted_values_syn_vector)\n",
    "display_shortest_path_predictions(syn_vector_search_eval)"
   ]
  },
  {
   "cell_type": "code",
   "execution_count": 603,
   "metadata": {},
   "outputs": [
    {
     "data": {
      "image/png": "[encoded data removed]",
      "text/plain": [
       "<Figure size 1000x600 with 1 Axes>"
      ]
     },
     "metadata": {},
     "output_type": "display_data"
    }
   ],
   "source": [
    "manual_syn_vector_search_eval = get_shortest_path_eval(true_values_syn_vector, predicted_values_syn_vector_manual)\n",
    "display_shortest_path_predictions(manual_syn_vector_search_eval)"
   ]
  },
  {
   "cell_type": "markdown",
   "metadata": {},
   "source": [
    "These bar plots allow us to interpret the results of these experiments in a broader manner. It is obvious, that a fulltext search using Cyoher is the most performant, however we have a hypothesis, that a combination of different search tools (fulltext index + vector index) would perform even better. To understand if that hypothesis is correct, we will explore how the predictions from the methods above overlap. We will define a function that will give us the following information as an output: all the information from the predicted value + true ID, true disease name (Description) and the shortest path to the true node in the graph. E.g.:\n",
    "\n",
    "```\n",
    "{'MESH_ID': 'MESH:C535538',\n",
    "   'Description': 'Iris hypoplasia and glaucoma',\n",
    "   'Synonyms': 'IHG|Iris Hypoplasia with Glaucoma',\n",
    "   'AltDiseaseIDs': 'OMIM:308500',\n",
    "   'score': 13.137633323669434,\n",
    "   'is_correct': False,\n",
    "   'shortest_path': 3,\n",
    "   'TRUE_ID': 'MESH:D007499',\n",
    "   'TRUE Description': 'iris hypoplasia'}\n",
    "```"
   ]
  },
  {
   "cell_type": "code",
   "execution_count": 701,
   "metadata": {},
   "outputs": [],
   "source": [
    "def mark_predictions_with_shortest_path(true_values, predicted_values, driver):\n",
    "    with driver.session() as session:\n",
    "        for true_labels, predicted_labels_list in zip(true_values, predicted_values):\n",
    "            for predicted_labels in predicted_labels_list:\n",
    "                predicted_labels['TRUE_ID'] = true_labels['MESH_ID']\n",
    "                predicted_labels[\"TRUE Description\"] = true_labels['Description']\n",
    "                # Mark whether the prediction is correct\n",
    "                if partial_match(true_labels, [predicted_labels]):\n",
    "                    predicted_labels['is_correct'] = True\n",
    "                    predicted_labels['shortest_path'] = 0  # Direct match\n",
    "                else:\n",
    "                    predicted_labels['is_correct'] = False\n",
    "                    true_id = true_labels['MESH_ID']\n",
    "                    predicted_id = predicted_labels['MESH_ID']\n",
    "                    \n",
    "                    # If the predicted ID is not \"Unknown\", calculate the shortest path\n",
    "                    if predicted_id != \"Unknown\":\n",
    "                        result = session.run(get_shortest_path, trueID=true_id, predictedID=predicted_id)\n",
    "                        single_result = result.single()\n",
    "\n",
    "                        if single_result is not None:\n",
    "                            predicted_labels['shortest_path'] = single_result[0]\n",
    "                        else:\n",
    "                            predicted_labels['shortest_path'] = 100  # No path found\n",
    "                    else:\n",
    "                        predicted_labels['shortest_path'] = 200  # Unknown prediction\n",
    "\n",
    "    return predicted_values\n"
   ]
  },
  {
   "cell_type": "code",
   "execution_count": null,
   "metadata": {},
   "outputs": [],
   "source": [
    "fulltext_predicted_values_marked_with_path = mark_predictions_with_shortest_path(true_values, predicted_values, driver) # for the results from the fulltext index\n",
    "vector_search_predicted_values_marked_with_path = mark_predictions_with_shortest_path(true_values_vector, predicted_values_vector, driver) # for the results from the vector search\n",
    "syn_vector_search_predicted_values_marked_with_path = mark_predictions_with_shortest_path(true_values_syn_vector, predicted_values_syn_vector, driver) # for the results from the synonym vector search"
   ]
  },
  {
   "cell_type": "code",
   "execution_count": 642,
   "metadata": {},
   "outputs": [
    {
     "data": {
      "text/html": [
       "<div>\n",
       "<style scoped>\n",
       "    .dataframe tbody tr th:only-of-type {\n",
       "        vertical-align: middle;\n",
       "    }\n",
       "\n",
       "    .dataframe tbody tr th {\n",
       "        vertical-align: top;\n",
       "    }\n",
       "\n",
       "    .dataframe thead th {\n",
       "        text-align: right;\n",
       "    }\n",
       "</style>\n",
       "<table border=\"1\" class=\"dataframe\">\n",
       "  <thead>\n",
       "    <tr style=\"text-align: right;\">\n",
       "      <th></th>\n",
       "      <th>MESH_ID</th>\n",
       "      <th>Description</th>\n",
       "      <th>Synonyms</th>\n",
       "      <th>AltDiseaseIDs</th>\n",
       "      <th>score</th>\n",
       "      <th>is_correct</th>\n",
       "      <th>TRUE_ID</th>\n",
       "      <th>TRUE Description</th>\n",
       "      <th>shortest_path</th>\n",
       "    </tr>\n",
       "  </thead>\n",
       "  <tbody>\n",
       "    <tr>\n",
       "      <th>0</th>\n",
       "      <td>MESH:D005955</td>\n",
       "      <td>Glucosephosphate Dehydrogenase Deficiency</td>\n",
       "      <td>Deficiencies, G6PD|Deficiencies, Glucose-6-Pho...</td>\n",
       "      <td>DO:DOID:2862</td>\n",
       "      <td>16.268332</td>\n",
       "      <td>True</td>\n",
       "      <td>MESH:D005955</td>\n",
       "      <td>glucose-6-phosphate dehydrogenase (G6PD) defic...</td>\n",
       "      <td>0</td>\n",
       "    </tr>\n",
       "    <tr>\n",
       "      <th>1</th>\n",
       "      <td>MESH:D000746</td>\n",
       "      <td>Anemia, Hemolytic, Congenital Nonspherocytic</td>\n",
       "      <td>Anemia, Congenital Nonspherocytic Hemolytic|An...</td>\n",
       "      <td>DO:DOID:2861</td>\n",
       "      <td>23.652645</td>\n",
       "      <td>True</td>\n",
       "      <td>MESH:D000746</td>\n",
       "      <td>chronic nonspherocytic hemolytic anemia</td>\n",
       "      <td>0</td>\n",
       "    </tr>\n",
       "    <tr>\n",
       "      <th>2</th>\n",
       "      <td>MESH:D005955</td>\n",
       "      <td>Glucosephosphate Dehydrogenase Deficiency</td>\n",
       "      <td>Deficiencies, G6PD|Deficiencies, Glucose-6-Pho...</td>\n",
       "      <td>DO:DOID:2862</td>\n",
       "      <td>9.036108</td>\n",
       "      <td>True</td>\n",
       "      <td>MESH:D005955</td>\n",
       "      <td>G6PD deficiency</td>\n",
       "      <td>0</td>\n",
       "    </tr>\n",
       "    <tr>\n",
       "      <th>3</th>\n",
       "      <td>MESH:D005955</td>\n",
       "      <td>Glucosephosphate Dehydrogenase Deficiency</td>\n",
       "      <td>Deficiencies, G6PD|Deficiencies, Glucose-6-Pho...</td>\n",
       "      <td>DO:DOID:2862</td>\n",
       "      <td>9.036108</td>\n",
       "      <td>True</td>\n",
       "      <td>MESH:D005955</td>\n",
       "      <td>G6PD deficiency</td>\n",
       "      <td>0</td>\n",
       "    </tr>\n",
       "    <tr>\n",
       "      <th>4</th>\n",
       "      <td>MESH:D005693</td>\n",
       "      <td>Galactosemias</td>\n",
       "      <td>Classic Galactosemia|Classic Galactosemias|Def...</td>\n",
       "      <td>DO:DOID:0111458|DO:DOID:0111459|DO:DOID:14695|...</td>\n",
       "      <td>12.038849</td>\n",
       "      <td>True</td>\n",
       "      <td>MESH:D005693</td>\n",
       "      <td>Duarte enzyme variant of galactosemia</td>\n",
       "      <td>0</td>\n",
       "    </tr>\n",
       "  </tbody>\n",
       "</table>\n",
       "</div>"
      ],
      "text/plain": [
       "        MESH_ID                                   Description  \\\n",
       "0  MESH:D005955     Glucosephosphate Dehydrogenase Deficiency   \n",
       "1  MESH:D000746  Anemia, Hemolytic, Congenital Nonspherocytic   \n",
       "2  MESH:D005955     Glucosephosphate Dehydrogenase Deficiency   \n",
       "3  MESH:D005955     Glucosephosphate Dehydrogenase Deficiency   \n",
       "4  MESH:D005693                                 Galactosemias   \n",
       "\n",
       "                                            Synonyms  \\\n",
       "0  Deficiencies, G6PD|Deficiencies, Glucose-6-Pho...   \n",
       "1  Anemia, Congenital Nonspherocytic Hemolytic|An...   \n",
       "2  Deficiencies, G6PD|Deficiencies, Glucose-6-Pho...   \n",
       "3  Deficiencies, G6PD|Deficiencies, Glucose-6-Pho...   \n",
       "4  Classic Galactosemia|Classic Galactosemias|Def...   \n",
       "\n",
       "                                       AltDiseaseIDs      score  is_correct  \\\n",
       "0                                       DO:DOID:2862  16.268332        True   \n",
       "1                                       DO:DOID:2861  23.652645        True   \n",
       "2                                       DO:DOID:2862   9.036108        True   \n",
       "3                                       DO:DOID:2862   9.036108        True   \n",
       "4  DO:DOID:0111458|DO:DOID:0111459|DO:DOID:14695|...  12.038849        True   \n",
       "\n",
       "        TRUE_ID                                   TRUE Description  \\\n",
       "0  MESH:D005955  glucose-6-phosphate dehydrogenase (G6PD) defic...   \n",
       "1  MESH:D000746            chronic nonspherocytic hemolytic anemia   \n",
       "2  MESH:D005955                                    G6PD deficiency   \n",
       "3  MESH:D005955                                    G6PD deficiency   \n",
       "4  MESH:D005693              Duarte enzyme variant of galactosemia   \n",
       "\n",
       "   shortest_path  \n",
       "0              0  \n",
       "1              0  \n",
       "2              0  \n",
       "3              0  \n",
       "4              0  "
      ]
     },
     "execution_count": 642,
     "metadata": {},
     "output_type": "execute_result"
    }
   ],
   "source": [
    "fulltext_predicted_values_marked_with_path_flat_data = [item for sublist in fulltext_predicted_values_marked_with_path for item in sublist]\n",
    "fulltext_predicted_values_marked_with_path_df = pd.DataFrame(fulltext_predicted_values_marked_with_path_flat_data)\n",
    "\n",
    "fulltext_predicted_values_marked_with_path_df.head()"
   ]
  },
  {
   "cell_type": "code",
   "execution_count": 684,
   "metadata": {},
   "outputs": [],
   "source": [
    "fulltext_score_bins = pd.cut(fulltext_predicted_values_marked_with_path_df['score'], bins=np.arange(0, max(fulltext_predicted_values_marked_with_path_df['score'])+5, 5), include_lowest=True)\n",
    "fulltext_path_bins = pd.cut(fulltext_predicted_values_marked_with_path_df['shortest_path'], bins=np.arange(0, max(fulltext_predicted_values_marked_with_path_df['shortest_path'])+1, 1), include_lowest=True)"
   ]
  },
  {
   "cell_type": "code",
   "execution_count": 687,
   "metadata": {},
   "outputs": [],
   "source": [
    "def display_scores_with_path(path_bins, score_bins):\n",
    "    # Create a pivot table to count occurrences\n",
    "    heatmap_data = pd.crosstab(path_bins, score_bins)\n",
    "\n",
    "    plt.figure(figsize=(10, 8))\n",
    "    sns.heatmap(heatmap_data, annot=True, fmt=\"d\", cmap=\"YlGnBu\", cbar=True)\n",
    "\n",
    "    plt.title('Heatmap of Score Ranges vs. Shortest Path Values')\n",
    "    plt.xlabel('Score Range')\n",
    "    plt.ylabel('Shortest Path')\n",
    "\n",
    "    plt.show()"
   ]
  },
  {
   "cell_type": "code",
   "execution_count": 678,
   "metadata": {},
   "outputs": [
    {
     "name": "stdout",
     "output_type": "stream",
     "text": [
      "Correct predictions: \n",
      "Min score: 0.37152957916259766, Max score: 33.51873016357422\n",
      "Incorrect predictions: \n",
      "Min score: 0.758967399597168, Max score: 26.936033248901367\n"
     ]
    }
   ],
   "source": [
    "fulltext_correct_scores = fulltext_predicted_values_marked_with_path_df[fulltext_predicted_values_marked_with_path_df['is_correct'] == True]\n",
    "print(f\"Correct predictions: \\nMin score: {min(fulltext_correct_scores['score'])}, Max score: {max(fulltext_correct_scores['score'])}\")\n",
    "\n",
    "fulltext_incorrect_scores = fulltext_predicted_values_marked_with_path_df[fulltext_predicted_values_marked_with_path_df['is_correct'] == False]\n",
    "print(f\"Incorrect predictions: \\nMin score: {min(fulltext_incorrect_scores['score'])}, Max score: {max(fulltext_incorrect_scores['score'])}\")"
   ]
  },
  {
   "cell_type": "code",
   "execution_count": 679,
   "metadata": {},
   "outputs": [
    {
     "data": {
      "text/plain": [
       "MESH_ID                                                  MESH:D020754\n",
       "Description                                   Spinocerebellar Ataxias\n",
       "Synonyms            ADCA, TYPE II|ALS13, INCLUDED|Ataxia 1, Spinoc...\n",
       "AltDiseaseIDs       DO:DOID:0050957|DO:DOID:1441|OMIM:164400|OMIM:...\n",
       "score                                                         0.37153\n",
       "is_correct                                                       True\n",
       "TRUE_ID                                                   OMIM:183086\n",
       "TRUE Description                                                 SCA6\n",
       "shortest_path                                                       0\n",
       "Name: 2752, dtype: object"
      ]
     },
     "execution_count": 679,
     "metadata": {},
     "output_type": "execute_result"
    }
   ],
   "source": [
    "fulltext_correct_scores[fulltext_correct_scores['score'] == 0.37152957916259766].iloc[0]"
   ]
  },
  {
   "cell_type": "code",
   "execution_count": 671,
   "metadata": {},
   "outputs": [
    {
     "data": {
      "text/plain": [
       "MESH_ID                                                  MESH:D058405\n",
       "Description                       Desmoplastic Small Round Cell Tumor\n",
       "Synonyms            Desmoplastic Small Cell Tumor|Desmoplastic Sma...\n",
       "AltDiseaseIDs                                                     NaN\n",
       "score                                                        33.51873\n",
       "is_correct                                                       True\n",
       "TRUE_ID                                                  MESH:D058405\n",
       "TRUE Description                 desmoplastic small round cell tumors\n",
       "shortest_path                                                       0\n",
       "Name: 2466, dtype: object"
      ]
     },
     "execution_count": 671,
     "metadata": {},
     "output_type": "execute_result"
    }
   ],
   "source": [
    "fulltext_correct_scores[fulltext_correct_scores['score'] == 33.51873016357422].iloc[0]"
   ]
  },
  {
   "cell_type": "code",
   "execution_count": 675,
   "metadata": {},
   "outputs": [
    {
     "data": {
      "text/plain": [
       "MESH_ID                                                  MESH:D011125\n",
       "Description                                Adenomatous Polyposis Coli\n",
       "Synonyms            AAPC, INCLUDED|ADENOMA, PERIAMPULLARY, SOMATIC...\n",
       "AltDiseaseIDs       DO:DOID:0050424|OMIM:175100|OMIM:616415|OMIM:6...\n",
       "score                                                        0.758967\n",
       "is_correct                                                      False\n",
       "TRUE_ID                                                  MESH:C538265\n",
       "TRUE Description                                                 AAPC\n",
       "shortest_path                                                       1\n",
       "Name: 129, dtype: object"
      ]
     },
     "execution_count": 675,
     "metadata": {},
     "output_type": "execute_result"
    }
   ],
   "source": [
    "fulltext_incorrect_scores[fulltext_incorrect_scores['score'] == 0.758967399597168].iloc[0]"
   ]
  },
  {
   "cell_type": "code",
   "execution_count": 676,
   "metadata": {},
   "outputs": [
    {
     "data": {
      "text/plain": [
       "MESH_ID                                                  MESH:D011125\n",
       "Description                                Adenomatous Polyposis Coli\n",
       "Synonyms            AAPC, INCLUDED|ADENOMA, PERIAMPULLARY, SOMATIC...\n",
       "AltDiseaseIDs       DO:DOID:0050424|OMIM:175100|OMIM:616415|OMIM:6...\n",
       "score                                                       26.936033\n",
       "is_correct                                                      False\n",
       "TRUE_ID                                                  MESH:C538265\n",
       "TRUE Description                attenuated adenomatous polyposis coli\n",
       "shortest_path                                                       1\n",
       "Name: 128, dtype: object"
      ]
     },
     "execution_count": 676,
     "metadata": {},
     "output_type": "execute_result"
    }
   ],
   "source": [
    "fulltext_incorrect_scores[fulltext_incorrect_scores['score'] == 26.936033248901367].iloc[0]"
   ]
  },
  {
   "cell_type": "code",
   "execution_count": 691,
   "metadata": {},
   "outputs": [
    {
     "data": {
      "image/png": "[encoded data removed]",
      "text/plain": [
       "<Figure size 1000x800 with 2 Axes>"
      ]
     },
     "metadata": {},
     "output_type": "display_data"
    }
   ],
   "source": [
    "display_scores_with_path(fulltext_path_bins, fulltext_score_bins)"
   ]
  },
  {
   "cell_type": "code",
   "execution_count": 677,
   "metadata": {},
   "outputs": [
    {
     "data": {
      "text/html": [
       "<div>\n",
       "<style scoped>\n",
       "    .dataframe tbody tr th:only-of-type {\n",
       "        vertical-align: middle;\n",
       "    }\n",
       "\n",
       "    .dataframe tbody tr th {\n",
       "        vertical-align: top;\n",
       "    }\n",
       "\n",
       "    .dataframe thead th {\n",
       "        text-align: right;\n",
       "    }\n",
       "</style>\n",
       "<table border=\"1\" class=\"dataframe\">\n",
       "  <thead>\n",
       "    <tr style=\"text-align: right;\">\n",
       "      <th></th>\n",
       "      <th>MESH_ID</th>\n",
       "      <th>Description</th>\n",
       "      <th>Synonyms</th>\n",
       "      <th>AltDiseaseIDs</th>\n",
       "      <th>score</th>\n",
       "      <th>TRUE_ID</th>\n",
       "      <th>TRUE Description</th>\n",
       "      <th>is_correct</th>\n",
       "      <th>shortest_path</th>\n",
       "    </tr>\n",
       "  </thead>\n",
       "  <tbody>\n",
       "    <tr>\n",
       "      <th>0</th>\n",
       "      <td>MESH:C567533</td>\n",
       "      <td>Anemia, Nonspherocytic Hemolytic, Due To G6pd ...</td>\n",
       "      <td>NaN</td>\n",
       "      <td>NaN</td>\n",
       "      <td>0.940630</td>\n",
       "      <td>MESH:D005955</td>\n",
       "      <td>glucose-6-phosphate dehydrogenase (G6PD) defic...</td>\n",
       "      <td>False</td>\n",
       "      <td>1</td>\n",
       "    </tr>\n",
       "    <tr>\n",
       "      <th>1</th>\n",
       "      <td>MESH:D000746</td>\n",
       "      <td>Anemia, Hemolytic, Congenital Nonspherocytic</td>\n",
       "      <td>Anemia, Congenital Nonspherocytic Hemolytic|An...</td>\n",
       "      <td>DO:DOID:2861</td>\n",
       "      <td>0.934006</td>\n",
       "      <td>MESH:D000746</td>\n",
       "      <td>chronic nonspherocytic hemolytic anemia</td>\n",
       "      <td>True</td>\n",
       "      <td>0</td>\n",
       "    </tr>\n",
       "    <tr>\n",
       "      <th>2</th>\n",
       "      <td>MESH:C567533</td>\n",
       "      <td>Anemia, Nonspherocytic Hemolytic, Due To G6pd ...</td>\n",
       "      <td>NaN</td>\n",
       "      <td>NaN</td>\n",
       "      <td>0.942252</td>\n",
       "      <td>MESH:D005955</td>\n",
       "      <td>G6PD deficiency</td>\n",
       "      <td>False</td>\n",
       "      <td>1</td>\n",
       "    </tr>\n",
       "    <tr>\n",
       "      <th>3</th>\n",
       "      <td>MESH:C567533</td>\n",
       "      <td>Anemia, Nonspherocytic Hemolytic, Due To G6pd ...</td>\n",
       "      <td>NaN</td>\n",
       "      <td>NaN</td>\n",
       "      <td>0.942252</td>\n",
       "      <td>MESH:D005955</td>\n",
       "      <td>G6PD deficiency</td>\n",
       "      <td>False</td>\n",
       "      <td>1</td>\n",
       "    </tr>\n",
       "    <tr>\n",
       "      <th>4</th>\n",
       "      <td>MESH:C536411</td>\n",
       "      <td>Neuraminidase deficiency with beta-galactosida...</td>\n",
       "      <td>Cathepsin A Deficiency|Cathepsin A, deficiency...</td>\n",
       "      <td>OMIM:256540</td>\n",
       "      <td>0.860715</td>\n",
       "      <td>MESH:D005693</td>\n",
       "      <td>Duarte enzyme variant of galactosemia</td>\n",
       "      <td>False</td>\n",
       "      <td>4</td>\n",
       "    </tr>\n",
       "  </tbody>\n",
       "</table>\n",
       "</div>"
      ],
      "text/plain": [
       "        MESH_ID                                        Description  \\\n",
       "0  MESH:C567533  Anemia, Nonspherocytic Hemolytic, Due To G6pd ...   \n",
       "1  MESH:D000746       Anemia, Hemolytic, Congenital Nonspherocytic   \n",
       "2  MESH:C567533  Anemia, Nonspherocytic Hemolytic, Due To G6pd ...   \n",
       "3  MESH:C567533  Anemia, Nonspherocytic Hemolytic, Due To G6pd ...   \n",
       "4  MESH:C536411  Neuraminidase deficiency with beta-galactosida...   \n",
       "\n",
       "                                            Synonyms AltDiseaseIDs     score  \\\n",
       "0                                                NaN           NaN  0.940630   \n",
       "1  Anemia, Congenital Nonspherocytic Hemolytic|An...  DO:DOID:2861  0.934006   \n",
       "2                                                NaN           NaN  0.942252   \n",
       "3                                                NaN           NaN  0.942252   \n",
       "4  Cathepsin A Deficiency|Cathepsin A, deficiency...   OMIM:256540  0.860715   \n",
       "\n",
       "        TRUE_ID                                   TRUE Description  \\\n",
       "0  MESH:D005955  glucose-6-phosphate dehydrogenase (G6PD) defic...   \n",
       "1  MESH:D000746            chronic nonspherocytic hemolytic anemia   \n",
       "2  MESH:D005955                                    G6PD deficiency   \n",
       "3  MESH:D005955                                    G6PD deficiency   \n",
       "4  MESH:D005693              Duarte enzyme variant of galactosemia   \n",
       "\n",
       "   is_correct  shortest_path  \n",
       "0       False              1  \n",
       "1        True              0  \n",
       "2       False              1  \n",
       "3       False              1  \n",
       "4       False              4  "
      ]
     },
     "execution_count": 677,
     "metadata": {},
     "output_type": "execute_result"
    }
   ],
   "source": [
    "vector_search_predicted_values_marked_with_path_data = [item for sublist in vector_search_predicted_values_marked_with_path for item in sublist]\n",
    "vector_search_predicted_values_marked_with_path_df = pd.DataFrame(vector_search_predicted_values_marked_with_path_data)\n",
    "\n",
    "vector_search_predicted_values_marked_with_path_df.head()"
   ]
  },
  {
   "cell_type": "code",
   "execution_count": 680,
   "metadata": {},
   "outputs": [
    {
     "name": "stdout",
     "output_type": "stream",
     "text": [
      "Correct predictions: \n",
      "Min score: 0.8552832007408142, Max score: 1.0\n",
      "Incorrect predictions: \n",
      "Min score: 0.7861465215682983, Max score: 1.0\n"
     ]
    }
   ],
   "source": [
    "vector_correct_scores = vector_search_predicted_values_marked_with_path_df[vector_search_predicted_values_marked_with_path_df['is_correct'] == True]\n",
    "print(f\"Correct predictions: \\nMin score: {min(vector_correct_scores['score'])}, Max score: {max(vector_correct_scores['score'])}\")\n",
    "\n",
    "vector_incorrect_scores = vector_search_predicted_values_marked_with_path_df[vector_search_predicted_values_marked_with_path_df['is_correct'] == False]\n",
    "print(f\"Incorrect predictions: \\nMin score: {min(vector_incorrect_scores['score'])}, Max score: {max(vector_incorrect_scores['score'])}\")"
   ]
  },
  {
   "cell_type": "code",
   "execution_count": 689,
   "metadata": {},
   "outputs": [],
   "source": [
    "vector_score_bins = pd.cut(vector_search_predicted_values_marked_with_path_df['score'], bins=np.linspace(0, 1, 11), include_lowest=True)  # 10 equal bins between 0.0 and 1.0\n",
    "vector_path_bins = pd.cut(vector_search_predicted_values_marked_with_path_df['shortest_path'], bins=np.arange(0, max(vector_search_predicted_values_marked_with_path_df['shortest_path'])+1, 1), include_lowest=True)"
   ]
  },
  {
   "cell_type": "code",
   "execution_count": 692,
   "metadata": {},
   "outputs": [
    {
     "data": {
      "image/png": "[encoded data removed]",
      "text/plain": [
       "<Figure size 1000x800 with 2 Axes>"
      ]
     },
     "metadata": {},
     "output_type": "display_data"
    }
   ],
   "source": [
    "display_scores_with_path(vector_path_bins, vector_score_bins)"
   ]
  },
  {
   "cell_type": "code",
   "execution_count": 693,
   "metadata": {},
   "outputs": [
    {
     "data": {
      "text/html": [
       "<div>\n",
       "<style scoped>\n",
       "    .dataframe tbody tr th:only-of-type {\n",
       "        vertical-align: middle;\n",
       "    }\n",
       "\n",
       "    .dataframe tbody tr th {\n",
       "        vertical-align: top;\n",
       "    }\n",
       "\n",
       "    .dataframe thead th {\n",
       "        text-align: right;\n",
       "    }\n",
       "</style>\n",
       "<table border=\"1\" class=\"dataframe\">\n",
       "  <thead>\n",
       "    <tr style=\"text-align: right;\">\n",
       "      <th></th>\n",
       "      <th>MESH_ID</th>\n",
       "      <th>Description</th>\n",
       "      <th>Synonyms</th>\n",
       "      <th>AltDiseaseIDs</th>\n",
       "      <th>score</th>\n",
       "      <th>TRUE_ID</th>\n",
       "      <th>TRUE Description</th>\n",
       "      <th>is_correct</th>\n",
       "      <th>shortest_path</th>\n",
       "    </tr>\n",
       "  </thead>\n",
       "  <tbody>\n",
       "    <tr>\n",
       "      <th>0</th>\n",
       "      <td>MESH:D005955</td>\n",
       "      <td>Glucosephosphate Dehydrogenase Deficiency</td>\n",
       "      <td>Deficiencies, G6PD|Deficiencies, Glucose-6-Pho...</td>\n",
       "      <td>DO:DOID:2862</td>\n",
       "      <td>0.977731</td>\n",
       "      <td>MESH:D005955</td>\n",
       "      <td>glucose-6-phosphate dehydrogenase (G6PD) defic...</td>\n",
       "      <td>True</td>\n",
       "      <td>0</td>\n",
       "    </tr>\n",
       "    <tr>\n",
       "      <th>1</th>\n",
       "      <td>MESH:D000743</td>\n",
       "      <td>Anemia, Hemolytic</td>\n",
       "      <td>Acquired Hemolytic Anemia|Anaemia, Haemolytic|...</td>\n",
       "      <td>DO:DOID:583</td>\n",
       "      <td>0.932706</td>\n",
       "      <td>MESH:D000746</td>\n",
       "      <td>chronic nonspherocytic hemolytic anemia</td>\n",
       "      <td>False</td>\n",
       "      <td>2</td>\n",
       "    </tr>\n",
       "    <tr>\n",
       "      <th>2</th>\n",
       "      <td>MESH:C567533</td>\n",
       "      <td>Anemia, Nonspherocytic Hemolytic, Due To G6pd ...</td>\n",
       "      <td>NaN</td>\n",
       "      <td>NaN</td>\n",
       "      <td>0.942252</td>\n",
       "      <td>MESH:D005955</td>\n",
       "      <td>G6PD deficiency</td>\n",
       "      <td>False</td>\n",
       "      <td>1</td>\n",
       "    </tr>\n",
       "    <tr>\n",
       "      <th>3</th>\n",
       "      <td>MESH:C567533</td>\n",
       "      <td>Anemia, Nonspherocytic Hemolytic, Due To G6pd ...</td>\n",
       "      <td>NaN</td>\n",
       "      <td>NaN</td>\n",
       "      <td>0.942252</td>\n",
       "      <td>MESH:D005955</td>\n",
       "      <td>G6PD deficiency</td>\n",
       "      <td>False</td>\n",
       "      <td>1</td>\n",
       "    </tr>\n",
       "    <tr>\n",
       "      <th>4</th>\n",
       "      <td>MESH:D005693</td>\n",
       "      <td>Galactosemias</td>\n",
       "      <td>Classic Galactosemia|Classic Galactosemias|Def...</td>\n",
       "      <td>DO:DOID:0111458|DO:DOID:0111459|DO:DOID:14695|...</td>\n",
       "      <td>0.919851</td>\n",
       "      <td>MESH:D005693</td>\n",
       "      <td>Duarte enzyme variant of galactosemia</td>\n",
       "      <td>True</td>\n",
       "      <td>0</td>\n",
       "    </tr>\n",
       "  </tbody>\n",
       "</table>\n",
       "</div>"
      ],
      "text/plain": [
       "        MESH_ID                                        Description  \\\n",
       "0  MESH:D005955          Glucosephosphate Dehydrogenase Deficiency   \n",
       "1  MESH:D000743                                  Anemia, Hemolytic   \n",
       "2  MESH:C567533  Anemia, Nonspherocytic Hemolytic, Due To G6pd ...   \n",
       "3  MESH:C567533  Anemia, Nonspherocytic Hemolytic, Due To G6pd ...   \n",
       "4  MESH:D005693                                      Galactosemias   \n",
       "\n",
       "                                            Synonyms  \\\n",
       "0  Deficiencies, G6PD|Deficiencies, Glucose-6-Pho...   \n",
       "1  Acquired Hemolytic Anemia|Anaemia, Haemolytic|...   \n",
       "2                                                NaN   \n",
       "3                                                NaN   \n",
       "4  Classic Galactosemia|Classic Galactosemias|Def...   \n",
       "\n",
       "                                       AltDiseaseIDs     score       TRUE_ID  \\\n",
       "0                                       DO:DOID:2862  0.977731  MESH:D005955   \n",
       "1                                        DO:DOID:583  0.932706  MESH:D000746   \n",
       "2                                                NaN  0.942252  MESH:D005955   \n",
       "3                                                NaN  0.942252  MESH:D005955   \n",
       "4  DO:DOID:0111458|DO:DOID:0111459|DO:DOID:14695|...  0.919851  MESH:D005693   \n",
       "\n",
       "                                    TRUE Description  is_correct  \\\n",
       "0  glucose-6-phosphate dehydrogenase (G6PD) defic...        True   \n",
       "1            chronic nonspherocytic hemolytic anemia       False   \n",
       "2                                    G6PD deficiency       False   \n",
       "3                                    G6PD deficiency       False   \n",
       "4              Duarte enzyme variant of galactosemia        True   \n",
       "\n",
       "   shortest_path  \n",
       "0              0  \n",
       "1              2  \n",
       "2              1  \n",
       "3              1  \n",
       "4              0  "
      ]
     },
     "execution_count": 693,
     "metadata": {},
     "output_type": "execute_result"
    }
   ],
   "source": [
    "syn_vector_search_predicted_values_marked_with_path_data = [item for sublist in syn_vector_search_predicted_values_marked_with_path for item in sublist]\n",
    "syn_vector_search_predicted_values_marked_with_path_df = pd.DataFrame(syn_vector_search_predicted_values_marked_with_path_data)\n",
    "\n",
    "syn_vector_search_predicted_values_marked_with_path_df.head()"
   ]
  },
  {
   "cell_type": "code",
   "execution_count": 694,
   "metadata": {},
   "outputs": [
    {
     "name": "stdout",
     "output_type": "stream",
     "text": [
      "Correct predictions: \n",
      "Min score: 0.8631592988967896, Max score: 1.0\n",
      "Incorrect predictions: \n",
      "Min score: 0.8284953832626343, Max score: 0.9953970313072205\n"
     ]
    }
   ],
   "source": [
    "syn_vector_correct_scores = syn_vector_search_predicted_values_marked_with_path_df[syn_vector_search_predicted_values_marked_with_path_df['is_correct'] == True]\n",
    "print(f\"Correct predictions: \\nMin score: {min(syn_vector_correct_scores['score'])}, Max score: {max(syn_vector_correct_scores['score'])}\")\n",
    "\n",
    "syn_vector_incorrect_scores = syn_vector_search_predicted_values_marked_with_path_df[syn_vector_search_predicted_values_marked_with_path_df['is_correct'] == False]\n",
    "print(f\"Incorrect predictions: \\nMin score: {min(syn_vector_incorrect_scores['score'])}, Max score: {max(syn_vector_incorrect_scores['score'])}\")"
   ]
  },
  {
   "cell_type": "code",
   "execution_count": 695,
   "metadata": {},
   "outputs": [],
   "source": [
    "syn_vector_score_bins = pd.cut(syn_vector_search_predicted_values_marked_with_path_df['score'], bins=np.linspace(0, 1, 11), include_lowest=True)  # 10 equal bins between 0.0 and 1.0\n",
    "syn_vector_path_bins = pd.cut(syn_vector_search_predicted_values_marked_with_path_df['shortest_path'], bins=np.arange(0, max(syn_vector_search_predicted_values_marked_with_path_df['shortest_path'])+1, 1), include_lowest=True)"
   ]
  },
  {
   "cell_type": "code",
   "execution_count": 696,
   "metadata": {},
   "outputs": [
    {
     "data": {
      "image/png": "[encoded data removed]",
      "text/plain": [
       "<Figure size 1000x800 with 2 Axes>"
      ]
     },
     "metadata": {},
     "output_type": "display_data"
    }
   ],
   "source": [
    "display_scores_with_path(syn_vector_path_bins, syn_vector_score_bins)"
   ]
  },
  {
   "cell_type": "markdown",
   "metadata": {},
   "source": [
    "These are interesting insights on the results from our search strategies. Let us summarize them:\n",
    "- Although the fulltext index search produced the most accurate results, a deeper analysis of these results and their correlation to the node distances reviled that we cannot rely on a certain threshold for this search strategy, as both correct and incorrect predictions have a similar wide range of scores.\n",
    "- Both vector indices produced less accurate predictions, however, there is a clearer correlation between the higher scores and closer node distance.\n",
    "- We may want to establish a threshold of 0.80 for vector indices, as it covers the most area with correct predictions (true positives and true negatives).\n",
    "- Manual analysis of a slice of the results might suggest, that the values predicted incorrectly by one vector index might be predicted correctly by another one - because they were created on different properties.\n",
    "- Centroid vector index may fail to produce a correct result if there are too many lexically different synonyms assigned to the disease, and therefor their centroid value doesn't always capture the edges correctly. This is an issue that occurs doe to the nature of the data itself."
   ]
  }
 ],
 "metadata": {
  "kernelspec": {
   "display_name": "venv",
   "language": "python",
   "name": "python3"
  },
  "language_info": {
   "codemirror_mode": {
    "name": "ipython",
    "version": 3
   },
   "file_extension": ".py",
   "mimetype": "text/x-python",
   "name": "python",
   "nbconvert_exporter": "python",
   "pygments_lexer": "ipython3",
   "version": "3.12.4"
  }
 },
 "nbformat": 4,
 "nbformat_minor": 2
}
