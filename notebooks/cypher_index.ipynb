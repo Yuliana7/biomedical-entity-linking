{
 "cells": [
  {
   "cell_type": "markdown",
   "metadata": {},
   "source": [
    "## Tools"
   ]
  },
  {
   "cell_type": "code",
   "execution_count": 259,
   "metadata": {},
   "outputs": [],
   "source": [
    "import pandas as pd\n",
    "import re\n",
    "from llama_index.embeddings.huggingface import HuggingFaceEmbedding\n",
    "from IPython.display import SVG, display\n",
    "import matplotlib.pyplot as plt\n",
    "\n",
    "from utils.generic import get_driver, Models"
   ]
  },
  {
   "cell_type": "code",
   "execution_count": 89,
   "metadata": {},
   "outputs": [],
   "source": [
    "driver = get_driver()"
   ]
  },
  {
   "cell_type": "markdown",
   "metadata": {},
   "source": [
    "## Baseline: fulltext index search"
   ]
  },
  {
   "cell_type": "markdown",
   "metadata": {},
   "source": [
    "Before running any complex experiments, we need a baseline to compare to. We believe a simple search by a keyword can be used as a baseline.\n",
    "We will need to create a fulltext index on our knowledge graph - and then run it on the whole dataset."
   ]
  },
  {
   "cell_type": "code",
   "execution_count": 3,
   "metadata": {},
   "outputs": [],
   "source": [
    "create_fulltext_inde_query = \"\"\"\n",
    "    CREATE FULLTEXT INDEX diseaseIndex FOR (n:Disease) ON EACH [n.DiseaseName, n.Synonyms]\n",
    "    OPTIONS {\n",
    "        indexConfig: {\n",
    "            `fulltext.analyzer`: 'english',\n",
    "            `fulltext.eventually_consistent`: true\n",
    "        }\n",
    "    }\n",
    "\"\"\""
   ]
  },
  {
   "cell_type": "code",
   "execution_count": 7,
   "metadata": {},
   "outputs": [],
   "source": [
    "with driver.session() as session:\n",
    "    session.run(create_fulltext_inde_query)"
   ]
  },
  {
   "cell_type": "code",
   "execution_count": 202,
   "metadata": {},
   "outputs": [],
   "source": [
    "df = pd.read_csv('../data/processed/ncbi_specific_disease.csv', sep=',')"
   ]
  },
  {
   "cell_type": "code",
   "execution_count": 84,
   "metadata": {},
   "outputs": [],
   "source": [
    "def fulltext_search(disease_name, limit=1):\n",
    "    with driver.session() as session:\n",
    "        query = \"\"\"\n",
    "            CALL db.index.fulltext.queryNodes('diseaseIndex', $disease_name)\n",
    "            YIELD node, score\n",
    "            RETURN node.DiseaseID AS MESH_ID, node.AltDiseaseIDs as AltDiseaseIDs, node.DiseaseName AS Description, score\n",
    "            LIMIT $limit\n",
    "        \"\"\"\n",
    "        result = session.run(query, disease_name=disease_name, limit=limit)\n",
    "\n",
    "        return [{\n",
    "            'MESH_ID': record['MESH_ID'],\n",
    "            'AltDiseaseIDs': record['AltDiseaseIDs'],\n",
    "            'Description': record['Description'],\n",
    "            'score': record['score']} for record in result\n",
    "        ]"
   ]
  },
  {
   "cell_type": "markdown",
   "metadata": {},
   "source": [
    "The presence of special characters in the search string will be causing issues with the Lucene query parser used by Neo4j's fulltext search. In order to make it work, we will escape them in the search query using a regexp."
   ]
  },
  {
   "cell_type": "code",
   "execution_count": 172,
   "metadata": {},
   "outputs": [],
   "source": [
    "def predict_with_fulltext_index(dataset, limit=1):\n",
    "    true_values = []\n",
    "    predicted_values = []\n",
    "\n",
    "    for _, row in dataset.iterrows():\n",
    "        disease_name = row['Description']\n",
    "        true_mesh_id = row['MESH ID']\n",
    "\n",
    "        disease_name_re = re.sub('[^A-Za-z0-9 ]+', '', disease_name)\n",
    "        \n",
    "        predicted_ids = fulltext_search(disease_name_re, limit)\n",
    "        \n",
    "        true_values.append({\"MESH_ID\": true_mesh_id, \"Description\": disease_name})\n",
    "        predicted_values.append(predicted_ids if len(predicted_ids) > 0 else [{\"MESH_ID\": \"Unknown\", \"AltDiseaseIDs\": \"Unknown\", \"Description\": \"Unknown\"}])\n",
    "\n",
    "    return true_values, predicted_values"
   ]
  },
  {
   "cell_type": "code",
   "execution_count": 171,
   "metadata": {},
   "outputs": [],
   "source": [
    "[true_values, predicted_values] = predict_with_fulltext_index(df)"
   ]
  },
  {
   "cell_type": "markdown",
   "metadata": {},
   "source": [
    "And now we can calculate the performance. However, we know that \"MESH_ID\" field can be either one ID (\"MESH:1234\") or two IDs (\"MESH:1234|MESH:5678\"), and vise verse the predicted values can be the same. We will treat partial match as a correct prediction, e.g. if the true label is \"MESH:1234|MESH:5678\" and predicted label is \"MESH:1234\" - this should be treated as correct. We need to write a custom function for that."
   ]
  },
  {
   "cell_type": "code",
   "execution_count": 169,
   "metadata": {},
   "outputs": [],
   "source": [
    "def extract_ids(entry):\n",
    "    mesh_ids = entry['MESH_ID'].split('|') if entry['MESH_ID'] else []\n",
    "    alt_disease_ids = []\n",
    "\n",
    "    if 'AltDiseaseIDs' in entry.keys() and entry['AltDiseaseIDs'] is not None and not pd.isna(entry['AltDiseaseIDs']):\n",
    "        alt_disease_ids = entry['AltDiseaseIDs'].split('|')\n",
    "\n",
    "    all_ids = mesh_ids + alt_disease_ids\n",
    "    unique_ids = list(set(all_ids)) \n",
    "    \n",
    "    return unique_ids\n",
    "\n",
    "def partial_match(true_labels, predicted_labels):\n",
    "    true_set = set(extract_ids(true_labels))\n",
    "    predicted_set = set(extract_ids(predicted_labels[0]))\n",
    "\n",
    "    return not true_set.isdisjoint(predicted_set)\n",
    "\n",
    "def custom_precision_recall_f1_accuracy(true_values, predicted_values):\n",
    "    true_positive = 0\n",
    "    false_positive = 0\n",
    "    false_negative = 0\n",
    "    \n",
    "    for true_labels, predicted_labels in zip(true_values, predicted_values):\n",
    "        if partial_match(true_labels, predicted_labels):\n",
    "            true_positive += 1\n",
    "        else:\n",
    "            false_positive += 1\n",
    "            false_negative += 1\n",
    "\n",
    "    precision = true_positive / (true_positive + false_positive) if (true_positive + false_positive) > 0 else 0\n",
    "    recall = true_positive / (true_positive + false_negative) if (true_positive + false_negative) > 0 else 0\n",
    "    f1 = 2 * (precision * recall) / (precision + recall) if (precision + recall) > 0 else 0\n",
    "    accuracy = true_positive / len(true_values) if len(true_values) > 0 else 0\n",
    "\n",
    "    return precision, recall, f1, accuracy"
   ]
  },
  {
   "cell_type": "code",
   "execution_count": 175,
   "metadata": {},
   "outputs": [
    {
     "name": "stdout",
     "output_type": "stream",
     "text": [
      "Precision: 0.52520366598778\n",
      "Recall: 0.52520366598778\n",
      "F1-Score: 0.52520366598778\n",
      "Accuracy: 0.52520366598778\n"
     ]
    }
   ],
   "source": [
    "precision, recall, f1, accuracy = custom_precision_recall_f1_accuracy(true_values=true_values, predicted_values=predicted_values)\n",
    "\n",
    "print(f\"Precision: {precision}\")\n",
    "print(f\"Recall: {recall}\")\n",
    "print(f\"F1-Score: {f1}\")\n",
    "print(f\"Accuracy: {accuracy}\")"
   ]
  },
  {
   "cell_type": "markdown",
   "metadata": {},
   "source": [
    "## Vector index: on DiseaseName prop"
   ]
  },
  {
   "cell_type": "markdown",
   "metadata": {},
   "source": [
    "A vector index is a single-label, single-property index for nodes or a single-relationship-type, single-property index for relationships, and it can be used to index nodes or relationships by LIST<INTEGER | FLOAT> properties valid to the dimensions and vector similarity function of the index. We will start with creating a vector index for `DiseaseName` prop on `DiseaseEmbedding-BAAI-bge-small-en-v1_5` embedding and run it on the dataset with embedded `DiseaseName` property."
   ]
  },
  {
   "cell_type": "code",
   "execution_count": 1,
   "metadata": {},
   "outputs": [],
   "source": [
    "create_vector_index_query = \"\"\"\n",
    "    CREATE VECTOR INDEX baaiVectorIndex IF NOT EXISTS\n",
    "    FOR (d:Disease)\n",
    "    ON d.`DiseaseEmbedding-BAAI-bge-small-en-v1_5`\n",
    "    OPTIONS {\n",
    "        indexConfig: {\n",
    "            `vector.dimensions`: 384,\n",
    "            `vector.similarity_function`: 'cosine'\n",
    "        }\n",
    "    }\n",
    "\"\"\""
   ]
  },
  {
   "cell_type": "code",
   "execution_count": 5,
   "metadata": {},
   "outputs": [],
   "source": [
    "with driver.session() as session:\n",
    "    session.run(create_vector_index_query)"
   ]
  },
  {
   "cell_type": "markdown",
   "metadata": {},
   "source": [
    "Now that we have our vector index, let us write functions to retrieve from it."
   ]
  },
  {
   "cell_type": "code",
   "execution_count": 204,
   "metadata": {},
   "outputs": [
    {
     "name": "stderr",
     "output_type": "stream",
     "text": [
      "/Users/yuliana.romaniv/University/AstraZeneca/test-rag/venv/lib/python3.12/site-packages/huggingface_hub/file_download.py:1132: FutureWarning: `resume_download` is deprecated and will be removed in version 1.0.0. Downloads always resume when possible. If you want to force a new download, use `force_download=True`.\n",
      "  warnings.warn(\n"
     ]
    }
   ],
   "source": [
    "embed_model = HuggingFaceEmbedding(model_name=Models.BAAI_BGE_SMALL_EN_V1_5.value)"
   ]
  },
  {
   "cell_type": "code",
   "execution_count": 184,
   "metadata": {},
   "outputs": [],
   "source": [
    "baai_vector_index_query = \"\"\"\n",
    "    CALL db.index.vector.queryNodes('baaiVectorIndex', $limit, $disease_name)\n",
    "    YIELD node AS disease, score\n",
    "    RETURN disease.DiseaseName AS Description, disease.DiseaseID AS MESH_ID, disease.AltDiseaseIDs AS AltDiseaseIDs, score\n",
    "\"\"\""
   ]
  },
  {
   "cell_type": "code",
   "execution_count": 178,
   "metadata": {},
   "outputs": [],
   "source": [
    "def vector_index_search(query, disease_name, limit=1):\n",
    "    with driver.session() as session:\n",
    "        result = session.run(query, disease_name=disease_name, limit=limit)\n",
    "\n",
    "        return [{\n",
    "            'MESH_ID': record['MESH_ID'],\n",
    "            'Description': record['Description'],\n",
    "            'AltDiseaseIDs': record['AltDiseaseIDs'],\n",
    "            'score': record['score']} for record in result\n",
    "        ]"
   ]
  },
  {
   "cell_type": "code",
   "execution_count": 190,
   "metadata": {},
   "outputs": [],
   "source": [
    "test_name = embed_model.get_text_embedding('Hereditary deficiency of the fifth component of complement') # should match OMIM:609536\n",
    "test_vector_search_res = vector_index_search(baai_vector_index_query, test_name, limit=1)"
   ]
  },
  {
   "cell_type": "code",
   "execution_count": 191,
   "metadata": {},
   "outputs": [
    {
     "data": {
      "text/plain": [
       "[{'MESH_ID': 'MESH:C537005',\n",
       "  'Description': 'Complement component 5 deficiency',\n",
       "  'AltDiseaseIDs': 'DO:DOID:8158|OMIM:609536',\n",
       "  'score': 0.9679043292999268}]"
      ]
     },
     "execution_count": 191,
     "metadata": {},
     "output_type": "execute_result"
    }
   ],
   "source": [
    "test_vector_search_res"
   ]
  },
  {
   "cell_type": "code",
   "execution_count": 187,
   "metadata": {},
   "outputs": [],
   "source": [
    "def predict_with_vector_index(query, dataset, get_embedding, limit=1):\n",
    "    true_values = []\n",
    "    predicted_values = []\n",
    "\n",
    "    for _, row in dataset.iterrows():\n",
    "        disease_name = row['Description']\n",
    "        true_id = row['MESH ID']\n",
    "        \n",
    "        predicted_mesh_id = vector_index_search(query, get_embedding(disease_name), limit)\n",
    "        \n",
    "        true_values.append({\"MESH_ID\": true_id, \"Description\": disease_name})\n",
    "        predicted_values.append(predicted_mesh_id if len(predicted_mesh_id) > 0 else [{\"MESH_ID\": \"Unknown\", \"Description\": \"Unknown\", \"AltDiseaseIDs\": \"Unknown\"}])\n",
    "\n",
    "    return true_values, predicted_values"
   ]
  },
  {
   "cell_type": "code",
   "execution_count": 188,
   "metadata": {},
   "outputs": [],
   "source": [
    "[true_values_vector, predicted_values_vector] = predict_with_vector_index(query=baai_vector_index_query, dataset=df, get_embedding=embed_model.get_text_embedding, limit=1)"
   ]
  },
  {
   "cell_type": "code",
   "execution_count": 189,
   "metadata": {},
   "outputs": [
    {
     "name": "stdout",
     "output_type": "stream",
     "text": [
      "Precision: 0.38391038696537677\n",
      "Recall: 0.38391038696537677\n",
      "F1-Score: 0.3839103869653768\n",
      "Accuracy: 0.38391038696537677\n"
     ]
    }
   ],
   "source": [
    "vector_precision, vector_recall, vector_f1, vector_accuracy = custom_precision_recall_f1_accuracy(true_values=true_values_vector, predicted_values=predicted_values_vector)\n",
    "\n",
    "print(f\"Precision: {vector_precision}\")\n",
    "print(f\"Recall: {vector_recall}\")\n",
    "print(f\"F1-Score: {vector_f1}\")\n",
    "print(f\"Accuracy: {vector_accuracy}\")"
   ]
  },
  {
   "cell_type": "markdown",
   "metadata": {},
   "source": [
    "## Preliminary results analysis"
   ]
  },
  {
   "cell_type": "markdown",
   "metadata": {},
   "source": [
    "Having conducted search via two different methods, we can try to compare their performance and continue developing more sophisticated methods.\n",
    "We were relying on the correct prediction of the Disease ID, however let us have a look at the predicted values more closely."
   ]
  },
  {
   "cell_type": "code",
   "execution_count": 199,
   "metadata": {},
   "outputs": [
    {
     "data": {
      "text/plain": [
       "[{'MESH_ID': 'OMIM:612446|OMIM:610102',\n",
       "  'Description': 'combined subtotal deficiencies of C6 and C7'},\n",
       " {'MESH_ID': 'OMIM:612446|OMIM:610102',\n",
       "  'Description': 'Combined subtotal deficiency of C6 and C7'},\n",
       " {'MESH_ID': 'MESH:D001943', 'Description': 'breast cancer'},\n",
       " {'MESH_ID': 'MESH:D001943', 'Description': 'breast cancer'},\n",
       " {'MESH_ID': 'MESH:D001943', 'Description': 'breast carcinomas'}]"
      ]
     },
     "execution_count": 199,
     "metadata": {},
     "output_type": "execute_result"
    }
   ],
   "source": [
    "true_values[270:275]"
   ]
  },
  {
   "cell_type": "code",
   "execution_count": 200,
   "metadata": {},
   "outputs": [
    {
     "data": {
      "text/plain": [
       "[[{'MESH_ID': 'MESH:C567308',\n",
       "   'AltDiseaseIDs': nan,\n",
       "   'Description': 'C6 Deficiency, Subtotal',\n",
       "   'score': 17.659700393676758}],\n",
       " [{'MESH_ID': 'MESH:C567308',\n",
       "   'AltDiseaseIDs': nan,\n",
       "   'Description': 'C6 Deficiency, Subtotal',\n",
       "   'score': 17.659700393676758}],\n",
       " [{'MESH_ID': 'MESH:D000072656',\n",
       "   'AltDiseaseIDs': nan,\n",
       "   'Description': 'Breast Cancer Lymphedema',\n",
       "   'score': 13.135173797607422}],\n",
       " [{'MESH_ID': 'MESH:D000072656',\n",
       "   'AltDiseaseIDs': nan,\n",
       "   'Description': 'Breast Cancer Lymphedema',\n",
       "   'score': 13.135173797607422}],\n",
       " [{'MESH_ID': 'MESH:D018270',\n",
       "   'AltDiseaseIDs': 'DO:DOID:3008',\n",
       "   'Description': 'Carcinoma, Ductal, Breast',\n",
       "   'score': 12.872967720031738}]]"
      ]
     },
     "execution_count": 200,
     "metadata": {},
     "output_type": "execute_result"
    }
   ],
   "source": [
    "predicted_values[270:275]"
   ]
  },
  {
   "cell_type": "code",
   "execution_count": 194,
   "metadata": {},
   "outputs": [
    {
     "data": {
      "text/plain": [
       "[[{'MESH_ID': 'OMIM:613559',\n",
       "   'Description': 'COMBINED OXIDATIVE PHOSPHORYLATION DEFICIENCY 7',\n",
       "   'AltDiseaseIDs': 'DO:DOID:0111487',\n",
       "   'score': 0.898398756980896}],\n",
       " [{'MESH_ID': 'MESH:C565374',\n",
       "   'Description': 'Molybdenum Cofactor Deficiency, Complementation Group C',\n",
       "   'AltDiseaseIDs': 'DO:DOID:0111166|OMIM:615501',\n",
       "   'score': 0.904615044593811}],\n",
       " [{'MESH_ID': 'MESH:C565336',\n",
       "   'Description': 'Breast Cancer 3',\n",
       "   'AltDiseaseIDs': nan,\n",
       "   'score': 0.9277100563049316}],\n",
       " [{'MESH_ID': 'MESH:C565336',\n",
       "   'Description': 'Breast Cancer 3',\n",
       "   'AltDiseaseIDs': nan,\n",
       "   'score': 0.9277100563049316}],\n",
       " [{'MESH_ID': 'MESH:D001943',\n",
       "   'Description': 'Breast Neoplasms',\n",
       "   'AltDiseaseIDs': 'DO:DOID:1612|DO:DOID:3459|OMIM:114480',\n",
       "   'score': 0.9347741603851318}]]"
      ]
     },
     "execution_count": 194,
     "metadata": {},
     "output_type": "execute_result"
    }
   ],
   "source": [
    "predicted_values_vector[270:275]"
   ]
  },
  {
   "cell_type": "markdown",
   "metadata": {},
   "source": [
    "\"combined subtotal deficiencies of C6 and C7\" is marked in our dataset as a combination of two diseases - \"OMIM:612446\" and \"OMIM:610102\". From the data processing step we know that these IDs must be present in the knowledge graph, so let us try to identify them."
   ]
  },
  {
   "cell_type": "code",
   "execution_count": 249,
   "metadata": {},
   "outputs": [],
   "source": [
    "def get_disease_by_id(disease_id):\n",
    "    query = \"\"\"\n",
    "        OPTIONAL MATCH (d:Disease)\n",
    "        WHERE (d.DiseaseID IS NOT NULL AND ANY(id IN SPLIT(toString(d.DiseaseID), '|') WHERE id = $disease_id))\n",
    "        OR (d.AltDiseaseIDs IS NOT NULL AND ANY(altId IN SPLIT(toString(d.AltDiseaseIDs), '|') WHERE altId = $disease_id))\n",
    "        RETURN d.DiseaseName AS DiseaseName, d.DiseaseID AS DiseaseID, d.AltDiseaseIDs AS AltDiseaseIDs, d.Synonyms AS Synonyms\n",
    "    \"\"\"\n",
    "\n",
    "    with driver.session() as session:\n",
    "        result = session.run(query, disease_id=disease_id)\n",
    "\n",
    "        return [{\n",
    "            'DiseaseID': record['DiseaseID'],\n",
    "            'DiseaseName': record['DiseaseName'],\n",
    "            'AltDiseaseIDs': record['AltDiseaseIDs'],\n",
    "            'Synonyms': record['Synonyms']\n",
    "        } for record in result]"
   ]
  },
  {
   "cell_type": "code",
   "execution_count": 250,
   "metadata": {},
   "outputs": [
    {
     "data": {
      "text/plain": [
       "[{'DiseaseID': 'MESH:C567307',\n",
       "  'DiseaseName': 'Complement Component 6 Deficiency',\n",
       "  'AltDiseaseIDs': 'DO:DOID:0060299|OMIM:612446',\n",
       "  'Synonyms': 'C6D|C6 Deficiency|C6 DEFICIENCY COMPLEMENT COMPONENT 6 DEFICIENCY, SUBTOTAL, INCLUDED|C6 DEFICIENCY, SUBTOTAL, INCLUDED'}]"
      ]
     },
     "execution_count": 250,
     "metadata": {},
     "output_type": "execute_result"
    }
   ],
   "source": [
    "get_disease_by_id(\"OMIM:612446\")"
   ]
  },
  {
   "cell_type": "code",
   "execution_count": 251,
   "metadata": {},
   "outputs": [
    {
     "data": {
      "text/plain": [
       "[{'DiseaseID': 'MESH:C566443',\n",
       "  'DiseaseName': 'Complement Component 7 Deficiency',\n",
       "  'AltDiseaseIDs': 'DO:DOID:0060300|OMIM:610102',\n",
       "  'Synonyms': 'C7D|C7 Deficiency'}]"
      ]
     },
     "execution_count": 251,
     "metadata": {},
     "output_type": "execute_result"
    }
   ],
   "source": [
    "get_disease_by_id(\"OMIM:610102\")"
   ]
  },
  {
   "cell_type": "markdown",
   "metadata": {},
   "source": [
    "Let us try to find them in a hierarchy of diseases.\n",
    "NB: We are using Neo4J Desktop application to browse the knowledge graph manually."
   ]
  },
  {
   "cell_type": "code",
   "execution_count": 228,
   "metadata": {},
   "outputs": [
    {
     "data": {
      "image/svg+xml": [
       "<svg xmlns=\"http://www.w3.org/2000/svg\" width=\"740.061279296875\" height=\"468.2431640625\" viewBox=\"-348.5627136230469 -251.67286682128906 740.061279296875 468.2431640625\"><title>Neo4j Graph Visualization</title><desc>Created using Neo4j (http://www.neo4j.com/)</desc><g class=\"layer relationships\"><g class=\"relationship\" transform=\"translate(362.49852752685547 -41.78704638707768) rotate(535.9016408380483)\"><path class=\"b-outline\" fill=\"#A5ABB6\" stroke=\"none\" d=\"M 25 0.5 L 202.32580086593242 0.5 L 202.32580086593242 -0.5 L 25 -0.5 Z M 288.9468946159324 0.5 L 466.27269548186484 0.5 L 466.27269548186484 3.5 L 473.27269548186484 0 L 466.27269548186484 -3.5 L 466.27269548186484 -0.5 L 288.9468946159324 -0.5 Z\"/><text text-anchor=\"middle\" pointer-events=\"none\" font-size=\"8px\" fill=\"#000000\" x=\"245.63634774093242\" y=\"3\" transform=\"rotate(180 245.63634774093242 0)\" font-family=\"Helvetica Neue, Helvetica, Arial, sans-serif\">SUB_CATEGORY_OF</text></g><g class=\"relationship\" transform=\"translate(-299.9045032738922 27.952046137420123) rotate(348.3416996891956)\"><path class=\"b-outline\" fill=\"#A5ABB6\" stroke=\"none\" d=\"M 25 0.5 L 37.633779457261326 0.5 L 37.633779457261326 -0.5 L 25 -0.5 Z M 124.25487320726133 0.5 L 136.88865266452265 0.5 L 136.88865266452265 3.5 L 143.88865266452265 0 L 136.88865266452265 -3.5 L 136.88865266452265 -0.5 L 124.25487320726133 -0.5 Z\"/><text text-anchor=\"middle\" pointer-events=\"none\" font-size=\"8px\" fill=\"#000000\" x=\"80.94432633226133\" y=\"3\" font-family=\"Helvetica Neue, Helvetica, Arial, sans-serif\">SUB_CATEGORY_OF</text></g><g class=\"relationship\" transform=\"translate(-251.84354068539525 113.82860611475203) rotate(314.3576332715245)\"><path class=\"b-outline\" fill=\"#A5ABB6\" stroke=\"none\" d=\"M 25 0.5 L 37.10998884044287 0.5 L 37.10998884044287 -0.5 L 25 -0.5 Z M 123.73108259044287 0.5 L 135.84107143088573 0.5 L 135.84107143088573 3.5 L 142.84107143088573 0 L 135.84107143088573 -3.5 L 135.84107143088573 -0.5 L 123.73108259044287 -0.5 Z\"/><text text-anchor=\"middle\" pointer-events=\"none\" font-size=\"8px\" fill=\"#000000\" x=\"80.42053571544287\" y=\"3\" font-family=\"Helvetica Neue, Helvetica, Arial, sans-serif\">SUB_CATEGORY_OF</text></g><g class=\"relationship\" transform=\"translate(-185.16216380295413 187.57032483769936) rotate(284.65399247357055)\"><path class=\"b-outline\" fill=\"#A5ABB6\" stroke=\"none\" d=\"M 25 0.5 L 53.3197614594158 0.5 L 53.3197614594158 -0.5 L 25 -0.5 Z M 139.94085520941582 0.5 L 168.2606166688316 0.5 L 168.2606166688316 3.5 L 175.2606166688316 0 L 168.2606166688316 -3.5 L 168.2606166688316 -0.5 L 139.94085520941582 -0.5 Z\"/><text text-anchor=\"middle\" pointer-events=\"none\" font-size=\"8px\" fill=\"#000000\" x=\"96.6303083344158\" y=\"3\" font-family=\"Helvetica Neue, Helvetica, Arial, sans-serif\">SUB_CATEGORY_OF</text></g><g class=\"relationship\" transform=\"translate(-88.0687065460204 167.62595424761972) rotate(255.0427048484563)\"><path class=\"b-outline\" fill=\"#A5ABB6\" stroke=\"none\" d=\"M 25 0.5 L 43.138054382374904 0.5 L 43.138054382374904 -0.5 L 25 -0.5 Z M 129.7591481323749 0.5 L 147.8972025147498 0.5 L 147.8972025147498 3.5 L 154.8972025147498 0 L 147.8972025147498 -3.5 L 147.8972025147498 -0.5 L 129.7591481323749 -0.5 Z\"/><text text-anchor=\"middle\" pointer-events=\"none\" font-size=\"8px\" fill=\"#000000\" x=\"86.4486012573749\" y=\"3\" transform=\"rotate(180 86.4486012573749 0)\" font-family=\"Helvetica Neue, Helvetica, Arial, sans-serif\">SUB_CATEGORY_OF</text></g><g class=\"relationship\" transform=\"translate(8.271021434472312 145.27929484154592) rotate(226.6906402804284)\"><path class=\"b-outline\" fill=\"#A5ABB6\" stroke=\"none\" d=\"M 25 0.5 L 57.25948674892649 0.5 L 57.25948674892649 -0.5 L 25 -0.5 Z M 143.8805804989265 0.5 L 176.14006724785298 0.5 L 176.14006724785298 3.5 L 183.14006724785298 0 L 176.14006724785298 -3.5 L 176.14006724785298 -0.5 L 143.8805804989265 -0.5 Z\"/><text text-anchor=\"middle\" pointer-events=\"none\" font-size=\"8px\" fill=\"#000000\" x=\"100.57003362392649\" y=\"3\" transform=\"rotate(180 100.57003362392649 0)\" font-family=\"Helvetica Neue, Helvetica, Arial, sans-serif\">SUB_CATEGORY_OF</text></g><g class=\"relationship\" transform=\"translate(-56.2942341324728 73.80253562762455) rotate(225.6421060417598)\"><path class=\"b-outline\" fill=\"#A5ABB6\" stroke=\"none\" d=\"M 25 0.5 L 27.275830947979117 0.5 L 27.275830947979117 -0.5 L 25 -0.5 Z M 77.58442469797912 0.5 L 79.86025564595823 0.5 L 79.86025564595823 3.5 L 86.86025564595823 0 L 79.86025564595823 -3.5 L 79.86025564595823 -0.5 L 77.58442469797912 -0.5 Z\"/><text text-anchor=\"middle\" pointer-events=\"none\" font-size=\"8px\" fill=\"#000000\" x=\"52.43012782297912\" y=\"3\" transform=\"rotate(180 52.43012782297912 0)\" font-family=\"Helvetica Neue, Helvetica, Arial, sans-serif\">SUB_CAT…</text></g><g class=\"relationship\" transform=\"translate(38.9041935822248 51.31327537907034) rotate(198.34209750991118)\"><path class=\"b-outline\" fill=\"#A5ABB6\" stroke=\"none\" d=\"M 25 0.5 L 44.5322654767826 0.5 L 44.5322654767826 -0.5 L 25 -0.5 Z M 131.15335922678258 0.5 L 150.6856247035652 0.5 L 150.6856247035652 3.5 L 157.6856247035652 0 L 150.6856247035652 -3.5 L 150.6856247035652 -0.5 L 131.15335922678258 -0.5 Z\"/><text text-anchor=\"middle\" pointer-events=\"none\" font-size=\"8px\" fill=\"#000000\" x=\"87.8428123517826\" y=\"3\" transform=\"rotate(180 87.8428123517826 0)\" font-family=\"Helvetica Neue, Helvetica, Arial, sans-serif\">SUB_CATEGORY_OF</text></g><g class=\"relationship\" transform=\"translate(-26.50249859847474 -22.13251104139919) rotate(531.5954453613633)\"><path class=\"b-outline\" fill=\"#A5ABB6\" stroke=\"none\" d=\"M 25 0.5 L 25.930657083231047 0.5 L 25.930657083231047 -0.5 L 25 -0.5 Z M 76.23925083323104 0.5 L 77.1699079164621 0.5 L 77.1699079164621 3.5 L 84.1699079164621 0 L 77.1699079164621 -3.5 L 77.1699079164621 -0.5 L 76.23925083323104 -0.5 Z\"/><text text-anchor=\"middle\" pointer-events=\"none\" font-size=\"8px\" fill=\"#000000\" x=\"51.08495395823105\" y=\"3\" transform=\"rotate(180 51.08495395823105 0)\" font-family=\"Helvetica Neue, Helvetica, Arial, sans-serif\">SUB_CAT…</text></g><g class=\"relationship\" transform=\"translate(309.22606557275583 -222.67286894435034) rotate(513.9919528655086)\"><path class=\"b-outline\" fill=\"#A5ABB6\" stroke=\"none\" d=\"M 25 0.5 L 200.0516067978667 0.5 L 200.0516067978667 -0.5 L 25 -0.5 Z M 286.6727005478667 0.5 L 461.7243073457334 0.5 L 461.7243073457334 3.5 L 468.7243073457334 0 L 461.7243073457334 -3.5 L 461.7243073457334 -0.5 L 286.6727005478667 -0.5 Z\"/><text text-anchor=\"middle\" pointer-events=\"none\" font-size=\"8px\" fill=\"#000000\" x=\"243.3621536728667\" y=\"3\" transform=\"rotate(180 243.3621536728667 0)\" font-family=\"Helvetica Neue, Helvetica, Arial, sans-serif\">SUB_CATEGORY_OF</text></g><g class=\"relationship\" transform=\"translate(67.51319102234734 -43.8281542890385) rotate(529.442107768635)\"><path class=\"b-outline\" fill=\"#A5ABB6\" stroke=\"none\" d=\"M 25 0.5 L 55.93551134469068 0.5 L 55.93551134469068 -0.5 L 25 -0.5 Z M 142.55660509469067 0.5 L 173.49211643938136 0.5 L 173.49211643938136 3.5 L 180.49211643938136 0 L 173.49211643938136 -3.5 L 173.49211643938136 -0.5 L 142.55660509469067 -0.5 Z\"/><text text-anchor=\"middle\" pointer-events=\"none\" font-size=\"8px\" fill=\"#000000\" x=\"99.24605821969068\" y=\"3\" transform=\"rotate(180 99.24605821969068 0)\" font-family=\"Helvetica Neue, Helvetica, Arial, sans-serif\">SUB_CATEGORY_OF</text></g><g class=\"relationship\" transform=\"translate(2.3314826163149704 -116.68185219948053) rotate(501.0754820126286)\"><path class=\"b-outline\" fill=\"#A5ABB6\" stroke=\"none\" d=\"M 25 0.5 L 41.130322211517466 0.5 L 41.130322211517466 -0.5 L 25 -0.5 Z M 127.75141596151747 0.5 L 143.88173817303493 0.5 L 143.88173817303493 3.5 L 150.88173817303493 0 L 143.88173817303493 -3.5 L 143.88173817303493 -0.5 L 127.75141596151747 -0.5 Z\"/><text text-anchor=\"middle\" pointer-events=\"none\" font-size=\"8px\" fill=\"#000000\" x=\"84.44086908651747\" y=\"3\" transform=\"rotate(180 84.44086908651747 0)\" font-family=\"Helvetica Neue, Helvetica, Arial, sans-serif\">SUB_CATEGORY_OF</text></g><g class=\"relationship\" transform=\"translate(-77.62531690576972 -174.38962160747707) rotate(468.68090761011683)\"><path class=\"b-outline\" fill=\"#A5ABB6\" stroke=\"none\" d=\"M 25 0.5 L 41.97364868778608 0.5 L 41.97364868778608 -0.5 L 25 -0.5 Z M 128.59474243778607 0.5 L 145.56839112557216 0.5 L 145.56839112557216 3.5 L 152.56839112557216 0 L 145.56839112557216 -3.5 L 145.56839112557216 -0.5 L 128.59474243778607 -0.5 Z\"/><text text-anchor=\"middle\" pointer-events=\"none\" font-size=\"8px\" fill=\"#000000\" x=\"85.28419556278608\" y=\"3\" transform=\"rotate(180 85.28419556278608 0)\" font-family=\"Helvetica Neue, Helvetica, Arial, sans-serif\">SUB_CATEGORY_OF</text></g><g class=\"relationship\" transform=\"translate(-172.84448802362468 -203.45861375582885) rotate(439.0009393824645)\"><path class=\"b-outline\" fill=\"#A5ABB6\" stroke=\"none\" d=\"M 25 0.5 L 53.676650945183496 0.5 L 53.676650945183496 -0.5 L 25 -0.5 Z M 140.2977446951835 0.5 L 168.974395640367 0.5 L 168.974395640367 3.5 L 175.974395640367 0 L 168.974395640367 -3.5 L 168.974395640367 -0.5 L 140.2977446951835 -0.5 Z\"/><text text-anchor=\"middle\" pointer-events=\"none\" font-size=\"8px\" fill=\"#000000\" x=\"96.9871978201835\" y=\"3\" font-family=\"Helvetica Neue, Helvetica, Arial, sans-serif\">SUB_CATEGORY_OF</text></g><g class=\"relationship\" transform=\"translate(-151.91450776318516 -109.51405314590734) rotate(440.4343970070116)\"><path class=\"b-outline\" fill=\"#A5ABB6\" stroke=\"none\" d=\"M 25 0.5 L 25.891676149772145 0.5 L 25.891676149772145 -0.5 L 25 -0.5 Z M 71.90339489977214 0.5 L 72.79507104954429 0.5 L 72.79507104954429 3.5 L 79.79507104954429 0 L 72.79507104954429 -3.5 L 72.79507104954429 -0.5 L 71.90339489977214 -0.5 Z\"/><text text-anchor=\"middle\" pointer-events=\"none\" font-size=\"8px\" fill=\"#000000\" x=\"48.897535524772145\" y=\"3\" font-family=\"Helvetica Neue, Helvetica, Arial, sans-serif\">SUB_CA…</text></g><g class=\"relationship\" transform=\"translate(-134.5 -6.176055121729419) rotate(229.462276513113)\"><path class=\"b-outline\" fill=\"#A5ABB6\" stroke=\"none\" d=\"M 25 0.5 L 39.192998926559 0.5 L 39.192998926559 -0.5 L 25 -0.5 Z M 125.814092676559 0.5 L 140.007091603118 0.5 L 140.007091603118 3.5 L 147.007091603118 0 L 140.007091603118 -3.5 L 140.007091603118 -0.5 L 125.814092676559 -0.5 Z\"/><text text-anchor=\"middle\" pointer-events=\"none\" font-size=\"8px\" fill=\"#000000\" x=\"82.503545801559\" y=\"3\" transform=\"rotate(180 82.503545801559 0)\" font-family=\"Helvetica Neue, Helvetica, Arial, sans-serif\">SUB_CATEGORY_OF</text></g><g class=\"relationship\" transform=\"translate(-154.54220234784626 96.16835452568873) rotate(281.0800673783091)\"><path class=\"b-outline\" fill=\"#A5ABB6\" stroke=\"none\" d=\"M 25 0.5 L 25.63833507901029 0.5 L 25.63833507901029 -0.5 L 25 -0.5 Z M 71.65005382901029 0.5 L 72.28838890802058 0.5 L 72.28838890802058 3.5 L 79.28838890802058 0 L 72.28838890802058 -3.5 L 72.28838890802058 -0.5 L 71.65005382901029 -0.5 Z\"/><text text-anchor=\"middle\" pointer-events=\"none\" font-size=\"8px\" fill=\"#000000\" x=\"48.64419445401029\" y=\"3\" font-family=\"Helvetica Neue, Helvetica, Arial, sans-serif\">SUB_CA…</text></g><g class=\"relationship\" transform=\"translate(-228.23353452155905 -39.76472793540261) rotate(379.7147403073006)\"><path class=\"b-outline\" fill=\"#A5ABB6\" stroke=\"none\" d=\"M 25 0.5 L 25.94708310023232 0.5 L 25.94708310023232 -0.5 L 25 -0.5 Z M 66.62286435023232 0.5 L 67.56994745046464 0.5 L 67.56994745046464 3.5 L 74.56994745046464 0 L 67.56994745046464 -3.5 L 67.56994745046464 -0.5 L 66.62286435023232 -0.5 Z\"/><text text-anchor=\"middle\" pointer-events=\"none\" font-size=\"8px\" fill=\"#000000\" x=\"46.28497372523232\" y=\"3\" font-family=\"Helvetica Neue, Helvetica, Arial, sans-serif\">SUB_C…</text></g><g class=\"relationship\" transform=\"translate(-319.562714590532 -69.13458563553822) rotate(378.78835845144846)\"><path class=\"b-outline\" fill=\"#A5ABB6\" stroke=\"none\" d=\"M 25 0.5 L 50.928883366938294 0.5 L 50.928883366938294 -0.5 L 25 -0.5 Z M 137.5499771169383 0.5 L 163.4788604838766 0.5 L 163.4788604838766 3.5 L 170.4788604838766 0 L 163.4788604838766 -3.5 L 163.4788604838766 -0.5 L 137.5499771169383 -0.5 Z\"/><text text-anchor=\"middle\" pointer-events=\"none\" font-size=\"8px\" fill=\"#000000\" x=\"94.2394302419383\" y=\"3\" font-family=\"Helvetica Neue, Helvetica, Arial, sans-serif\">SUB_CATEGORY_OF</text></g></g><g class=\"layer nodes\"><g class=\"node\" aria-label=\"graph-node2876\" transform=\"translate(362.49852752685547,-41.78704638707768)\"><circle class=\"b-outline\" cx=\"0\" cy=\"0\" r=\"25\" fill=\"#C990C0\" stroke=\"#b261a5\" stroke-width=\"2px\"/><text class=\"caption\" text-anchor=\"middle\" pointer-events=\"none\" x=\"0\" y=\"5\" font-size=\"10px\" fill=\"#FFFFFF\" font-family=\"Helvetica Neue, Helvetica, Arial, sans-serif\"> Comple…</text></g><g class=\"node\" aria-label=\"graph-node5714\" transform=\"translate(-134.5,-6.176055121729419)\"><circle class=\"b-outline\" cx=\"0\" cy=\"0\" r=\"25\" fill=\"#C990C0\" stroke=\"#b261a5\" stroke-width=\"2px\"/><text class=\"caption\" text-anchor=\"middle\" pointer-events=\"none\" x=\"0\" y=\"0\" font-size=\"10px\" fill=\"#FFFFFF\" font-family=\"Helvetica Neue, Helvetica, Arial, sans-serif\"> Hereditary</text><text class=\"caption\" text-anchor=\"middle\" pointer-events=\"none\" x=\"0\" y=\"10\" font-size=\"10px\" fill=\"#FFFFFF\" font-family=\"Helvetica Neue, Helvetica, Arial, sans-serif\"> Compl…</text></g><g class=\"node\" aria-label=\"graph-node723\" transform=\"translate(-299.9045032738922,27.952046137420123)\"><circle class=\"b-outline\" cx=\"0\" cy=\"0\" r=\"25\" fill=\"#C990C0\" stroke=\"#b261a5\" stroke-width=\"2px\"/><text class=\"caption\" text-anchor=\"middle\" pointer-events=\"none\" x=\"0\" y=\"5\" font-size=\"10px\" fill=\"#FFFFFF\" font-family=\"Helvetica Neue, Helvetica, Arial, sans-serif\"> Angioed…</text></g><g class=\"node\" aria-label=\"graph-node1710\" transform=\"translate(-251.84354068539525,113.82860611475203)\"><circle class=\"b-outline\" cx=\"0\" cy=\"0\" r=\"25\" fill=\"#C990C0\" stroke=\"#b261a5\" stroke-width=\"2px\"/><text class=\"caption\" text-anchor=\"middle\" pointer-events=\"none\" x=\"0\" y=\"0\" font-size=\"10px\" fill=\"#FFFFFF\" font-family=\"Helvetica Neue, Helvetica, Arial, sans-serif\"> C6</text><text class=\"caption\" text-anchor=\"middle\" pointer-events=\"none\" x=\"0\" y=\"10\" font-size=\"10px\" fill=\"#FFFFFF\" font-family=\"Helvetica Neue, Helvetica, Arial, sans-serif\"> Defici…</text></g><g class=\"node\" aria-label=\"graph-node1711\" transform=\"translate(-185.16216380295413,187.57032483769936)\"><circle class=\"b-outline\" cx=\"0\" cy=\"0\" r=\"25\" fill=\"#C990C0\" stroke=\"#b261a5\" stroke-width=\"2px\"/><text class=\"caption\" text-anchor=\"middle\" pointer-events=\"none\" x=\"0\" y=\"0\" font-size=\"10px\" fill=\"#FFFFFF\" font-family=\"Helvetica Neue, Helvetica, Arial, sans-serif\"> C9</text><text class=\"caption\" text-anchor=\"middle\" pointer-events=\"none\" x=\"0\" y=\"10\" font-size=\"10px\" fill=\"#FFFFFF\" font-family=\"Helvetica Neue, Helvetica, Arial, sans-serif\"> Defici…</text></g><g class=\"node\" aria-label=\"graph-node1712\" transform=\"translate(-88.0687065460204,167.62595424761972)\"><circle class=\"b-outline\" cx=\"0\" cy=\"0\" r=\"25\" fill=\"#C990C0\" stroke=\"#b261a5\" stroke-width=\"2px\"/><text class=\"caption\" text-anchor=\"middle\" pointer-events=\"none\" x=\"0\" y=\"-5\" font-size=\"10px\" fill=\"#FFFFFF\" font-family=\"Helvetica Neue, Helvetica, Arial, sans-serif\"> C9</text><text class=\"caption\" text-anchor=\"middle\" pointer-events=\"none\" x=\"0\" y=\"5\" font-size=\"10px\" fill=\"#FFFFFF\" font-family=\"Helvetica Neue, Helvetica, Arial, sans-serif\"> Deficiency</text><text class=\"caption\" text-anchor=\"middle\" pointer-events=\"none\" x=\"0\" y=\"15\" font-size=\"10px\" fill=\"#FFFFFF\" font-family=\"Helvetica Neue, Helvetica, Arial, sans-serif\"> with </text></g><g class=\"node\" aria-label=\"graph-node2871\" transform=\"translate(8.271021434472312,145.27929484154592)\"><circle class=\"b-outline\" cx=\"0\" cy=\"0\" r=\"25\" fill=\"#C990C0\" stroke=\"#b261a5\" stroke-width=\"2px\"/><text class=\"caption\" text-anchor=\"middle\" pointer-events=\"none\" x=\"0\" y=\"5\" font-size=\"10px\" fill=\"#FFFFFF\" font-family=\"Helvetica Neue, Helvetica, Arial, sans-serif\"> Comple…</text></g><g class=\"node\" aria-label=\"graph-node2872\" transform=\"translate(-56.2942341324728,73.80253562762455)\"><circle class=\"b-outline\" cx=\"0\" cy=\"0\" r=\"25\" fill=\"#C990C0\" stroke=\"#b261a5\" stroke-width=\"2px\"/><text class=\"caption\" text-anchor=\"middle\" pointer-events=\"none\" x=\"0\" y=\"5\" font-size=\"10px\" fill=\"#FFFFFF\" font-family=\"Helvetica Neue, Helvetica, Arial, sans-serif\"> Comple…</text></g><g class=\"node\" aria-label=\"graph-node2874\" transform=\"translate(38.9041935822248,51.31327537907034)\"><circle class=\"b-outline\" cx=\"0\" cy=\"0\" r=\"25\" fill=\"#C990C0\" stroke=\"#b261a5\" stroke-width=\"2px\"/><text class=\"caption\" text-anchor=\"middle\" pointer-events=\"none\" x=\"0\" y=\"5\" font-size=\"10px\" fill=\"#FFFFFF\" font-family=\"Helvetica Neue, Helvetica, Arial, sans-serif\"> Comple…</text></g><g class=\"node\" aria-label=\"graph-node2875\" transform=\"translate(-26.50249859847474,-22.13251104139919)\"><circle class=\"b-outline\" cx=\"0\" cy=\"0\" r=\"25\" fill=\"#C990C0\" stroke=\"#b261a5\" stroke-width=\"2px\"/><text class=\"caption\" text-anchor=\"middle\" pointer-events=\"none\" x=\"0\" y=\"5\" font-size=\"10px\" fill=\"#FFFFFF\" font-family=\"Helvetica Neue, Helvetica, Arial, sans-serif\"> Comple…</text></g><g class=\"node\" aria-label=\"graph-node2877\" transform=\"translate(309.22606557275583,-222.67286894435034)\"><circle class=\"b-outline\" cx=\"0\" cy=\"0\" r=\"25\" fill=\"#C990C0\" stroke=\"#b261a5\" stroke-width=\"2px\"/><text class=\"caption\" text-anchor=\"middle\" pointer-events=\"none\" x=\"0\" y=\"5\" font-size=\"10px\" fill=\"#FFFFFF\" font-family=\"Helvetica Neue, Helvetica, Arial, sans-serif\"> Comple…</text></g><g class=\"node\" aria-label=\"graph-node2881\" transform=\"translate(67.51319102234734,-43.8281542890385)\"><circle class=\"b-outline\" cx=\"0\" cy=\"0\" r=\"25\" fill=\"#C990C0\" stroke=\"#b261a5\" stroke-width=\"2px\"/><text class=\"caption\" text-anchor=\"middle\" pointer-events=\"none\" x=\"0\" y=\"5\" font-size=\"10px\" fill=\"#FFFFFF\" font-family=\"Helvetica Neue, Helvetica, Arial, sans-serif\"> Comple…</text></g><g class=\"node\" aria-label=\"graph-node2883\" transform=\"translate(2.3314826163149704,-116.68185219948053)\"><circle class=\"b-outline\" cx=\"0\" cy=\"0\" r=\"25\" fill=\"#C990C0\" stroke=\"#b261a5\" stroke-width=\"2px\"/><text class=\"caption\" text-anchor=\"middle\" pointer-events=\"none\" x=\"0\" y=\"5\" font-size=\"10px\" fill=\"#FFFFFF\" font-family=\"Helvetica Neue, Helvetica, Arial, sans-serif\"> Comple…</text></g><g class=\"node\" aria-label=\"graph-node2884\" transform=\"translate(-77.62531690576972,-174.38962160747707)\"><circle class=\"b-outline\" cx=\"0\" cy=\"0\" r=\"25\" fill=\"#C990C0\" stroke=\"#b261a5\" stroke-width=\"2px\"/><text class=\"caption\" text-anchor=\"middle\" pointer-events=\"none\" x=\"0\" y=\"5\" font-size=\"10px\" fill=\"#FFFFFF\" font-family=\"Helvetica Neue, Helvetica, Arial, sans-serif\"> Comple…</text></g><g class=\"node\" aria-label=\"graph-node2885\" transform=\"translate(-172.84448802362468,-203.45861375582885)\"><circle class=\"b-outline\" cx=\"0\" cy=\"0\" r=\"25\" fill=\"#C990C0\" stroke=\"#b261a5\" stroke-width=\"2px\"/><text class=\"caption\" text-anchor=\"middle\" pointer-events=\"none\" x=\"0\" y=\"5\" font-size=\"10px\" fill=\"#FFFFFF\" font-family=\"Helvetica Neue, Helvetica, Arial, sans-serif\"> Comple…</text></g><g class=\"node\" aria-label=\"graph-node7710\" transform=\"translate(-151.91450776318516,-109.51405314590734)\"><circle class=\"b-outline\" cx=\"0\" cy=\"0\" r=\"25\" fill=\"#C990C0\" stroke=\"#b261a5\" stroke-width=\"2px\"/><text class=\"caption\" text-anchor=\"middle\" pointer-events=\"none\" x=\"0\" y=\"0\" font-size=\"10px\" fill=\"#FFFFFF\" font-family=\"Helvetica Neue, Helvetica, Arial, sans-serif\"> MASP2</text><text class=\"caption\" text-anchor=\"middle\" pointer-events=\"none\" x=\"0\" y=\"10\" font-size=\"10px\" fill=\"#FFFFFF\" font-family=\"Helvetica Neue, Helvetica, Arial, sans-serif\"> Defici…</text></g><g class=\"node\" aria-label=\"graph-node10447\" transform=\"translate(-246.29576116975693,-136.8976958176681)\"><circle class=\"b-outline\" cx=\"0\" cy=\"0\" r=\"25\" fill=\"#C990C0\" stroke=\"#b261a5\" stroke-width=\"2px\"/><text class=\"caption\" text-anchor=\"middle\" pointer-events=\"none\" x=\"0\" y=\"0\" font-size=\"10px\" fill=\"#FFFFFF\" font-family=\"Helvetica Neue, Helvetica, Arial, sans-serif\"> Primary</text><text class=\"caption\" text-anchor=\"middle\" pointer-events=\"none\" x=\"0\" y=\"10\" font-size=\"10px\" fill=\"#FFFFFF\" font-family=\"Helvetica Neue, Helvetica, Arial, sans-serif\"> Immu…</text></g><g class=\"node\" aria-label=\"graph-node10501\" transform=\"translate(-154.54220234784626,96.16835452568873)\"><circle class=\"b-outline\" cx=\"0\" cy=\"0\" r=\"25\" fill=\"#C990C0\" stroke=\"#b261a5\" stroke-width=\"2px\"/><text class=\"caption\" text-anchor=\"middle\" pointer-events=\"none\" x=\"0\" y=\"0\" font-size=\"10px\" fill=\"#FFFFFF\" font-family=\"Helvetica Neue, Helvetica, Arial, sans-serif\"> Properdin</text><text class=\"caption\" text-anchor=\"middle\" pointer-events=\"none\" x=\"0\" y=\"10\" font-size=\"10px\" fill=\"#FFFFFF\" font-family=\"Helvetica Neue, Helvetica, Arial, sans-serif\"> Defici…</text></g><g class=\"node\" aria-label=\"graph-node10502\" transform=\"translate(-228.23353452155905,-39.76472793540261)\"><circle class=\"b-outline\" cx=\"0\" cy=\"0\" r=\"25\" fill=\"#C990C0\" stroke=\"#b261a5\" stroke-width=\"2px\"/><text class=\"caption\" text-anchor=\"middle\" pointer-events=\"none\" x=\"0\" y=\"0\" font-size=\"10px\" fill=\"#FFFFFF\" font-family=\"Helvetica Neue, Helvetica, Arial, sans-serif\"> Properdin</text><text class=\"caption\" text-anchor=\"middle\" pointer-events=\"none\" x=\"0\" y=\"10\" font-size=\"10px\" fill=\"#FFFFFF\" font-family=\"Helvetica Neue, Helvetica, Arial, sans-serif\"> Defici…</text></g><g class=\"node\" aria-label=\"graph-node10503\" transform=\"translate(-319.562714590532,-69.13458563553822)\"><circle class=\"b-outline\" cx=\"0\" cy=\"0\" r=\"25\" fill=\"#C990C0\" stroke=\"#b261a5\" stroke-width=\"2px\"/><text class=\"caption\" text-anchor=\"middle\" pointer-events=\"none\" x=\"0\" y=\"0\" font-size=\"10px\" fill=\"#FFFFFF\" font-family=\"Helvetica Neue, Helvetica, Arial, sans-serif\"> Properdin</text><text class=\"caption\" text-anchor=\"middle\" pointer-events=\"none\" x=\"0\" y=\"10\" font-size=\"10px\" fill=\"#FFFFFF\" font-family=\"Helvetica Neue, Helvetica, Arial, sans-serif\"> deficie…</text></g></g></svg>"
      ],
      "text/plain": [
       "<IPython.core.display.SVG object>"
      ]
     },
     "metadata": {},
     "output_type": "display_data"
    }
   ],
   "source": [
    "display(SVG(filename='./media/svg/Fig_1_combined_C6_and_C7_deficiencies.svg'))"
   ]
  },
  {
   "cell_type": "markdown",
   "metadata": {},
   "source": [
    "As we can see, both disease are part of the larger group - \"Hereditary Complement Deficiency Diseases\" (MESH:D000081208\n",
    "). Let us try to identify where the predicted diseases from the fulltext and vector indices are."
   ]
  },
  {
   "cell_type": "code",
   "execution_count": 230,
   "metadata": {},
   "outputs": [
    {
     "data": {
      "image/svg+xml": [
       "<svg xmlns=\"http://www.w3.org/2000/svg\" width=\"912.5759887695312\" height=\"784.886962890625\" viewBox=\"-654.3320922851562 -503.1206970214844 912.5759887695312 784.886962890625\"><title>Neo4j Graph Visualization</title><desc>Created using Neo4j (http://www.neo4j.com/)</desc><g class=\"layer relationships\"><g class=\"relationship\" transform=\"translate(227.30322074890137 -318.82995649014646) rotate(539.3892157596349)\"><path class=\"b-outline\" fill=\"#A5ABB6\" stroke=\"none\" d=\"M 25 0.5 L 184.6700154118637 0.5 L 184.6700154118637 -0.5 L 25 -0.5 Z M 271.2911091618637 0.5 L 430.9611245737274 0.5 L 430.9611245737274 3.5 L 437.9611245737274 0 L 430.9611245737274 -3.5 L 430.9611245737274 -0.5 L 271.2911091618637 -0.5 Z\"/><text text-anchor=\"middle\" pointer-events=\"none\" font-size=\"8px\" fill=\"#000000\" x=\"227.9805622868637\" y=\"3\" transform=\"rotate(180 227.9805622868637 0)\" font-family=\"Helvetica Neue, Helvetica, Arial, sans-serif\">SUB_CATEGORY_OF</text></g><g class=\"relationship\" transform=\"translate(229.24388790130604 41.84894913062743) rotate(539.5960406711288)\"><path class=\"b-outline\" fill=\"#A5ABB6\" stroke=\"none\" d=\"M 25 0.5 L 181.2993629271749 0.5 L 181.2993629271749 -0.5 L 25 -0.5 Z M 267.9204566771749 0.5 L 424.2198196043498 0.5 L 424.2198196043498 3.5 L 431.2198196043498 0 L 424.2198196043498 -3.5 L 424.2198196043498 -0.5 L 267.9204566771749 -0.5 Z\"/><text text-anchor=\"middle\" pointer-events=\"none\" font-size=\"8px\" fill=\"#000000\" x=\"224.6099098021749\" y=\"3\" transform=\"rotate(180 224.6099098021749 0)\" font-family=\"Helvetica Neue, Helvetica, Arial, sans-serif\">SUB_CATEGORY_OF</text></g><g class=\"relationship\" transform=\"translate(-230.7705941243281 238.3528850220226) rotate(271.128059116187)\"><path class=\"b-outline\" fill=\"#A5ABB6\" stroke=\"none\" d=\"M 25 0.5 L 49.851897721368175 0.5 L 49.851897721368175 -0.5 L 25 -0.5 Z M 136.47299147136818 0.5 L 161.32488919273635 0.5 L 161.32488919273635 3.5 L 168.32488919273635 0 L 161.32488919273635 -3.5 L 161.32488919273635 -0.5 L 136.47299147136818 -0.5 Z\"/><text text-anchor=\"middle\" pointer-events=\"none\" font-size=\"8px\" fill=\"#000000\" x=\"93.16244459636818\" y=\"3\" font-family=\"Helvetica Neue, Helvetica, Arial, sans-serif\">SUB_CATEGORY_OF</text></g><g class=\"relationship\" transform=\"translate(-168.86395870792896 161.52506857971468) rotate(243.48580991378924)\"><path class=\"b-outline\" fill=\"#A5ABB6\" stroke=\"none\" d=\"M 25 0.5 L 27.52911899877364 0.5 L 27.52911899877364 -0.5 L 25 -0.5 Z M 95.61896274877364 0.5 L 98.14808174754728 0.5 L 98.14808174754728 3.5 L 105.14808174754728 0 L 98.14808174754728 -3.5 L 98.14808174754728 -0.5 L 95.61896274877364 -0.5 Z\"/><text text-anchor=\"middle\" pointer-events=\"none\" font-size=\"8px\" fill=\"#000000\" x=\"61.57404087377364\" y=\"3\" transform=\"rotate(180 61.57404087377364 0)\" font-family=\"Helvetica Neue, Helvetica, Arial, sans-serif\">SUB_CATEGO…</text></g><g class=\"relationship\" transform=\"translate(-136.00629682061947 252.7662456090932) rotate(246.34997130433726)\"><path class=\"b-outline\" fill=\"#A5ABB6\" stroke=\"none\" d=\"M 25 0.5 L 66.56165683097328 0.5 L 66.56165683097328 -0.5 L 25 -0.5 Z M 153.18275058097328 0.5 L 194.74440741194655 0.5 L 194.74440741194655 3.5 L 201.74440741194655 0 L 194.74440741194655 -3.5 L 194.74440741194655 -0.5 L 153.18275058097328 -0.5 Z\"/><text text-anchor=\"middle\" pointer-events=\"none\" font-size=\"8px\" fill=\"#000000\" x=\"109.87220370597328\" y=\"3\" transform=\"rotate(180 109.87220370597328 0)\" font-family=\"Helvetica Neue, Helvetica, Arial, sans-serif\">SUB_CATEGORY_OF</text></g><g class=\"relationship\" transform=\"translate(-72.23975933412888 180.54032179967135) rotate(221.2049273363907)\"><path class=\"b-outline\" fill=\"#A5ABB6\" stroke=\"none\" d=\"M 25 0.5 L 56.01601971034536 0.5 L 56.01601971034536 -0.5 L 25 -0.5 Z M 142.63711346034535 0.5 L 173.65313317069072 0.5 L 173.65313317069072 3.5 L 180.65313317069072 0 L 173.65313317069072 -3.5 L 173.65313317069072 -0.5 L 142.63711346034535 -0.5 Z\"/><text text-anchor=\"middle\" pointer-events=\"none\" font-size=\"8px\" fill=\"#000000\" x=\"99.32656658534536\" y=\"3\" transform=\"rotate(180 99.32656658534536 0)\" font-family=\"Helvetica Neue, Helvetica, Arial, sans-serif\">SUB_CATEGORY_OF</text></g><g class=\"relationship\" transform=\"translate(-7.485187894900525 106.03240321993411) rotate(195.52421712118291)\"><path class=\"b-outline\" fill=\"#A5ABB6\" stroke=\"none\" d=\"M 25 0.5 L 67.08433541031704 0.5 L 67.08433541031704 -0.5 L 25 -0.5 Z M 153.70542916031704 0.5 L 195.78976457063408 0.5 L 195.78976457063408 3.5 L 202.78976457063408 0 L 195.78976457063408 -3.5 L 195.78976457063408 -0.5 L 153.70542916031704 -0.5 Z\"/><text text-anchor=\"middle\" pointer-events=\"none\" font-size=\"8px\" fill=\"#000000\" x=\"110.39488228531704\" y=\"3\" transform=\"rotate(180 110.39488228531704 0)\" font-family=\"Helvetica Neue, Helvetica, Arial, sans-serif\">SUB_CATEGORY_OF</text></g><g class=\"relationship\" transform=\"translate(-36.98337433601957 13.217153681857614) rotate(530.4834671290391)\"><path class=\"b-outline\" fill=\"#A5ABB6\" stroke=\"none\" d=\"M 25 0.5 L 49.50557096668847 0.5 L 49.50557096668847 -0.5 L 25 -0.5 Z M 136.12666471668848 0.5 L 160.63223568337693 0.5 L 160.63223568337693 3.5 L 167.63223568337693 0 L 160.63223568337693 -3.5 L 160.63223568337693 -0.5 L 136.12666471668848 -0.5 Z\"/><text text-anchor=\"middle\" pointer-events=\"none\" font-size=\"8px\" fill=\"#000000\" x=\"92.81611784168847\" y=\"3\" transform=\"rotate(180 92.81611784168847 0)\" font-family=\"Helvetica Neue, Helvetica, Arial, sans-serif\">SUB_CATEGORY_OF</text></g><g class=\"relationship\" transform=\"translate(-70.10195261232043 -80.58134738924302) rotate(501.30530868977803)\"><path class=\"b-outline\" fill=\"#A5ABB6\" stroke=\"none\" d=\"M 25 0.5 L 53.67951368042023 0.5 L 53.67951368042023 -0.5 L 25 -0.5 Z M 140.30060743042023 0.5 L 168.98012111084046 0.5 L 168.98012111084046 3.5 L 175.98012111084046 0 L 168.98012111084046 -3.5 L 168.98012111084046 -0.5 L 140.30060743042023 -0.5 Z\"/><text text-anchor=\"middle\" pointer-events=\"none\" font-size=\"8px\" fill=\"#000000\" x=\"96.99006055542023\" y=\"3\" transform=\"rotate(180 96.99006055542023 0)\" font-family=\"Helvetica Neue, Helvetica, Arial, sans-serif\">SUB_CATEGORY_OF</text></g><g class=\"relationship\" transform=\"translate(-132.71178872830745 -7.155423604007891) rotate(511.0112986897581)\"><path class=\"b-outline\" fill=\"#A5ABB6\" stroke=\"none\" d=\"M 25 0.5 L 25.221978442519344 0.5 L 25.221978442519344 -0.5 L 25 -0.5 Z M 75.53057219251934 0.5 L 75.75255063503869 0.5 L 75.75255063503869 3.5 L 82.75255063503869 0 L 75.75255063503869 -3.5 L 75.75255063503869 -0.5 L 75.53057219251934 -0.5 Z\"/><text text-anchor=\"middle\" pointer-events=\"none\" font-size=\"8px\" fill=\"#000000\" x=\"50.376275317519344\" y=\"3\" transform=\"rotate(180 50.376275317519344 0)\" font-family=\"Helvetica Neue, Helvetica, Arial, sans-serif\">SUB_CAT…</text></g><g class=\"relationship\" transform=\"translate(-265.9870456594059 -96.19376108561991) rotate(434.55733953096103)\"><path class=\"b-outline\" fill=\"#A5ABB6\" stroke=\"none\" d=\"M 25 0.5 L 26.464483821995344 0.5 L 26.464483821995344 -0.5 L 25 -0.5 Z M 113.08557757199534 0.5 L 114.55006139399069 0.5 L 114.55006139399069 3.5 L 121.55006139399069 0 L 114.55006139399069 -3.5 L 114.55006139399069 -0.5 L 113.08557757199534 -0.5 Z\"/><text text-anchor=\"middle\" pointer-events=\"none\" font-size=\"8px\" fill=\"#000000\" x=\"69.77503069699534\" y=\"3\" font-family=\"Helvetica Neue, Helvetica, Arial, sans-serif\">SUB_CATEGORY_OF</text></g><g class=\"relationship\" transform=\"translate(-167.03157297816838 -98.61125208253326) rotate(472.64287223730673)\"><path class=\"b-outline\" fill=\"#A5ABB6\" stroke=\"none\" d=\"M 25 0.5 L 31.02737061681941 0.5 L 31.02737061681941 -0.5 L 25 -0.5 Z M 117.64846436681941 0.5 L 123.67583498363882 0.5 L 123.67583498363882 3.5 L 130.67583498363882 0 L 123.67583498363882 -3.5 L 123.67583498363882 -0.5 L 117.64846436681941 -0.5 Z\"/><text text-anchor=\"middle\" pointer-events=\"none\" font-size=\"8px\" fill=\"#000000\" x=\"74.33791749181941\" y=\"3\" transform=\"rotate(180 74.33791749181941 0)\" font-family=\"Helvetica Neue, Helvetica, Arial, sans-serif\">SUB_CATEGORY_OF</text></g><g class=\"relationship\" transform=\"translate(-352.6144324048805 -50.10383619290994) rotate(397.1408998940773)\"><path class=\"b-outline\" fill=\"#A5ABB6\" stroke=\"none\" d=\"M 25 0.5 L 32.00106060749846 0.5 L 32.00106060749846 -0.5 L 25 -0.5 Z M 118.62215435749846 0.5 L 125.62321496499692 0.5 L 125.62321496499692 3.5 L 132.62321496499692 0 L 125.62321496499692 -3.5 L 125.62321496499692 -0.5 L 118.62215435749846 -0.5 Z\"/><text text-anchor=\"middle\" pointer-events=\"none\" font-size=\"8px\" fill=\"#000000\" x=\"75.31160748249846\" y=\"3\" font-family=\"Helvetica Neue, Helvetica, Arial, sans-serif\">SUB_CATEGORY_OF</text></g><g class=\"relationship\" transform=\"translate(-266.53707898504877 147.74349663993115) rotate(291.07684363248455)\"><path class=\"b-outline\" fill=\"#A5ABB6\" stroke=\"none\" d=\"M 25 0.5 L 26.365608744632226 0.5 L 26.365608744632226 -0.5 L 25 -0.5 Z M 76.67420249463223 0.5 L 78.03981123926445 0.5 L 78.03981123926445 3.5 L 85.03981123926445 0 L 78.03981123926445 -3.5 L 78.03981123926445 -0.5 L 76.67420249463223 -0.5 Z\"/><text text-anchor=\"middle\" pointer-events=\"none\" font-size=\"8px\" fill=\"#000000\" x=\"51.519905619632226\" y=\"3\" font-family=\"Helvetica Neue, Helvetica, Arial, sans-serif\">SUB_CAT…</text></g><g class=\"relationship\" transform=\"translate(-426.5636043474394 217.49505297645763) rotate(319.1769222880092)\"><path class=\"b-outline\" fill=\"#A5ABB6\" stroke=\"none\" d=\"M 25 0.5 L 85.07171935877693 0.5 L 85.07171935877693 -0.5 L 25 -0.5 Z M 171.69281310877693 0.5 L 231.76453246755386 0.5 L 231.76453246755386 3.5 L 238.76453246755386 0 L 231.76453246755386 -3.5 L 231.76453246755386 -0.5 L 171.69281310877693 -0.5 Z\"/><text text-anchor=\"middle\" pointer-events=\"none\" font-size=\"8px\" fill=\"#000000\" x=\"128.38226623377693\" y=\"3\" font-family=\"Helvetica Neue, Helvetica, Arial, sans-serif\">SUB_CATEGORY_OF</text></g><g class=\"relationship\" transform=\"translate(-394.3262590055219 39.1311517027493) rotate(362.03074376125596)\"><path class=\"b-outline\" fill=\"#A5ABB6\" stroke=\"none\" d=\"M 25 0.5 L 36.92287445254679 0.5 L 36.92287445254679 -0.5 L 25 -0.5 Z M 123.5439682025468 0.5 L 135.4668426550936 0.5 L 135.4668426550936 3.5 L 142.4668426550936 0 L 135.4668426550936 -3.5 L 135.4668426550936 -0.5 L 123.5439682025468 -0.5 Z\"/><text text-anchor=\"middle\" pointer-events=\"none\" font-size=\"8px\" fill=\"#000000\" x=\"80.2334213275468\" y=\"3\" font-family=\"Helvetica Neue, Helvetica, Arial, sans-serif\">SUB_CATEGORY_OF</text></g><g class=\"relationship\" transform=\"translate(-226.96459276524394 45.06546397492383) rotate(180.09653017032804)\"><path class=\"b-outline\" fill=\"#A5ABB6\" stroke=\"none\" d=\"M 25 0.5 L 152.3734993254139 0.5 L 152.3734993254139 -0.5 L 25 -0.5 Z M 238.9945930754139 0.5 L 366.3680924008278 0.5 L 366.3680924008278 3.5 L 373.3680924008278 0 L 366.3680924008278 -3.5 L 366.3680924008278 -0.5 L 238.9945930754139 -0.5 Z\"/><text text-anchor=\"middle\" pointer-events=\"none\" font-size=\"8px\" fill=\"#000000\" x=\"195.6840462004139\" y=\"3\" transform=\"rotate(180 195.6840462004139 0)\" font-family=\"Helvetica Neue, Helvetica, Arial, sans-serif\">SUB_CATEGORY_OF</text></g><g class=\"relationship\" transform=\"translate(-364.83765918901184 132.97191668527543) rotate(327.47883356309956)\"><path class=\"b-outline\" fill=\"#A5ABB6\" stroke=\"none\" d=\"M 25 0.5 L 34.94599242493918 0.5 L 34.94599242493918 -0.5 L 25 -0.5 Z M 121.56708617493918 0.5 L 131.51307859987836 0.5 L 131.51307859987836 3.5 L 138.51307859987836 0 L 131.51307859987836 -3.5 L 131.51307859987836 -0.5 L 121.56708617493918 -0.5 Z\"/><text text-anchor=\"middle\" pointer-events=\"none\" font-size=\"8px\" fill=\"#000000\" x=\"78.25653929993918\" y=\"3\" font-family=\"Helvetica Neue, Helvetica, Arial, sans-serif\">SUB_CATEGORY_OF</text></g><g class=\"relationship\" transform=\"translate(-102.02652960141785 87.5241830955016) rotate(198.76971994046863)\"><path class=\"b-outline\" fill=\"#A5ABB6\" stroke=\"none\" d=\"M 25 0.5 L 25.544172308893494 0.5 L 25.544172308893494 -0.5 L 25 -0.5 Z M 99.4113598088935 0.5 L 99.95553211778699 0.5 L 99.95553211778699 3.5 L 106.95553211778699 0 L 99.95553211778699 -3.5 L 99.95553211778699 -0.5 L 99.4113598088935 -0.5 Z\"/><text text-anchor=\"middle\" pointer-events=\"none\" font-size=\"8px\" fill=\"#000000\" x=\"62.47776605889349\" y=\"3\" transform=\"rotate(180 62.47776605889349 0)\" font-family=\"Helvetica Neue, Helvetica, Arial, sans-serif\">SUB_CATEGOR…</text></g><g class=\"relationship\" transform=\"translate(-326.17048609049124 223.56521124251464) rotate(299.0642591942485)\"><path class=\"b-outline\" fill=\"#A5ABB6\" stroke=\"none\" d=\"M 25 0.5 L 55.29720141700541 0.5 L 55.29720141700541 -0.5 L 25 -0.5 Z M 141.9182951670054 0.5 L 172.21549658401082 0.5 L 172.21549658401082 3.5 L 179.21549658401082 0 L 172.21549658401082 -3.5 L 172.21549658401082 -0.5 L 141.9182951670054 -0.5 Z\"/><text text-anchor=\"middle\" pointer-events=\"none\" font-size=\"8px\" fill=\"#000000\" x=\"98.60774829200541\" y=\"3\" font-family=\"Helvetica Neue, Helvetica, Arial, sans-serif\">SUB_CATEGORY_OF</text></g><g class=\"relationship\" transform=\"translate(-235.63159867398417 -313.8947936285273) rotate(235.17410720179572)\"><path class=\"b-outline\" fill=\"#A5ABB6\" stroke=\"none\" d=\"M 25 0.5 L 36.22293526653894 0.5 L 36.22293526653894 -0.5 L 25 -0.5 Z M 122.84402901653894 0.5 L 134.06696428307788 0.5 L 134.06696428307788 3.5 L 141.06696428307788 0 L 134.06696428307788 -3.5 L 134.06696428307788 -0.5 L 122.84402901653894 -0.5 Z\"/><text text-anchor=\"middle\" pointer-events=\"none\" font-size=\"8px\" fill=\"#000000\" x=\"79.53348214153894\" y=\"3\" transform=\"rotate(180 79.53348214153894 0)\" font-family=\"Helvetica Neue, Helvetica, Arial, sans-serif\">SUB_CATEGORY_OF</text></g><g class=\"relationship\" transform=\"translate(-312.44467742692143 -195.28088416375667) rotate(302.92665509285706)\"><path class=\"b-outline\" fill=\"#A5ABB6\" stroke=\"none\" d=\"M 25 0.5 L 25.40089646975582 0.5 L 25.40089646975582 -0.5 L 25 -0.5 Z M 108.91261521975582 0.5 L 109.31351168951164 0.5 L 109.31351168951164 3.5 L 116.31351168951164 0 L 109.31351168951164 -3.5 L 109.31351168951164 -0.5 L 108.91261521975582 -0.5 Z\"/><text text-anchor=\"middle\" pointer-events=\"none\" font-size=\"8px\" fill=\"#000000\" x=\"67.15675584475582\" y=\"3\" font-family=\"Helvetica Neue, Helvetica, Arial, sans-serif\">SUB_CATEGORY_…</text></g><g class=\"relationship\" transform=\"translate(-235.49571205312975 -474.1206844284368) rotate(450.04859219669004)\"><path class=\"b-outline\" fill=\"#A5ABB6\" stroke=\"none\" d=\"M 25 0.5 L 33.30242733610743 0.5 L 33.30242733610743 -0.5 L 25 -0.5 Z M 119.92352108610743 0.5 L 128.22594842221486 0.5 L 128.22594842221486 3.5 L 135.22594842221486 0 L 128.22594842221486 -3.5 L 128.22594842221486 -0.5 L 119.92352108610743 -0.5 Z\"/><text text-anchor=\"middle\" pointer-events=\"none\" font-size=\"8px\" fill=\"#000000\" x=\"76.61297421110743\" y=\"3\" transform=\"rotate(180 76.61297421110743 0)\" font-family=\"Helvetica Neue, Helvetica, Arial, sans-serif\">SUB_CATEGORY_OF</text></g><g class=\"relationship\" transform=\"translate(-86.58039465451498 -233.4313549828867) rotate(208.3618400197414)\"><path class=\"b-outline\" fill=\"#A5ABB6\" stroke=\"none\" d=\"M 25 0.5 L 37.880991041037106 0.5 L 37.880991041037106 -0.5 L 25 -0.5 Z M 124.5020847910371 0.5 L 137.3830758320742 0.5 L 137.3830758320742 3.5 L 144.3830758320742 0 L 137.3830758320742 -3.5 L 137.3830758320742 -0.5 L 124.5020847910371 -0.5 Z\"/><text text-anchor=\"middle\" pointer-events=\"none\" font-size=\"8px\" fill=\"#000000\" x=\"81.1915379160371\" y=\"3\" transform=\"rotate(180 81.1915379160371 0)\" font-family=\"Helvetica Neue, Helvetica, Arial, sans-serif\">SUB_CATEGORY_OF</text></g><g class=\"relationship\" transform=\"translate(-51.14450049821368 -324.8062139652201) rotate(536.6152056693954)\"><path class=\"b-outline\" fill=\"#A5ABB6\" stroke=\"none\" d=\"M 25 0.5 L 45.59419933302814 0.5 L 45.59419933302814 -0.5 L 25 -0.5 Z M 132.21529308302814 0.5 L 152.8094924160563 0.5 L 152.8094924160563 3.5 L 159.8094924160563 0 L 152.8094924160563 -3.5 L 152.8094924160563 -0.5 L 132.21529308302814 -0.5 Z\"/><text text-anchor=\"middle\" pointer-events=\"none\" font-size=\"8px\" fill=\"#000000\" x=\"88.90474620802814\" y=\"3\" transform=\"rotate(180 88.90474620802814 0)\" font-family=\"Helvetica Neue, Helvetica, Arial, sans-serif\">SUB_CATEGORY_OF</text></g><g class=\"relationship\" transform=\"translate(-50.68171275286717 -424.1396359148966) rotate(509.20169536016084)\"><path class=\"b-outline\" fill=\"#A5ABB6\" stroke=\"none\" d=\"M 25 0.5 L 60.846763086958276 0.5 L 60.846763086958276 -0.5 L 25 -0.5 Z M 147.46785683695828 0.5 L 183.31461992391655 0.5 L 183.31461992391655 3.5 L 190.31461992391655 0 L 183.31461992391655 -3.5 L 183.31461992391655 -0.5 L 147.46785683695828 -0.5 Z\"/><text text-anchor=\"middle\" pointer-events=\"none\" font-size=\"8px\" fill=\"#000000\" x=\"104.15730996195828\" y=\"3\" transform=\"rotate(180 104.15730996195828 0)\" font-family=\"Helvetica Neue, Helvetica, Arial, sans-serif\">SUB_CATEGORY_OF</text></g><g class=\"relationship\" transform=\"translate(-135.19046398570927 -376.035719315886) rotate(508.2557481005314)\"><path class=\"b-outline\" fill=\"#A5ABB6\" stroke=\"none\" d=\"M 25 0.5 L 27.73261601646555 0.5 L 27.73261601646555 -0.5 L 25 -0.5 Z M 83.37714726646556 0.5 L 86.1097632829311 0.5 L 86.1097632829311 3.5 L 93.1097632829311 0 L 86.1097632829311 -3.5 L 86.1097632829311 -0.5 L 83.37714726646556 -0.5 Z\"/><text text-anchor=\"middle\" pointer-events=\"none\" font-size=\"8px\" fill=\"#000000\" x=\"55.55488164146555\" y=\"3\" transform=\"rotate(180 55.55488164146555 0)\" font-family=\"Helvetica Neue, Helvetica, Arial, sans-serif\">SUB_CATE…</text></g><g class=\"relationship\" transform=\"translate(-382.83229372025534 -366.95128728311926) rotate(379.821010177814)\"><path class=\"b-outline\" fill=\"#A5ABB6\" stroke=\"none\" d=\"M 25 0.5 L 31.424733115911195 0.5 L 31.424733115911195 -0.5 L 25 -0.5 Z M 118.0458268659112 0.5 L 124.47055998182239 0.5 L 124.47055998182239 3.5 L 131.4705599818224 0 L 124.47055998182239 -3.5 L 124.47055998182239 -0.5 L 118.0458268659112 -0.5 Z\"/><text text-anchor=\"middle\" pointer-events=\"none\" font-size=\"8px\" fill=\"#000000\" x=\"74.7352799909112\" y=\"3\" font-family=\"Helvetica Neue, Helvetica, Arial, sans-serif\">SUB_CATEGORY_OF</text></g><g class=\"relationship\" transform=\"translate(-380.82579373511936 -267.3925860244708) rotate(342.2409878012022)\"><path class=\"b-outline\" fill=\"#A5ABB6\" stroke=\"none\" d=\"M 25 0.5 L 29.419056284635005 0.5 L 29.419056284635005 -0.5 L 25 -0.5 Z M 116.040150034635 0.5 L 120.45920631927001 0.5 L 120.45920631927001 3.5 L 127.45920631927001 0 L 120.45920631927001 -3.5 L 120.45920631927001 -0.5 L 116.040150034635 -0.5 Z\"/><text text-anchor=\"middle\" pointer-events=\"none\" font-size=\"8px\" fill=\"#000000\" x=\"72.729603159635\" y=\"3\" font-family=\"Helvetica Neue, Helvetica, Arial, sans-serif\">SUB_CATEGORY_OF</text></g><g class=\"relationship\" transform=\"translate(-178.51572329856376 -197.96088354827563) rotate(243.77242605538777)\"><path class=\"b-outline\" fill=\"#A5ABB6\" stroke=\"none\" d=\"M 25 0.5 L 27.07491781529255 0.5 L 27.07491781529255 -0.5 L 25 -0.5 Z M 95.16476156529255 0.5 L 97.2396793805851 0.5 L 97.2396793805851 3.5 L 104.2396793805851 0 L 97.2396793805851 -3.5 L 97.2396793805851 -0.5 L 95.16476156529255 -0.5 Z\"/><text text-anchor=\"middle\" pointer-events=\"none\" font-size=\"8px\" fill=\"#000000\" x=\"61.11983969029255\" y=\"3\" transform=\"rotate(180 61.11983969029255 0)\" font-family=\"Helvetica Neue, Helvetica, Arial, sans-serif\">SUB_CATEGO…</text></g><g class=\"relationship\" transform=\"translate(-136.9898754587218 -473.8693126753425) rotate(481.6583559754869)\"><path class=\"b-outline\" fill=\"#A5ABB6\" stroke=\"none\" d=\"M 25 0.5 L 47.16024154238036 0.5 L 47.16024154238036 -0.5 L 25 -0.5 Z M 133.78133529238036 0.5 L 155.94157683476072 0.5 L 155.94157683476072 3.5 L 162.94157683476072 0 L 155.94157683476072 -3.5 L 155.94157683476072 -0.5 L 133.78133529238036 -0.5 Z\"/><text text-anchor=\"middle\" pointer-events=\"none\" font-size=\"8px\" fill=\"#000000\" x=\"90.47078841738036\" y=\"3\" transform=\"rotate(180 90.47078841738036 0)\" font-family=\"Helvetica Neue, Helvetica, Arial, sans-serif\">SUB_CATEGORY_OF</text></g><g class=\"relationship\" transform=\"translate(-235.63159867398417 -313.8947936285273) rotate(539.9687728171475)\"><path class=\"b-outline\" fill=\"#A5ABB6\" stroke=\"none\" d=\"M 25 0.5 L 145.8907389437953 0.5 L 145.8907389437953 -0.5 L 25 -0.5 Z M 232.5118326937953 0.5 L 353.4025716375906 0.5 L 353.4025716375906 3.5 L 360.4025716375906 0 L 353.4025716375906 -3.5 L 353.4025716375906 -0.5 L 232.5118326937953 -0.5 Z\"/><text text-anchor=\"middle\" pointer-events=\"none\" font-size=\"8px\" fill=\"#000000\" x=\"189.2012858187953\" y=\"3\" transform=\"rotate(180 189.2012858187953 0)\" font-family=\"Helvetica Neue, Helvetica, Arial, sans-serif\">SUB_CATEGORY_OF</text></g></g><g class=\"layer nodes\"><g class=\"node\" aria-label=\"graph-node1710\" transform=\"translate(229.24388790130604,41.84894913062743)\"><circle class=\"b-outline\" cx=\"0\" cy=\"0\" r=\"25\" fill=\"#C990C0\" stroke=\"#b261a5\" stroke-width=\"2px\"/><text class=\"caption\" text-anchor=\"middle\" pointer-events=\"none\" x=\"0\" y=\"0\" font-size=\"10px\" fill=\"#FFFFFF\" font-family=\"Helvetica Neue, Helvetica, Arial, sans-serif\"> C6</text><text class=\"caption\" text-anchor=\"middle\" pointer-events=\"none\" x=\"0\" y=\"10\" font-size=\"10px\" fill=\"#FFFFFF\" font-family=\"Helvetica Neue, Helvetica, Arial, sans-serif\"> Defici…</text></g><g class=\"node\" aria-label=\"graph-node2852\" transform=\"translate(227.30322074890137,-318.82995649014646)\"><circle class=\"b-outline\" cx=\"0\" cy=\"0\" r=\"25\" fill=\"#C990C0\" stroke=\"#b261a5\" stroke-width=\"2px\"/><text class=\"caption\" text-anchor=\"middle\" pointer-events=\"none\" x=\"0\" y=\"5\" font-size=\"10px\" fill=\"#FFFFFF\" font-family=\"Helvetica Neue, Helvetica, Arial, sans-serif\"> COMBI…</text></g><g class=\"node\" aria-label=\"graph-node8263\" transform=\"translate(-235.63159867398417,-313.8947936285273)\"><circle class=\"b-outline\" cx=\"0\" cy=\"0\" r=\"25\" fill=\"#C990C0\" stroke=\"#b261a5\" stroke-width=\"2px\"/><text class=\"caption\" text-anchor=\"middle\" pointer-events=\"none\" x=\"0\" y=\"5\" font-size=\"10px\" fill=\"#FFFFFF\" font-family=\"Helvetica Neue, Helvetica, Arial, sans-serif\"> Mitocho…</text></g><g class=\"node\" aria-label=\"graph-node5714\" transform=\"translate(-226.96459276524394,45.06546397492383)\"><circle class=\"b-outline\" cx=\"0\" cy=\"0\" r=\"25\" fill=\"#C990C0\" stroke=\"#b261a5\" stroke-width=\"2px\"/><text class=\"caption\" text-anchor=\"middle\" pointer-events=\"none\" x=\"0\" y=\"0\" font-size=\"10px\" fill=\"#FFFFFF\" font-family=\"Helvetica Neue, Helvetica, Arial, sans-serif\"> Hereditary</text><text class=\"caption\" text-anchor=\"middle\" pointer-events=\"none\" x=\"0\" y=\"10\" font-size=\"10px\" fill=\"#FFFFFF\" font-family=\"Helvetica Neue, Helvetica, Arial, sans-serif\"> Compl…</text></g><g class=\"node\" aria-label=\"graph-node723\" transform=\"translate(-230.7705941243281,238.3528850220226)\"><circle class=\"b-outline\" cx=\"0\" cy=\"0\" r=\"25\" fill=\"#C990C0\" stroke=\"#b261a5\" stroke-width=\"2px\"/><text class=\"caption\" text-anchor=\"middle\" pointer-events=\"none\" x=\"0\" y=\"5\" font-size=\"10px\" fill=\"#FFFFFF\" font-family=\"Helvetica Neue, Helvetica, Arial, sans-serif\"> Angioed…</text></g><g class=\"node\" aria-label=\"graph-node1711\" transform=\"translate(-168.86395870792896,161.52506857971468)\"><circle class=\"b-outline\" cx=\"0\" cy=\"0\" r=\"25\" fill=\"#C990C0\" stroke=\"#b261a5\" stroke-width=\"2px\"/><text class=\"caption\" text-anchor=\"middle\" pointer-events=\"none\" x=\"0\" y=\"0\" font-size=\"10px\" fill=\"#FFFFFF\" font-family=\"Helvetica Neue, Helvetica, Arial, sans-serif\"> C9</text><text class=\"caption\" text-anchor=\"middle\" pointer-events=\"none\" x=\"0\" y=\"10\" font-size=\"10px\" fill=\"#FFFFFF\" font-family=\"Helvetica Neue, Helvetica, Arial, sans-serif\"> Defici…</text></g><g class=\"node\" aria-label=\"graph-node1712\" transform=\"translate(-136.00629682061947,252.7662456090932)\"><circle class=\"b-outline\" cx=\"0\" cy=\"0\" r=\"25\" fill=\"#C990C0\" stroke=\"#b261a5\" stroke-width=\"2px\"/><text class=\"caption\" text-anchor=\"middle\" pointer-events=\"none\" x=\"0\" y=\"-5\" font-size=\"10px\" fill=\"#FFFFFF\" font-family=\"Helvetica Neue, Helvetica, Arial, sans-serif\"> C9</text><text class=\"caption\" text-anchor=\"middle\" pointer-events=\"none\" x=\"0\" y=\"5\" font-size=\"10px\" fill=\"#FFFFFF\" font-family=\"Helvetica Neue, Helvetica, Arial, sans-serif\"> Deficiency</text><text class=\"caption\" text-anchor=\"middle\" pointer-events=\"none\" x=\"0\" y=\"15\" font-size=\"10px\" fill=\"#FFFFFF\" font-family=\"Helvetica Neue, Helvetica, Arial, sans-serif\"> with </text></g><g class=\"node\" aria-label=\"graph-node2871\" transform=\"translate(-72.23975933412888,180.54032179967135)\"><circle class=\"b-outline\" cx=\"0\" cy=\"0\" r=\"25\" fill=\"#C990C0\" stroke=\"#b261a5\" stroke-width=\"2px\"/><text class=\"caption\" text-anchor=\"middle\" pointer-events=\"none\" x=\"0\" y=\"5\" font-size=\"10px\" fill=\"#FFFFFF\" font-family=\"Helvetica Neue, Helvetica, Arial, sans-serif\"> Comple…</text></g><g class=\"node\" aria-label=\"graph-node2872\" transform=\"translate(-7.485187894900525,106.03240321993411)\"><circle class=\"b-outline\" cx=\"0\" cy=\"0\" r=\"25\" fill=\"#C990C0\" stroke=\"#b261a5\" stroke-width=\"2px\"/><text class=\"caption\" text-anchor=\"middle\" pointer-events=\"none\" x=\"0\" y=\"5\" font-size=\"10px\" fill=\"#FFFFFF\" font-family=\"Helvetica Neue, Helvetica, Arial, sans-serif\"> Comple…</text></g><g class=\"node\" aria-label=\"graph-node2874\" transform=\"translate(-36.98337433601957,13.217153681857614)\"><circle class=\"b-outline\" cx=\"0\" cy=\"0\" r=\"25\" fill=\"#C990C0\" stroke=\"#b261a5\" stroke-width=\"2px\"/><text class=\"caption\" text-anchor=\"middle\" pointer-events=\"none\" x=\"0\" y=\"5\" font-size=\"10px\" fill=\"#FFFFFF\" font-family=\"Helvetica Neue, Helvetica, Arial, sans-serif\"> Comple…</text></g><g class=\"node\" aria-label=\"graph-node2875\" transform=\"translate(-70.10195261232043,-80.58134738924302)\"><circle class=\"b-outline\" cx=\"0\" cy=\"0\" r=\"25\" fill=\"#C990C0\" stroke=\"#b261a5\" stroke-width=\"2px\"/><text class=\"caption\" text-anchor=\"middle\" pointer-events=\"none\" x=\"0\" y=\"5\" font-size=\"10px\" fill=\"#FFFFFF\" font-family=\"Helvetica Neue, Helvetica, Arial, sans-serif\"> Comple…</text></g><g class=\"node\" aria-label=\"graph-node2876\" transform=\"translate(-132.71178872830745,-7.155423604007891)\"><circle class=\"b-outline\" cx=\"0\" cy=\"0\" r=\"25\" fill=\"#C990C0\" stroke=\"#b261a5\" stroke-width=\"2px\"/><text class=\"caption\" text-anchor=\"middle\" pointer-events=\"none\" x=\"0\" y=\"5\" font-size=\"10px\" fill=\"#FFFFFF\" font-family=\"Helvetica Neue, Helvetica, Arial, sans-serif\"> Comple…</text></g><g class=\"node\" aria-label=\"graph-node2877\" transform=\"translate(-265.9870456594059,-96.19376108561991)\"><circle class=\"b-outline\" cx=\"0\" cy=\"0\" r=\"25\" fill=\"#C990C0\" stroke=\"#b261a5\" stroke-width=\"2px\"/><text class=\"caption\" text-anchor=\"middle\" pointer-events=\"none\" x=\"0\" y=\"5\" font-size=\"10px\" fill=\"#FFFFFF\" font-family=\"Helvetica Neue, Helvetica, Arial, sans-serif\"> Comple…</text></g><g class=\"node\" aria-label=\"graph-node2881\" transform=\"translate(-167.03157297816838,-98.61125208253326)\"><circle class=\"b-outline\" cx=\"0\" cy=\"0\" r=\"25\" fill=\"#C990C0\" stroke=\"#b261a5\" stroke-width=\"2px\"/><text class=\"caption\" text-anchor=\"middle\" pointer-events=\"none\" x=\"0\" y=\"5\" font-size=\"10px\" fill=\"#FFFFFF\" font-family=\"Helvetica Neue, Helvetica, Arial, sans-serif\"> Comple…</text></g><g class=\"node\" aria-label=\"graph-node2883\" transform=\"translate(-352.6144324048805,-50.10383619290994)\"><circle class=\"b-outline\" cx=\"0\" cy=\"0\" r=\"25\" fill=\"#C990C0\" stroke=\"#b261a5\" stroke-width=\"2px\"/><text class=\"caption\" text-anchor=\"middle\" pointer-events=\"none\" x=\"0\" y=\"5\" font-size=\"10px\" fill=\"#FFFFFF\" font-family=\"Helvetica Neue, Helvetica, Arial, sans-serif\"> Comple…</text></g><g class=\"node\" aria-label=\"graph-node2884\" transform=\"translate(-266.53707898504877,147.74349663993115)\"><circle class=\"b-outline\" cx=\"0\" cy=\"0\" r=\"25\" fill=\"#C990C0\" stroke=\"#b261a5\" stroke-width=\"2px\"/><text class=\"caption\" text-anchor=\"middle\" pointer-events=\"none\" x=\"0\" y=\"5\" font-size=\"10px\" fill=\"#FFFFFF\" font-family=\"Helvetica Neue, Helvetica, Arial, sans-serif\"> Comple…</text></g><g class=\"node\" aria-label=\"graph-node2885\" transform=\"translate(-426.5636043474394,217.49505297645763)\"><circle class=\"b-outline\" cx=\"0\" cy=\"0\" r=\"25\" fill=\"#C990C0\" stroke=\"#b261a5\" stroke-width=\"2px\"/><text class=\"caption\" text-anchor=\"middle\" pointer-events=\"none\" x=\"0\" y=\"5\" font-size=\"10px\" fill=\"#FFFFFF\" font-family=\"Helvetica Neue, Helvetica, Arial, sans-serif\"> Comple…</text></g><g class=\"node\" aria-label=\"graph-node7710\" transform=\"translate(-394.3262590055219,39.1311517027493)\"><circle class=\"b-outline\" cx=\"0\" cy=\"0\" r=\"25\" fill=\"#C990C0\" stroke=\"#b261a5\" stroke-width=\"2px\"/><text class=\"caption\" text-anchor=\"middle\" pointer-events=\"none\" x=\"0\" y=\"0\" font-size=\"10px\" fill=\"#FFFFFF\" font-family=\"Helvetica Neue, Helvetica, Arial, sans-serif\"> MASP2</text><text class=\"caption\" text-anchor=\"middle\" pointer-events=\"none\" x=\"0\" y=\"10\" font-size=\"10px\" fill=\"#FFFFFF\" font-family=\"Helvetica Neue, Helvetica, Arial, sans-serif\"> Defici…</text></g><g class=\"node\" aria-label=\"graph-node10501\" transform=\"translate(-364.83765918901184,132.97191668527543)\"><circle class=\"b-outline\" cx=\"0\" cy=\"0\" r=\"25\" fill=\"#C990C0\" stroke=\"#b261a5\" stroke-width=\"2px\"/><text class=\"caption\" text-anchor=\"middle\" pointer-events=\"none\" x=\"0\" y=\"0\" font-size=\"10px\" fill=\"#FFFFFF\" font-family=\"Helvetica Neue, Helvetica, Arial, sans-serif\"> Properdin</text><text class=\"caption\" text-anchor=\"middle\" pointer-events=\"none\" x=\"0\" y=\"10\" font-size=\"10px\" fill=\"#FFFFFF\" font-family=\"Helvetica Neue, Helvetica, Arial, sans-serif\"> Defici…</text></g><g class=\"node\" aria-label=\"graph-node10502\" transform=\"translate(-102.02652960141785,87.5241830955016)\"><circle class=\"b-outline\" cx=\"0\" cy=\"0\" r=\"25\" fill=\"#C990C0\" stroke=\"#b261a5\" stroke-width=\"2px\"/><text class=\"caption\" text-anchor=\"middle\" pointer-events=\"none\" x=\"0\" y=\"0\" font-size=\"10px\" fill=\"#FFFFFF\" font-family=\"Helvetica Neue, Helvetica, Arial, sans-serif\"> Properdin</text><text class=\"caption\" text-anchor=\"middle\" pointer-events=\"none\" x=\"0\" y=\"10\" font-size=\"10px\" fill=\"#FFFFFF\" font-family=\"Helvetica Neue, Helvetica, Arial, sans-serif\"> Defici…</text></g><g class=\"node\" aria-label=\"graph-node10503\" transform=\"translate(-326.17048609049124,223.56521124251464)\"><circle class=\"b-outline\" cx=\"0\" cy=\"0\" r=\"25\" fill=\"#C990C0\" stroke=\"#b261a5\" stroke-width=\"2px\"/><text class=\"caption\" text-anchor=\"middle\" pointer-events=\"none\" x=\"0\" y=\"0\" font-size=\"10px\" fill=\"#FFFFFF\" font-family=\"Helvetica Neue, Helvetica, Arial, sans-serif\"> Properdin</text><text class=\"caption\" text-anchor=\"middle\" pointer-events=\"none\" x=\"0\" y=\"10\" font-size=\"10px\" fill=\"#FFFFFF\" font-family=\"Helvetica Neue, Helvetica, Arial, sans-serif\"> deficie…</text></g><g class=\"node\" aria-label=\"graph-node1586\" transform=\"translate(-330.46988432812674,-450.21770513052064)\"><circle class=\"b-outline\" cx=\"0\" cy=\"0\" r=\"25\" fill=\"#C990C0\" stroke=\"#b261a5\" stroke-width=\"2px\"/><text class=\"caption\" text-anchor=\"middle\" pointer-events=\"none\" x=\"0\" y=\"-5\" font-size=\"10px\" fill=\"#FFFFFF\" font-family=\"Helvetica Neue, Helvetica, Arial, sans-serif\"> Brain</text><text class=\"caption\" text-anchor=\"middle\" pointer-events=\"none\" x=\"0\" y=\"5\" font-size=\"10px\" fill=\"#FFFFFF\" font-family=\"Helvetica Neue, Helvetica, Arial, sans-serif\"> Diseases,</text><text class=\"caption\" text-anchor=\"middle\" pointer-events=\"none\" x=\"0\" y=\"15\" font-size=\"10px\" fill=\"#FFFFFF\" font-family=\"Helvetica Neue, Helvetica, Arial, sans-serif\"> Met</text></g><g class=\"node\" aria-label=\"graph-node1866\" transform=\"translate(-312.44467742692143,-195.28088416375667)\"><circle class=\"b-outline\" cx=\"0\" cy=\"0\" r=\"25\" fill=\"#C990C0\" stroke=\"#b261a5\" stroke-width=\"2px\"/><text class=\"caption\" text-anchor=\"middle\" pointer-events=\"none\" x=\"0\" y=\"5\" font-size=\"10px\" fill=\"#FFFFFF\" font-family=\"Helvetica Neue, Helvetica, Arial, sans-serif\"> Cardioe…</text></g><g class=\"node\" aria-label=\"graph-node2851\" transform=\"translate(-235.49571205312975,-474.1206844284368)\"><circle class=\"b-outline\" cx=\"0\" cy=\"0\" r=\"25\" fill=\"#C990C0\" stroke=\"#b261a5\" stroke-width=\"2px\"/><text class=\"caption\" text-anchor=\"middle\" pointer-events=\"none\" x=\"0\" y=\"5\" font-size=\"10px\" fill=\"#FFFFFF\" font-family=\"Helvetica Neue, Helvetica, Arial, sans-serif\"> COMBI…</text></g><g class=\"node\" aria-label=\"graph-node4257\" transform=\"translate(-86.58039465451498,-233.4313549828867)\"><circle class=\"b-outline\" cx=\"0\" cy=\"0\" r=\"25\" fill=\"#C990C0\" stroke=\"#b261a5\" stroke-width=\"2px\"/><text class=\"caption\" text-anchor=\"middle\" pointer-events=\"none\" x=\"0\" y=\"5\" font-size=\"10px\" fill=\"#FFFFFF\" font-family=\"Helvetica Neue, Helvetica, Arial, sans-serif\"> Encepha…</text></g><g class=\"node\" aria-label=\"graph-node7828\" transform=\"translate(-51.14450049821368,-324.8062139652201)\"><circle class=\"b-outline\" cx=\"0\" cy=\"0\" r=\"25\" fill=\"#C990C0\" stroke=\"#b261a5\" stroke-width=\"2px\"/><text class=\"caption\" text-anchor=\"middle\" pointer-events=\"none\" x=\"0\" y=\"0\" font-size=\"10px\" fill=\"#FFFFFF\" font-family=\"Helvetica Neue, Helvetica, Arial, sans-serif\"> MELAS</text><text class=\"caption\" text-anchor=\"middle\" pointer-events=\"none\" x=\"0\" y=\"10\" font-size=\"10px\" fill=\"#FFFFFF\" font-family=\"Helvetica Neue, Helvetica, Arial, sans-serif\"> Syndr…</text></g><g class=\"node\" aria-label=\"graph-node7975\" transform=\"translate(-50.68171275286717,-424.1396359148966)\"><circle class=\"b-outline\" cx=\"0\" cy=\"0\" r=\"25\" fill=\"#C990C0\" stroke=\"#b261a5\" stroke-width=\"2px\"/><text class=\"caption\" text-anchor=\"middle\" pointer-events=\"none\" x=\"0\" y=\"0\" font-size=\"10px\" fill=\"#FFFFFF\" font-family=\"Helvetica Neue, Helvetica, Arial, sans-serif\"> MERRF</text><text class=\"caption\" text-anchor=\"middle\" pointer-events=\"none\" x=\"0\" y=\"10\" font-size=\"10px\" fill=\"#FFFFFF\" font-family=\"Helvetica Neue, Helvetica, Arial, sans-serif\"> Syndr…</text></g><g class=\"node\" aria-label=\"graph-node8251\" transform=\"translate(-135.19046398570927,-376.035719315886)\"><circle class=\"b-outline\" cx=\"0\" cy=\"0\" r=\"25\" fill=\"#C990C0\" stroke=\"#b261a5\" stroke-width=\"2px\"/><text class=\"caption\" text-anchor=\"middle\" pointer-events=\"none\" x=\"0\" y=\"5\" font-size=\"10px\" fill=\"#FFFFFF\" font-family=\"Helvetica Neue, Helvetica, Arial, sans-serif\"> MITOCH…</text></g><g class=\"node\" aria-label=\"graph-node8255\" transform=\"translate(-382.83229372025534,-366.95128728311926)\"><circle class=\"b-outline\" cx=\"0\" cy=\"0\" r=\"25\" fill=\"#C990C0\" stroke=\"#b261a5\" stroke-width=\"2px\"/><text class=\"caption\" text-anchor=\"middle\" pointer-events=\"none\" x=\"0\" y=\"5\" font-size=\"10px\" fill=\"#FFFFFF\" font-family=\"Helvetica Neue, Helvetica, Arial, sans-serif\"> MITOCH…</text></g><g class=\"node\" aria-label=\"graph-node8256\" transform=\"translate(-380.82579373511936,-267.3925860244708)\"><circle class=\"b-outline\" cx=\"0\" cy=\"0\" r=\"25\" fill=\"#C990C0\" stroke=\"#b261a5\" stroke-width=\"2px\"/><text class=\"caption\" text-anchor=\"middle\" pointer-events=\"none\" x=\"0\" y=\"5\" font-size=\"10px\" fill=\"#FFFFFF\" font-family=\"Helvetica Neue, Helvetica, Arial, sans-serif\"> MITOCH…</text></g><g class=\"node\" aria-label=\"graph-node8258\" transform=\"translate(-178.51572329856376,-197.96088354827563)\"><circle class=\"b-outline\" cx=\"0\" cy=\"0\" r=\"25\" fill=\"#C990C0\" stroke=\"#b261a5\" stroke-width=\"2px\"/><text class=\"caption\" text-anchor=\"middle\" pointer-events=\"none\" x=\"0\" y=\"5\" font-size=\"10px\" fill=\"#FFFFFF\" font-family=\"Helvetica Neue, Helvetica, Arial, sans-serif\"> MITOCH…</text></g><g class=\"node\" aria-label=\"graph-node8264\" transform=\"translate(-136.9898754587218,-473.8693126753425)\"><circle class=\"b-outline\" cx=\"0\" cy=\"0\" r=\"25\" fill=\"#C990C0\" stroke=\"#b261a5\" stroke-width=\"2px\"/><text class=\"caption\" text-anchor=\"middle\" pointer-events=\"none\" x=\"0\" y=\"5\" font-size=\"10px\" fill=\"#FFFFFF\" font-family=\"Helvetica Neue, Helvetica, Arial, sans-serif\"> Mitocho…</text></g><g class=\"node\" aria-label=\"graph-node8265\" transform=\"translate(-621.034113070873,-313.6847426250715)\"><circle class=\"b-outline\" cx=\"0\" cy=\"0\" r=\"25\" fill=\"#C990C0\" stroke=\"#b261a5\" stroke-width=\"2px\"/><text class=\"caption\" text-anchor=\"middle\" pointer-events=\"none\" x=\"0\" y=\"5\" font-size=\"10px\" fill=\"#FFFFFF\" font-family=\"Helvetica Neue, Helvetica, Arial, sans-serif\"> Mitocho…</text></g><g class=\"node\" aria-label=\"graph-node10447\" transform=\"translate(-625.3321197927289,44.39430596036095)\"><circle class=\"b-outline\" cx=\"0\" cy=\"0\" r=\"25\" fill=\"#C990C0\" stroke=\"#b261a5\" stroke-width=\"2px\"/><text class=\"caption\" text-anchor=\"middle\" pointer-events=\"none\" x=\"0\" y=\"0\" font-size=\"10px\" fill=\"#FFFFFF\" font-family=\"Helvetica Neue, Helvetica, Arial, sans-serif\"> Primary</text><text class=\"caption\" text-anchor=\"middle\" pointer-events=\"none\" x=\"0\" y=\"10\" font-size=\"10px\" fill=\"#FFFFFF\" font-family=\"Helvetica Neue, Helvetica, Arial, sans-serif\"> Immu…</text></g></g></svg>"
      ],
      "text/plain": [
       "<IPython.core.display.SVG object>"
      ]
     },
     "metadata": {},
     "output_type": "display_data"
    }
   ],
   "source": [
    "display(SVG(filename='./media/svg/Fig_2_combined_C6_and_C7_deficiencies.svg'))"
   ]
  },
  {
   "cell_type": "markdown",
   "metadata": {},
   "source": [
    "As we can see, \"C6 Deficiency, Subtotal\" predicted by fulltext index is still a part of the same group, however, \"COMBINED OXIDATIVE PHOSPHORYLATION DEFICIENCY 7\" belongs to a different group - \"Mitochondrial Encephalomyopathies\" (MESH:D017237\n",
    "), which makes it a worse candidate. Moreover, vector index search produced a different result when the same query was given - \"Molybdenum Cofactor Deficiency, Complementation Group C\", which belongs to a different from previous two disease groups, which may suggest that vector search works worse for disease names. \n",
    "Let us analyze one more prediction - \"breast cancer\"."
   ]
  },
  {
   "cell_type": "code",
   "execution_count": 252,
   "metadata": {},
   "outputs": [
    {
     "data": {
      "text/plain": [
       "[{'DiseaseID': 'MESH:D001943',\n",
       "  'DiseaseName': 'Breast Neoplasms',\n",
       "  'AltDiseaseIDs': 'DO:DOID:1612|DO:DOID:3459|OMIM:114480',\n",
       "  'Synonyms': 'Breast Cancer|BREAST CANCER, FAMILIAL BREAST CANCER, FAMILIAL MALE, INCLUDED|Breast Carcinoma|Breast Carcinomas|Breast Malignant Neoplasm|Breast Malignant Neoplasms|Breast Malignant Tumor|Breast Malignant Tumors|Breast Neoplasm|Breast Tumor|Breast Tumors|Cancer, Breast|Cancer, Mammary|Cancer of Breast|Cancer of the Breast|Cancers, Mammary|Carcinoma, Breast|Carcinoma, Human Mammary|Carcinomas, Breast|Carcinomas, Human Mammary|Human Mammary Carcinoma|Human Mammary Carcinomas|Human Mammary Neoplasm|Human Mammary Neoplasms|Malignant Neoplasm of Breast|Malignant Tumor of Breast|Mammary Cancer|Mammary Cancers|Mammary Carcinoma, Human|Mammary Carcinomas, Human|Mammary Neoplasm, Human|Mammary Neoplasms, Human|Neoplasm, Breast|Neoplasm, Human Mammary|Neoplasms, Breast|Neoplasms, Human Mammary|Tumor, Breast|Tumors, Breast'}]"
      ]
     },
     "execution_count": 252,
     "metadata": {},
     "output_type": "execute_result"
    }
   ],
   "source": [
    "get_disease_by_id(\"MESH:D001943\")"
   ]
  },
  {
   "cell_type": "markdown",
   "metadata": {},
   "source": [
    "As we can see, \"breast cancer\" with \"MESH:D001943\" can be found as a \"Breast Neoplasms\" in our knowledge graph, however, \"breast cancer\" is listed as a synonym. Let us compare the findings for this in our two indices."
   ]
  },
  {
   "cell_type": "code",
   "execution_count": 254,
   "metadata": {},
   "outputs": [
    {
     "data": {
      "image/svg+xml": [
       "<svg xmlns=\"http://www.w3.org/2000/svg\" width=\"877.164306640625\" height=\"499.5315246582031\" viewBox=\"-572.4708862304688 -110.65230560302734 877.164306640625 499.5315246582031\"><title>Neo4j Graph Visualization</title><desc>Created using Neo4j (http://www.neo4j.com/)</desc><g class=\"layer relationships\"><g class=\"relationship\" transform=\"translate(268.92601719845607 -25.655000055494497) rotate(525.3286609632486)\"><path class=\"b-outline\" fill=\"#A5ABB6\" stroke=\"none\" d=\"M 25 0.5 L 286.7035630255629 0.5 L 286.7035630255629 -0.5 L 25 -0.5 Z M 373.3246567755629 0.5 L 635.0282198011258 0.5 L 635.0282198011258 3.5 L 642.0282198011258 0 L 635.0282198011258 -3.5 L 635.0282198011258 -0.5 L 373.3246567755629 -0.5 Z\"/><text text-anchor=\"middle\" pointer-events=\"none\" font-size=\"8px\" fill=\"#000000\" x=\"330.0141099005629\" y=\"3\" transform=\"rotate(180 330.0141099005629 0)\" font-family=\"Helvetica Neue, Helvetica, Arial, sans-serif\">SUB_CATEGORY_OF</text></g><g class=\"relationship\" transform=\"translate(-102.98417804245852 116.96148165228398) rotate(534.4995857982387)\"><path class=\"b-outline\" fill=\"#A5ABB6\" stroke=\"none\" d=\"M 25 0.5 L 90.50636897229066 0.5 L 90.50636897229066 -0.5 L 25 -0.5 Z M 177.12746272229066 0.5 L 242.63383169458132 0.5 L 242.63383169458132 3.5 L 249.63383169458132 0 L 242.63383169458132 -3.5 L 242.63383169458132 -0.5 L 177.12746272229066 -0.5 Z\"/><text text-anchor=\"middle\" pointer-events=\"none\" font-size=\"8px\" fill=\"#000000\" x=\"133.81691584729066\" y=\"3\" transform=\"rotate(180 133.81691584729066 0)\" font-family=\"Helvetica Neue, Helvetica, Arial, sans-serif\">SUB_CATEGORY_OF</text></g><g class=\"relationship\" transform=\"translate(-462.50513587726385 -29.34749912473931) rotate(423.47878750168513)\"><path class=\"b-outline\" fill=\"#A5ABB6\" stroke=\"none\" d=\"M 25 0.5 L 49.65760465359065 0.5 L 49.65760465359065 -0.5 L 25 -0.5 Z M 136.27869840359065 0.5 L 160.9363030571813 0.5 L 160.9363030571813 3.5 L 167.9363030571813 0 L 160.9363030571813 -3.5 L 160.9363030571813 -0.5 L 136.27869840359065 -0.5 Z\"/><text text-anchor=\"middle\" pointer-events=\"none\" font-size=\"8px\" fill=\"#000000\" x=\"92.96815152859065\" y=\"3\" font-family=\"Helvetica Neue, Helvetica, Arial, sans-serif\">SUB_CATEGORY_OF</text></g><g class=\"relationship\" transform=\"translate(-380.80345641652974 -81.65230426418812) rotate(448.8666544057348)\"><path class=\"b-outline\" fill=\"#A5ABB6\" stroke=\"none\" d=\"M 25 0.5 L 65.68058396729542 0.5 L 65.68058396729542 -0.5 L 25 -0.5 Z M 152.30167771729543 0.5 L 192.98226168459084 0.5 L 192.98226168459084 3.5 L 199.98226168459084 0 L 192.98226168459084 -3.5 L 192.98226168459084 -0.5 L 152.30167771729543 -0.5 Z\"/><text text-anchor=\"middle\" pointer-events=\"none\" font-size=\"8px\" fill=\"#000000\" x=\"108.99113084229542\" y=\"3\" font-family=\"Helvetica Neue, Helvetica, Arial, sans-serif\">SUB_CATEGORY_OF</text></g><g class=\"relationship\" transform=\"translate(-376.3534597570034 143.28594415622598) rotate(427.4018723640518)\"><path class=\"b-outline\" fill=\"#A5ABB6\" stroke=\"none\" d=\"M 25 0.5 L 59.904839892461794 0.5 L 59.904839892461794 -0.5 L 25 -0.5 Z M 146.52593364246178 0.5 L 181.4307735349236 0.5 L 181.4307735349236 3.5 L 188.4307735349236 0 L 181.4307735349236 -3.5 L 181.4307735349236 -0.5 L 146.52593364246178 -0.5 Z\"/><text text-anchor=\"middle\" pointer-events=\"none\" font-size=\"8px\" fill=\"#000000\" x=\"103.2153867674618\" y=\"3\" font-family=\"Helvetica Neue, Helvetica, Arial, sans-serif\">SUB_CATEGORY_OF</text></g><g class=\"relationship\" transform=\"translate(-457.1897040051324 68.29119130540334) rotate(402.8532116799731)\"><path class=\"b-outline\" fill=\"#A5ABB6\" stroke=\"none\" d=\"M 25 0.5 L 26.478976516163563 0.5 L 26.478976516163563 -0.5 L 25 -0.5 Z M 76.78757026616356 0.5 L 78.26654678232713 0.5 L 78.26654678232713 3.5 L 85.26654678232713 0 L 78.26654678232713 -3.5 L 78.26654678232713 -0.5 L 76.78757026616356 -0.5 Z\"/><text text-anchor=\"middle\" pointer-events=\"none\" font-size=\"8px\" fill=\"#000000\" x=\"51.63327339116356\" y=\"3\" font-family=\"Helvetica Neue, Helvetica, Arial, sans-serif\">SUB_CAT…</text></g><g class=\"relationship\" transform=\"translate(-540.4013792575983 121.5745696827927) rotate(367.53915332001003)\"><path class=\"b-outline\" fill=\"#A5ABB6\" stroke=\"none\" d=\"M 25 0.5 L 35.92865736639831 0.5 L 35.92865736639831 -0.5 L 25 -0.5 Z M 122.54975111639831 0.5 L 133.47840848279662 0.5 L 133.47840848279662 3.5 L 140.47840848279662 0 L 133.47840848279662 -3.5 L 133.47840848279662 -0.5 L 122.54975111639831 -0.5 Z\"/><text text-anchor=\"middle\" pointer-events=\"none\" font-size=\"8px\" fill=\"#000000\" x=\"79.23920424139831\" y=\"3\" font-family=\"Helvetica Neue, Helvetica, Arial, sans-serif\">SUB_CATEGORY_OF</text></g><g class=\"relationship\" transform=\"translate(-525.7089523157154 217.37986458210895) rotate(333.61440272760683)\"><path class=\"b-outline\" fill=\"#A5ABB6\" stroke=\"none\" d=\"M 25 0.5 L 36.55157312193346 0.5 L 36.55157312193346 -0.5 L 25 -0.5 Z M 123.17266687193346 0.5 L 134.72423999386692 0.5 L 134.72423999386692 3.5 L 141.72423999386692 0 L 134.72423999386692 -3.5 L 134.72423999386692 -0.5 L 123.17266687193346 -0.5 Z\"/><text text-anchor=\"middle\" pointer-events=\"none\" font-size=\"8px\" fill=\"#000000\" x=\"79.86211999693346\" y=\"3\" font-family=\"Helvetica Neue, Helvetica, Arial, sans-serif\">SUB_CATEGORY_OF</text></g><g class=\"relationship\" transform=\"translate(-488.3655333929932 308.93901142764463) rotate(304.06595706297543)\"><path class=\"b-outline\" fill=\"#A5ABB6\" stroke=\"none\" d=\"M 25 0.5 L 53.17400610277697 0.5 L 53.17400610277697 -0.5 L 25 -0.5 Z M 139.79509985277696 0.5 L 167.96910595555394 0.5 L 167.96910595555394 3.5 L 174.96910595555394 0 L 167.96910595555394 -3.5 L 167.96910595555394 -0.5 L 139.79509985277696 -0.5 Z\"/><text text-anchor=\"middle\" pointer-events=\"none\" font-size=\"8px\" fill=\"#000000\" x=\"96.48455297777697\" y=\"3\" font-family=\"Helvetica Neue, Helvetica, Arial, sans-serif\">SUB_CATEGORY_OF</text></g><g class=\"relationship\" transform=\"translate(-326.9649110811711 248.64890041176216) rotate(244.8853153904987)\"><path class=\"b-outline\" fill=\"#A5ABB6\" stroke=\"none\" d=\"M 25 0.5 L 26.85973608345595 0.5 L 26.85973608345595 -0.5 L 25 -0.5 Z M 82.50426733345594 0.5 L 84.3640034169119 0.5 L 84.3640034169119 3.5 L 91.3640034169119 0 L 84.3640034169119 -3.5 L 84.3640034169119 -0.5 L 82.50426733345594 -0.5 Z\"/><text text-anchor=\"middle\" pointer-events=\"none\" font-size=\"8px\" fill=\"#000000\" x=\"54.68200170845595\" y=\"3\" transform=\"rotate(180 54.68200170845595 0)\" font-family=\"Helvetica Neue, Helvetica, Arial, sans-serif\">SUB_CATE…</text></g><g class=\"relationship\" transform=\"translate(-261.57314066512714 174.33773724757282) rotate(195.13800194069393)\"><path class=\"b-outline\" fill=\"#A5ABB6\" stroke=\"none\" d=\"M 25 0.5 L 25.019613701366218 0.5 L 25.019613701366218 -0.5 L 25 -0.5 Z M 86.88680120136621 0.5 L 86.90641490273244 0.5 L 86.90641490273244 3.5 L 93.90641490273244 0 L 86.90641490273244 -3.5 L 86.90641490273244 -0.5 L 86.88680120136621 -0.5 Z\"/><text text-anchor=\"middle\" pointer-events=\"none\" font-size=\"8px\" fill=\"#000000\" x=\"55.95320745136622\" y=\"3\" transform=\"rotate(180 55.95320745136622 0)\" font-family=\"Helvetica Neue, Helvetica, Arial, sans-serif\">SUB_CATEG…</text></g><g class=\"relationship\" transform=\"translate(-286.37745873415986 59.68605995933557) rotate(497.1037507363989)\"><path class=\"b-outline\" fill=\"#A5ABB6\" stroke=\"none\" d=\"M 25 0.5 L 26.976139594552613 0.5 L 26.976139594552613 -0.5 L 25 -0.5 Z M 88.84332709455262 0.5 L 90.81946668910523 0.5 L 90.81946668910523 3.5 L 97.81946668910523 0 L 90.81946668910523 -3.5 L 90.81946668910523 -0.5 L 88.84332709455262 -0.5 Z\"/><text text-anchor=\"middle\" pointer-events=\"none\" font-size=\"8px\" fill=\"#000000\" x=\"57.90973334455261\" y=\"3\" transform=\"rotate(180 57.90973334455261 0)\" font-family=\"Helvetica Neue, Helvetica, Arial, sans-serif\">SUB_CATEG…</text></g><g class=\"relationship\" transform=\"translate(-374.8007198910953 14.410077851387362) rotate(450.6902854592628)\"><path class=\"b-outline\" fill=\"#A5ABB6\" stroke=\"none\" d=\"M 25 0.5 L 26.897688090987984 0.5 L 26.897688090987984 -0.5 L 25 -0.5 Z M 94.98753184098798 0.5 L 96.88521993197597 0.5 L 96.88521993197597 3.5 L 103.88521993197597 0 L 96.88521993197597 -3.5 L 96.88521993197597 -0.5 L 94.98753184098798 -0.5 Z\"/><text text-anchor=\"middle\" pointer-events=\"none\" font-size=\"8px\" fill=\"#000000\" x=\"60.942609965987984\" y=\"3\" transform=\"rotate(180 60.942609965987984 0)\" font-family=\"Helvetica Neue, Helvetica, Arial, sans-serif\">SUB_CATEGO…</text></g><g class=\"relationship\" transform=\"translate(-205.52523427360114 3.9414043025907564) rotate(500.7958834358572)\"><path class=\"b-outline\" fill=\"#A5ABB6\" stroke=\"none\" d=\"M 25 0.5 L 63.41556551316039 0.5 L 63.41556551316039 -0.5 L 25 -0.5 Z M 150.0366592631604 0.5 L 188.45222477632078 0.5 L 188.45222477632078 3.5 L 195.45222477632078 0 L 188.45222477632078 -3.5 L 188.45222477632078 -0.5 L 150.0366592631604 -0.5 Z\"/><text text-anchor=\"middle\" pointer-events=\"none\" font-size=\"8px\" fill=\"#000000\" x=\"106.72611238816039\" y=\"3\" transform=\"rotate(180 106.72611238816039 0)\" font-family=\"Helvetica Neue, Helvetica, Arial, sans-serif\">SUB_CATEGORY_OF</text></g><g class=\"relationship\" transform=\"translate(-197.82099590906006 100.88042814158321) rotate(526.6385494317958)\"><path class=\"b-outline\" fill=\"#A5ABB6\" stroke=\"none\" d=\"M 25 0.5 L 44.93920576238497 0.5 L 44.93920576238497 -0.5 L 25 -0.5 Z M 131.56029951238497 0.5 L 151.49950527476994 0.5 L 151.49950527476994 3.5 L 158.49950527476994 0 L 151.49950527476994 -3.5 L 151.49950527476994 -0.5 L 131.56029951238497 -0.5 Z\"/><text text-anchor=\"middle\" pointer-events=\"none\" font-size=\"8px\" fill=\"#000000\" x=\"88.24975263738497\" y=\"3\" transform=\"rotate(180 88.24975263738497 0)\" font-family=\"Helvetica Neue, Helvetica, Arial, sans-serif\">SUB_CATEGORY_OF</text></g><g class=\"relationship\" transform=\"translate(-293.6112935398075 -38.42358523527039) rotate(474.4823381007242)\"><path class=\"b-outline\" fill=\"#A5ABB6\" stroke=\"none\" d=\"M 25 0.5 L 53.02008362234932 0.5 L 53.02008362234932 -0.5 L 25 -0.5 Z M 139.64117737234932 0.5 L 167.66126099469864 0.5 L 167.66126099469864 3.5 L 174.66126099469864 0 L 167.66126099469864 -3.5 L 167.66126099469864 -0.5 L 139.64117737234932 -0.5 Z\"/><text text-anchor=\"middle\" pointer-events=\"none\" font-size=\"8px\" fill=\"#000000\" x=\"96.33063049734932\" y=\"3\" transform=\"rotate(180 96.33063049734932 0)\" font-family=\"Helvetica Neue, Helvetica, Arial, sans-serif\">SUB_CATEGORY_OF</text></g><g class=\"relationship\" transform=\"translate(-376.3534597570034 143.28594415622598) rotate(215.37321327962985)\"><path class=\"b-outline\" fill=\"#A5ABB6\" stroke=\"none\" d=\"M 25 0.5 L 55.66536572482251 0.5 L 55.66536572482251 -0.5 L 25 -0.5 Z M 142.2864594748225 0.5 L 172.95182519964501 0.5 L 172.95182519964501 3.5 L 179.95182519964501 0 L 172.95182519964501 -3.5 L 172.95182519964501 -0.5 L 142.2864594748225 -0.5 Z\"/><text text-anchor=\"middle\" pointer-events=\"none\" font-size=\"8px\" fill=\"#000000\" x=\"98.97591259982251\" y=\"3\" transform=\"rotate(180 98.97591259982251 0)\" font-family=\"Helvetica Neue, Helvetica, Arial, sans-serif\">SUB_CATEGORY_OF</text></g><g class=\"relationship\" transform=\"translate(-163.72553926542855 193.68513604573477) rotate(193.3347235495698)\"><path class=\"b-outline\" fill=\"#A5ABB6\" stroke=\"none\" d=\"M 25 0.5 L 62.44913360651043 0.5 L 62.44913360651043 -0.5 L 25 -0.5 Z M 149.07022735651043 0.5 L 186.51936096302086 0.5 L 186.51936096302086 3.5 L 193.51936096302086 0 L 186.51936096302086 -3.5 L 186.51936096302086 -0.5 L 149.07022735651043 -0.5 Z\"/><text text-anchor=\"middle\" pointer-events=\"none\" font-size=\"8px\" fill=\"#000000\" x=\"105.75968048151043\" y=\"3\" transform=\"rotate(180 105.75968048151043 0)\" font-family=\"Helvetica Neue, Helvetica, Arial, sans-serif\">SUB_CATEGORY_OF</text></g><g class=\"relationship\" transform=\"translate(-427.8494829757397 233.3579810344287) rotate(299.75748551759295)\"><path class=\"b-outline\" fill=\"#A5ABB6\" stroke=\"none\" d=\"M 25 0.5 L 25.37094718326103 0.5 L 25.37094718326103 -0.5 L 25 -0.5 Z M 71.38266593326102 0.5 L 71.75361311652206 0.5 L 71.75361311652206 3.5 L 78.75361311652206 0 L 71.75361311652206 -3.5 L 71.75361311652206 -0.5 L 71.38266593326102 -0.5 Z\"/><text text-anchor=\"middle\" pointer-events=\"none\" font-size=\"8px\" fill=\"#000000\" x=\"48.37680655826103\" y=\"3\" font-family=\"Helvetica Neue, Helvetica, Arial, sans-serif\">SUB_CA…</text></g><g class=\"relationship\" transform=\"translate(-231.064181747678 266.7190373983372) rotate(220.35015739217022)\"><path class=\"b-outline\" fill=\"#A5ABB6\" stroke=\"none\" d=\"M 25 0.5 L 48.5108867217871 0.5 L 48.5108867217871 -0.5 L 25 -0.5 Z M 135.1319804717871 0.5 L 158.6428671935742 0.5 L 158.6428671935742 3.5 L 165.6428671935742 0 L 158.6428671935742 -3.5 L 158.6428671935742 -0.5 L 135.1319804717871 -0.5 Z\"/><text text-anchor=\"middle\" pointer-events=\"none\" font-size=\"8px\" fill=\"#000000\" x=\"91.8214335967871\" y=\"3\" transform=\"rotate(180 91.8214335967871 0)\" font-family=\"Helvetica Neue, Helvetica, Arial, sans-serif\">SUB_CATEGORY_OF</text></g><g class=\"relationship\" transform=\"translate(-390.0883161728393 323.27682100758045) rotate(274.36370533279114)\"><path class=\"b-outline\" fill=\"#A5ABB6\" stroke=\"none\" d=\"M 25 0.5 L 43.44653322191411 0.5 L 43.44653322191411 -0.5 L 25 -0.5 Z M 130.0676269719141 0.5 L 148.51416019382822 0.5 L 148.51416019382822 3.5 L 155.51416019382822 0 L 148.51416019382822 -3.5 L 148.51416019382822 -0.5 L 130.0676269719141 -0.5 Z\"/><text text-anchor=\"middle\" pointer-events=\"none\" font-size=\"8px\" fill=\"#000000\" x=\"86.75708009691411\" y=\"3\" font-family=\"Helvetica Neue, Helvetica, Arial, sans-serif\">SUB_CATEGORY_OF</text></g><g class=\"relationship\" transform=\"translate(82.80877724631517 174.87171057140387) rotate(538.1638028790478)\"><path class=\"b-outline\" fill=\"#A5ABB6\" stroke=\"none\" d=\"M 25 0.5 L 26.311217405927337 0.5 L 26.311217405927337 -0.5 L 25 -0.5 Z M 72.32293615592734 0.5 L 73.63415356185467 0.5 L 73.63415356185467 3.5 L 80.63415356185467 0 L 73.63415356185467 -3.5 L 73.63415356185467 -0.5 L 72.32293615592734 -0.5 Z\"/><text text-anchor=\"middle\" pointer-events=\"none\" font-size=\"8px\" fill=\"#000000\" x=\"49.31707678092734\" y=\"3\" transform=\"rotate(180 49.31707678092734 0)\" font-family=\"Helvetica Neue, Helvetica, Arial, sans-serif\">SUB_CA…</text></g><g class=\"relationship\" transform=\"translate(-163.72553926542855 193.68513604573477) rotate(353.7533511699561)\"><path class=\"b-outline\" fill=\"#A5ABB6\" stroke=\"none\" d=\"M 25 0.5 L 25.642286050459404 0.5 L 25.642286050459404 -0.5 L 25 -0.5 Z M 109.1540048004594 0.5 L 109.79629085091881 0.5 L 109.79629085091881 3.5 L 116.79629085091881 0 L 109.79629085091881 -3.5 L 109.79629085091881 -0.5 L 109.1540048004594 -0.5 Z\"/><text text-anchor=\"middle\" pointer-events=\"none\" font-size=\"8px\" fill=\"#000000\" x=\"67.3981454254594\" y=\"3\" font-family=\"Helvetica Neue, Helvetica, Arial, sans-serif\">SUB_CATEGORY_…</text></g><g class=\"relationship\" transform=\"translate(-102.98417804245852 116.96148165228398) rotate(397.38533633274307)\"><path class=\"b-outline\" fill=\"#A5ABB6\" stroke=\"none\" d=\"M 25 0.5 L 26.63786296913915 0.5 L 26.63786296913915 -0.5 L 25 -0.5 Z M 67.31364421913915 0.5 L 68.9515071882783 0.5 L 68.9515071882783 3.5 L 75.9515071882783 0 L 68.9515071882783 -3.5 L 68.9515071882783 -0.5 L 67.31364421913915 -0.5 Z\"/><text text-anchor=\"middle\" pointer-events=\"none\" font-size=\"8px\" fill=\"#000000\" x=\"46.97575359413915\" y=\"3\" font-family=\"Helvetica Neue, Helvetica, Arial, sans-serif\">SUB_C…</text></g><g class=\"relationship\" transform=\"translate(82.80877724631517 174.87171057140387) rotate(358.896989288133)\"><path class=\"b-outline\" fill=\"#A5ABB6\" stroke=\"none\" d=\"M 25 0.5 L 49.64966283984184 0.5 L 49.64966283984184 -0.5 L 25 -0.5 Z M 136.27075658984182 0.5 L 160.92041942968368 0.5 L 160.92041942968368 3.5 L 167.92041942968368 0 L 160.92041942968368 -3.5 L 160.92041942968368 -0.5 L 136.27075658984182 -0.5 Z\"/><text text-anchor=\"middle\" pointer-events=\"none\" font-size=\"8px\" fill=\"#000000\" x=\"92.96020971484184\" y=\"3\" font-family=\"Helvetica Neue, Helvetica, Arial, sans-serif\">SUB_CATEGORY_OF</text></g><g class=\"relationship\" transform=\"translate(275.69344890358144 171.15799644755833) rotate(515.385646244689)\"><path class=\"b-outline\" fill=\"#A5ABB6\" stroke=\"none\" d=\"M 25 0.5 L 122.64320122406582 0.5 L 122.64320122406582 -0.5 L 25 -0.5 Z M 209.26429497406582 0.5 L 306.90749619813164 0.5 L 306.90749619813164 3.5 L 313.90749619813164 0 L 306.90749619813164 -3.5 L 306.90749619813164 -0.5 L 209.26429497406582 -0.5 Z\"/><text text-anchor=\"middle\" pointer-events=\"none\" font-size=\"8px\" fill=\"#000000\" x=\"165.95374809906582\" y=\"3\" transform=\"rotate(180 165.95374809906582 0)\" font-family=\"Helvetica Neue, Helvetica, Arial, sans-serif\">SUB_CATEGORY_OF</text></g><g class=\"relationship\" transform=\"translate(275.69344890358144 171.15799644755833) rotate(495.0984225768158)\"><path class=\"b-outline\" fill=\"#A5ABB6\" stroke=\"none\" d=\"M 25 0.5 L 86.86532621621814 0.5 L 86.86532621621814 -0.5 L 25 -0.5 Z M 173.48641996621814 0.5 L 235.35174618243627 0.5 L 235.35174618243627 3.5 L 242.35174618243627 0 L 235.35174618243627 -3.5 L 235.35174618243627 -0.5 L 173.48641996621814 -0.5 Z\"/><text text-anchor=\"middle\" pointer-events=\"none\" font-size=\"8px\" fill=\"#000000\" x=\"130.17587309121814\" y=\"3\" transform=\"rotate(180 130.17587309121814 0)\" font-family=\"Helvetica Neue, Helvetica, Arial, sans-serif\">SUB_CATEGORY_OF</text></g></g><g class=\"layer nodes\"><g class=\"node\" aria-label=\"graph-node1614\" transform=\"translate(268.92601719845607,-25.655000055494497)\"><circle class=\"b-outline\" cx=\"0\" cy=\"0\" r=\"25\" fill=\"#C990C0\" stroke=\"#b261a5\" stroke-width=\"2px\"/><text class=\"caption\" text-anchor=\"middle\" pointer-events=\"none\" x=\"0\" y=\"0\" font-size=\"10px\" fill=\"#FFFFFF\" font-family=\"Helvetica Neue, Helvetica, Arial, sans-serif\"> Breast</text><text class=\"caption\" text-anchor=\"middle\" pointer-events=\"none\" x=\"0\" y=\"10\" font-size=\"10px\" fill=\"#FFFFFF\" font-family=\"Helvetica Neue, Helvetica, Arial, sans-serif\">3…</text></g><g class=\"node\" aria-label=\"graph-node1622\" transform=\"translate(-376.3534597570034,143.28594415622598)\"><circle class=\"b-outline\" cx=\"0\" cy=\"0\" r=\"25\" fill=\"#C990C0\" stroke=\"#b261a5\" stroke-width=\"2px\"/><text class=\"caption\" text-anchor=\"middle\" pointer-events=\"none\" x=\"0\" y=\"0\" font-size=\"10px\" fill=\"#FFFFFF\" font-family=\"Helvetica Neue, Helvetica, Arial, sans-serif\"> Breast</text><text class=\"caption\" text-anchor=\"middle\" pointer-events=\"none\" x=\"0\" y=\"10\" font-size=\"10px\" fill=\"#FFFFFF\" font-family=\"Helvetica Neue, Helvetica, Arial, sans-serif\"> Neopl…</text></g><g class=\"node\" aria-label=\"graph-node741\" transform=\"translate(-102.98417804245852,116.96148165228398)\"><circle class=\"b-outline\" cx=\"0\" cy=\"0\" r=\"25\" fill=\"#C990C0\" stroke=\"#b261a5\" stroke-width=\"2px\"/><text class=\"caption\" text-anchor=\"middle\" pointer-events=\"none\" x=\"0\" y=\"5\" font-size=\"10px\" fill=\"#FFFFFF\" font-family=\"Helvetica Neue, Helvetica, Arial, sans-serif\"> Angiosar…</text></g><g class=\"node\" aria-label=\"graph-node1615\" transform=\"translate(-462.50513587726385,-29.34749912473931)\"><circle class=\"b-outline\" cx=\"0\" cy=\"0\" r=\"25\" fill=\"#C990C0\" stroke=\"#b261a5\" stroke-width=\"2px\"/><text class=\"caption\" text-anchor=\"middle\" pointer-events=\"none\" x=\"0\" y=\"-5\" font-size=\"10px\" fill=\"#FFFFFF\" font-family=\"Helvetica Neue, Helvetica, Arial, sans-serif\"> Breast</text><text class=\"caption\" text-anchor=\"middle\" pointer-events=\"none\" x=\"0\" y=\"5\" font-size=\"10px\" fill=\"#FFFFFF\" font-family=\"Helvetica Neue, Helvetica, Arial, sans-serif\"> Cancer,</text><text class=\"caption\" text-anchor=\"middle\" pointer-events=\"none\" x=\"0\" y=\"15\" font-size=\"10px\" fill=\"#FFFFFF\" font-family=\"Helvetica Neue, Helvetica, Arial, sans-serif\"> Fami</text></g><g class=\"node\" aria-label=\"graph-node1618\" transform=\"translate(-380.80345641652974,-81.65230426418812)\"><circle class=\"b-outline\" cx=\"0\" cy=\"0\" r=\"25\" fill=\"#C990C0\" stroke=\"#b261a5\" stroke-width=\"2px\"/><text class=\"caption\" text-anchor=\"middle\" pointer-events=\"none\" x=\"0\" y=\"0\" font-size=\"10px\" fill=\"#FFFFFF\" font-family=\"Helvetica Neue, Helvetica, Arial, sans-serif\"> Breast</text><text class=\"caption\" text-anchor=\"middle\" pointer-events=\"none\" x=\"0\" y=\"10\" font-size=\"10px\" fill=\"#FFFFFF\" font-family=\"Helvetica Neue, Helvetica, Arial, sans-serif\"> Carcin…</text></g><g class=\"node\" aria-label=\"graph-node1620\" transform=\"translate(-294.3394509216301,340.3300951642352)\"><circle class=\"b-outline\" cx=\"0\" cy=\"0\" r=\"25\" fill=\"#C990C0\" stroke=\"#b261a5\" stroke-width=\"2px\"/><text class=\"caption\" text-anchor=\"middle\" pointer-events=\"none\" x=\"0\" y=\"0\" font-size=\"10px\" fill=\"#FFFFFF\" font-family=\"Helvetica Neue, Helvetica, Arial, sans-serif\"> Breast</text><text class=\"caption\" text-anchor=\"middle\" pointer-events=\"none\" x=\"0\" y=\"10\" font-size=\"10px\" fill=\"#FFFFFF\" font-family=\"Helvetica Neue, Helvetica, Arial, sans-serif\"> Disea…</text></g><g class=\"node\" aria-label=\"graph-node1623\" transform=\"translate(-457.1897040051324,68.29119130540334)\"><circle class=\"b-outline\" cx=\"0\" cy=\"0\" r=\"25\" fill=\"#C990C0\" stroke=\"#b261a5\" stroke-width=\"2px\"/><text class=\"caption\" text-anchor=\"middle\" pointer-events=\"none\" x=\"0\" y=\"0\" font-size=\"10px\" fill=\"#FFFFFF\" font-family=\"Helvetica Neue, Helvetica, Arial, sans-serif\"> Breast</text><text class=\"caption\" text-anchor=\"middle\" pointer-events=\"none\" x=\"0\" y=\"10\" font-size=\"10px\" fill=\"#FFFFFF\" font-family=\"Helvetica Neue, Helvetica, Arial, sans-serif\"> Neopl…</text></g><g class=\"node\" aria-label=\"graph-node1624\" transform=\"translate(-540.4013792575983,121.5745696827927)\"><circle class=\"b-outline\" cx=\"0\" cy=\"0\" r=\"25\" fill=\"#C990C0\" stroke=\"#b261a5\" stroke-width=\"2px\"/><text class=\"caption\" text-anchor=\"middle\" pointer-events=\"none\" x=\"0\" y=\"5\" font-size=\"10px\" fill=\"#FFFFFF\" font-family=\"Helvetica Neue, Helvetica, Arial, sans-serif\"> BREAS…</text></g><g class=\"node\" aria-label=\"graph-node1625\" transform=\"translate(-525.7089523157154,217.37986458210895)\"><circle class=\"b-outline\" cx=\"0\" cy=\"0\" r=\"25\" fill=\"#C990C0\" stroke=\"#b261a5\" stroke-width=\"2px\"/><text class=\"caption\" text-anchor=\"middle\" pointer-events=\"none\" x=\"0\" y=\"5\" font-size=\"10px\" fill=\"#FFFFFF\" font-family=\"Helvetica Neue, Helvetica, Arial, sans-serif\"> BREAS…</text></g><g class=\"node\" aria-label=\"graph-node1626\" transform=\"translate(-488.3655333929932,308.93901142764463)\"><circle class=\"b-outline\" cx=\"0\" cy=\"0\" r=\"25\" fill=\"#C990C0\" stroke=\"#b261a5\" stroke-width=\"2px\"/><text class=\"caption\" text-anchor=\"middle\" pointer-events=\"none\" x=\"0\" y=\"5\" font-size=\"10px\" fill=\"#FFFFFF\" font-family=\"Helvetica Neue, Helvetica, Arial, sans-serif\"> BREAS…</text></g><g class=\"node\" aria-label=\"graph-node1627\" transform=\"translate(-326.9649110811711,248.64890041176216)\"><circle class=\"b-outline\" cx=\"0\" cy=\"0\" r=\"25\" fill=\"#C990C0\" stroke=\"#b261a5\" stroke-width=\"2px\"/><text class=\"caption\" text-anchor=\"middle\" pointer-events=\"none\" x=\"0\" y=\"5\" font-size=\"10px\" fill=\"#FFFFFF\" font-family=\"Helvetica Neue, Helvetica, Arial, sans-serif\"> BREAS…</text></g><g class=\"node\" aria-label=\"graph-node1816\" transform=\"translate(-261.57314066512714,174.33773724757282)\"><circle class=\"b-outline\" cx=\"0\" cy=\"0\" r=\"25\" fill=\"#C990C0\" stroke=\"#b261a5\" stroke-width=\"2px\"/><text class=\"caption\" text-anchor=\"middle\" pointer-events=\"none\" x=\"0\" y=\"5\" font-size=\"10px\" fill=\"#FFFFFF\" font-family=\"Helvetica Neue, Helvetica, Arial, sans-serif\"> Carcino…</text></g><g class=\"node\" aria-label=\"graph-node1828\" transform=\"translate(-286.37745873415986,59.68605995933557)\"><circle class=\"b-outline\" cx=\"0\" cy=\"0\" r=\"25\" fill=\"#C990C0\" stroke=\"#b261a5\" stroke-width=\"2px\"/><text class=\"caption\" text-anchor=\"middle\" pointer-events=\"none\" x=\"0\" y=\"5\" font-size=\"10px\" fill=\"#FFFFFF\" font-family=\"Helvetica Neue, Helvetica, Arial, sans-serif\"> Carcino…</text></g><g class=\"node\" aria-label=\"graph-node4491\" transform=\"translate(-374.8007198910953,14.410077851387362)\"><circle class=\"b-outline\" cx=\"0\" cy=\"0\" r=\"25\" fill=\"#C990C0\" stroke=\"#b261a5\" stroke-width=\"2px\"/><text class=\"caption\" text-anchor=\"middle\" pointer-events=\"none\" x=\"0\" y=\"0\" font-size=\"10px\" fill=\"#FFFFFF\" font-family=\"Helvetica Neue, Helvetica, Arial, sans-serif\"> Erosive</text><text class=\"caption\" text-anchor=\"middle\" pointer-events=\"none\" x=\"0\" y=\"10\" font-size=\"10px\" fill=\"#FFFFFF\" font-family=\"Helvetica Neue, Helvetica, Arial, sans-serif\"> Adeno…</text></g><g class=\"node\" aria-label=\"graph-node5711\" transform=\"translate(-205.52523427360114,3.9414043025907564)\"><circle class=\"b-outline\" cx=\"0\" cy=\"0\" r=\"25\" fill=\"#C990C0\" stroke=\"#b261a5\" stroke-width=\"2px\"/><text class=\"caption\" text-anchor=\"middle\" pointer-events=\"none\" x=\"0\" y=\"0\" font-size=\"10px\" fill=\"#FFFFFF\" font-family=\"Helvetica Neue, Helvetica, Arial, sans-serif\"> Hereditary</text><text class=\"caption\" text-anchor=\"middle\" pointer-events=\"none\" x=\"0\" y=\"10\" font-size=\"10px\" fill=\"#FFFFFF\" font-family=\"Helvetica Neue, Helvetica, Arial, sans-serif\">a…</text></g><g class=\"node\" aria-label=\"graph-node6548\" transform=\"translate(-197.82099590906006,100.88042814158321)\"><circle class=\"b-outline\" cx=\"0\" cy=\"0\" r=\"25\" fill=\"#C990C0\" stroke=\"#b261a5\" stroke-width=\"2px\"/><text class=\"caption\" text-anchor=\"middle\" pointer-events=\"none\" x=\"0\" y=\"5\" font-size=\"10px\" fill=\"#FFFFFF\" font-family=\"Helvetica Neue, Helvetica, Arial, sans-serif\"> Inflamm…</text></g><g class=\"node\" aria-label=\"graph-node8418\" transform=\"translate(-293.6112935398075,-38.42358523527039)\"><circle class=\"b-outline\" cx=\"0\" cy=\"0\" r=\"25\" fill=\"#C990C0\" stroke=\"#b261a5\" stroke-width=\"2px\"/><text class=\"caption\" text-anchor=\"middle\" pointer-events=\"none\" x=\"0\" y=\"5\" font-size=\"10px\" fill=\"#FFFFFF\" font-family=\"Helvetica Neue, Helvetica, Arial, sans-serif\"> MULTIP…</text></g><g class=\"node\" aria-label=\"graph-node8815\" transform=\"translate(-543.4708767709119,24.63932775581932)\"><circle class=\"b-outline\" cx=\"0\" cy=\"0\" r=\"25\" fill=\"#C990C0\" stroke=\"#b261a5\" stroke-width=\"2px\"/><text class=\"caption\" text-anchor=\"middle\" pointer-events=\"none\" x=\"0\" y=\"5\" font-size=\"10px\" fill=\"#FFFFFF\" font-family=\"Helvetica Neue, Helvetica, Arial, sans-serif\"> Neoplas…</text></g><g class=\"node\" aria-label=\"graph-node10745\" transform=\"translate(-163.72553926542855,193.68513604573477)\"><circle class=\"b-outline\" cx=\"0\" cy=\"0\" r=\"25\" fill=\"#C990C0\" stroke=\"#b261a5\" stroke-width=\"2px\"/><text class=\"caption\" text-anchor=\"middle\" pointer-events=\"none\" x=\"0\" y=\"0\" font-size=\"10px\" fill=\"#FFFFFF\" font-family=\"Helvetica Neue, Helvetica, Arial, sans-serif\"> Radiation</text><text class=\"caption\" text-anchor=\"middle\" pointer-events=\"none\" x=\"0\" y=\"10\" font-size=\"10px\" fill=\"#FFFFFF\" font-family=\"Helvetica Neue, Helvetica, Arial, sans-serif\">a…</text></g><g class=\"node\" aria-label=\"graph-node11342\" transform=\"translate(-427.8494829757397,233.3579810344287)\"><circle class=\"b-outline\" cx=\"0\" cy=\"0\" r=\"25\" fill=\"#C990C0\" stroke=\"#b261a5\" stroke-width=\"2px\"/><text class=\"caption\" text-anchor=\"middle\" pointer-events=\"none\" x=\"0\" y=\"0\" font-size=\"10px\" fill=\"#FFFFFF\" font-family=\"Helvetica Neue, Helvetica, Arial, sans-serif\"> Secretory</text><text class=\"caption\" text-anchor=\"middle\" pointer-events=\"none\" x=\"0\" y=\"10\" font-size=\"10px\" fill=\"#FFFFFF\" font-family=\"Helvetica Neue, Helvetica, Arial, sans-serif\">ca…</text></g><g class=\"node\" aria-label=\"graph-node12640\" transform=\"translate(-231.064181747678,266.7190373983372)\"><circle class=\"b-outline\" cx=\"0\" cy=\"0\" r=\"25\" fill=\"#C990C0\" stroke=\"#b261a5\" stroke-width=\"2px\"/><text class=\"caption\" text-anchor=\"middle\" pointer-events=\"none\" x=\"0\" y=\"-5\" font-size=\"10px\" fill=\"#FFFFFF\" font-family=\"Helvetica Neue, Helvetica, Arial, sans-serif\"> Triple</text><text class=\"caption\" text-anchor=\"middle\" pointer-events=\"none\" x=\"0\" y=\"5\" font-size=\"10px\" fill=\"#FFFFFF\" font-family=\"Helvetica Neue, Helvetica, Arial, sans-serif\"> Negative</text><text class=\"caption\" text-anchor=\"middle\" pointer-events=\"none\" x=\"0\" y=\"15\" font-size=\"10px\" fill=\"#FFFFFF\" font-family=\"Helvetica Neue, Helvetica, Arial, sans-serif\"> Bre</text></g><g class=\"node\" aria-label=\"graph-node12756\" transform=\"translate(-390.0883161728393,323.27682100758045)\"><circle class=\"b-outline\" cx=\"0\" cy=\"0\" r=\"25\" fill=\"#C990C0\" stroke=\"#b261a5\" stroke-width=\"2px\"/><text class=\"caption\" text-anchor=\"middle\" pointer-events=\"none\" x=\"0\" y=\"0\" font-size=\"10px\" fill=\"#FFFFFF\" font-family=\"Helvetica Neue, Helvetica, Arial, sans-serif\"> Unilateral</text><text class=\"caption\" text-anchor=\"middle\" pointer-events=\"none\" x=\"0\" y=\"10\" font-size=\"10px\" fill=\"#FFFFFF\" font-family=\"Helvetica Neue, Helvetica, Arial, sans-serif\">N…</text></g><g class=\"node\" aria-label=\"graph-node5586\" transform=\"translate(-22.771134960576468,178.25646124383894)\"><circle class=\"b-outline\" cx=\"0\" cy=\"0\" r=\"25\" fill=\"#C990C0\" stroke=\"#b261a5\" stroke-width=\"2px\"/><text class=\"caption\" text-anchor=\"middle\" pointer-events=\"none\" x=\"0\" y=\"5\" font-size=\"10px\" fill=\"#FFFFFF\" font-family=\"Helvetica Neue, Helvetica, Arial, sans-serif\"> Hemang…</text></g><g class=\"node\" aria-label=\"graph-node10328\" transform=\"translate(82.80877724631517,174.87171057140387)\"><circle class=\"b-outline\" cx=\"0\" cy=\"0\" r=\"25\" fill=\"#C990C0\" stroke=\"#b261a5\" stroke-width=\"2px\"/><text class=\"caption\" text-anchor=\"middle\" pointer-events=\"none\" x=\"0\" y=\"5\" font-size=\"10px\" fill=\"#FFFFFF\" font-family=\"Helvetica Neue, Helvetica, Arial, sans-serif\"> Postmas…</text></g><g class=\"node\" aria-label=\"graph-node1617\" transform=\"translate(275.69344890358144,171.15799644755833)\"><circle class=\"b-outline\" cx=\"0\" cy=\"0\" r=\"25\" fill=\"#C990C0\" stroke=\"#b261a5\" stroke-width=\"2px\"/><text class=\"caption\" text-anchor=\"middle\" pointer-events=\"none\" x=\"0\" y=\"-5\" font-size=\"10px\" fill=\"#FFFFFF\" font-family=\"Helvetica Neue, Helvetica, Arial, sans-serif\"> Breast</text><text class=\"caption\" text-anchor=\"middle\" pointer-events=\"none\" x=\"0\" y=\"5\" font-size=\"10px\" fill=\"#FFFFFF\" font-family=\"Helvetica Neue, Helvetica, Arial, sans-serif\"> Cancer</text><text class=\"caption\" text-anchor=\"middle\" pointer-events=\"none\" x=\"0\" y=\"15\" font-size=\"10px\" fill=\"#FFFFFF\" font-family=\"Helvetica Neue, Helvetica, Arial, sans-serif\"> Lym…</text></g><g class=\"node\" aria-label=\"graph-node7473\" transform=\"translate(-32.418131023995954,312.3158700990791)\"><circle class=\"b-outline\" cx=\"0\" cy=\"0\" r=\"25\" fill=\"#C990C0\" stroke=\"#b261a5\" stroke-width=\"2px\"/><text class=\"caption\" text-anchor=\"middle\" pointer-events=\"none\" x=\"0\" y=\"5\" font-size=\"10px\" fill=\"#FFFFFF\" font-family=\"Helvetica Neue, Helvetica, Arial, sans-serif\"> Lymphe…</text></g><g class=\"node\" aria-label=\"graph-node10331\" transform=\"translate(86.32275205230519,359.87920712844567)\"><circle class=\"b-outline\" cx=\"0\" cy=\"0\" r=\"25\" fill=\"#C990C0\" stroke=\"#b261a5\" stroke-width=\"2px\"/><text class=\"caption\" text-anchor=\"middle\" pointer-events=\"none\" x=\"0\" y=\"5\" font-size=\"10px\" fill=\"#FFFFFF\" font-family=\"Helvetica Neue, Helvetica, Arial, sans-serif\"> Postope…</text></g></g></svg>"
      ],
      "text/plain": [
       "<IPython.core.display.SVG object>"
      ]
     },
     "metadata": {},
     "output_type": "display_data"
    }
   ],
   "source": [
    "display(SVG(filename='./media/svg/Fig_3_breast_cancer.svg'))"
   ]
  },
  {
   "cell_type": "markdown",
   "metadata": {},
   "source": [
    "This time the results are different:\n",
    "- vector index prediction is better, as \"Breast cancer 3\" belongs to the category of \"breast cancer\", which was given as a query;\n",
    "- vector index predicts the same value for the same input this time;\n",
    "- fulltext index prediction is less accurate, but it is still connected via a different cancer category.\n",
    "\n",
    "We cannot draw any conclusions just yet, but we can inspect one more aspect. We have written our index search queries with a fallback, so when a query cannot return any results - we get \"Unknown\" disease. Let us try to count how many unknowns each vector index produced."
   ]
  },
  {
   "cell_type": "code",
   "execution_count": 266,
   "metadata": {},
   "outputs": [
    {
     "data": {
      "image/png": "[encoded data removed]",
      "text/plain": [
       "<Figure size 640x480 with 1 Axes>"
      ]
     },
     "metadata": {},
     "output_type": "display_data"
    }
   ],
   "source": [
    "count_unknown_fulltext = sum(1 for item in predicted_values if item[0]['MESH_ID'] == 'Unknown')\n",
    "count_unknown_vector = sum(1 for item in predicted_values_vector if item[0]['MESH_ID'] == 'Unknown')\n",
    "\n",
    "labels = ['fulltext', 'vector']\n",
    "unknown_counts = [count_unknown_fulltext, count_unknown_vector]\n",
    "\n",
    "bars = plt.bar(labels, unknown_counts, color=['blue', 'orange'])\n",
    "plt.title('Number of Unknowns in Predicted Lists')\n",
    "plt.xlabel('Predicted List')\n",
    "plt.ylabel('Number of Unknowns')\n",
    "\n",
    "for bar in bars:\n",
    "    yval = bar.get_height()\n",
    "    plt.text(bar.get_x() + bar.get_width() / 2, yval, int(yval), ha='center', va='bottom', fontsize=12, color='black')\n",
    "\n",
    "plt.show()"
   ]
  },
  {
   "cell_type": "markdown",
   "metadata": {},
   "source": [
    "As we can see, the vector index always returns a value, no matter what input query it receives. It is both a strong side and a weakness of vector indices, and we should establish thresholds for it so the results are more realistic."
   ]
  },
  {
   "cell_type": "markdown",
   "metadata": {},
   "source": [
    "Up till this moment the fulltext index had a better performance, but this might be also due to the fact, that we included synonyms in it, whereas our vector index was relying purely on `DiseaseName` property. We identified, that some diseases from the dataset might map to one of the synonyms of the node, rather then its name, so let us experiment with vector index created on synonyms and compare the results.\n",
    "The `SynonymEmbeddings` property already contains a list of embeddings (one for each synonym in the `Synonyms` property), so we have a few options for how to handle this when creating a vector index:\n",
    "\n",
    "#### 1. **Create Separate Vector Indexes for Each Synonym Embedding**\n",
    "   - Treat each embedding in the list as a separate vector and create individual vector indexes for each synonym embedding. This approach can become complex as it might involve creating multiple indexes, which could be cumbersome depending on the number of synonyms.\n",
    "\n",
    "#### 2. **Combine Synonym Embeddings into a Single Embedding**\n",
    "   - Combine the list of embeddings into a single embedding vector, which can then be indexed using a single vector index. This can be done by averaging the embeddings, taking the sum, or using a more sophisticated method like weighted averaging or pooling.\n",
    "\n",
    "#### 3. **Query Using Each Synonym Embedding Separately**\n",
    "   - When querying, iterate over each embedding in the `SynonymsEmbeddings` list and perform a query for each. Aggregate the results to determine the most relevant entity based on all synonym embeddings.\n",
    "\n",
    "We will discard the first approach, as it is not scalable."
   ]
  },
  {
   "cell_type": "markdown",
   "metadata": {},
   "source": [
    "Since we're going to be using the disease name embeddings for queries, it's worth saving them to the dataset for better performance."
   ]
  },
  {
   "cell_type": "code",
   "execution_count": 206,
   "metadata": {},
   "outputs": [],
   "source": [
    "df['DiseaseEmbedding-BAAI-bge-small-en-v1_5'] = df['Description'].apply(lambda text: embed_model.get_text_embedding(text))"
   ]
  },
  {
   "cell_type": "code",
   "execution_count": 207,
   "metadata": {},
   "outputs": [
    {
     "data": {
      "text/html": [
       "<div>\n",
       "<style scoped>\n",
       "    .dataframe tbody tr th:only-of-type {\n",
       "        vertical-align: middle;\n",
       "    }\n",
       "\n",
       "    .dataframe tbody tr th {\n",
       "        vertical-align: top;\n",
       "    }\n",
       "\n",
       "    .dataframe thead th {\n",
       "        text-align: right;\n",
       "    }\n",
       "</style>\n",
       "<table border=\"1\" class=\"dataframe\">\n",
       "  <thead>\n",
       "    <tr style=\"text-align: right;\">\n",
       "      <th></th>\n",
       "      <th>ID</th>\n",
       "      <th>Start</th>\n",
       "      <th>End</th>\n",
       "      <th>Description</th>\n",
       "      <th>Type</th>\n",
       "      <th>MESH ID</th>\n",
       "      <th>DiseaseEmbedding-BAAI-bge-small-en-v1_5</th>\n",
       "    </tr>\n",
       "  </thead>\n",
       "  <tbody>\n",
       "    <tr>\n",
       "      <th>0</th>\n",
       "      <td>8808605</td>\n",
       "      <td>376</td>\n",
       "      <td>427</td>\n",
       "      <td>glucose-6-phosphate dehydrogenase (G6PD) defic...</td>\n",
       "      <td>SpecificDisease</td>\n",
       "      <td>MESH:D005955</td>\n",
       "      <td>[-0.004877162165939808, -0.003928985446691513,...</td>\n",
       "    </tr>\n",
       "    <tr>\n",
       "      <th>1</th>\n",
       "      <td>8808605</td>\n",
       "      <td>572</td>\n",
       "      <td>611</td>\n",
       "      <td>chronic nonspherocytic hemolytic anemia</td>\n",
       "      <td>SpecificDisease</td>\n",
       "      <td>MESH:D000746</td>\n",
       "      <td>[-0.08520334213972092, 0.050464704632759094, -...</td>\n",
       "    </tr>\n",
       "    <tr>\n",
       "      <th>2</th>\n",
       "      <td>8808605</td>\n",
       "      <td>677</td>\n",
       "      <td>692</td>\n",
       "      <td>G6PD deficiency</td>\n",
       "      <td>SpecificDisease</td>\n",
       "      <td>MESH:D005955</td>\n",
       "      <td>[0.008812346495687962, -0.038349658250808716, ...</td>\n",
       "    </tr>\n",
       "    <tr>\n",
       "      <th>3</th>\n",
       "      <td>8808605</td>\n",
       "      <td>1368</td>\n",
       "      <td>1383</td>\n",
       "      <td>G6PD deficiency</td>\n",
       "      <td>SpecificDisease</td>\n",
       "      <td>MESH:D005955</td>\n",
       "      <td>[0.008812346495687962, -0.038349658250808716, ...</td>\n",
       "    </tr>\n",
       "    <tr>\n",
       "      <th>4</th>\n",
       "      <td>9012409</td>\n",
       "      <td>112</td>\n",
       "      <td>149</td>\n",
       "      <td>Duarte enzyme variant of galactosemia</td>\n",
       "      <td>SpecificDisease</td>\n",
       "      <td>MESH:D005693</td>\n",
       "      <td>[-0.062161244451999664, -0.027829371392726898,...</td>\n",
       "    </tr>\n",
       "  </tbody>\n",
       "</table>\n",
       "</div>"
      ],
      "text/plain": [
       "        ID  Start   End                                        Description  \\\n",
       "0  8808605    376   427  glucose-6-phosphate dehydrogenase (G6PD) defic...   \n",
       "1  8808605    572   611            chronic nonspherocytic hemolytic anemia   \n",
       "2  8808605    677   692                                    G6PD deficiency   \n",
       "3  8808605   1368  1383                                    G6PD deficiency   \n",
       "4  9012409    112   149              Duarte enzyme variant of galactosemia   \n",
       "\n",
       "              Type       MESH ID  \\\n",
       "0  SpecificDisease  MESH:D005955   \n",
       "1  SpecificDisease  MESH:D000746   \n",
       "2  SpecificDisease  MESH:D005955   \n",
       "3  SpecificDisease  MESH:D005955   \n",
       "4  SpecificDisease  MESH:D005693   \n",
       "\n",
       "             DiseaseEmbedding-BAAI-bge-small-en-v1_5  \n",
       "0  [-0.004877162165939808, -0.003928985446691513,...  \n",
       "1  [-0.08520334213972092, 0.050464704632759094, -...  \n",
       "2  [0.008812346495687962, -0.038349658250808716, ...  \n",
       "3  [0.008812346495687962, -0.038349658250808716, ...  \n",
       "4  [-0.062161244451999664, -0.027829371392726898,...  "
      ]
     },
     "execution_count": 207,
     "metadata": {},
     "output_type": "execute_result"
    }
   ],
   "source": [
    "df.head()"
   ]
  },
  {
   "cell_type": "code",
   "execution_count": 208,
   "metadata": {},
   "outputs": [],
   "source": [
    "df.to_csv('../data/processed/ncbi_specific_disease.csv', sep=',')"
   ]
  },
  {
   "cell_type": "markdown",
   "metadata": {},
   "source": [
    "## Vector index: combine Synonym embeddings into a single embedding"
   ]
  },
  {
   "cell_type": "markdown",
   "metadata": {},
   "source": [
    "First of all, we need to combine the synonyms vectors into a new prop on each node. There are nodes without synonyms, so for the sake of completeness, we will duplicate `DiseaseEmbedding` vector into this new property."
   ]
  },
  {
   "cell_type": "code",
   "execution_count": 210,
   "metadata": {},
   "outputs": [],
   "source": [
    "create_synonyms_combined_vector_index_query = \"\"\"\n",
    "    CREATE VECTOR INDEX baaiVectorIndex_CombinedSynonym IF NOT EXISTS\n",
    "    FOR (d:Disease)\n",
    "    ON d.CombinedSynonymEmbedding\n",
    "    OPTIONS {\n",
    "        indexConfig: {\n",
    "            `vector.dimensions`: 384,\n",
    "            `vector.similarity_function`: 'cosine'\n",
    "        }\n",
    "    }\n",
    "\"\"\"\n",
    "\n",
    "get_synonyms_combined_vector_index_query = \"\"\"\n",
    "    CALL db.index.vector.queryNodes('baaiVectorIndex_CombinedSynonym', $query_embedding, $limit)\n",
    "    YIELD node AS disease, similarity AS score\n",
    "    RETURN disease.DiseaseName AS Description, disease.DiseaseID AS MESH_ID, disease.AltDiseaseIDs AS AltDiseaseIDs\n",
    "    ORDER BY score DESC\n",
    "\"\"\""
   ]
  }
 ],
 "metadata": {
  "kernelspec": {
   "display_name": "venv",
   "language": "python",
   "name": "python3"
  },
  "language_info": {
   "codemirror_mode": {
    "name": "ipython",
    "version": 3
   },
   "file_extension": ".py",
   "mimetype": "text/x-python",
   "name": "python",
   "nbconvert_exporter": "python",
   "pygments_lexer": "ipython3",
   "version": "3.12.4"
  }
 },
 "nbformat": 4,
 "nbformat_minor": 2
}
