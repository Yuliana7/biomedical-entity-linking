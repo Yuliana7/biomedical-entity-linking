{
 "cells": [
  {
   "cell_type": "code",
   "execution_count": 33,
   "metadata": {},
   "outputs": [],
   "source": [
    "from sklearn.metrics import precision_score, recall_score, f1_score, accuracy_score\n",
    "import pandas as pd\n",
    "import re\n",
    "\n",
    "from utils.generic import get_driver, Models"
   ]
  },
  {
   "cell_type": "code",
   "execution_count": 10,
   "metadata": {},
   "outputs": [],
   "source": [
    "driver = get_driver()"
   ]
  },
  {
   "cell_type": "markdown",
   "metadata": {},
   "source": [
    "## Baseline: fulltext index search"
   ]
  },
  {
   "cell_type": "markdown",
   "metadata": {},
   "source": [
    "Before running any complex experiments, we need a baseline to compare to. We believe a simple search by a keyword can be used as a baseline.\n",
    "We will need to create a fulltext index on our knowledge graph - and then run it on the whole dataset."
   ]
  },
  {
   "cell_type": "code",
   "execution_count": 3,
   "metadata": {},
   "outputs": [],
   "source": [
    "create_fulltext_inde_query = \"\"\"\n",
    "    CREATE FULLTEXT INDEX diseaseIndex FOR (n:Disease) ON EACH [n.DiseaseName, n.Synonyms]\n",
    "    OPTIONS {\n",
    "        indexConfig: {\n",
    "            `fulltext.analyzer`: 'english',\n",
    "            `fulltext.eventually_consistent`: true\n",
    "        }\n",
    "    }\n",
    "\"\"\""
   ]
  },
  {
   "cell_type": "code",
   "execution_count": 7,
   "metadata": {},
   "outputs": [],
   "source": [
    "with driver.session() as session:\n",
    "    session.run(create_fulltext_inde_query)"
   ]
  },
  {
   "cell_type": "code",
   "execution_count": 8,
   "metadata": {},
   "outputs": [],
   "source": [
    "df = pd.read_csv('../data/processed/ncbi_specific_disease.csv', sep=',')"
   ]
  },
  {
   "cell_type": "code",
   "execution_count": 27,
   "metadata": {},
   "outputs": [],
   "source": [
    "test = df[df['Description'].str.contains(\"/galactose malabsorption\", case=False, na=False)]"
   ]
  },
  {
   "cell_type": "code",
   "execution_count": 31,
   "metadata": {},
   "outputs": [
    {
     "data": {
      "text/plain": [
       "'autosomal recessive disease glucose/galactose malabsorption'"
      ]
     },
     "execution_count": 31,
     "metadata": {},
     "output_type": "execute_result"
    }
   ],
   "source": [
    "test.iloc[0]['Description']"
   ]
  },
  {
   "cell_type": "code",
   "execution_count": 38,
   "metadata": {},
   "outputs": [],
   "source": [
    "def fulltext_search(disease_name, limit=1):\n",
    "    with driver.session() as session:\n",
    "        query = \"\"\"\n",
    "            CALL db.index.fulltext.queryNodes('diseaseIndex', $disease_name)\n",
    "            YIELD node, score\n",
    "            RETURN node.DiseaseID AS MESH_ID, node.DiseaseName AS Description, score\n",
    "            LIMIT $limit\n",
    "        \"\"\"\n",
    "        result = session.run(query, disease_name=disease_name, limit=limit)\n",
    "\n",
    "        return [{'MESH_ID': record['MESH_ID'], 'Description': record['Description'], 'score': record['score']} for record in result]"
   ]
  },
  {
   "cell_type": "markdown",
   "metadata": {},
   "source": [
    "The presence of special characters in the search string will be causing issues with the Lucene query parser used by Neo4j's fulltext search. In order to make it work, we will escape them in the search query using a regexp."
   ]
  },
  {
   "cell_type": "code",
   "execution_count": 76,
   "metadata": {},
   "outputs": [],
   "source": [
    "def predict_with_fulltext_index(dataset, limit=1):\n",
    "    true_values = []\n",
    "    predicted_values = []\n",
    "\n",
    "    for _, row in dataset.iterrows():\n",
    "        disease_name = row['Description']\n",
    "        true_mesh_id = row['MESH ID']\n",
    "\n",
    "        disease_name_re = re.sub('[^A-Za-z0-9 ]+', '', disease_name)\n",
    "        \n",
    "        predicted_mesh_id = fulltext_search(disease_name_re, limit)\n",
    "        \n",
    "        true_values.append({\"MESH_ID\": true_mesh_id, \"Description\": disease_name})\n",
    "        predicted_values.append(predicted_mesh_id if len(predicted_mesh_id) > 0 else [{\"MESH_ID\": \"Unknown\", \"Description\": \"Unknown\"}])\n",
    "\n",
    "    return true_values, predicted_values"
   ]
  },
  {
   "cell_type": "code",
   "execution_count": 77,
   "metadata": {},
   "outputs": [],
   "source": [
    "[true_values, predicted_values] = predict_with_fulltext_index(df)"
   ]
  },
  {
   "cell_type": "code",
   "execution_count": 78,
   "metadata": {},
   "outputs": [],
   "source": [
    "flat_predicted_values = [entry[0]['MESH_ID'] for entry in predicted_values]\n",
    "flat_true_values = [entry['MESH_ID'] for entry in true_values]"
   ]
  },
  {
   "cell_type": "markdown",
   "metadata": {},
   "source": [
    "And now we can calculate the performance"
   ]
  },
  {
   "cell_type": "code",
   "execution_count": 79,
   "metadata": {},
   "outputs": [],
   "source": [
    "precision = precision_score(flat_true_values, flat_predicted_values, average='weighted', zero_division=0)\n",
    "recall = recall_score(flat_true_values, flat_predicted_values, average='weighted', zero_division=0)\n",
    "f1 = f1_score(flat_true_values, flat_predicted_values, average='weighted', zero_division=0)\n",
    "accuracy = accuracy_score(flat_true_values, flat_predicted_values)"
   ]
  },
  {
   "cell_type": "code",
   "execution_count": 80,
   "metadata": {},
   "outputs": [
    {
     "name": "stdout",
     "output_type": "stream",
     "text": [
      "Precision: 0.7939562909541406\n",
      "Recall: 0.5275843599357257\n",
      "F1-Score: 0.5773682235012317\n",
      "Accuracy: 0.5275843599357257\n"
     ]
    }
   ],
   "source": [
    "print(f\"Precision: {precision}\")\n",
    "print(f\"Recall: {recall}\")\n",
    "print(f\"F1-Score: {f1}\")\n",
    "print(f\"Accuracy: {accuracy}\")"
   ]
  }
 ],
 "metadata": {
  "kernelspec": {
   "display_name": "venv",
   "language": "python",
   "name": "python3"
  },
  "language_info": {
   "codemirror_mode": {
    "name": "ipython",
    "version": 3
   },
   "file_extension": ".py",
   "mimetype": "text/x-python",
   "name": "python",
   "nbconvert_exporter": "python",
   "pygments_lexer": "ipython3",
   "version": "3.12.4"
  }
 },
 "nbformat": 4,
 "nbformat_minor": 2
}
